{
  "nbformat": 4,
  "nbformat_minor": 0,
  "metadata": {
    "colab": {
      "name": "Modeling.ipynb",
      "provenance": [],
      "collapsed_sections": [
        "-4VLCKGDRJI9",
        "dCrEBQlznCtj",
        "w7Kfd1Zdev2L",
        "ZoEQbj8-ev2W",
        "kfQoIcNCvMiF",
        "oyYBWK-5z9u3",
        "kBHjRjQ8ev2u",
        "CXlHam57z7RM",
        "_ZSqSCc5z3wr"
      ],
      "mount_file_id": "1Fs59gPRF-IpNMnagjc4D4CgqTQ9Fjwnt",
      "authorship_tag": "ABX9TyP/oyoRTSMhHXX9dg7quiLy"
    },
    "kernelspec": {
      "name": "python3",
      "display_name": "Python 3"
    }
  },
  "cells": [
    {
      "cell_type": "markdown",
      "metadata": {
        "id": "-4VLCKGDRJI9"
      },
      "source": [
        "##Importing required libraries and data"
      ]
    },
    {
      "cell_type": "code",
      "metadata": {
        "colab": {
          "base_uri": "https://localhost:8080/"
        },
        "id": "6MT569JnjO75",
        "outputId": "25ce7c46-580c-480d-adc5-fbee18b97ddb"
      },
      "source": [
        "from google.colab import drive\r\n",
        "drive.mount('/content/drive')"
      ],
      "execution_count": 1,
      "outputs": [
        {
          "output_type": "stream",
          "text": [
            "Drive already mounted at /content/drive; to attempt to forcibly remount, call drive.mount(\"/content/drive\", force_remount=True).\n"
          ],
          "name": "stdout"
        }
      ]
    },
    {
      "cell_type": "code",
      "metadata": {
        "id": "-6YGo_NEsog_"
      },
      "source": [
        "import numpy as np\r\n",
        "import pandas as pd\r\n",
        "import matplotlib.pyplot as plt\r\n",
        "import seaborn as sns\r\n",
        "%matplotlib inline\r\n",
        "\r\n",
        "from sklearn.model_selection import train_test_split\r\n",
        "from sklearn.preprocessing import StandardScaler, LabelEncoder\r\n",
        "from sklearn.model_selection import GridSearchCV, RandomizedSearchCV\r\n",
        "from sklearn.linear_model import LinearRegression, Ridge, Lasso\r\n",
        "from sklearn.tree import DecisionTreeRegressor\r\n",
        "from sklearn.ensemble import RandomForestRegressor\r\n",
        "from xgboost import XGBRegressor\r\n",
        "from sklearn.pipeline import Pipeline\r\n",
        "from sklearn.metrics import r2_score, mean_squared_error"
      ],
      "execution_count": 131,
      "outputs": []
    },
    {
      "cell_type": "code",
      "metadata": {
        "id": "ZV_idELlsORv"
      },
      "source": [
        "df = pd.read_csv('/content/drive/MyDrive/Datasets/Mumbai_house_rent_99acers/Mumbai_99acers_cleaned.csv')\r\n",
        "logdf = pd.read_csv('/content/drive/MyDrive/Datasets/Mumbai_house_rent_99acers/Mumbai_99acers_logtransformed.csv')"
      ],
      "execution_count": 6,
      "outputs": []
    },
    {
      "cell_type": "code",
      "metadata": {
        "colab": {
          "base_uri": "https://localhost:8080/"
        },
        "id": "2fsHj-hKvkry",
        "outputId": "66740c60-9ba0-427b-b79a-acb188f8e397"
      },
      "source": [
        "logdf.info()"
      ],
      "execution_count": 7,
      "outputs": [
        {
          "output_type": "stream",
          "text": [
            "<class 'pandas.core.frame.DataFrame'>\n",
            "RangeIndex: 12797 entries, 0 to 12796\n",
            "Data columns (total 10 columns):\n",
            " #   Column         Non-Null Count  Dtype  \n",
            "---  ------         --------------  -----  \n",
            " 0   society        12797 non-null  object \n",
            " 1   type           12797 non-null  object \n",
            " 2   location       12797 non-null  object \n",
            " 3   bedrooms       12797 non-null  int64  \n",
            " 4   built-up area  12797 non-null  float64\n",
            " 5   furnishing     12797 non-null  object \n",
            " 6   age            12797 non-null  object \n",
            " 7   floor          12797 non-null  int64  \n",
            " 8   total floors   12797 non-null  int64  \n",
            " 9   monthly rent   12797 non-null  float64\n",
            "dtypes: float64(2), int64(3), object(5)\n",
            "memory usage: 999.9+ KB\n"
          ],
          "name": "stdout"
        }
      ]
    },
    {
      "cell_type": "markdown",
      "metadata": {
        "id": "dCrEBQlznCtj"
      },
      "source": [
        "## OneHotEncoding Text features"
      ]
    },
    {
      "cell_type": "code",
      "metadata": {
        "id": "tx7xliERoweE"
      },
      "source": [
        "temp = pd.get_dummies(df, drop_first=True)\r\n",
        "corr = temp.corr()['monthly rent'].sort_values()"
      ],
      "execution_count": 9,
      "outputs": []
    },
    {
      "cell_type": "code",
      "metadata": {
        "id": "7KuF5E6nqyFE"
      },
      "source": [
        "logtemp = pd.get_dummies(logdf, drop_first=True)\r\n",
        "logcorr = logtemp.corr()['monthly rent'].sort_values()"
      ],
      "execution_count": 47,
      "outputs": []
    },
    {
      "cell_type": "code",
      "metadata": {
        "colab": {
          "base_uri": "https://localhost:8080/",
          "height": 499
        },
        "id": "y77OXlx-rPWF",
        "outputId": "00583024-314d-49df-9900-47870bf1df56"
      },
      "source": [
        "plt.figure(figsize=(6,8))\r\n",
        "\r\n",
        "sns.scatterplot(y= logcorr.head(10).index.append(logcorr.tail(11)[:-1].index), \r\n",
        "                x= list(logcorr.head(10).values) + list(logcorr.tail(11)[:-1].values), label='log transformed')\r\n",
        "sns.scatterplot(y= logcorr.head(10).index.append(logcorr.tail(11)[:-1].index), \r\n",
        "                x= corr[logcorr.head(10).index.append(logcorr.tail(11)[:-1].index)].values, color='red', label='without log transformed')\r\n",
        "plt.title('Top 10 Positive and Negative correlations with monthly rent')\r\n",
        "plt.legend()\r\n",
        "plt.show()"
      ],
      "execution_count": 54,
      "outputs": [
        {
          "output_type": "display_data",
          "data": {
            "image/png": "[encoded data removed]",
            "text/plain": [
              "<Figure size 432x576 with 1 Axes>"
            ]
          },
          "metadata": {
            "tags": [],
            "needs_background": "light"
          }
        }
      ]
    },
    {
      "cell_type": "markdown",
      "metadata": {
        "id": "w7Kfd1Zdev2L"
      },
      "source": [
        "## Preparing Training and Testing Datasets"
      ]
    },
    {
      "cell_type": "code",
      "metadata": {
        "colab": {
          "base_uri": "https://localhost:8080/"
        },
        "id": "53h668J7ucUE",
        "outputId": "8b011533-72e4-4595-a244-04c22476d7d6"
      },
      "source": [
        "x = temp.drop('monthly rent', axis = 1)\r\n",
        "y = temp['monthly rent']\r\n",
        "\r\n",
        "X_train, X_test, y_train, y_test = train_test_split(x, y, test_size=0.2, random_state=42)\r\n",
        "X_train.shape, X_test.shape, y_train.shape, y_test.shape"
      ],
      "execution_count": 103,
      "outputs": [
        {
          "output_type": "execute_result",
          "data": {
            "text/plain": [
              "((10237, 355), (2560, 355), (10237,), (2560,))"
            ]
          },
          "metadata": {
            "tags": []
          },
          "execution_count": 103
        }
      ]
    },
    {
      "cell_type": "code",
      "metadata": {
        "colab": {
          "base_uri": "https://localhost:8080/"
        },
        "id": "E82FQjDgm7sB",
        "outputId": "45db174d-3635-4ca3-d612-071b67ff85cc"
      },
      "source": [
        "logx = logtemp.drop('monthly rent', axis = 1)\r\n",
        "logy = logtemp['monthly rent']\r\n",
        "\r\n",
        "logx_train, logx_test, logy_train, logy_test = train_test_split(logx, logy, test_size=0.2, random_state=42)\r\n",
        "logx_train.shape, logx_test.shape, logy_train.shape, logy_test.shape"
      ],
      "execution_count": 104,
      "outputs": [
        {
          "output_type": "execute_result",
          "data": {
            "text/plain": [
              "((10237, 355), (2560, 355), (10237,), (2560,))"
            ]
          },
          "metadata": {
            "tags": []
          },
          "execution_count": 104
        }
      ]
    },
    {
      "cell_type": "markdown",
      "metadata": {
        "id": "ZoEQbj8-ev2W"
      },
      "source": [
        "## Scaling Datasets to convert them into same range."
      ]
    },
    {
      "cell_type": "code",
      "metadata": {
        "id": "e5cnl78Xe11c"
      },
      "source": [
        "linear = Pipeline([('scaler', StandardScaler()),\r\n",
        "                   ('model', LinearRegression())])"
      ],
      "execution_count": 76,
      "outputs": []
    },
    {
      "cell_type": "code",
      "metadata": {
        "colab": {
          "base_uri": "https://localhost:8080/"
        },
        "id": "8ku82TKofl0P",
        "outputId": "0de6c59a-0c42-4e1b-ddde-a99c4c2c4dad"
      },
      "source": [
        "linear.fit(X_train, y_train)\r\n",
        "print('r2 score:',r2_score(y_test, linear.predict(X_test)))\r\n",
        "print('rmse:',mean_squared_error(y_test, linear.predict(X_test))**.5)"
      ],
      "execution_count": 77,
      "outputs": [
        {
          "output_type": "stream",
          "text": [
            "r2 score: 0.8850250933959646\n",
            "rmse: 12192.729520008921\n"
          ],
          "name": "stdout"
        }
      ]
    },
    {
      "cell_type": "code",
      "metadata": {
        "colab": {
          "base_uri": "https://localhost:8080/"
        },
        "id": "QxueZ-bvgmJB",
        "outputId": "4601984f-09d6-41f3-c17e-2de43e7cabae"
      },
      "source": [
        "linear.fit(logx_train,logy_train)\r\n",
        "print('r2 score:',r2_score(logy_test, linear.predict(logx_test)))\r\n",
        "print('rmse:',mean_squared_error(logy_test, linear.predict(logx_test))**.5)"
      ],
      "execution_count": 78,
      "outputs": [
        {
          "output_type": "stream",
          "text": [
            "r2 score: 0.9272080312362257\n",
            "rmse: 0.19901614105818363\n"
          ],
          "name": "stdout"
        }
      ]
    },
    {
      "cell_type": "markdown",
      "metadata": {
        "id": "XZ3jsbHKhJCa"
      },
      "source": [
        "**Clearly log transformed help to improve score**"
      ]
    },
    {
      "cell_type": "markdown",
      "metadata": {
        "id": "kfQoIcNCvMiF"
      },
      "source": [
        "## Linear models"
      ]
    },
    {
      "cell_type": "code",
      "metadata": {
        "colab": {
          "base_uri": "https://localhost:8080/",
          "height": 173
        },
        "id": "sDMZIt2LhISL",
        "outputId": "5019df57-1fcf-47ec-fe66-c66b7404e14a"
      },
      "source": [
        "Final_Scores = pd.DataFrame( index = ['With Training Data r2 score','With Test Data r2 score',\r\n",
        "                                       'With Training Data rmse', 'With Test Data rmse'])\r\n",
        "\r\n",
        "models = [LinearRegression(), Ridge(), Lasso()]\r\n",
        "names = ['LinearRegression', 'Ridge', 'Lasso']\r\n",
        "\r\n",
        "for name,model in zip(names,models):\r\n",
        "\r\n",
        "  pipeline = Pipeline([('scaler', StandardScaler()),\r\n",
        "                    (name, model)])\r\n",
        "  \r\n",
        "  pipeline.fit(logx_train,logy_train)\r\n",
        "\r\n",
        "  Final_Scores[name] = [round(r2_score(logy_train, pipeline.predict(logx_train)), 4), \r\n",
        "                         round(r2_score(logy_test, pipeline.predict(logx_test)), 4),\r\n",
        "                         round(mean_squared_error(logy_train, pipeline.predict(logx_train))**.5, 4),\r\n",
        "                         round(mean_squared_error(logy_test, pipeline.predict(logx_test))**.5, 4)]\r\n",
        "else:\r\n",
        "  display(Final_Scores)"
      ],
      "execution_count": 105,
      "outputs": [
        {
          "output_type": "display_data",
          "data": {
            "text/html": [
              "<div>\n",
              "<style scoped>\n",
              "    .dataframe tbody tr th:only-of-type {\n",
              "        vertical-align: middle;\n",
              "    }\n",
              "\n",
              "    .dataframe tbody tr th {\n",
              "        vertical-align: top;\n",
              "    }\n",
              "\n",
              "    .dataframe thead th {\n",
              "        text-align: right;\n",
              "    }\n",
              "</style>\n",
              "<table border=\"1\" class=\"dataframe\">\n",
              "  <thead>\n",
              "    <tr style=\"text-align: right;\">\n",
              "      <th></th>\n",
              "      <th>LinearRegression</th>\n",
              "      <th>Ridge</th>\n",
              "      <th>Lasso</th>\n",
              "    </tr>\n",
              "  </thead>\n",
              "  <tbody>\n",
              "    <tr>\n",
              "      <th>With Training Data r2 score</th>\n",
              "      <td>0.9206</td>\n",
              "      <td>0.9206</td>\n",
              "      <td>0.0000</td>\n",
              "    </tr>\n",
              "    <tr>\n",
              "      <th>With Test Data r2 score</th>\n",
              "      <td>0.9272</td>\n",
              "      <td>0.9272</td>\n",
              "      <td>-0.0001</td>\n",
              "    </tr>\n",
              "    <tr>\n",
              "      <th>With Training Data rmse</th>\n",
              "      <td>0.2075</td>\n",
              "      <td>0.2075</td>\n",
              "      <td>0.7365</td>\n",
              "    </tr>\n",
              "    <tr>\n",
              "      <th>With Test Data rmse</th>\n",
              "      <td>0.1990</td>\n",
              "      <td>0.1990</td>\n",
              "      <td>0.7377</td>\n",
              "    </tr>\n",
              "  </tbody>\n",
              "</table>\n",
              "</div>"
            ],
            "text/plain": [
              "                             LinearRegression   Ridge   Lasso\n",
              "With Training Data r2 score            0.9206  0.9206  0.0000\n",
              "With Test Data r2 score                0.9272  0.9272 -0.0001\n",
              "With Training Data rmse                0.2075  0.2075  0.7365\n",
              "With Test Data rmse                    0.1990  0.1990  0.7377"
            ]
          },
          "metadata": {
            "tags": []
          }
        }
      ]
    },
    {
      "cell_type": "code",
      "metadata": {
        "colab": {
          "base_uri": "https://localhost:8080/"
        },
        "id": "-MzT8w5dvWWf",
        "outputId": "cc7c72a8-312d-4870-9074-8b3e91792f7e"
      },
      "source": [
        "param_grid = {'alpha':[.001, .01, .1, 1, 10, 100]}\r\n",
        "\r\n",
        "model = GridSearchCV(Ridge(), param_grid, cv=5)\r\n",
        "model.fit(logx_train,logy_train)"
      ],
      "execution_count": 115,
      "outputs": [
        {
          "output_type": "execute_result",
          "data": {
            "text/plain": [
              "GridSearchCV(cv=5, error_score=nan,\n",
              "             estimator=Ridge(alpha=1.0, copy_X=True, fit_intercept=True,\n",
              "                             max_iter=None, normalize=False, random_state=None,\n",
              "                             solver='auto', tol=0.001),\n",
              "             iid='deprecated', n_jobs=None,\n",
              "             param_grid={'alpha': [0.001, 0.01, 0.1, 1, 10, 100]},\n",
              "             pre_dispatch='2*n_jobs', refit=True, return_train_score=False,\n",
              "             scoring=None, verbose=0)"
            ]
          },
          "metadata": {
            "tags": []
          },
          "execution_count": 115
        }
      ]
    },
    {
      "cell_type": "code",
      "metadata": {
        "colab": {
          "base_uri": "https://localhost:8080/"
        },
        "id": "-iVsaRNzw1Tb",
        "outputId": "b3613cb3-ca9e-4e1f-a3f3-2b1a7a42019a"
      },
      "source": [
        "model.best_params_, model.best_score_"
      ],
      "execution_count": 116,
      "outputs": [
        {
          "output_type": "execute_result",
          "data": {
            "text/plain": [
              "({'alpha': 0.01}, 0.9167601485607706)"
            ]
          },
          "metadata": {
            "tags": []
          },
          "execution_count": 116
        }
      ]
    },
    {
      "cell_type": "markdown",
      "metadata": {
        "id": "oyYBWK-5z9u3"
      },
      "source": [
        "## LabelEncoder"
      ]
    },
    {
      "cell_type": "code",
      "metadata": {
        "colab": {
          "base_uri": "https://localhost:8080/",
          "height": 142
        },
        "id": "J9uW5cvu0chY",
        "outputId": "acec07fc-9232-4719-e8f9-080b0f6662c0"
      },
      "source": [
        "df1 = logdf.copy()\r\n",
        "df1.head(3)"
      ],
      "execution_count": 84,
      "outputs": [
        {
          "output_type": "execute_result",
          "data": {
            "text/html": [
              "<div>\n",
              "<style scoped>\n",
              "    .dataframe tbody tr th:only-of-type {\n",
              "        vertical-align: middle;\n",
              "    }\n",
              "\n",
              "    .dataframe tbody tr th {\n",
              "        vertical-align: top;\n",
              "    }\n",
              "\n",
              "    .dataframe thead th {\n",
              "        text-align: right;\n",
              "    }\n",
              "</style>\n",
              "<table border=\"1\" class=\"dataframe\">\n",
              "  <thead>\n",
              "    <tr style=\"text-align: right;\">\n",
              "      <th></th>\n",
              "      <th>society</th>\n",
              "      <th>type</th>\n",
              "      <th>location</th>\n",
              "      <th>bedrooms</th>\n",
              "      <th>built-up area</th>\n",
              "      <th>furnishing</th>\n",
              "      <th>age</th>\n",
              "      <th>floor</th>\n",
              "      <th>total floors</th>\n",
              "      <th>monthly rent</th>\n",
              "    </tr>\n",
              "  </thead>\n",
              "  <tbody>\n",
              "    <tr>\n",
              "      <th>0</th>\n",
              "      <td>other society</td>\n",
              "      <td>Residential Apartment</td>\n",
              "      <td>Bandra (West)</td>\n",
              "      <td>2</td>\n",
              "      <td>800.0</td>\n",
              "      <td>Furnished</td>\n",
              "      <td>5 to 10 years old</td>\n",
              "      <td>2</td>\n",
              "      <td>6</td>\n",
              "      <td>11.350407</td>\n",
              "    </tr>\n",
              "    <tr>\n",
              "      <th>1</th>\n",
              "      <td>other society</td>\n",
              "      <td>Residential Apartment</td>\n",
              "      <td>Khar West</td>\n",
              "      <td>2</td>\n",
              "      <td>1050.0</td>\n",
              "      <td>Furnished</td>\n",
              "      <td>1 to 5 years old</td>\n",
              "      <td>8</td>\n",
              "      <td>12</td>\n",
              "      <td>11.608236</td>\n",
              "    </tr>\n",
              "    <tr>\n",
              "      <th>2</th>\n",
              "      <td>Gajra Bhoomi Symphony</td>\n",
              "      <td>Residential Apartment</td>\n",
              "      <td>Sector-20 Koparkhairane</td>\n",
              "      <td>2</td>\n",
              "      <td>1050.0</td>\n",
              "      <td>Unfurnished</td>\n",
              "      <td>1 to 5 years old</td>\n",
              "      <td>14</td>\n",
              "      <td>17</td>\n",
              "      <td>10.373491</td>\n",
              "    </tr>\n",
              "  </tbody>\n",
              "</table>\n",
              "</div>"
            ],
            "text/plain": [
              "                 society                   type  ... total floors  monthly rent\n",
              "0          other society  Residential Apartment  ...            6     11.350407\n",
              "1          other society  Residential Apartment  ...           12     11.608236\n",
              "2  Gajra Bhoomi Symphony  Residential Apartment  ...           17     10.373491\n",
              "\n",
              "[3 rows x 10 columns]"
            ]
          },
          "metadata": {
            "tags": []
          },
          "execution_count": 84
        }
      ]
    },
    {
      "cell_type": "code",
      "metadata": {
        "id": "_bKKKSE5pXhg"
      },
      "source": [
        "society_encoder = LabelEncoder().fit(df1['society'])\r\n",
        "df1['society'] = society_encoder.transform(df1['society'])\r\n",
        "\r\n",
        "type_encoder = LabelEncoder().fit(df1['type'])\r\n",
        "df1['type'] = type_encoder.transform(df1['type'])\r\n",
        "\r\n",
        "furnishing_encoder = LabelEncoder().fit(df1['furnishing'])\r\n",
        "df1['furnishing'] = furnishing_encoder.transform(df1['furnishing'])\r\n",
        "\r\n",
        "location_encoder = LabelEncoder().fit(df1['location'])\r\n",
        "df1['location'] = location_encoder.transform(df1['location'])\r\n",
        "\r\n",
        "age_encoder = LabelEncoder().fit(df1['age'])\r\n",
        "df1['age'] = age_encoder.transform(df1['age'])"
      ],
      "execution_count": 97,
      "outputs": []
    },
    {
      "cell_type": "code",
      "metadata": {
        "colab": {
          "base_uri": "https://localhost:8080/",
          "height": 419
        },
        "id": "yXqSMxjlpdnX",
        "outputId": "0d5ede14-e70d-4b88-d2b2-cc707b83f692"
      },
      "source": [
        "df1"
      ],
      "execution_count": 99,
      "outputs": [
        {
          "output_type": "execute_result",
          "data": {
            "text/html": [
              "<div>\n",
              "<style scoped>\n",
              "    .dataframe tbody tr th:only-of-type {\n",
              "        vertical-align: middle;\n",
              "    }\n",
              "\n",
              "    .dataframe tbody tr th {\n",
              "        vertical-align: top;\n",
              "    }\n",
              "\n",
              "    .dataframe thead th {\n",
              "        text-align: right;\n",
              "    }\n",
              "</style>\n",
              "<table border=\"1\" class=\"dataframe\">\n",
              "  <thead>\n",
              "    <tr style=\"text-align: right;\">\n",
              "      <th></th>\n",
              "      <th>society</th>\n",
              "      <th>type</th>\n",
              "      <th>location</th>\n",
              "      <th>bedrooms</th>\n",
              "      <th>built-up area</th>\n",
              "      <th>furnishing</th>\n",
              "      <th>age</th>\n",
              "      <th>floor</th>\n",
              "      <th>total floors</th>\n",
              "      <th>monthly rent</th>\n",
              "    </tr>\n",
              "  </thead>\n",
              "  <tbody>\n",
              "    <tr>\n",
              "      <th>0</th>\n",
              "      <td>176</td>\n",
              "      <td>1</td>\n",
              "      <td>8</td>\n",
              "      <td>2</td>\n",
              "      <td>800.0</td>\n",
              "      <td>0</td>\n",
              "      <td>3</td>\n",
              "      <td>2</td>\n",
              "      <td>6</td>\n",
              "      <td>11.350407</td>\n",
              "    </tr>\n",
              "    <tr>\n",
              "      <th>1</th>\n",
              "      <td>176</td>\n",
              "      <td>1</td>\n",
              "      <td>63</td>\n",
              "      <td>2</td>\n",
              "      <td>1050.0</td>\n",
              "      <td>0</td>\n",
              "      <td>1</td>\n",
              "      <td>8</td>\n",
              "      <td>12</td>\n",
              "      <td>11.608236</td>\n",
              "    </tr>\n",
              "    <tr>\n",
              "      <th>2</th>\n",
              "      <td>36</td>\n",
              "      <td>1</td>\n",
              "      <td>128</td>\n",
              "      <td>2</td>\n",
              "      <td>1050.0</td>\n",
              "      <td>3</td>\n",
              "      <td>1</td>\n",
              "      <td>14</td>\n",
              "      <td>17</td>\n",
              "      <td>10.373491</td>\n",
              "    </tr>\n",
              "    <tr>\n",
              "      <th>3</th>\n",
              "      <td>20</td>\n",
              "      <td>1</td>\n",
              "      <td>88</td>\n",
              "      <td>3</td>\n",
              "      <td>2275.0</td>\n",
              "      <td>2</td>\n",
              "      <td>1</td>\n",
              "      <td>40</td>\n",
              "      <td>41</td>\n",
              "      <td>11.918391</td>\n",
              "    </tr>\n",
              "    <tr>\n",
              "      <th>4</th>\n",
              "      <td>8</td>\n",
              "      <td>1</td>\n",
              "      <td>150</td>\n",
              "      <td>1</td>\n",
              "      <td>550.0</td>\n",
              "      <td>2</td>\n",
              "      <td>3</td>\n",
              "      <td>4</td>\n",
              "      <td>7</td>\n",
              "      <td>10.203592</td>\n",
              "    </tr>\n",
              "    <tr>\n",
              "      <th>...</th>\n",
              "      <td>...</td>\n",
              "      <td>...</td>\n",
              "      <td>...</td>\n",
              "      <td>...</td>\n",
              "      <td>...</td>\n",
              "      <td>...</td>\n",
              "      <td>...</td>\n",
              "      <td>...</td>\n",
              "      <td>...</td>\n",
              "      <td>...</td>\n",
              "    </tr>\n",
              "    <tr>\n",
              "      <th>12792</th>\n",
              "      <td>176</td>\n",
              "      <td>1</td>\n",
              "      <td>94</td>\n",
              "      <td>3</td>\n",
              "      <td>2529.0</td>\n",
              "      <td>0</td>\n",
              "      <td>1</td>\n",
              "      <td>12</td>\n",
              "      <td>32</td>\n",
              "      <td>12.072541</td>\n",
              "    </tr>\n",
              "    <tr>\n",
              "      <th>12793</th>\n",
              "      <td>150</td>\n",
              "      <td>1</td>\n",
              "      <td>83</td>\n",
              "      <td>3</td>\n",
              "      <td>1382.0</td>\n",
              "      <td>2</td>\n",
              "      <td>0</td>\n",
              "      <td>27</td>\n",
              "      <td>40</td>\n",
              "      <td>10.778956</td>\n",
              "    </tr>\n",
              "    <tr>\n",
              "      <th>12794</th>\n",
              "      <td>176</td>\n",
              "      <td>1</td>\n",
              "      <td>165</td>\n",
              "      <td>3</td>\n",
              "      <td>1750.0</td>\n",
              "      <td>3</td>\n",
              "      <td>2</td>\n",
              "      <td>9</td>\n",
              "      <td>16</td>\n",
              "      <td>12.206073</td>\n",
              "    </tr>\n",
              "    <tr>\n",
              "      <th>12795</th>\n",
              "      <td>176</td>\n",
              "      <td>1</td>\n",
              "      <td>109</td>\n",
              "      <td>2</td>\n",
              "      <td>950.0</td>\n",
              "      <td>2</td>\n",
              "      <td>3</td>\n",
              "      <td>8</td>\n",
              "      <td>10</td>\n",
              "      <td>10.146434</td>\n",
              "    </tr>\n",
              "    <tr>\n",
              "      <th>12796</th>\n",
              "      <td>176</td>\n",
              "      <td>1</td>\n",
              "      <td>8</td>\n",
              "      <td>3</td>\n",
              "      <td>2500.0</td>\n",
              "      <td>0</td>\n",
              "      <td>3</td>\n",
              "      <td>5</td>\n",
              "      <td>10</td>\n",
              "      <td>11.695247</td>\n",
              "    </tr>\n",
              "  </tbody>\n",
              "</table>\n",
              "<p>12797 rows × 10 columns</p>\n",
              "</div>"
            ],
            "text/plain": [
              "       society  type  location  ...  floor  total floors  monthly rent\n",
              "0          176     1         8  ...      2             6     11.350407\n",
              "1          176     1        63  ...      8            12     11.608236\n",
              "2           36     1       128  ...     14            17     10.373491\n",
              "3           20     1        88  ...     40            41     11.918391\n",
              "4            8     1       150  ...      4             7     10.203592\n",
              "...        ...   ...       ...  ...    ...           ...           ...\n",
              "12792      176     1        94  ...     12            32     12.072541\n",
              "12793      150     1        83  ...     27            40     10.778956\n",
              "12794      176     1       165  ...      9            16     12.206073\n",
              "12795      176     1       109  ...      8            10     10.146434\n",
              "12796      176     1         8  ...      5            10     11.695247\n",
              "\n",
              "[12797 rows x 10 columns]"
            ]
          },
          "metadata": {
            "tags": []
          },
          "execution_count": 99
        }
      ]
    },
    {
      "cell_type": "markdown",
      "metadata": {
        "id": "kBHjRjQ8ev2u"
      },
      "source": [
        "## Tree based models"
      ]
    },
    {
      "cell_type": "code",
      "metadata": {
        "colab": {
          "base_uri": "https://localhost:8080/"
        },
        "id": "PijnObFv2WF8",
        "outputId": "93f96696-f6d0-4d65-b08f-c73054710d4a"
      },
      "source": [
        "x_train, x_test, y_train, y_test = train_test_split(df1.drop('monthly rent', axis = 1), df1['monthly rent'], test_size=0.2, random_state=42)\r\n",
        "x_train.shape, x_test.shape, y_train.shape, y_test.shape "
      ],
      "execution_count": 120,
      "outputs": [
        {
          "output_type": "execute_result",
          "data": {
            "text/plain": [
              "((10237, 9), (2560, 9), (10237,), (2560,))"
            ]
          },
          "metadata": {
            "tags": []
          },
          "execution_count": 120
        }
      ]
    },
    {
      "cell_type": "code",
      "metadata": {
        "id": "CbR-06qMev2u",
        "colab": {
          "base_uri": "https://localhost:8080/",
          "height": 190
        },
        "outputId": "67b23cd3-6d14-4a3d-9023-959e3eeb908d"
      },
      "source": [
        "models = [DecisionTreeRegressor(), RandomForestRegressor(), XGBRegressor()]\n",
        "names = ['DecisionTreeRegressor', 'RandomForestRegressor', 'XGBRegressor']\n",
        "\n",
        "for name,model in zip(names,models):\n",
        "\n",
        "  model.fit(x_train,y_train)\n",
        "\n",
        "  Final_Scores[name] = [round(r2_score(y_train, model.predict(x_train)), 4), \n",
        "                         round(r2_score(y_test, model.predict(x_test)), 4),\n",
        "                         round(mean_squared_error(y_train, model.predict(x_train))**.5, 4),\n",
        "                         round(mean_squared_error(y_test, model.predict(x_test))**.5, 4)]\n",
        "else:\n",
        "  display(Final_Scores)"
      ],
      "execution_count": 107,
      "outputs": [
        {
          "output_type": "stream",
          "text": [
            "[21:11:21] WARNING: /workspace/src/objective/regression_obj.cu:152: reg:linear is now deprecated in favor of reg:squarederror.\n"
          ],
          "name": "stdout"
        },
        {
          "output_type": "display_data",
          "data": {
            "text/html": [
              "<div>\n",
              "<style scoped>\n",
              "    .dataframe tbody tr th:only-of-type {\n",
              "        vertical-align: middle;\n",
              "    }\n",
              "\n",
              "    .dataframe tbody tr th {\n",
              "        vertical-align: top;\n",
              "    }\n",
              "\n",
              "    .dataframe thead th {\n",
              "        text-align: right;\n",
              "    }\n",
              "</style>\n",
              "<table border=\"1\" class=\"dataframe\">\n",
              "  <thead>\n",
              "    <tr style=\"text-align: right;\">\n",
              "      <th></th>\n",
              "      <th>LinearRegression</th>\n",
              "      <th>Ridge</th>\n",
              "      <th>Lasso</th>\n",
              "      <th>DecisionTreeRegressor</th>\n",
              "      <th>RandomForestRegressor</th>\n",
              "      <th>XGBRegressor</th>\n",
              "    </tr>\n",
              "  </thead>\n",
              "  <tbody>\n",
              "    <tr>\n",
              "      <th>With Training Data r2 score</th>\n",
              "      <td>0.9206</td>\n",
              "      <td>0.9206</td>\n",
              "      <td>0.0000</td>\n",
              "      <td>0.9988</td>\n",
              "      <td>0.9783</td>\n",
              "      <td>0.8043</td>\n",
              "    </tr>\n",
              "    <tr>\n",
              "      <th>With Test Data r2 score</th>\n",
              "      <td>0.9272</td>\n",
              "      <td>0.9272</td>\n",
              "      <td>-0.0001</td>\n",
              "      <td>0.7552</td>\n",
              "      <td>0.8559</td>\n",
              "      <td>0.7945</td>\n",
              "    </tr>\n",
              "    <tr>\n",
              "      <th>With Training Data rmse</th>\n",
              "      <td>0.2075</td>\n",
              "      <td>0.2075</td>\n",
              "      <td>0.7365</td>\n",
              "      <td>0.0251</td>\n",
              "      <td>0.1084</td>\n",
              "      <td>0.3258</td>\n",
              "    </tr>\n",
              "    <tr>\n",
              "      <th>With Test Data rmse</th>\n",
              "      <td>0.1990</td>\n",
              "      <td>0.1990</td>\n",
              "      <td>0.7377</td>\n",
              "      <td>0.3650</td>\n",
              "      <td>0.2800</td>\n",
              "      <td>0.3344</td>\n",
              "    </tr>\n",
              "  </tbody>\n",
              "</table>\n",
              "</div>"
            ],
            "text/plain": [
              "                             LinearRegression  ...  XGBRegressor\n",
              "With Training Data r2 score            0.9206  ...        0.8043\n",
              "With Test Data r2 score                0.9272  ...        0.7945\n",
              "With Training Data rmse                0.2075  ...        0.3258\n",
              "With Test Data rmse                    0.1990  ...        0.3344\n",
              "\n",
              "[4 rows x 6 columns]"
            ]
          },
          "metadata": {
            "tags": []
          }
        }
      ]
    },
    {
      "cell_type": "markdown",
      "metadata": {
        "id": "CXlHam57z7RM"
      },
      "source": [
        "##Decisiontree gridsearch"
      ]
    },
    {
      "cell_type": "code",
      "metadata": {
        "colab": {
          "base_uri": "https://localhost:8080/"
        },
        "id": "vrW3Qi36yCsg",
        "outputId": "7fcd1d47-2355-4830-ecb7-bc3ff0b6b39e"
      },
      "source": [
        "param_grid = {'max_depth':[3,4,5,6,7,10,15,20],\r\n",
        "              'min_samples_leaf':[2,3,4,5,6]}\r\n",
        "\r\n",
        "model = GridSearchCV(DecisionTreeRegressor(), param_grid, cv=5)\r\n",
        "model.fit(x_train,y_train)"
      ],
      "execution_count": 125,
      "outputs": [
        {
          "output_type": "execute_result",
          "data": {
            "text/plain": [
              "GridSearchCV(cv=5, error_score=nan,\n",
              "             estimator=DecisionTreeRegressor(ccp_alpha=0.0, criterion='mse',\n",
              "                                             max_depth=None, max_features=None,\n",
              "                                             max_leaf_nodes=None,\n",
              "                                             min_impurity_decrease=0.0,\n",
              "                                             min_impurity_split=None,\n",
              "                                             min_samples_leaf=1,\n",
              "                                             min_samples_split=2,\n",
              "                                             min_weight_fraction_leaf=0.0,\n",
              "                                             presort='deprecated',\n",
              "                                             random_state=None,\n",
              "                                             splitter='best'),\n",
              "             iid='deprecated', n_jobs=None,\n",
              "             param_grid={'max_depth': [3, 4, 5, 6, 7, 10, 15, 20],\n",
              "                         'min_samples_leaf': [2, 3, 4, 5, 6]},\n",
              "             pre_dispatch='2*n_jobs', refit=True, return_train_score=False,\n",
              "             scoring=None, verbose=0)"
            ]
          },
          "metadata": {
            "tags": []
          },
          "execution_count": 125
        }
      ]
    },
    {
      "cell_type": "code",
      "metadata": {
        "colab": {
          "base_uri": "https://localhost:8080/"
        },
        "id": "CwtTNuM1yCpw",
        "outputId": "7ed96df0-3003-4c6b-dfcd-b5bd249a2c9e"
      },
      "source": [
        "model.best_params_, model.best_score_"
      ],
      "execution_count": 126,
      "outputs": [
        {
          "output_type": "execute_result",
          "data": {
            "text/plain": [
              "({'max_depth': 20, 'min_samples_leaf': 6}, 0.7593420245585689)"
            ]
          },
          "metadata": {
            "tags": []
          },
          "execution_count": 126
        }
      ]
    },
    {
      "cell_type": "code",
      "metadata": {
        "colab": {
          "base_uri": "https://localhost:8080/"
        },
        "id": "cGAanbqjyCm4",
        "outputId": "676c23c4-70b1-4beb-998c-acf1de00171e"
      },
      "source": [
        "round(mean_squared_error(y_train, model.predict(x_train))**.5, 4)"
      ],
      "execution_count": 127,
      "outputs": [
        {
          "output_type": "execute_result",
          "data": {
            "text/plain": [
              "0.2434"
            ]
          },
          "metadata": {
            "tags": []
          },
          "execution_count": 127
        }
      ]
    },
    {
      "cell_type": "code",
      "metadata": {
        "colab": {
          "base_uri": "https://localhost:8080/"
        },
        "id": "CjTse2v6zMxp",
        "outputId": "39ad078d-9382-4819-c17e-c141b152ed28"
      },
      "source": [
        "round(mean_squared_error(y_test, model.predict(x_test))**.5, 4)"
      ],
      "execution_count": 128,
      "outputs": [
        {
          "output_type": "execute_result",
          "data": {
            "text/plain": [
              "0.3439"
            ]
          },
          "metadata": {
            "tags": []
          },
          "execution_count": 128
        }
      ]
    },
    {
      "cell_type": "markdown",
      "metadata": {
        "id": "_ZSqSCc5z3wr"
      },
      "source": [
        "##RandomForest gridsearch"
      ]
    },
    {
      "cell_type": "code",
      "metadata": {
        "colab": {
          "base_uri": "https://localhost:8080/"
        },
        "id": "LrssRdkHz3DO",
        "outputId": "e22526a0-d567-4110-ce80-09074e3c2df3"
      },
      "source": [
        "param_grid = {'n_estimators':[50,100,150,200],\r\n",
        "              'max_depth':[3,4,5,6,7,10,15,20],\r\n",
        "              'min_samples_leaf':[2,3,4,5,6]}\r\n",
        "\r\n",
        "model = RandomizedSearchCV(RandomForestRegressor(), param_grid, cv=5)\r\n",
        "model.fit(x_train,y_train)"
      ],
      "execution_count": 132,
      "outputs": [
        {
          "output_type": "execute_result",
          "data": {
            "text/plain": [
              "RandomizedSearchCV(cv=5, error_score=nan,\n",
              "                   estimator=RandomForestRegressor(bootstrap=True,\n",
              "                                                   ccp_alpha=0.0,\n",
              "                                                   criterion='mse',\n",
              "                                                   max_depth=None,\n",
              "                                                   max_features='auto',\n",
              "                                                   max_leaf_nodes=None,\n",
              "                                                   max_samples=None,\n",
              "                                                   min_impurity_decrease=0.0,\n",
              "                                                   min_impurity_split=None,\n",
              "                                                   min_samples_leaf=1,\n",
              "                                                   min_samples_split=2,\n",
              "                                                   min_weight_fraction_leaf=0.0,\n",
              "                                                   n_estimators=100,\n",
              "                                                   n_jobs=None, oob_score=False,\n",
              "                                                   random_state=None, verbose=0,\n",
              "                                                   warm_start=False),\n",
              "                   iid='deprecated', n_iter=10, n_jobs=None,\n",
              "                   param_distributions={'max_depth': [3, 4, 5, 6, 7, 10, 15,\n",
              "                                                      20],\n",
              "                                        'min_samples_leaf': [2, 3, 4, 5, 6],\n",
              "                                        'n_estimators': [50, 100, 150, 200]},\n",
              "                   pre_dispatch='2*n_jobs', random_state=None, refit=True,\n",
              "                   return_train_score=False, scoring=None, verbose=0)"
            ]
          },
          "metadata": {
            "tags": []
          },
          "execution_count": 132
        }
      ]
    },
    {
      "cell_type": "code",
      "metadata": {
        "colab": {
          "base_uri": "https://localhost:8080/"
        },
        "id": "14lG17ja0i0I",
        "outputId": "ef9e5e3a-ea8f-4e67-a40d-b153e94933ab"
      },
      "source": [
        "model.best_params_, model.best_score_"
      ],
      "execution_count": 133,
      "outputs": [
        {
          "output_type": "execute_result",
          "data": {
            "text/plain": [
              "({'max_depth': 20, 'min_samples_leaf': 2, 'n_estimators': 150},\n",
              " 0.837557011466955)"
            ]
          },
          "metadata": {
            "tags": []
          },
          "execution_count": 133
        }
      ]
    },
    {
      "cell_type": "code",
      "metadata": {
        "colab": {
          "base_uri": "https://localhost:8080/"
        },
        "id": "RDWlSmnT0pmu",
        "outputId": "a6ee764b-ac24-47b8-b519-b3eb2e4f17ce"
      },
      "source": [
        "round(mean_squared_error(y_train, model.predict(x_train))**.5, 4)"
      ],
      "execution_count": 134,
      "outputs": [
        {
          "output_type": "execute_result",
          "data": {
            "text/plain": [
              "0.1511"
            ]
          },
          "metadata": {
            "tags": []
          },
          "execution_count": 134
        }
      ]
    },
    {
      "cell_type": "code",
      "metadata": {
        "colab": {
          "base_uri": "https://localhost:8080/"
        },
        "id": "70hIMyNB0pj4",
        "outputId": "aada6bd9-b7b7-4b84-8fea-6b65f4d55163"
      },
      "source": [
        "round(mean_squared_error(y_test, model.predict(x_test))**.5, 4)"
      ],
      "execution_count": 135,
      "outputs": [
        {
          "output_type": "execute_result",
          "data": {
            "text/plain": [
              "0.2831"
            ]
          },
          "metadata": {
            "tags": []
          },
          "execution_count": 135
        }
      ]
    },
    {
      "cell_type": "markdown",
      "metadata": {
        "id": "qI8mc0pf2ESb"
      },
      "source": [
        "Still note able to beat Linear Regression"
      ]
    },
    {
      "cell_type": "markdown",
      "metadata": {
        "id": "BW9r2KUd2IRH"
      },
      "source": [
        "# Winner is **Linear Regression** :)"
      ]
    }
  ]
}
