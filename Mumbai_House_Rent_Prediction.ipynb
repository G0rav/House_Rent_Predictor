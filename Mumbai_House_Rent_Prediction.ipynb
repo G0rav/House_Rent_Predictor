{
  "nbformat": 4,
  "nbformat_minor": 0,
  "metadata": {
    "kernelspec": {
      "display_name": "Python 3",
      "language": "python",
      "name": "python3"
    },
    "language_info": {
      "codemirror_mode": {
        "name": "ipython",
        "version": 3
      },
      "file_extension": ".py",
      "mimetype": "text/x-python",
      "name": "python",
      "nbconvert_exporter": "python",
      "pygments_lexer": "ipython3",
      "version": "3.7.4"
    },
    "colab": {
      "name": "Mumbai_House_Rent_Prediction.ipynb",
      "provenance": [],
      "collapsed_sections": [
        "ixKClJyoAvYI",
        "43xawoPeevzq",
        "vzh_r_DSAc44",
        "iUfwdrpoev0F",
        "OiO2uvEpH3If",
        "m9BmIX8DNZvX",
        "fLhjVQkYev0P",
        "-IrlSgaOevz3",
        "S84cNk5mev1G",
        "Km9IujS8ev1G",
        "h1qqzlQNev1R",
        "iHHqdCkSev1c",
        "v0Gzs1-rev14",
        "ohjh887dev15",
        "pM0Vd-elev2L",
        "w7Kfd1Zdev2L",
        "ZoEQbj8-ev2W",
        "hyCdHsz2ev2Z",
        "QPUtmb-jev2a",
        "oe0xy1Pjev2g",
        "G9jX9PVHev2j",
        "kBHjRjQ8ev2u",
        "p5ZrGIk2ev20",
        "YwM13SI5ev2-",
        "hI0ib3LVev3A"
      ]
    }
  },
  "cells": [
    {
      "cell_type": "markdown",
      "metadata": {
        "id": "2x8sXkdSevy-"
      },
      "source": [
        "# <font color = Blue> Aim: To Predict Monthly House Rent in Mumbai City with given Data. </font>\n",
        "\n",
        "## <font color = Blue> Approch: </font>\n",
        "- Import Dataset and have a very Quick look.\n",
        "- Analyze and Clean Data. Look into each and every feature and make them clean for use.\n",
        "- Remove Outliers and exception data by visualizing features.\n",
        "- Visualize and have a look how features related with monthly rent.\n",
        "- Prepare and Scale Data for Machine learning model.\n",
        "- Try Different ML models and calculate their accuracy scores.\n",
        "- Select best model.\n"
      ]
    },
    {
      "cell_type": "markdown",
      "metadata": {
        "id": "mc8bvFrbevzB"
      },
      "source": [
        "<a id = 'top'></a>\n",
        "## <font color = Blue> Table of Contents: </font>\n",
        "- <a href = '#s1'> 1. Importing Data and required packages. </a>\n",
        "- <a href = '#s2'> 2. Data Analyzing and Wranggling. </a>\n",
        "- <a href = '#s3'> 3. Data Visualization and Removing Outliers/Exceptions. </a>\n",
        "- <a href = '#s4'> 4. OneHotEncoding Text features.  </a>\n",
        "- <a href = '#s5'> 5. Machine Learning Model Building. </a>\n",
        "\n",
        "## <a href = '#s6'> <font color = Red> Conclusion </font> </a>"
      ]
    },
    {
      "cell_type": "markdown",
      "metadata": {
        "id": "Zb6IqPezevzC"
      },
      "source": [
        "<a id = 's1'></a>\n",
        "# <font color = Blue> 1. Importing Data and required packages. </font>"
      ]
    },
    {
      "cell_type": "code",
      "metadata": {
        "colab": {
          "base_uri": "https://localhost:8080/"
        },
        "id": "XXlB34oz6u_e",
        "outputId": "e1ef8467-182e-4d89-ebec-23d9788772e6"
      },
      "source": [
        "from google.colab import drive\n",
        "drive.mount('/content/drive')"
      ],
      "execution_count": 113,
      "outputs": [
        {
          "output_type": "stream",
          "text": [
            "Drive already mounted at /content/drive; to attempt to forcibly remount, call drive.mount(\"/content/drive\", force_remount=True).\n"
          ],
          "name": "stdout"
        }
      ]
    },
    {
      "cell_type": "code",
      "metadata": {
        "id": "NhH8f4nHevzD"
      },
      "source": [
        "import numpy as np\n",
        "import pandas as pd\n",
        "import seaborn as sns\n",
        "import matplotlib.pyplot as plt\n",
        "import warnings                                             # only to ignore python warnings\n",
        "%matplotlib inline\n",
        "warnings.simplefilter(\"ignore\")"
      ],
      "execution_count": 114,
      "outputs": []
    },
    {
      "cell_type": "code",
      "metadata": {
        "id": "aEu5-tTOevzJ",
        "colab": {
          "base_uri": "https://localhost:8080/",
          "height": 366
        },
        "outputId": "df449f5b-eb9d-4b28-c598-1a2728c0571f"
      },
      "source": [
        "data = pd.read_csv('/content/drive/MyDrive/Datasets/Mumbai_house_rent_99acers/Mumbai_99acers.csv')\n",
        "data.head(3)"
      ],
      "execution_count": 115,
      "outputs": [
        {
          "output_type": "execute_result",
          "data": {
            "text/html": [
              "<div>\n",
              "<style scoped>\n",
              "    .dataframe tbody tr th:only-of-type {\n",
              "        vertical-align: middle;\n",
              "    }\n",
              "\n",
              "    .dataframe tbody tr th {\n",
              "        vertical-align: top;\n",
              "    }\n",
              "\n",
              "    .dataframe thead th {\n",
              "        text-align: right;\n",
              "    }\n",
              "</style>\n",
              "<table border=\"1\" class=\"dataframe\">\n",
              "  <thead>\n",
              "    <tr style=\"text-align: right;\">\n",
              "      <th></th>\n",
              "      <th>sl no.</th>\n",
              "      <th>society</th>\n",
              "      <th>type</th>\n",
              "      <th>location</th>\n",
              "      <th>lattitude</th>\n",
              "      <th>longitude</th>\n",
              "      <th>bedrooms</th>\n",
              "      <th>built-up area</th>\n",
              "      <th>furnishing</th>\n",
              "      <th>age</th>\n",
              "      <th>floor</th>\n",
              "      <th>total floors</th>\n",
              "      <th>dealer</th>\n",
              "      <th>posted</th>\n",
              "      <th>monthly rent</th>\n",
              "      <th>property photo</th>\n",
              "      <th>property video</th>\n",
              "      <th>society photo</th>\n",
              "      <th>society video</th>\n",
              "      <th>locality photo</th>\n",
              "      <th>locality video</th>\n",
              "      <th>description</th>\n",
              "    </tr>\n",
              "  </thead>\n",
              "  <tbody>\n",
              "    <tr>\n",
              "      <th>0</th>\n",
              "      <td>1</td>\n",
              "      <td>Bandstand Apartment</td>\n",
              "      <td>Residential Apartment</td>\n",
              "      <td>Bandra (West)</td>\n",
              "      <td>19.047353</td>\n",
              "      <td>72.820068</td>\n",
              "      <td>2 BHK</td>\n",
              "      <td>800.0</td>\n",
              "      <td>Furnished</td>\n",
              "      <td>5 to 10 years old</td>\n",
              "      <td>2nd</td>\n",
              "      <td>6</td>\n",
              "      <td>PROPBAY</td>\n",
              "      <td>Jul-05-2018</td>\n",
              "      <td>85000</td>\n",
              "      <td>2</td>\n",
              "      <td>0</td>\n",
              "      <td>3</td>\n",
              "      <td>0</td>\n",
              "      <td>0</td>\n",
              "      <td>0</td>\n",
              "      <td>Description : 2 bhk apartment for rent in band...</td>\n",
              "    </tr>\n",
              "    <tr>\n",
              "      <th>1</th>\n",
              "      <td>2</td>\n",
              "      <td>Fantastic Apartment</td>\n",
              "      <td>Residential Apartment</td>\n",
              "      <td>Khar West</td>\n",
              "      <td>19.071690</td>\n",
              "      <td>72.834127</td>\n",
              "      <td>2 BHK</td>\n",
              "      <td>1050.0</td>\n",
              "      <td>Furnished</td>\n",
              "      <td>1 to 5 years old</td>\n",
              "      <td>8th</td>\n",
              "      <td>12</td>\n",
              "      <td>PROPBAY</td>\n",
              "      <td>Jul-05-2018</td>\n",
              "      <td>110000</td>\n",
              "      <td>0</td>\n",
              "      <td>0</td>\n",
              "      <td>0</td>\n",
              "      <td>0</td>\n",
              "      <td>1</td>\n",
              "      <td>0</td>\n",
              "      <td>Description : 2 bhk apartment for rent in khar...</td>\n",
              "    </tr>\n",
              "    <tr>\n",
              "      <th>2</th>\n",
              "      <td>3</td>\n",
              "      <td>Gajra Bhoomi Symphony</td>\n",
              "      <td>Residential Apartment</td>\n",
              "      <td>Sector-20 Koparkhairane</td>\n",
              "      <td>19.109368</td>\n",
              "      <td>73.001346</td>\n",
              "      <td>2 BHK</td>\n",
              "      <td>1050.0</td>\n",
              "      <td>Unfurnished</td>\n",
              "      <td>1 to 5 years old</td>\n",
              "      <td>14th</td>\n",
              "      <td>17</td>\n",
              "      <td>AAKASH REAL ESTATE</td>\n",
              "      <td>Jul-07-2018</td>\n",
              "      <td>32000</td>\n",
              "      <td>0</td>\n",
              "      <td>0</td>\n",
              "      <td>0</td>\n",
              "      <td>1</td>\n",
              "      <td>0</td>\n",
              "      <td>0</td>\n",
              "      <td>Description : 2 bhk flat available for rent in...</td>\n",
              "    </tr>\n",
              "  </tbody>\n",
              "</table>\n",
              "</div>"
            ],
            "text/plain": [
              "   sl no.  ...                                        description\n",
              "0       1  ...  Description : 2 bhk apartment for rent in band...\n",
              "1       2  ...  Description : 2 bhk apartment for rent in khar...\n",
              "2       3  ...  Description : 2 bhk flat available for rent in...\n",
              "\n",
              "[3 rows x 22 columns]"
            ]
          },
          "metadata": {
            "tags": []
          },
          "execution_count": 115
        }
      ]
    },
    {
      "cell_type": "code",
      "metadata": {
        "scrolled": false,
        "id": "VrQhas-LevzP",
        "colab": {
          "base_uri": "https://localhost:8080/"
        },
        "outputId": "d1446c70-9f32-44b5-9b28-e11c88752e5a"
      },
      "source": [
        "data.info()"
      ],
      "execution_count": 116,
      "outputs": [
        {
          "output_type": "stream",
          "text": [
            "<class 'pandas.core.frame.DataFrame'>\n",
            "RangeIndex: 13541 entries, 0 to 13540\n",
            "Data columns (total 22 columns):\n",
            " #   Column          Non-Null Count  Dtype  \n",
            "---  ------          --------------  -----  \n",
            " 0   sl no.          13541 non-null  int64  \n",
            " 1   society         13541 non-null  object \n",
            " 2   type            13541 non-null  object \n",
            " 3   location        13541 non-null  object \n",
            " 4   lattitude       2174 non-null   float64\n",
            " 5   longitude       2174 non-null   float64\n",
            " 6   bedrooms        13541 non-null  object \n",
            " 7   built-up area   13541 non-null  float64\n",
            " 8   furnishing      13541 non-null  object \n",
            " 9   age             13541 non-null  object \n",
            " 10  floor           13541 non-null  object \n",
            " 11  total floors    13541 non-null  object \n",
            " 12  dealer          13478 non-null  object \n",
            " 13  posted          13541 non-null  object \n",
            " 14  monthly rent    13541 non-null  int64  \n",
            " 15  property photo  13541 non-null  int64  \n",
            " 16  property video  13541 non-null  int64  \n",
            " 17  society photo   13541 non-null  int64  \n",
            " 18  society video   13541 non-null  int64  \n",
            " 19  locality photo  13541 non-null  int64  \n",
            " 20  locality video  13541 non-null  int64  \n",
            " 21  description     13541 non-null  object \n",
            "dtypes: float64(3), int64(8), object(11)\n",
            "memory usage: 2.3+ MB\n"
          ],
          "name": "stdout"
        }
      ]
    },
    {
      "cell_type": "code",
      "metadata": {
        "id": "b5di4rDmQUFS"
      },
      "source": [
        "df = data.copy()"
      ],
      "execution_count": 117,
      "outputs": []
    },
    {
      "cell_type": "markdown",
      "metadata": {
        "id": "tZAutugXevzX"
      },
      "source": [
        "<a id = 's2'></a>\n",
        "## <font color = Blue> 2. Data Analyzing and Wranggling. </font>\n",
        "<a href = '#top'>Back on Top</a>"
      ]
    },
    {
      "cell_type": "markdown",
      "metadata": {
        "id": "_oJvw6zIevzY"
      },
      "source": [
        "###  Dropping useless features. (In my view, as per requirements) "
      ]
    },
    {
      "cell_type": "code",
      "metadata": {
        "id": "WiLDvTcYevzY",
        "colab": {
          "base_uri": "https://localhost:8080/",
          "height": 204
        },
        "outputId": "07bb5ef9-2ea8-45ed-b8cd-a2efdd902f22"
      },
      "source": [
        "df = df.drop(df.iloc[:,[0,4,5,12,13,15,16,17,18,19,20,21]],axis = 1)\n",
        "df.head()"
      ],
      "execution_count": 118,
      "outputs": [
        {
          "output_type": "execute_result",
          "data": {
            "text/html": [
              "<div>\n",
              "<style scoped>\n",
              "    .dataframe tbody tr th:only-of-type {\n",
              "        vertical-align: middle;\n",
              "    }\n",
              "\n",
              "    .dataframe tbody tr th {\n",
              "        vertical-align: top;\n",
              "    }\n",
              "\n",
              "    .dataframe thead th {\n",
              "        text-align: right;\n",
              "    }\n",
              "</style>\n",
              "<table border=\"1\" class=\"dataframe\">\n",
              "  <thead>\n",
              "    <tr style=\"text-align: right;\">\n",
              "      <th></th>\n",
              "      <th>society</th>\n",
              "      <th>type</th>\n",
              "      <th>location</th>\n",
              "      <th>bedrooms</th>\n",
              "      <th>built-up area</th>\n",
              "      <th>furnishing</th>\n",
              "      <th>age</th>\n",
              "      <th>floor</th>\n",
              "      <th>total floors</th>\n",
              "      <th>monthly rent</th>\n",
              "    </tr>\n",
              "  </thead>\n",
              "  <tbody>\n",
              "    <tr>\n",
              "      <th>0</th>\n",
              "      <td>Bandstand Apartment</td>\n",
              "      <td>Residential Apartment</td>\n",
              "      <td>Bandra (West)</td>\n",
              "      <td>2 BHK</td>\n",
              "      <td>800.0</td>\n",
              "      <td>Furnished</td>\n",
              "      <td>5 to 10 years old</td>\n",
              "      <td>2nd</td>\n",
              "      <td>6</td>\n",
              "      <td>85000</td>\n",
              "    </tr>\n",
              "    <tr>\n",
              "      <th>1</th>\n",
              "      <td>Fantastic Apartment</td>\n",
              "      <td>Residential Apartment</td>\n",
              "      <td>Khar West</td>\n",
              "      <td>2 BHK</td>\n",
              "      <td>1050.0</td>\n",
              "      <td>Furnished</td>\n",
              "      <td>1 to 5 years old</td>\n",
              "      <td>8th</td>\n",
              "      <td>12</td>\n",
              "      <td>110000</td>\n",
              "    </tr>\n",
              "    <tr>\n",
              "      <th>2</th>\n",
              "      <td>Gajra Bhoomi Symphony</td>\n",
              "      <td>Residential Apartment</td>\n",
              "      <td>Sector-20 Koparkhairane</td>\n",
              "      <td>2 BHK</td>\n",
              "      <td>1050.0</td>\n",
              "      <td>Unfurnished</td>\n",
              "      <td>1 to 5 years old</td>\n",
              "      <td>14th</td>\n",
              "      <td>17</td>\n",
              "      <td>32000</td>\n",
              "    </tr>\n",
              "    <tr>\n",
              "      <th>3</th>\n",
              "      <td>Crescent Bay</td>\n",
              "      <td>Residential Apartment</td>\n",
              "      <td>Parel</td>\n",
              "      <td>3 BHK</td>\n",
              "      <td>2275.0</td>\n",
              "      <td>Semifurnished</td>\n",
              "      <td>1 to 5 years old</td>\n",
              "      <td>40th</td>\n",
              "      <td>41</td>\n",
              "      <td>150000</td>\n",
              "    </tr>\n",
              "    <tr>\n",
              "      <th>4</th>\n",
              "      <td>Ashwini CHS</td>\n",
              "      <td>Residential Apartment</td>\n",
              "      <td>Tilak Nagar</td>\n",
              "      <td>1 BHK</td>\n",
              "      <td>550.0</td>\n",
              "      <td>Semifurnished</td>\n",
              "      <td>5 to 10 years old</td>\n",
              "      <td>4th</td>\n",
              "      <td>7</td>\n",
              "      <td>27000</td>\n",
              "    </tr>\n",
              "  </tbody>\n",
              "</table>\n",
              "</div>"
            ],
            "text/plain": [
              "                 society                   type  ... total floors monthly rent\n",
              "0    Bandstand Apartment  Residential Apartment  ...            6        85000\n",
              "1    Fantastic Apartment  Residential Apartment  ...           12       110000\n",
              "2  Gajra Bhoomi Symphony  Residential Apartment  ...           17        32000\n",
              "3           Crescent Bay  Residential Apartment  ...           41       150000\n",
              "4            Ashwini CHS  Residential Apartment  ...            7        27000\n",
              "\n",
              "[5 rows x 10 columns]"
            ]
          },
          "metadata": {
            "tags": []
          },
          "execution_count": 118
        }
      ]
    },
    {
      "cell_type": "code",
      "metadata": {
        "scrolled": true,
        "id": "ynq5ovCIevzb",
        "colab": {
          "base_uri": "https://localhost:8080/"
        },
        "outputId": "9b7778d7-282b-484a-8a92-831980995877"
      },
      "source": [
        "df.isnull().sum()"
      ],
      "execution_count": 119,
      "outputs": [
        {
          "output_type": "execute_result",
          "data": {
            "text/plain": [
              "society          0\n",
              "type             0\n",
              "location         0\n",
              "bedrooms         0\n",
              "built-up area    0\n",
              "furnishing       0\n",
              "age              0\n",
              "floor            0\n",
              "total floors     0\n",
              "monthly rent     0\n",
              "dtype: int64"
            ]
          },
          "metadata": {
            "tags": []
          },
          "execution_count": 119
        }
      ]
    },
    {
      "cell_type": "code",
      "metadata": {
        "id": "oSGqqAyievzf",
        "colab": {
          "base_uri": "https://localhost:8080/"
        },
        "outputId": "dfdfea10-e91d-47fb-ad2d-a73516c29d8c"
      },
      "source": [
        "df.dtypes"
      ],
      "execution_count": 120,
      "outputs": [
        {
          "output_type": "execute_result",
          "data": {
            "text/plain": [
              "society           object\n",
              "type              object\n",
              "location          object\n",
              "bedrooms          object\n",
              "built-up area    float64\n",
              "furnishing        object\n",
              "age               object\n",
              "floor             object\n",
              "total floors      object\n",
              "monthly rent       int64\n",
              "dtype: object"
            ]
          },
          "metadata": {
            "tags": []
          },
          "execution_count": 120
        }
      ]
    },
    {
      "cell_type": "markdown",
      "metadata": {
        "id": "q-T7wmegevzi"
      },
      "source": [
        "## Removing useless spaces from numeric columns, just in case if they have. "
      ]
    },
    {
      "cell_type": "code",
      "metadata": {
        "id": "GZVEhzV2evzi"
      },
      "source": [
        "for i in df.columns.drop(['built-up area','monthly rent']):\n",
        "    df[i] = df[i].apply(lambda x: x.strip())"
      ],
      "execution_count": 121,
      "outputs": []
    },
    {
      "cell_type": "code",
      "metadata": {
        "scrolled": false,
        "id": "cUuLP6npevzk",
        "colab": {
          "base_uri": "https://localhost:8080/",
          "height": 204
        },
        "outputId": "e482571f-c12e-4ad5-f4db-0fcfd7838d15"
      },
      "source": [
        "df.head()"
      ],
      "execution_count": 122,
      "outputs": [
        {
          "output_type": "execute_result",
          "data": {
            "text/html": [
              "<div>\n",
              "<style scoped>\n",
              "    .dataframe tbody tr th:only-of-type {\n",
              "        vertical-align: middle;\n",
              "    }\n",
              "\n",
              "    .dataframe tbody tr th {\n",
              "        vertical-align: top;\n",
              "    }\n",
              "\n",
              "    .dataframe thead th {\n",
              "        text-align: right;\n",
              "    }\n",
              "</style>\n",
              "<table border=\"1\" class=\"dataframe\">\n",
              "  <thead>\n",
              "    <tr style=\"text-align: right;\">\n",
              "      <th></th>\n",
              "      <th>society</th>\n",
              "      <th>type</th>\n",
              "      <th>location</th>\n",
              "      <th>bedrooms</th>\n",
              "      <th>built-up area</th>\n",
              "      <th>furnishing</th>\n",
              "      <th>age</th>\n",
              "      <th>floor</th>\n",
              "      <th>total floors</th>\n",
              "      <th>monthly rent</th>\n",
              "    </tr>\n",
              "  </thead>\n",
              "  <tbody>\n",
              "    <tr>\n",
              "      <th>0</th>\n",
              "      <td>Bandstand Apartment</td>\n",
              "      <td>Residential Apartment</td>\n",
              "      <td>Bandra (West)</td>\n",
              "      <td>2 BHK</td>\n",
              "      <td>800.0</td>\n",
              "      <td>Furnished</td>\n",
              "      <td>5 to 10 years old</td>\n",
              "      <td>2nd</td>\n",
              "      <td>6</td>\n",
              "      <td>85000</td>\n",
              "    </tr>\n",
              "    <tr>\n",
              "      <th>1</th>\n",
              "      <td>Fantastic Apartment</td>\n",
              "      <td>Residential Apartment</td>\n",
              "      <td>Khar West</td>\n",
              "      <td>2 BHK</td>\n",
              "      <td>1050.0</td>\n",
              "      <td>Furnished</td>\n",
              "      <td>1 to 5 years old</td>\n",
              "      <td>8th</td>\n",
              "      <td>12</td>\n",
              "      <td>110000</td>\n",
              "    </tr>\n",
              "    <tr>\n",
              "      <th>2</th>\n",
              "      <td>Gajra Bhoomi Symphony</td>\n",
              "      <td>Residential Apartment</td>\n",
              "      <td>Sector-20 Koparkhairane</td>\n",
              "      <td>2 BHK</td>\n",
              "      <td>1050.0</td>\n",
              "      <td>Unfurnished</td>\n",
              "      <td>1 to 5 years old</td>\n",
              "      <td>14th</td>\n",
              "      <td>17</td>\n",
              "      <td>32000</td>\n",
              "    </tr>\n",
              "    <tr>\n",
              "      <th>3</th>\n",
              "      <td>Crescent Bay</td>\n",
              "      <td>Residential Apartment</td>\n",
              "      <td>Parel</td>\n",
              "      <td>3 BHK</td>\n",
              "      <td>2275.0</td>\n",
              "      <td>Semifurnished</td>\n",
              "      <td>1 to 5 years old</td>\n",
              "      <td>40th</td>\n",
              "      <td>41</td>\n",
              "      <td>150000</td>\n",
              "    </tr>\n",
              "    <tr>\n",
              "      <th>4</th>\n",
              "      <td>Ashwini CHS</td>\n",
              "      <td>Residential Apartment</td>\n",
              "      <td>Tilak Nagar</td>\n",
              "      <td>1 BHK</td>\n",
              "      <td>550.0</td>\n",
              "      <td>Semifurnished</td>\n",
              "      <td>5 to 10 years old</td>\n",
              "      <td>4th</td>\n",
              "      <td>7</td>\n",
              "      <td>27000</td>\n",
              "    </tr>\n",
              "  </tbody>\n",
              "</table>\n",
              "</div>"
            ],
            "text/plain": [
              "                 society                   type  ... total floors monthly rent\n",
              "0    Bandstand Apartment  Residential Apartment  ...            6        85000\n",
              "1    Fantastic Apartment  Residential Apartment  ...           12       110000\n",
              "2  Gajra Bhoomi Symphony  Residential Apartment  ...           17        32000\n",
              "3           Crescent Bay  Residential Apartment  ...           41       150000\n",
              "4            Ashwini CHS  Residential Apartment  ...            7        27000\n",
              "\n",
              "[5 rows x 10 columns]"
            ]
          },
          "metadata": {
            "tags": []
          },
          "execution_count": 122
        }
      ]
    },
    {
      "cell_type": "markdown",
      "metadata": {
        "id": "ixKClJyoAvYI"
      },
      "source": [
        "##Handling categorical columns"
      ]
    },
    {
      "cell_type": "markdown",
      "metadata": {
        "id": "43xawoPeevzq"
      },
      "source": [
        "### Merging societies having count less than 10."
      ]
    },
    {
      "cell_type": "code",
      "metadata": {
        "scrolled": false,
        "id": "CbFyyDyPevzr",
        "colab": {
          "base_uri": "https://localhost:8080/",
          "height": 0
        },
        "outputId": "705ae432-02c7-467d-9530-afff850c68ad"
      },
      "source": [
        "society_count = pd.DataFrame(df['society'].value_counts())\n",
        "society_count"
      ],
      "execution_count": 123,
      "outputs": [
        {
          "output_type": "execute_result",
          "data": {
            "text/html": [
              "<div>\n",
              "<style scoped>\n",
              "    .dataframe tbody tr th:only-of-type {\n",
              "        vertical-align: middle;\n",
              "    }\n",
              "\n",
              "    .dataframe tbody tr th {\n",
              "        vertical-align: top;\n",
              "    }\n",
              "\n",
              "    .dataframe thead th {\n",
              "        text-align: right;\n",
              "    }\n",
              "</style>\n",
              "<table border=\"1\" class=\"dataframe\">\n",
              "  <thead>\n",
              "    <tr style=\"text-align: right;\">\n",
              "      <th></th>\n",
              "      <th>society</th>\n",
              "    </tr>\n",
              "  </thead>\n",
              "  <tbody>\n",
              "    <tr>\n",
              "      <th>On Request</th>\n",
              "      <td>1219</td>\n",
              "    </tr>\n",
              "    <tr>\n",
              "      <th>Lodha New Cuffe Parade</th>\n",
              "      <td>279</td>\n",
              "    </tr>\n",
              "    <tr>\n",
              "      <th>Lodha Lakeshore Greens</th>\n",
              "      <td>186</td>\n",
              "    </tr>\n",
              "    <tr>\n",
              "      <th>Crescent Bay</th>\n",
              "      <td>162</td>\n",
              "    </tr>\n",
              "    <tr>\n",
              "      <th>Ajmera Bhakti Park Sector 1 and 2</th>\n",
              "      <td>160</td>\n",
              "    </tr>\n",
              "    <tr>\n",
              "      <th>...</th>\n",
              "      <td>...</td>\n",
              "    </tr>\n",
              "    <tr>\n",
              "      <th>Zep</th>\n",
              "      <td>1</td>\n",
              "    </tr>\n",
              "    <tr>\n",
              "      <th>Lokhandwala Residency</th>\n",
              "      <td>1</td>\n",
              "    </tr>\n",
              "    <tr>\n",
              "      <th>Pride Palms</th>\n",
              "      <td>1</td>\n",
              "    </tr>\n",
              "    <tr>\n",
              "      <th>Rizvi Complex Area</th>\n",
              "      <td>1</td>\n",
              "    </tr>\n",
              "    <tr>\n",
              "      <th>Nargis Dutt Rd</th>\n",
              "      <td>1</td>\n",
              "    </tr>\n",
              "  </tbody>\n",
              "</table>\n",
              "<p>3473 rows × 1 columns</p>\n",
              "</div>"
            ],
            "text/plain": [
              "                                   society\n",
              "On Request                            1219\n",
              "Lodha New Cuffe Parade                 279\n",
              "Lodha Lakeshore Greens                 186\n",
              "Crescent Bay                           162\n",
              "Ajmera Bhakti Park Sector 1 and 2      160\n",
              "...                                    ...\n",
              "Zep                                      1\n",
              "Lokhandwala Residency                    1\n",
              "Pride Palms                              1\n",
              "Rizvi Complex Area                       1\n",
              "Nargis Dutt Rd                           1\n",
              "\n",
              "[3473 rows x 1 columns]"
            ]
          },
          "metadata": {
            "tags": []
          },
          "execution_count": 123
        }
      ]
    },
    {
      "cell_type": "code",
      "metadata": {
        "colab": {
          "base_uri": "https://localhost:8080/"
        },
        "id": "FHvEsFtu_yKg",
        "outputId": "19c8725c-ef85-4fa5-8fae-595a17c36a17"
      },
      "source": [
        "society_count[society_count['society']<10].shape"
      ],
      "execution_count": 124,
      "outputs": [
        {
          "output_type": "execute_result",
          "data": {
            "text/plain": [
              "(3292, 1)"
            ]
          },
          "metadata": {
            "tags": []
          },
          "execution_count": 124
        }
      ]
    },
    {
      "cell_type": "code",
      "metadata": {
        "id": "UtjkEfK2evzx"
      },
      "source": [
        "society_count_less_than_10_index_list = society_count[society_count['society']<10].index\r\n",
        "df['society'] = df['society'].apply(lambda x: 'other society' if x in society_count_less_than_10_index_list else x)"
      ],
      "execution_count": 125,
      "outputs": []
    },
    {
      "cell_type": "code",
      "metadata": {
        "id": "MLnWkJREevzz",
        "colab": {
          "base_uri": "https://localhost:8080/"
        },
        "outputId": "6b2c6db4-8547-4334-9ab9-fb5e0eead338"
      },
      "source": [
        "df['society'].value_counts()"
      ],
      "execution_count": 126,
      "outputs": [
        {
          "output_type": "execute_result",
          "data": {
            "text/plain": [
              "other society                           5554\n",
              "On Request                              1219\n",
              "Lodha New Cuffe Parade                   279\n",
              "Lodha Lakeshore Greens                   186\n",
              "Crescent Bay                             162\n",
              "                                        ... \n",
              "Hiranandani Crystal Court CHS             10\n",
              "Kesar Harmony                             10\n",
              "Lokhandwala Complex                       10\n",
              "Hiranandani Odyssey                       10\n",
              "Harmony Co Operative Housing Society      10\n",
              "Name: society, Length: 182, dtype: int64"
            ]
          },
          "metadata": {
            "tags": []
          },
          "execution_count": 126
        }
      ]
    },
    {
      "cell_type": "code",
      "metadata": {
        "colab": {
          "base_uri": "https://localhost:8080/",
          "height": 0
        },
        "id": "KItGFbwpBEWE",
        "outputId": "c0aaec41-cce4-4e7a-8a31-e4d9e504fb54"
      },
      "source": [
        "sc = pd.DataFrame(df['society'].value_counts().iloc[1:,])\r\n",
        "\r\n",
        "plt.figure(figsize=(8,28))\r\n",
        "sns.barplot(x = 'society', y = sc.index, data=sc)\r\n",
        "plt.show()"
      ],
      "execution_count": 127,
      "outputs": [
        {
          "output_type": "display_data",
          "data": {
            "image/png": "[encoded data removed]",
            "text/plain": [
              "<Figure size 576x2016 with 1 Axes>"
            ]
          },
          "metadata": {
            "tags": [],
            "needs_background": "light"
          }
        }
      ]
    },
    {
      "cell_type": "markdown",
      "metadata": {
        "id": "vzh_r_DSAc44"
      },
      "source": [
        "### type column"
      ]
    },
    {
      "cell_type": "code",
      "metadata": {
        "colab": {
          "base_uri": "https://localhost:8080/"
        },
        "id": "DD8me2dFAgH8",
        "outputId": "337764cb-f93b-4995-905a-123fa8ca897c"
      },
      "source": [
        "df['type'].value_counts()"
      ],
      "execution_count": 128,
      "outputs": [
        {
          "output_type": "execute_result",
          "data": {
            "text/plain": [
              "Residential Apartment      13416\n",
              "Studio Apartment              69\n",
              "Independent House/Villa       56\n",
              "Name: type, dtype: int64"
            ]
          },
          "metadata": {
            "tags": []
          },
          "execution_count": 128
        }
      ]
    },
    {
      "cell_type": "markdown",
      "metadata": {
        "id": "iUfwdrpoev0F"
      },
      "source": [
        "### Merging locations having count less than 10. only to simplify our model."
      ]
    },
    {
      "cell_type": "code",
      "metadata": {
        "scrolled": true,
        "id": "LtStm8wIev0F",
        "colab": {
          "base_uri": "https://localhost:8080/",
          "height": 0
        },
        "outputId": "ad5a7e1e-4f1b-4a91-8160-7692e7fae5d1"
      },
      "source": [
        "location_count = pd.DataFrame(df['location'].value_counts())\n",
        "location_count"
      ],
      "execution_count": 129,
      "outputs": [
        {
          "output_type": "execute_result",
          "data": {
            "text/html": [
              "<div>\n",
              "<style scoped>\n",
              "    .dataframe tbody tr th:only-of-type {\n",
              "        vertical-align: middle;\n",
              "    }\n",
              "\n",
              "    .dataframe tbody tr th {\n",
              "        vertical-align: top;\n",
              "    }\n",
              "\n",
              "    .dataframe thead th {\n",
              "        text-align: right;\n",
              "    }\n",
              "</style>\n",
              "<table border=\"1\" class=\"dataframe\">\n",
              "  <thead>\n",
              "    <tr style=\"text-align: right;\">\n",
              "      <th></th>\n",
              "      <th>location</th>\n",
              "    </tr>\n",
              "  </thead>\n",
              "  <tbody>\n",
              "    <tr>\n",
              "      <th>Bandra (West)</th>\n",
              "      <td>571</td>\n",
              "    </tr>\n",
              "    <tr>\n",
              "      <th>Wadala</th>\n",
              "      <td>497</td>\n",
              "    </tr>\n",
              "    <tr>\n",
              "      <th>Hiranandani Gardens - Powai</th>\n",
              "      <td>463</td>\n",
              "    </tr>\n",
              "    <tr>\n",
              "      <th>Wadala East</th>\n",
              "      <td>458</td>\n",
              "    </tr>\n",
              "    <tr>\n",
              "      <th>Chembur (East)</th>\n",
              "      <td>449</td>\n",
              "    </tr>\n",
              "    <tr>\n",
              "      <th>...</th>\n",
              "      <td>...</td>\n",
              "    </tr>\n",
              "    <tr>\n",
              "      <th>Sector-8 Vashi</th>\n",
              "      <td>1</td>\n",
              "    </tr>\n",
              "    <tr>\n",
              "      <th>Nana Pawar Chowk</th>\n",
              "      <td>1</td>\n",
              "    </tr>\n",
              "    <tr>\n",
              "      <th>Asavari</th>\n",
              "      <td>1</td>\n",
              "    </tr>\n",
              "    <tr>\n",
              "      <th>Odhav Nagar</th>\n",
              "      <td>1</td>\n",
              "    </tr>\n",
              "    <tr>\n",
              "      <th>Jolly Maker No1 Row House</th>\n",
              "      <td>1</td>\n",
              "    </tr>\n",
              "  </tbody>\n",
              "</table>\n",
              "<p>532 rows × 1 columns</p>\n",
              "</div>"
            ],
            "text/plain": [
              "                             location\n",
              "Bandra (West)                     571\n",
              "Wadala                            497\n",
              "Hiranandani Gardens - Powai       463\n",
              "Wadala East                       458\n",
              "Chembur (East)                    449\n",
              "...                               ...\n",
              "Sector-8 Vashi                      1\n",
              "Nana Pawar Chowk                    1\n",
              "Asavari                             1\n",
              "Odhav Nagar                         1\n",
              "Jolly Maker No1 Row House           1\n",
              "\n",
              "[532 rows x 1 columns]"
            ]
          },
          "metadata": {
            "tags": []
          },
          "execution_count": 129
        }
      ]
    },
    {
      "cell_type": "code",
      "metadata": {
        "id": "aqvPp8Dvev0K"
      },
      "source": [
        "location_count_less_than_10_index = location_count[location_count['location']<10].index\r\n",
        "df['location'] = df['location'].apply(lambda x: 'other location' if x in location_count_less_than_10_index else x)"
      ],
      "execution_count": 130,
      "outputs": []
    },
    {
      "cell_type": "code",
      "metadata": {
        "id": "BlzmKWDdev0M",
        "colab": {
          "base_uri": "https://localhost:8080/"
        },
        "outputId": "5dd2d58d-1e18-4b9e-f64d-9672af7c6229"
      },
      "source": [
        "df['location'].value_counts()"
      ],
      "execution_count": 131,
      "outputs": [
        {
          "output_type": "execute_result",
          "data": {
            "text/plain": [
              "other location                 1003\n",
              "Bandra (West)                   571\n",
              "Wadala                          497\n",
              "Hiranandani Gardens - Powai     463\n",
              "Wadala East                     458\n",
              "                               ... \n",
              "Chakala                          11\n",
              "4 Bunglows                       10\n",
              "Sindhi Society Chembur           10\n",
              "Dindoshi                         10\n",
              "Sector-6 Nerul                   10\n",
              "Name: location, Length: 166, dtype: int64"
            ]
          },
          "metadata": {
            "tags": []
          },
          "execution_count": 131
        }
      ]
    },
    {
      "cell_type": "code",
      "metadata": {
        "colab": {
          "base_uri": "https://localhost:8080/",
          "height": 0
        },
        "id": "zgm4oGGHHRWq",
        "outputId": "574c7215-810a-4eb8-c373-0f6de7e13ebe"
      },
      "source": [
        "location_count = pd.DataFrame(df['location'].value_counts().iloc[1:,])\r\n",
        "\r\n",
        "plt.figure(figsize=(8,28))\r\n",
        "sns.barplot(x = 'location', y = location_count.index, data=location_count)\r\n",
        "plt.show()"
      ],
      "execution_count": 132,
      "outputs": [
        {
          "output_type": "display_data",
          "data": {
            "image/png": "[encoded data removed]",
            "text/plain": [
              "<Figure size 576x2016 with 1 Axes>"
            ]
          },
          "metadata": {
            "tags": [],
            "needs_background": "light"
          }
        }
      ]
    },
    {
      "cell_type": "markdown",
      "metadata": {
        "id": "OiO2uvEpH3If"
      },
      "source": [
        "### furnishing"
      ]
    },
    {
      "cell_type": "code",
      "metadata": {
        "colab": {
          "base_uri": "https://localhost:8080/"
        },
        "id": "kFij3HfAH6KA",
        "outputId": "4e45c89c-737b-494c-894f-6e77d796298b"
      },
      "source": [
        "df.furnishing.value_counts()"
      ],
      "execution_count": 133,
      "outputs": [
        {
          "output_type": "execute_result",
          "data": {
            "text/plain": [
              "Semifurnished    5661\n",
              "Unfurnished      4272\n",
              "Furnished        3395\n",
              "Not Mentioned     213\n",
              "Name: furnishing, dtype: int64"
            ]
          },
          "metadata": {
            "tags": []
          },
          "execution_count": 133
        }
      ]
    },
    {
      "cell_type": "code",
      "metadata": {
        "colab": {
          "base_uri": "https://localhost:8080/",
          "height": 0
        },
        "id": "9POagHlUJS6D",
        "outputId": "1ed2c520-27ff-4600-ba6a-117a05b7993c"
      },
      "source": [
        "plt.pie(df.furnishing.value_counts(), labels = df.furnishing.value_counts().index)\r\n",
        "plt.show()"
      ],
      "execution_count": 134,
      "outputs": [
        {
          "output_type": "display_data",
          "data": {
            "image/png": "[encoded data removed]",
            "text/plain": [
              "<Figure size 432x288 with 1 Axes>"
            ]
          },
          "metadata": {
            "tags": []
          }
        }
      ]
    },
    {
      "cell_type": "markdown",
      "metadata": {
        "id": "m9BmIX8DNZvX"
      },
      "source": [
        "### Age"
      ]
    },
    {
      "cell_type": "code",
      "metadata": {
        "colab": {
          "base_uri": "https://localhost:8080/"
        },
        "id": "25fMWeU-Nc1u",
        "outputId": "50900049-2684-48ba-a8a6-97060332b43c"
      },
      "source": [
        "df.age.value_counts()"
      ],
      "execution_count": 135,
      "outputs": [
        {
          "output_type": "execute_result",
          "data": {
            "text/plain": [
              "1 to 5 years old     4783\n",
              "5 to 10 years old    4002\n",
              "0 to 1 years old     2680\n",
              "10+ years old        2030\n",
              "Not Mentioned          46\n",
              "Name: age, dtype: int64"
            ]
          },
          "metadata": {
            "tags": []
          },
          "execution_count": 135
        }
      ]
    },
    {
      "cell_type": "markdown",
      "metadata": {
        "id": "8DqAJBNZHsmq"
      },
      "source": [
        "##Handling numerical data"
      ]
    },
    {
      "cell_type": "markdown",
      "metadata": {
        "id": "fLhjVQkYev0P"
      },
      "source": [
        "### Extracting only numerals from bedrooms column."
      ]
    },
    {
      "cell_type": "code",
      "metadata": {
        "scrolled": true,
        "id": "_r4l4xggev0P",
        "colab": {
          "base_uri": "https://localhost:8080/"
        },
        "outputId": "c4f2929b-1169-4abd-ab77-a91d851fd47f"
      },
      "source": [
        "df['bedrooms'].value_counts()"
      ],
      "execution_count": 136,
      "outputs": [
        {
          "output_type": "execute_result",
          "data": {
            "text/plain": [
              "2 BHK        6392\n",
              "3 BHK        3447\n",
              "1 BHK        2906\n",
              "4 BHK         620\n",
              "1 RK           69\n",
              "5 BHK          46\n",
              "4 Bedroom      22\n",
              "1 Bedroom      12\n",
              "2 Bedroom       8\n",
              "3 Bedroom       7\n",
              "6 BHK           5\n",
              "5 Bedroom       4\n",
              "7 Bedroom       2\n",
              "9 Bedroom       1\n",
              "Name: bedrooms, dtype: int64"
            ]
          },
          "metadata": {
            "tags": []
          },
          "execution_count": 136
        }
      ]
    },
    {
      "cell_type": "code",
      "metadata": {
        "id": "i2UlRrp0ev0S",
        "colab": {
          "base_uri": "https://localhost:8080/"
        },
        "outputId": "4d019f26-b106-492b-9507-296222c8e17a"
      },
      "source": [
        "df['bedrooms'] = df['bedrooms'].apply(lambda x: x.strip(' ')[0])\r\n",
        "df['bedrooms'].value_counts()"
      ],
      "execution_count": 137,
      "outputs": [
        {
          "output_type": "execute_result",
          "data": {
            "text/plain": [
              "2    6400\n",
              "3    3454\n",
              "1    2987\n",
              "4     642\n",
              "5      50\n",
              "6       5\n",
              "7       2\n",
              "9       1\n",
              "Name: bedrooms, dtype: int64"
            ]
          },
          "metadata": {
            "tags": []
          },
          "execution_count": 137
        }
      ]
    },
    {
      "cell_type": "markdown",
      "metadata": {
        "id": "-IrlSgaOevz3"
      },
      "source": [
        "### Making floor and total floors = 0 for Independent House/Villa"
      ]
    },
    {
      "cell_type": "code",
      "metadata": {
        "scrolled": true,
        "id": "vdmsD-5oevz6",
        "colab": {
          "base_uri": "https://localhost:8080/",
          "height": 0
        },
        "outputId": "79cc06f2-698f-414e-aef5-e4126999bfb9"
      },
      "source": [
        "df[df['type'] == 'Independent House/Villa']"
      ],
      "execution_count": 138,
      "outputs": [
        {
          "output_type": "execute_result",
          "data": {
            "text/html": [
              "<div>\n",
              "<style scoped>\n",
              "    .dataframe tbody tr th:only-of-type {\n",
              "        vertical-align: middle;\n",
              "    }\n",
              "\n",
              "    .dataframe tbody tr th {\n",
              "        vertical-align: top;\n",
              "    }\n",
              "\n",
              "    .dataframe thead th {\n",
              "        text-align: right;\n",
              "    }\n",
              "</style>\n",
              "<table border=\"1\" class=\"dataframe\">\n",
              "  <thead>\n",
              "    <tr style=\"text-align: right;\">\n",
              "      <th></th>\n",
              "      <th>society</th>\n",
              "      <th>type</th>\n",
              "      <th>location</th>\n",
              "      <th>bedrooms</th>\n",
              "      <th>built-up area</th>\n",
              "      <th>furnishing</th>\n",
              "      <th>age</th>\n",
              "      <th>floor</th>\n",
              "      <th>total floors</th>\n",
              "      <th>monthly rent</th>\n",
              "    </tr>\n",
              "  </thead>\n",
              "  <tbody>\n",
              "    <tr>\n",
              "      <th>1360</th>\n",
              "      <td>Union Park</td>\n",
              "      <td>Independent House/Villa</td>\n",
              "      <td>Chembur</td>\n",
              "      <td>2</td>\n",
              "      <td>935.0000</td>\n",
              "      <td>Unfurnished</td>\n",
              "      <td>1 to 5 years old</td>\n",
              "      <td>Not Mentioned</td>\n",
              "      <td>Not Mentioned</td>\n",
              "      <td>44000</td>\n",
              "    </tr>\n",
              "    <tr>\n",
              "      <th>1606</th>\n",
              "      <td>other society</td>\n",
              "      <td>Independent House/Villa</td>\n",
              "      <td>Lokhandwala</td>\n",
              "      <td>4</td>\n",
              "      <td>2500.0000</td>\n",
              "      <td>Semifurnished</td>\n",
              "      <td>5 to 10 years old</td>\n",
              "      <td>Not Mentioned</td>\n",
              "      <td>Not Mentioned</td>\n",
              "      <td>250000</td>\n",
              "    </tr>\n",
              "    <tr>\n",
              "      <th>1646</th>\n",
              "      <td>other society</td>\n",
              "      <td>Independent House/Villa</td>\n",
              "      <td>other location</td>\n",
              "      <td>4</td>\n",
              "      <td>41548.6540</td>\n",
              "      <td>Semifurnished</td>\n",
              "      <td>0 to 1 years old</td>\n",
              "      <td>Not Mentioned</td>\n",
              "      <td>Not Mentioned</td>\n",
              "      <td>310000</td>\n",
              "    </tr>\n",
              "    <tr>\n",
              "      <th>1788</th>\n",
              "      <td>Description :</td>\n",
              "      <td>Independent House/Villa</td>\n",
              "      <td>Juhu</td>\n",
              "      <td>4</td>\n",
              "      <td>3500.0000</td>\n",
              "      <td>Not Mentioned</td>\n",
              "      <td>5 to 10 years old</td>\n",
              "      <td>Not Mentioned</td>\n",
              "      <td>Not Mentioned</td>\n",
              "      <td>400000</td>\n",
              "    </tr>\n",
              "    <tr>\n",
              "      <th>1901</th>\n",
              "      <td>On Request</td>\n",
              "      <td>Independent House/Villa</td>\n",
              "      <td>Sector-8 Charkop</td>\n",
              "      <td>1</td>\n",
              "      <td>250.0000</td>\n",
              "      <td>Unfurnished</td>\n",
              "      <td>10+ years old</td>\n",
              "      <td>Not Mentioned</td>\n",
              "      <td>Not Mentioned</td>\n",
              "      <td>10500</td>\n",
              "    </tr>\n",
              "    <tr>\n",
              "      <th>2122</th>\n",
              "      <td>On Request</td>\n",
              "      <td>Independent House/Villa</td>\n",
              "      <td>Juhu</td>\n",
              "      <td>4</td>\n",
              "      <td>3300.0000</td>\n",
              "      <td>Furnished</td>\n",
              "      <td>5 to 10 years old</td>\n",
              "      <td>Not Mentioned</td>\n",
              "      <td>Not Mentioned</td>\n",
              "      <td>450000</td>\n",
              "    </tr>\n",
              "    <tr>\n",
              "      <th>2124</th>\n",
              "      <td>other society</td>\n",
              "      <td>Independent House/Villa</td>\n",
              "      <td>other location</td>\n",
              "      <td>1</td>\n",
              "      <td>269.0975</td>\n",
              "      <td>Unfurnished</td>\n",
              "      <td>0 to 1 years old</td>\n",
              "      <td>Not Mentioned</td>\n",
              "      <td>Not Mentioned</td>\n",
              "      <td>7500</td>\n",
              "    </tr>\n",
              "    <tr>\n",
              "      <th>2175</th>\n",
              "      <td>other society</td>\n",
              "      <td>Independent House/Villa</td>\n",
              "      <td>other location</td>\n",
              "      <td>4</td>\n",
              "      <td>3229.1700</td>\n",
              "      <td>Semifurnished</td>\n",
              "      <td>1 to 5 years old</td>\n",
              "      <td>Not Mentioned</td>\n",
              "      <td>Not Mentioned</td>\n",
              "      <td>125000</td>\n",
              "    </tr>\n",
              "    <tr>\n",
              "      <th>2340</th>\n",
              "      <td>other society</td>\n",
              "      <td>Independent House/Villa</td>\n",
              "      <td>Chembur</td>\n",
              "      <td>4</td>\n",
              "      <td>2500.0000</td>\n",
              "      <td>Furnished</td>\n",
              "      <td>1 to 5 years old</td>\n",
              "      <td>Not Mentioned</td>\n",
              "      <td>Not Mentioned</td>\n",
              "      <td>84000</td>\n",
              "    </tr>\n",
              "    <tr>\n",
              "      <th>2377</th>\n",
              "      <td>Description :</td>\n",
              "      <td>Independent House/Villa</td>\n",
              "      <td>Kharghar</td>\n",
              "      <td>2</td>\n",
              "      <td>4520.8380</td>\n",
              "      <td>Not Mentioned</td>\n",
              "      <td>10+ years old</td>\n",
              "      <td>Not Mentioned</td>\n",
              "      <td>Not Mentioned</td>\n",
              "      <td>25000</td>\n",
              "    </tr>\n",
              "    <tr>\n",
              "      <th>2391</th>\n",
              "      <td>On Request</td>\n",
              "      <td>Independent House/Villa</td>\n",
              "      <td>other location</td>\n",
              "      <td>4</td>\n",
              "      <td>5000.0000</td>\n",
              "      <td>Furnished</td>\n",
              "      <td>10+ years old</td>\n",
              "      <td>Not Mentioned</td>\n",
              "      <td>Not Mentioned</td>\n",
              "      <td>250000</td>\n",
              "    </tr>\n",
              "    <tr>\n",
              "      <th>5638</th>\n",
              "      <td>On Request</td>\n",
              "      <td>Independent House/Villa</td>\n",
              "      <td>Kharghar</td>\n",
              "      <td>5</td>\n",
              "      <td>2152.7800</td>\n",
              "      <td>Unfurnished</td>\n",
              "      <td>0 to 1 years old</td>\n",
              "      <td>Not Mentioned</td>\n",
              "      <td>Not Mentioned</td>\n",
              "      <td>75000</td>\n",
              "    </tr>\n",
              "    <tr>\n",
              "      <th>5726</th>\n",
              "      <td>other society</td>\n",
              "      <td>Independent House/Villa</td>\n",
              "      <td>Chembur</td>\n",
              "      <td>4</td>\n",
              "      <td>3229.1700</td>\n",
              "      <td>Unfurnished</td>\n",
              "      <td>10+ years old</td>\n",
              "      <td>Not Mentioned</td>\n",
              "      <td>Not Mentioned</td>\n",
              "      <td>100000</td>\n",
              "    </tr>\n",
              "    <tr>\n",
              "      <th>5865</th>\n",
              "      <td>other society</td>\n",
              "      <td>Independent House/Villa</td>\n",
              "      <td>Chembur (East)</td>\n",
              "      <td>3</td>\n",
              "      <td>2000.0000</td>\n",
              "      <td>Semifurnished</td>\n",
              "      <td>10+ years old</td>\n",
              "      <td>Not Mentioned</td>\n",
              "      <td>Not Mentioned</td>\n",
              "      <td>125000</td>\n",
              "    </tr>\n",
              "    <tr>\n",
              "      <th>5915</th>\n",
              "      <td>other society</td>\n",
              "      <td>Independent House/Villa</td>\n",
              "      <td>Manpada</td>\n",
              "      <td>7</td>\n",
              "      <td>4500.0000</td>\n",
              "      <td>Unfurnished</td>\n",
              "      <td>5 to 10 years old</td>\n",
              "      <td>Not Mentioned</td>\n",
              "      <td>Not Mentioned</td>\n",
              "      <td>110000</td>\n",
              "    </tr>\n",
              "    <tr>\n",
              "      <th>6106</th>\n",
              "      <td>other society</td>\n",
              "      <td>Independent House/Villa</td>\n",
              "      <td>Chembur (East)</td>\n",
              "      <td>3</td>\n",
              "      <td>1800.0000</td>\n",
              "      <td>Semifurnished</td>\n",
              "      <td>5 to 10 years old</td>\n",
              "      <td>Not Mentioned</td>\n",
              "      <td>Not Mentioned</td>\n",
              "      <td>100000</td>\n",
              "    </tr>\n",
              "    <tr>\n",
              "      <th>6659</th>\n",
              "      <td>Description :</td>\n",
              "      <td>Independent House/Villa</td>\n",
              "      <td>other location</td>\n",
              "      <td>1</td>\n",
              "      <td>10.7639</td>\n",
              "      <td>Not Mentioned</td>\n",
              "      <td>5 to 10 years old</td>\n",
              "      <td>Not Mentioned</td>\n",
              "      <td>Not Mentioned</td>\n",
              "      <td>10000</td>\n",
              "    </tr>\n",
              "    <tr>\n",
              "      <th>6934</th>\n",
              "      <td>Sindhi Society</td>\n",
              "      <td>Independent House/Villa</td>\n",
              "      <td>Chembur (East)</td>\n",
              "      <td>4</td>\n",
              "      <td>2650.0000</td>\n",
              "      <td>Semifurnished</td>\n",
              "      <td>1 to 5 years old</td>\n",
              "      <td>Not Mentioned</td>\n",
              "      <td>Not Mentioned</td>\n",
              "      <td>110000</td>\n",
              "    </tr>\n",
              "    <tr>\n",
              "      <th>6979</th>\n",
              "      <td>Description :</td>\n",
              "      <td>Independent House/Villa</td>\n",
              "      <td>other location</td>\n",
              "      <td>9</td>\n",
              "      <td>2025.0000</td>\n",
              "      <td>Not Mentioned</td>\n",
              "      <td>10+ years old</td>\n",
              "      <td>Not Mentioned</td>\n",
              "      <td>Not Mentioned</td>\n",
              "      <td>220000</td>\n",
              "    </tr>\n",
              "    <tr>\n",
              "      <th>6987</th>\n",
              "      <td>On Request</td>\n",
              "      <td>Independent House/Villa</td>\n",
              "      <td>Juhu</td>\n",
              "      <td>4</td>\n",
              "      <td>3500.0000</td>\n",
              "      <td>Furnished</td>\n",
              "      <td>5 to 10 years old</td>\n",
              "      <td>Not Mentioned</td>\n",
              "      <td>Not Mentioned</td>\n",
              "      <td>550000</td>\n",
              "    </tr>\n",
              "    <tr>\n",
              "      <th>7101</th>\n",
              "      <td>Description :</td>\n",
              "      <td>Independent House/Villa</td>\n",
              "      <td>Chembur</td>\n",
              "      <td>4</td>\n",
              "      <td>2400.0000</td>\n",
              "      <td>Not Mentioned</td>\n",
              "      <td>1 to 5 years old</td>\n",
              "      <td>Not Mentioned</td>\n",
              "      <td>Not Mentioned</td>\n",
              "      <td>120000</td>\n",
              "    </tr>\n",
              "    <tr>\n",
              "      <th>7574</th>\n",
              "      <td>other society</td>\n",
              "      <td>Independent House/Villa</td>\n",
              "      <td>other location</td>\n",
              "      <td>1</td>\n",
              "      <td>1076.3900</td>\n",
              "      <td>Unfurnished</td>\n",
              "      <td>5 to 10 years old</td>\n",
              "      <td>Not Mentioned</td>\n",
              "      <td>Not Mentioned</td>\n",
              "      <td>13000</td>\n",
              "    </tr>\n",
              "    <tr>\n",
              "      <th>7702</th>\n",
              "      <td>other society</td>\n",
              "      <td>Independent House/Villa</td>\n",
              "      <td>Manpada</td>\n",
              "      <td>3</td>\n",
              "      <td>3500.0000</td>\n",
              "      <td>Furnished</td>\n",
              "      <td>10+ years old</td>\n",
              "      <td>Not Mentioned</td>\n",
              "      <td>Not Mentioned</td>\n",
              "      <td>125000</td>\n",
              "    </tr>\n",
              "    <tr>\n",
              "      <th>7883</th>\n",
              "      <td>other society</td>\n",
              "      <td>Independent House/Villa</td>\n",
              "      <td>other location</td>\n",
              "      <td>4</td>\n",
              "      <td>11022.2336</td>\n",
              "      <td>Semifurnished</td>\n",
              "      <td>10+ years old</td>\n",
              "      <td>Not Mentioned</td>\n",
              "      <td>Not Mentioned</td>\n",
              "      <td>500000</td>\n",
              "    </tr>\n",
              "    <tr>\n",
              "      <th>7928</th>\n",
              "      <td>Description :</td>\n",
              "      <td>Independent House/Villa</td>\n",
              "      <td>other location</td>\n",
              "      <td>1</td>\n",
              "      <td>450.0000</td>\n",
              "      <td>Not Mentioned</td>\n",
              "      <td>Not Mentioned</td>\n",
              "      <td>Not Mentioned</td>\n",
              "      <td>Not Mentioned</td>\n",
              "      <td>4500</td>\n",
              "    </tr>\n",
              "    <tr>\n",
              "      <th>7933</th>\n",
              "      <td>other society</td>\n",
              "      <td>Independent House/Villa</td>\n",
              "      <td>Santacruz (West)</td>\n",
              "      <td>5</td>\n",
              "      <td>5000.0000</td>\n",
              "      <td>Semifurnished</td>\n",
              "      <td>5 to 10 years old</td>\n",
              "      <td>Not Mentioned</td>\n",
              "      <td>Not Mentioned</td>\n",
              "      <td>550000</td>\n",
              "    </tr>\n",
              "    <tr>\n",
              "      <th>7934</th>\n",
              "      <td>other society</td>\n",
              "      <td>Independent House/Villa</td>\n",
              "      <td>Santacruz (West)</td>\n",
              "      <td>5</td>\n",
              "      <td>5000.0000</td>\n",
              "      <td>Semifurnished</td>\n",
              "      <td>5 to 10 years old</td>\n",
              "      <td>Not Mentioned</td>\n",
              "      <td>Not Mentioned</td>\n",
              "      <td>550000</td>\n",
              "    </tr>\n",
              "    <tr>\n",
              "      <th>7942</th>\n",
              "      <td>other society</td>\n",
              "      <td>Independent House/Villa</td>\n",
              "      <td>other location</td>\n",
              "      <td>1</td>\n",
              "      <td>300.0000</td>\n",
              "      <td>Unfurnished</td>\n",
              "      <td>10+ years old</td>\n",
              "      <td>Not Mentioned</td>\n",
              "      <td>Not Mentioned</td>\n",
              "      <td>7000</td>\n",
              "    </tr>\n",
              "    <tr>\n",
              "      <th>8008</th>\n",
              "      <td>On Request</td>\n",
              "      <td>Independent House/Villa</td>\n",
              "      <td>Juhu</td>\n",
              "      <td>3</td>\n",
              "      <td>2800.0000</td>\n",
              "      <td>Furnished</td>\n",
              "      <td>5 to 10 years old</td>\n",
              "      <td>Not Mentioned</td>\n",
              "      <td>Not Mentioned</td>\n",
              "      <td>400000</td>\n",
              "    </tr>\n",
              "    <tr>\n",
              "      <th>8153</th>\n",
              "      <td>other society</td>\n",
              "      <td>Independent House/Villa</td>\n",
              "      <td>Deonar</td>\n",
              "      <td>4</td>\n",
              "      <td>3000.0000</td>\n",
              "      <td>Furnished</td>\n",
              "      <td>10+ years old</td>\n",
              "      <td>Not Mentioned</td>\n",
              "      <td>Not Mentioned</td>\n",
              "      <td>110000</td>\n",
              "    </tr>\n",
              "    <tr>\n",
              "      <th>8428</th>\n",
              "      <td>other society</td>\n",
              "      <td>Independent House/Villa</td>\n",
              "      <td>Dombivli (East)</td>\n",
              "      <td>1</td>\n",
              "      <td>800.0000</td>\n",
              "      <td>Semifurnished</td>\n",
              "      <td>5 to 10 years old</td>\n",
              "      <td>Not Mentioned</td>\n",
              "      <td>Not Mentioned</td>\n",
              "      <td>7000</td>\n",
              "    </tr>\n",
              "    <tr>\n",
              "      <th>8762</th>\n",
              "      <td>Description :</td>\n",
              "      <td>Independent House/Villa</td>\n",
              "      <td>Sector-8 Kharghar</td>\n",
              "      <td>4</td>\n",
              "      <td>2152.7800</td>\n",
              "      <td>Not Mentioned</td>\n",
              "      <td>Not Mentioned</td>\n",
              "      <td>Not Mentioned</td>\n",
              "      <td>Not Mentioned</td>\n",
              "      <td>50000</td>\n",
              "    </tr>\n",
              "    <tr>\n",
              "      <th>8921</th>\n",
              "      <td>other society</td>\n",
              "      <td>Independent House/Villa</td>\n",
              "      <td>Sector 9 Airoli</td>\n",
              "      <td>1</td>\n",
              "      <td>550.0000</td>\n",
              "      <td>Unfurnished</td>\n",
              "      <td>1 to 5 years old</td>\n",
              "      <td>Not Mentioned</td>\n",
              "      <td>Not Mentioned</td>\n",
              "      <td>13000</td>\n",
              "    </tr>\n",
              "    <tr>\n",
              "      <th>9023</th>\n",
              "      <td>Description :</td>\n",
              "      <td>Independent House/Villa</td>\n",
              "      <td>Mulund Colony</td>\n",
              "      <td>4</td>\n",
              "      <td>1800.0000</td>\n",
              "      <td>Not Mentioned</td>\n",
              "      <td>10+ years old</td>\n",
              "      <td>Not Mentioned</td>\n",
              "      <td>Not Mentioned</td>\n",
              "      <td>50000</td>\n",
              "    </tr>\n",
              "    <tr>\n",
              "      <th>9430</th>\n",
              "      <td>other society</td>\n",
              "      <td>Independent House/Villa</td>\n",
              "      <td>Sector-8 Charkop</td>\n",
              "      <td>2</td>\n",
              "      <td>430.5560</td>\n",
              "      <td>Unfurnished</td>\n",
              "      <td>0 to 1 years old</td>\n",
              "      <td>Not Mentioned</td>\n",
              "      <td>Not Mentioned</td>\n",
              "      <td>14000</td>\n",
              "    </tr>\n",
              "    <tr>\n",
              "      <th>9715</th>\n",
              "      <td>other society</td>\n",
              "      <td>Independent House/Villa</td>\n",
              "      <td>Chembur</td>\n",
              "      <td>4</td>\n",
              "      <td>2800.0000</td>\n",
              "      <td>Furnished</td>\n",
              "      <td>5 to 10 years old</td>\n",
              "      <td>Not Mentioned</td>\n",
              "      <td>Not Mentioned</td>\n",
              "      <td>75000</td>\n",
              "    </tr>\n",
              "    <tr>\n",
              "      <th>9736</th>\n",
              "      <td>other society</td>\n",
              "      <td>Independent House/Villa</td>\n",
              "      <td>Chembur (East)</td>\n",
              "      <td>4</td>\n",
              "      <td>3500.0000</td>\n",
              "      <td>Semifurnished</td>\n",
              "      <td>1 to 5 years old</td>\n",
              "      <td>Not Mentioned</td>\n",
              "      <td>Not Mentioned</td>\n",
              "      <td>125000</td>\n",
              "    </tr>\n",
              "    <tr>\n",
              "      <th>10049</th>\n",
              "      <td>Description :</td>\n",
              "      <td>Independent House/Villa</td>\n",
              "      <td>other location</td>\n",
              "      <td>3</td>\n",
              "      <td>2500.0000</td>\n",
              "      <td>Not Mentioned</td>\n",
              "      <td>Not Mentioned</td>\n",
              "      <td>Not Mentioned</td>\n",
              "      <td>Not Mentioned</td>\n",
              "      <td>85000</td>\n",
              "    </tr>\n",
              "    <tr>\n",
              "      <th>10262</th>\n",
              "      <td>other society</td>\n",
              "      <td>Independent House/Villa</td>\n",
              "      <td>other location</td>\n",
              "      <td>7</td>\n",
              "      <td>3444.4480</td>\n",
              "      <td>Unfurnished</td>\n",
              "      <td>5 to 10 years old</td>\n",
              "      <td>Not Mentioned</td>\n",
              "      <td>Not Mentioned</td>\n",
              "      <td>120000</td>\n",
              "    </tr>\n",
              "    <tr>\n",
              "      <th>10293</th>\n",
              "      <td>other society</td>\n",
              "      <td>Independent House/Villa</td>\n",
              "      <td>other location</td>\n",
              "      <td>3</td>\n",
              "      <td>1991.3215</td>\n",
              "      <td>Unfurnished</td>\n",
              "      <td>10+ years old</td>\n",
              "      <td>Not Mentioned</td>\n",
              "      <td>Not Mentioned</td>\n",
              "      <td>150000</td>\n",
              "    </tr>\n",
              "    <tr>\n",
              "      <th>10409</th>\n",
              "      <td>other society</td>\n",
              "      <td>Independent House/Villa</td>\n",
              "      <td>Sector 8 Airoli</td>\n",
              "      <td>1</td>\n",
              "      <td>150.0000</td>\n",
              "      <td>Unfurnished</td>\n",
              "      <td>1 to 5 years old</td>\n",
              "      <td>Not Mentioned</td>\n",
              "      <td>Not Mentioned</td>\n",
              "      <td>17000</td>\n",
              "    </tr>\n",
              "    <tr>\n",
              "      <th>10410</th>\n",
              "      <td>other society</td>\n",
              "      <td>Independent House/Villa</td>\n",
              "      <td>Sector 8 Airoli</td>\n",
              "      <td>2</td>\n",
              "      <td>500.0000</td>\n",
              "      <td>Unfurnished</td>\n",
              "      <td>5 to 10 years old</td>\n",
              "      <td>Not Mentioned</td>\n",
              "      <td>Not Mentioned</td>\n",
              "      <td>25000</td>\n",
              "    </tr>\n",
              "    <tr>\n",
              "      <th>10433</th>\n",
              "      <td>other society</td>\n",
              "      <td>Independent House/Villa</td>\n",
              "      <td>other location</td>\n",
              "      <td>2</td>\n",
              "      <td>1100.0000</td>\n",
              "      <td>Furnished</td>\n",
              "      <td>10+ years old</td>\n",
              "      <td>Not Mentioned</td>\n",
              "      <td>Not Mentioned</td>\n",
              "      <td>32500</td>\n",
              "    </tr>\n",
              "    <tr>\n",
              "      <th>10595</th>\n",
              "      <td>other society</td>\n",
              "      <td>Independent House/Villa</td>\n",
              "      <td>Chembur</td>\n",
              "      <td>4</td>\n",
              "      <td>2500.0000</td>\n",
              "      <td>Unfurnished</td>\n",
              "      <td>Not Mentioned</td>\n",
              "      <td>Not Mentioned</td>\n",
              "      <td>Not Mentioned</td>\n",
              "      <td>100000</td>\n",
              "    </tr>\n",
              "    <tr>\n",
              "      <th>10846</th>\n",
              "      <td>other society</td>\n",
              "      <td>Independent House/Villa</td>\n",
              "      <td>Chembur (East)</td>\n",
              "      <td>4</td>\n",
              "      <td>3000.0000</td>\n",
              "      <td>Furnished</td>\n",
              "      <td>10+ years old</td>\n",
              "      <td>Not Mentioned</td>\n",
              "      <td>Not Mentioned</td>\n",
              "      <td>110000</td>\n",
              "    </tr>\n",
              "    <tr>\n",
              "      <th>10847</th>\n",
              "      <td>Description :</td>\n",
              "      <td>Independent House/Villa</td>\n",
              "      <td>Sector-8 Charkop</td>\n",
              "      <td>1</td>\n",
              "      <td>300.0000</td>\n",
              "      <td>Not Mentioned</td>\n",
              "      <td>10+ years old</td>\n",
              "      <td>Not Mentioned</td>\n",
              "      <td>Not Mentioned</td>\n",
              "      <td>11000</td>\n",
              "    </tr>\n",
              "    <tr>\n",
              "      <th>11045</th>\n",
              "      <td>Description :</td>\n",
              "      <td>Independent House/Villa</td>\n",
              "      <td>other location</td>\n",
              "      <td>1</td>\n",
              "      <td>430.5560</td>\n",
              "      <td>Not Mentioned</td>\n",
              "      <td>1 to 5 years old</td>\n",
              "      <td>Not Mentioned</td>\n",
              "      <td>Not Mentioned</td>\n",
              "      <td>9000</td>\n",
              "    </tr>\n",
              "    <tr>\n",
              "      <th>11063</th>\n",
              "      <td>Description :</td>\n",
              "      <td>Independent House/Villa</td>\n",
              "      <td>other location</td>\n",
              "      <td>4</td>\n",
              "      <td>1076.3900</td>\n",
              "      <td>Not Mentioned</td>\n",
              "      <td>1 to 5 years old</td>\n",
              "      <td>Not Mentioned</td>\n",
              "      <td>Not Mentioned</td>\n",
              "      <td>55000</td>\n",
              "    </tr>\n",
              "    <tr>\n",
              "      <th>11373</th>\n",
              "      <td>other society</td>\n",
              "      <td>Independent House/Villa</td>\n",
              "      <td>Mira Road East</td>\n",
              "      <td>3</td>\n",
              "      <td>1850.0000</td>\n",
              "      <td>Semifurnished</td>\n",
              "      <td>1 to 5 years old</td>\n",
              "      <td>Not Mentioned</td>\n",
              "      <td>Not Mentioned</td>\n",
              "      <td>30000</td>\n",
              "    </tr>\n",
              "    <tr>\n",
              "      <th>11671</th>\n",
              "      <td>other society</td>\n",
              "      <td>Independent House/Villa</td>\n",
              "      <td>Juhu</td>\n",
              "      <td>4</td>\n",
              "      <td>4305.5600</td>\n",
              "      <td>Semifurnished</td>\n",
              "      <td>1 to 5 years old</td>\n",
              "      <td>Not Mentioned</td>\n",
              "      <td>Not Mentioned</td>\n",
              "      <td>399000</td>\n",
              "    </tr>\n",
              "    <tr>\n",
              "      <th>11864</th>\n",
              "      <td>other society</td>\n",
              "      <td>Independent House/Villa</td>\n",
              "      <td>Chembur (East)</td>\n",
              "      <td>4</td>\n",
              "      <td>4000.0000</td>\n",
              "      <td>Semifurnished</td>\n",
              "      <td>1 to 5 years old</td>\n",
              "      <td>Not Mentioned</td>\n",
              "      <td>Not Mentioned</td>\n",
              "      <td>125000</td>\n",
              "    </tr>\n",
              "    <tr>\n",
              "      <th>11888</th>\n",
              "      <td>other society</td>\n",
              "      <td>Independent House/Villa</td>\n",
              "      <td>other location</td>\n",
              "      <td>2</td>\n",
              "      <td>430.5560</td>\n",
              "      <td>Unfurnished</td>\n",
              "      <td>1 to 5 years old</td>\n",
              "      <td>Not Mentioned</td>\n",
              "      <td>Not Mentioned</td>\n",
              "      <td>21000</td>\n",
              "    </tr>\n",
              "    <tr>\n",
              "      <th>12033</th>\n",
              "      <td>On Request</td>\n",
              "      <td>Independent House/Villa</td>\n",
              "      <td>Sector-8 Charkop</td>\n",
              "      <td>1</td>\n",
              "      <td>400.0000</td>\n",
              "      <td>Unfurnished</td>\n",
              "      <td>10+ years old</td>\n",
              "      <td>Not Mentioned</td>\n",
              "      <td>Not Mentioned</td>\n",
              "      <td>13000</td>\n",
              "    </tr>\n",
              "    <tr>\n",
              "      <th>12142</th>\n",
              "      <td>other society</td>\n",
              "      <td>Independent House/Villa</td>\n",
              "      <td>other location</td>\n",
              "      <td>2</td>\n",
              "      <td>269.0975</td>\n",
              "      <td>Semifurnished</td>\n",
              "      <td>1 to 5 years old</td>\n",
              "      <td>Not Mentioned</td>\n",
              "      <td>Not Mentioned</td>\n",
              "      <td>16500</td>\n",
              "    </tr>\n",
              "    <tr>\n",
              "      <th>12469</th>\n",
              "      <td>Description :</td>\n",
              "      <td>Independent House/Villa</td>\n",
              "      <td>other location</td>\n",
              "      <td>2</td>\n",
              "      <td>900.0000</td>\n",
              "      <td>Not Mentioned</td>\n",
              "      <td>Not Mentioned</td>\n",
              "      <td>Not Mentioned</td>\n",
              "      <td>Not Mentioned</td>\n",
              "      <td>20000</td>\n",
              "    </tr>\n",
              "    <tr>\n",
              "      <th>13513</th>\n",
              "      <td>other society</td>\n",
              "      <td>Independent House/Villa</td>\n",
              "      <td>Hiranandani Gardens - Powai</td>\n",
              "      <td>5</td>\n",
              "      <td>2000.0000</td>\n",
              "      <td>Furnished</td>\n",
              "      <td>1 to 5 years old</td>\n",
              "      <td>Not Mentioned</td>\n",
              "      <td>Not Mentioned</td>\n",
              "      <td>80000</td>\n",
              "    </tr>\n",
              "  </tbody>\n",
              "</table>\n",
              "</div>"
            ],
            "text/plain": [
              "              society                     type  ...   total floors monthly rent\n",
              "1360       Union Park  Independent House/Villa  ...  Not Mentioned        44000\n",
              "1606    other society  Independent House/Villa  ...  Not Mentioned       250000\n",
              "1646    other society  Independent House/Villa  ...  Not Mentioned       310000\n",
              "1788    Description :  Independent House/Villa  ...  Not Mentioned       400000\n",
              "1901       On Request  Independent House/Villa  ...  Not Mentioned        10500\n",
              "2122       On Request  Independent House/Villa  ...  Not Mentioned       450000\n",
              "2124    other society  Independent House/Villa  ...  Not Mentioned         7500\n",
              "2175    other society  Independent House/Villa  ...  Not Mentioned       125000\n",
              "2340    other society  Independent House/Villa  ...  Not Mentioned        84000\n",
              "2377    Description :  Independent House/Villa  ...  Not Mentioned        25000\n",
              "2391       On Request  Independent House/Villa  ...  Not Mentioned       250000\n",
              "5638       On Request  Independent House/Villa  ...  Not Mentioned        75000\n",
              "5726    other society  Independent House/Villa  ...  Not Mentioned       100000\n",
              "5865    other society  Independent House/Villa  ...  Not Mentioned       125000\n",
              "5915    other society  Independent House/Villa  ...  Not Mentioned       110000\n",
              "6106    other society  Independent House/Villa  ...  Not Mentioned       100000\n",
              "6659    Description :  Independent House/Villa  ...  Not Mentioned        10000\n",
              "6934   Sindhi Society  Independent House/Villa  ...  Not Mentioned       110000\n",
              "6979    Description :  Independent House/Villa  ...  Not Mentioned       220000\n",
              "6987       On Request  Independent House/Villa  ...  Not Mentioned       550000\n",
              "7101    Description :  Independent House/Villa  ...  Not Mentioned       120000\n",
              "7574    other society  Independent House/Villa  ...  Not Mentioned        13000\n",
              "7702    other society  Independent House/Villa  ...  Not Mentioned       125000\n",
              "7883    other society  Independent House/Villa  ...  Not Mentioned       500000\n",
              "7928    Description :  Independent House/Villa  ...  Not Mentioned         4500\n",
              "7933    other society  Independent House/Villa  ...  Not Mentioned       550000\n",
              "7934    other society  Independent House/Villa  ...  Not Mentioned       550000\n",
              "7942    other society  Independent House/Villa  ...  Not Mentioned         7000\n",
              "8008       On Request  Independent House/Villa  ...  Not Mentioned       400000\n",
              "8153    other society  Independent House/Villa  ...  Not Mentioned       110000\n",
              "8428    other society  Independent House/Villa  ...  Not Mentioned         7000\n",
              "8762    Description :  Independent House/Villa  ...  Not Mentioned        50000\n",
              "8921    other society  Independent House/Villa  ...  Not Mentioned        13000\n",
              "9023    Description :  Independent House/Villa  ...  Not Mentioned        50000\n",
              "9430    other society  Independent House/Villa  ...  Not Mentioned        14000\n",
              "9715    other society  Independent House/Villa  ...  Not Mentioned        75000\n",
              "9736    other society  Independent House/Villa  ...  Not Mentioned       125000\n",
              "10049   Description :  Independent House/Villa  ...  Not Mentioned        85000\n",
              "10262   other society  Independent House/Villa  ...  Not Mentioned       120000\n",
              "10293   other society  Independent House/Villa  ...  Not Mentioned       150000\n",
              "10409   other society  Independent House/Villa  ...  Not Mentioned        17000\n",
              "10410   other society  Independent House/Villa  ...  Not Mentioned        25000\n",
              "10433   other society  Independent House/Villa  ...  Not Mentioned        32500\n",
              "10595   other society  Independent House/Villa  ...  Not Mentioned       100000\n",
              "10846   other society  Independent House/Villa  ...  Not Mentioned       110000\n",
              "10847   Description :  Independent House/Villa  ...  Not Mentioned        11000\n",
              "11045   Description :  Independent House/Villa  ...  Not Mentioned         9000\n",
              "11063   Description :  Independent House/Villa  ...  Not Mentioned        55000\n",
              "11373   other society  Independent House/Villa  ...  Not Mentioned        30000\n",
              "11671   other society  Independent House/Villa  ...  Not Mentioned       399000\n",
              "11864   other society  Independent House/Villa  ...  Not Mentioned       125000\n",
              "11888   other society  Independent House/Villa  ...  Not Mentioned        21000\n",
              "12033      On Request  Independent House/Villa  ...  Not Mentioned        13000\n",
              "12142   other society  Independent House/Villa  ...  Not Mentioned        16500\n",
              "12469   Description :  Independent House/Villa  ...  Not Mentioned        20000\n",
              "13513   other society  Independent House/Villa  ...  Not Mentioned        80000\n",
              "\n",
              "[56 rows x 10 columns]"
            ]
          },
          "metadata": {
            "tags": []
          },
          "execution_count": 138
        }
      ]
    },
    {
      "cell_type": "code",
      "metadata": {
        "id": "9cZ19T6Oev0A"
      },
      "source": [
        "type_index_list = df[df['type'] == 'Independent House/Villa'].index\n",
        "\n",
        "for i in type_index_list:\n",
        "    df['floor'][i] = 0\n",
        "    df['total floors'][i] = 0"
      ],
      "execution_count": 139,
      "outputs": []
    },
    {
      "cell_type": "markdown",
      "metadata": {
        "id": "XNUj91Weev0k"
      },
      "source": [
        "## Cleaning floor column"
      ]
    },
    {
      "cell_type": "code",
      "metadata": {
        "id": "UncbcwYGev0l",
        "colab": {
          "base_uri": "https://localhost:8080/"
        },
        "outputId": "999767e7-acf7-4848-f9fe-64418584224c"
      },
      "source": [
        "df['floor'].unique()"
      ],
      "execution_count": 141,
      "outputs": [
        {
          "output_type": "execute_result",
          "data": {
            "text/plain": [
              "array(['2nd', '8th', '14th', '40th', '4th', '3rd', '19th', '11th', '1st',\n",
              "       '6th', '5th', '12th', '20th', '10th', '7th', '16th', '13th',\n",
              "       'Ground', 'Not Mentioned', '24th', '34th', '25th', '9th', '33rd',\n",
              "       '35th', '18th', '15th', '21st', 'ried', '40+', '36th', '17th',\n",
              "       '30th', '38th', '22nd', 0, '27th', '28th', '26th', '23rd', '32nd',\n",
              "       '29th', '37th', '31st', '39th'], dtype=object)"
            ]
          },
          "metadata": {
            "tags": []
          },
          "execution_count": 141
        }
      ]
    },
    {
      "cell_type": "code",
      "metadata": {
        "id": "Caujy4pxev0n"
      },
      "source": [
        "df.replace({'floor': ['Ground','ried']}, 0, inplace =True)\n",
        "df.replace({'floor': '40+'},41, inplace =True)\n",
        "df.replace({'floor': 'Not Mentioned'}, np.NaN, inplace =True)\n",
        "df = df.replace({'floor': '[A-Za-z]'}, ' ', regex = True)\n",
        "df['floor'] = df['floor'].astype(str)\n",
        "df['floor'] = df['floor'].apply(lambda x: x.strip())\n",
        "df = df.dropna()"
      ],
      "execution_count": 142,
      "outputs": []
    },
    {
      "cell_type": "code",
      "metadata": {
        "colab": {
          "base_uri": "https://localhost:8080/"
        },
        "id": "woYl7q6NSWdg",
        "outputId": "4cae4f28-1536-45d4-e0ca-d5affba24c2a"
      },
      "source": [
        "df = df.drop(df[df['floor']=='nan'].index, axis=0)\r\n",
        "df['floor'].unique()"
      ],
      "execution_count": 146,
      "outputs": [
        {
          "output_type": "execute_result",
          "data": {
            "text/plain": [
              "array(['2', '8', '14', '40', '4', '3', '19', '11', '1', '6', '5', '12',\n",
              "       '20', '10', '7', '16', '13', '0', '24', '34', '25', '9', '33',\n",
              "       '35', '18', '15', '21', '41', '36', '17', '30', '38', '22', '27',\n",
              "       '28', '26', '23', '32', '29', '37', '31', '39'], dtype=object)"
            ]
          },
          "metadata": {
            "tags": []
          },
          "execution_count": 146
        }
      ]
    },
    {
      "cell_type": "code",
      "metadata": {
        "id": "95X0A7Urev04",
        "colab": {
          "base_uri": "https://localhost:8080/"
        },
        "outputId": "f2987403-780f-4c79-9293-6249fd1a101c"
      },
      "source": [
        "df['total floors'].unique()"
      ],
      "execution_count": 147,
      "outputs": [
        {
          "output_type": "execute_result",
          "data": {
            "text/plain": [
              "array(['6', '12', '17', '41', '7', '19', '30', '23', '24', '8', '18', '4',\n",
              "       '11', '14', '22', '10', '3', '39', '35', '20', '21', '40', '13',\n",
              "       '15', '32', '33', '36', '16', '5', '37', '38', '27', '9', '26',\n",
              "       '25', '28', 0, '34', '29', '59', '46', '31', '2', 'Not Mentioned',\n",
              "       '45', '48', '42', '1', '60', '55', '52', '58'], dtype=object)"
            ]
          },
          "metadata": {
            "tags": []
          },
          "execution_count": 147
        }
      ]
    },
    {
      "cell_type": "code",
      "metadata": {
        "id": "NG6mqivIev06",
        "colab": {
          "base_uri": "https://localhost:8080/"
        },
        "outputId": "c280a7d3-0ef8-44b1-caf8-aa5aec23ac1b"
      },
      "source": [
        "(df['total floors'] == 'Not Mentioned').sum()"
      ],
      "execution_count": 148,
      "outputs": [
        {
          "output_type": "execute_result",
          "data": {
            "text/plain": [
              "4"
            ]
          },
          "metadata": {
            "tags": []
          },
          "execution_count": 148
        }
      ]
    },
    {
      "cell_type": "code",
      "metadata": {
        "colab": {
          "base_uri": "https://localhost:8080/",
          "height": 173
        },
        "id": "UmOyGpVJRUfX",
        "outputId": "1530148c-48f8-4d9c-a881-84b7ea8b3178"
      },
      "source": [
        "df[df['total floors'] == 'Not Mentioned']"
      ],
      "execution_count": 149,
      "outputs": [
        {
          "output_type": "execute_result",
          "data": {
            "text/html": [
              "<div>\n",
              "<style scoped>\n",
              "    .dataframe tbody tr th:only-of-type {\n",
              "        vertical-align: middle;\n",
              "    }\n",
              "\n",
              "    .dataframe tbody tr th {\n",
              "        vertical-align: top;\n",
              "    }\n",
              "\n",
              "    .dataframe thead th {\n",
              "        text-align: right;\n",
              "    }\n",
              "</style>\n",
              "<table border=\"1\" class=\"dataframe\">\n",
              "  <thead>\n",
              "    <tr style=\"text-align: right;\">\n",
              "      <th></th>\n",
              "      <th>society</th>\n",
              "      <th>type</th>\n",
              "      <th>location</th>\n",
              "      <th>bedrooms</th>\n",
              "      <th>built-up area</th>\n",
              "      <th>furnishing</th>\n",
              "      <th>age</th>\n",
              "      <th>floor</th>\n",
              "      <th>total floors</th>\n",
              "      <th>monthly rent</th>\n",
              "    </tr>\n",
              "  </thead>\n",
              "  <tbody>\n",
              "    <tr>\n",
              "      <th>1946</th>\n",
              "      <td>other society</td>\n",
              "      <td>Residential Apartment</td>\n",
              "      <td>Bandra (West)</td>\n",
              "      <td>2</td>\n",
              "      <td>1200.0</td>\n",
              "      <td>Furnished</td>\n",
              "      <td>0 to 1 years old</td>\n",
              "      <td>3</td>\n",
              "      <td>Not Mentioned</td>\n",
              "      <td>90000</td>\n",
              "    </tr>\n",
              "    <tr>\n",
              "      <th>10130</th>\n",
              "      <td>Hilla Almeida Park</td>\n",
              "      <td>Residential Apartment</td>\n",
              "      <td>Bandra (West)</td>\n",
              "      <td>2</td>\n",
              "      <td>1200.0</td>\n",
              "      <td>Furnished</td>\n",
              "      <td>10+ years old</td>\n",
              "      <td>3</td>\n",
              "      <td>Not Mentioned</td>\n",
              "      <td>90000</td>\n",
              "    </tr>\n",
              "    <tr>\n",
              "      <th>10131</th>\n",
              "      <td>other society</td>\n",
              "      <td>Residential Apartment</td>\n",
              "      <td>Bandra (West)</td>\n",
              "      <td>2</td>\n",
              "      <td>1150.0</td>\n",
              "      <td>Furnished</td>\n",
              "      <td>10+ years old</td>\n",
              "      <td>4</td>\n",
              "      <td>Not Mentioned</td>\n",
              "      <td>85000</td>\n",
              "    </tr>\n",
              "    <tr>\n",
              "      <th>10187</th>\n",
              "      <td>other society</td>\n",
              "      <td>Residential Apartment</td>\n",
              "      <td>Bandra (West)</td>\n",
              "      <td>3</td>\n",
              "      <td>2000.0</td>\n",
              "      <td>Semifurnished</td>\n",
              "      <td>0 to 1 years old</td>\n",
              "      <td>5</td>\n",
              "      <td>Not Mentioned</td>\n",
              "      <td>120000</td>\n",
              "    </tr>\n",
              "  </tbody>\n",
              "</table>\n",
              "</div>"
            ],
            "text/plain": [
              "                  society                   type  ...   total floors monthly rent\n",
              "1946        other society  Residential Apartment  ...  Not Mentioned        90000\n",
              "10130  Hilla Almeida Park  Residential Apartment  ...  Not Mentioned        90000\n",
              "10131       other society  Residential Apartment  ...  Not Mentioned        85000\n",
              "10187       other society  Residential Apartment  ...  Not Mentioned       120000\n",
              "\n",
              "[4 rows x 10 columns]"
            ]
          },
          "metadata": {
            "tags": []
          },
          "execution_count": 149
        }
      ]
    },
    {
      "cell_type": "code",
      "metadata": {
        "id": "ZDJT3GBKev08"
      },
      "source": [
        "df.replace({'total floors': 'Not Mentioned'}, np.NaN, inplace = True)\r\n",
        "df = df.dropna()"
      ],
      "execution_count": 150,
      "outputs": []
    },
    {
      "cell_type": "code",
      "metadata": {
        "colab": {
          "base_uri": "https://localhost:8080/"
        },
        "id": "0hNMpd3WTn1U",
        "outputId": "777b0c59-32ae-4e82-b7a0-ffe33ae4ec26"
      },
      "source": [
        "df['total floors'].unique()"
      ],
      "execution_count": 152,
      "outputs": [
        {
          "output_type": "execute_result",
          "data": {
            "text/plain": [
              "array(['6', '12', '17', '41', '7', '19', '30', '23', '24', '8', '18', '4',\n",
              "       '11', '14', '22', '10', '3', '39', '35', '20', '21', '40', '13',\n",
              "       '15', '32', '33', '36', '16', '5', '37', '38', '27', '9', '26',\n",
              "       '25', '28', 0, '34', '29', '59', '46', '31', '2', '45', '48', '42',\n",
              "       '1', '60', '55', '52', '58'], dtype=object)"
            ]
          },
          "metadata": {
            "tags": []
          },
          "execution_count": 152
        }
      ]
    },
    {
      "cell_type": "markdown",
      "metadata": {
        "id": "pPsBV3jDev0_"
      },
      "source": [
        "## EDA of numerical datatypes"
      ]
    },
    {
      "cell_type": "code",
      "metadata": {
        "scrolled": true,
        "id": "-BveoJGIev09",
        "colab": {
          "base_uri": "https://localhost:8080/"
        },
        "outputId": "58414152-2dc2-401d-8c97-20742b25807f"
      },
      "source": [
        "df.info()"
      ],
      "execution_count": 153,
      "outputs": [
        {
          "output_type": "stream",
          "text": [
            "<class 'pandas.core.frame.DataFrame'>\n",
            "Int64Index: 13369 entries, 0 to 13539\n",
            "Data columns (total 10 columns):\n",
            " #   Column         Non-Null Count  Dtype  \n",
            "---  ------         --------------  -----  \n",
            " 0   society        13369 non-null  object \n",
            " 1   type           13369 non-null  object \n",
            " 2   location       13369 non-null  object \n",
            " 3   bedrooms       13369 non-null  object \n",
            " 4   built-up area  13369 non-null  float64\n",
            " 5   furnishing     13369 non-null  object \n",
            " 6   age            13369 non-null  object \n",
            " 7   floor          13369 non-null  object \n",
            " 8   total floors   13369 non-null  object \n",
            " 9   monthly rent   13369 non-null  int64  \n",
            "dtypes: float64(1), int64(1), object(8)\n",
            "memory usage: 1.1+ MB\n"
          ],
          "name": "stdout"
        }
      ]
    },
    {
      "cell_type": "code",
      "metadata": {
        "scrolled": true,
        "id": "cUcBw9Dnev1A"
      },
      "source": [
        "#At last convert all columns contains numerals into integer datatype\n",
        "df['bedrooms'] = df['bedrooms'].astype(int)\n",
        "df['floor'] = df['floor'].astype(int)\n",
        "df['total floors'] = df['total floors'].astype(int)"
      ],
      "execution_count": 154,
      "outputs": []
    },
    {
      "cell_type": "code",
      "metadata": {
        "id": "RLoH_iMsev1B",
        "colab": {
          "base_uri": "https://localhost:8080/",
          "height": 204
        },
        "outputId": "c6140aea-769d-4f6c-dc77-028dccd1304b"
      },
      "source": [
        "df.head()"
      ],
      "execution_count": 155,
      "outputs": [
        {
          "output_type": "execute_result",
          "data": {
            "text/html": [
              "<div>\n",
              "<style scoped>\n",
              "    .dataframe tbody tr th:only-of-type {\n",
              "        vertical-align: middle;\n",
              "    }\n",
              "\n",
              "    .dataframe tbody tr th {\n",
              "        vertical-align: top;\n",
              "    }\n",
              "\n",
              "    .dataframe thead th {\n",
              "        text-align: right;\n",
              "    }\n",
              "</style>\n",
              "<table border=\"1\" class=\"dataframe\">\n",
              "  <thead>\n",
              "    <tr style=\"text-align: right;\">\n",
              "      <th></th>\n",
              "      <th>society</th>\n",
              "      <th>type</th>\n",
              "      <th>location</th>\n",
              "      <th>bedrooms</th>\n",
              "      <th>built-up area</th>\n",
              "      <th>furnishing</th>\n",
              "      <th>age</th>\n",
              "      <th>floor</th>\n",
              "      <th>total floors</th>\n",
              "      <th>monthly rent</th>\n",
              "    </tr>\n",
              "  </thead>\n",
              "  <tbody>\n",
              "    <tr>\n",
              "      <th>0</th>\n",
              "      <td>other society</td>\n",
              "      <td>Residential Apartment</td>\n",
              "      <td>Bandra (West)</td>\n",
              "      <td>2</td>\n",
              "      <td>800.0</td>\n",
              "      <td>Furnished</td>\n",
              "      <td>5 to 10 years old</td>\n",
              "      <td>2</td>\n",
              "      <td>6</td>\n",
              "      <td>85000</td>\n",
              "    </tr>\n",
              "    <tr>\n",
              "      <th>1</th>\n",
              "      <td>other society</td>\n",
              "      <td>Residential Apartment</td>\n",
              "      <td>Khar West</td>\n",
              "      <td>2</td>\n",
              "      <td>1050.0</td>\n",
              "      <td>Furnished</td>\n",
              "      <td>1 to 5 years old</td>\n",
              "      <td>8</td>\n",
              "      <td>12</td>\n",
              "      <td>110000</td>\n",
              "    </tr>\n",
              "    <tr>\n",
              "      <th>2</th>\n",
              "      <td>Gajra Bhoomi Symphony</td>\n",
              "      <td>Residential Apartment</td>\n",
              "      <td>Sector-20 Koparkhairane</td>\n",
              "      <td>2</td>\n",
              "      <td>1050.0</td>\n",
              "      <td>Unfurnished</td>\n",
              "      <td>1 to 5 years old</td>\n",
              "      <td>14</td>\n",
              "      <td>17</td>\n",
              "      <td>32000</td>\n",
              "    </tr>\n",
              "    <tr>\n",
              "      <th>3</th>\n",
              "      <td>Crescent Bay</td>\n",
              "      <td>Residential Apartment</td>\n",
              "      <td>Parel</td>\n",
              "      <td>3</td>\n",
              "      <td>2275.0</td>\n",
              "      <td>Semifurnished</td>\n",
              "      <td>1 to 5 years old</td>\n",
              "      <td>40</td>\n",
              "      <td>41</td>\n",
              "      <td>150000</td>\n",
              "    </tr>\n",
              "    <tr>\n",
              "      <th>4</th>\n",
              "      <td>Ashwini CHS</td>\n",
              "      <td>Residential Apartment</td>\n",
              "      <td>Tilak Nagar</td>\n",
              "      <td>1</td>\n",
              "      <td>550.0</td>\n",
              "      <td>Semifurnished</td>\n",
              "      <td>5 to 10 years old</td>\n",
              "      <td>4</td>\n",
              "      <td>7</td>\n",
              "      <td>27000</td>\n",
              "    </tr>\n",
              "  </tbody>\n",
              "</table>\n",
              "</div>"
            ],
            "text/plain": [
              "                 society                   type  ... total floors  monthly rent\n",
              "0          other society  Residential Apartment  ...            6         85000\n",
              "1          other society  Residential Apartment  ...           12        110000\n",
              "2  Gajra Bhoomi Symphony  Residential Apartment  ...           17         32000\n",
              "3           Crescent Bay  Residential Apartment  ...           41        150000\n",
              "4            Ashwini CHS  Residential Apartment  ...            7         27000\n",
              "\n",
              "[5 rows x 10 columns]"
            ]
          },
          "metadata": {
            "tags": []
          },
          "execution_count": 155
        }
      ]
    },
    {
      "cell_type": "code",
      "metadata": {
        "id": "s6QS_bkuUawa"
      },
      "source": [
        "def plot_num(df, columns):\r\n",
        "  data = df\r\n",
        "\r\n",
        "  for column in columns:\r\n",
        "      plt.figure(figsize=(16,4))\r\n",
        "\r\n",
        "      plt.subplot(1,3,1)\r\n",
        "      sns.histplot(data[column], kde=True)\r\n",
        "      plt.ticklabel_format(style='plain')\r\n",
        "      plt.title(f'{column}  Distribution')\r\n",
        "\r\n",
        "      plt.subplot(1,3,2)\r\n",
        "      sns.boxplot(y = data[column], showmeans=True)\r\n",
        "      plt.title(f'{column}  Distribution')\r\n",
        "\r\n",
        "      plt.subplot(1,3,3)\r\n",
        "      counts, bins = np.histogram(data[column])\r\n",
        "      cdf = np.cumsum (counts)\r\n",
        "      plt.plot (bins[1:], cdf/cdf[-1])\r\n",
        "      plt.yticks(np.arange(0,1.05,.05))\r\n",
        "      plt.title(f'{column}  cdf')\r\n",
        "      plt.show()"
      ],
      "execution_count": null,
      "outputs": []
    },
    {
      "cell_type": "code",
      "metadata": {
        "id": "EN3S1CZIci1G"
      },
      "source": [
        "int_columns = data.columns[data.dtypes!='object']\r\n",
        "plot_num(df,int_columns)"
      ],
      "execution_count": null,
      "outputs": []
    },
    {
      "cell_type": "code",
      "metadata": {
        "colab": {
          "base_uri": "https://localhost:8080/"
        },
        "id": "F-5oH12ZYFJt",
        "outputId": "5c153126-0420-4bbc-c341-6fd8536e08a3"
      },
      "source": [
        "# Quantiles\r\n",
        "for column in int_columns:\r\n",
        "    print(f'For {column}:')\r\n",
        "\r\n",
        "    print('3º Quartile:', df[column].quantile(q = 0.75))\r\n",
        "    print('95 Quantile:', df[column].quantile(q = 0.95))\r\n",
        "    print('Max:', df[column].quantile(q = 1.00),'\\n')"
      ],
      "execution_count": 185,
      "outputs": [
        {
          "output_type": "stream",
          "text": [
            "For bedrooms:\n",
            "3º Quartile: 3.0\n",
            "95 Quantile: 4.0\n",
            "Max: 9.0 \n",
            "\n",
            "For built-up area:\n",
            "3º Quartile: 1450.0\n",
            "95 Quantile: 2400.0\n",
            "Max: 41548.654 \n",
            "\n",
            "For floor:\n",
            "3º Quartile: 12.0\n",
            "95 Quantile: 24.0\n",
            "Max: 41.0 \n",
            "\n",
            "For total floors:\n",
            "3º Quartile: 23.0\n",
            "95 Quantile: 41.0\n",
            "Max: 60.0 \n",
            "\n",
            "For monthly rent:\n",
            "3º Quartile: 70000.0\n",
            "95 Quantile: 180000.0\n",
            "Max: 1490000.0 \n",
            "\n"
          ],
          "name": "stdout"
        }
      ]
    },
    {
      "cell_type": "code",
      "metadata": {
        "id": "25V7YOOnXK-K"
      },
      "source": [
        "df['bedrooms'] = df['bedrooms'].apply(lambda x: x if x<5 else 5)\r\n",
        "df['total floors'] = df['total floors'].apply(lambda x: x if x<41 else 41)"
      ],
      "execution_count": 203,
      "outputs": []
    },
    {
      "cell_type": "code",
      "metadata": {
        "colab": {
          "base_uri": "https://localhost:8080/"
        },
        "id": "p0FWLXRxbozh",
        "outputId": "c9ee0696-e77e-4a08-f9cd-0db1da4c6bd6"
      },
      "source": [
        "df['built-up area'].quantile(q = 0.99)"
      ],
      "execution_count": 191,
      "outputs": [
        {
          "output_type": "execute_result",
          "data": {
            "text/plain": [
              "3500.0"
            ]
          },
          "metadata": {
            "tags": []
          },
          "execution_count": 191
        }
      ]
    },
    {
      "cell_type": "code",
      "metadata": {
        "id": "Emu4-B9XbvJV"
      },
      "source": [
        "df.drop(df[df['built-up area']>3500].index, axis=0, inplace=True)"
      ],
      "execution_count": 195,
      "outputs": []
    },
    {
      "cell_type": "code",
      "metadata": {
        "id": "0z9lQfm6cUu_"
      },
      "source": [
        "int_columns = data.columns[data.dtypes!='object']\r\n",
        "plot_num(df, int_columns)"
      ],
      "execution_count": null,
      "outputs": []
    },
    {
      "cell_type": "code",
      "metadata": {
        "colab": {
          "base_uri": "https://localhost:8080/",
          "height": 992
        },
        "id": "9doiGsejgzEp",
        "outputId": "0980a4a7-7693-4cf4-d178-01836cc3f96e"
      },
      "source": [
        "plot_num(df, ['monthly rent',])"
      ],
      "execution_count": 222,
      "outputs": [
        {
          "output_type": "error",
          "ename": "AttributeError",
          "evalue": "ignored",
          "traceback": [
            "\u001b[0;31m---------------------------------------------------------------------------\u001b[0m",
            "\u001b[0;31mAttributeError\u001b[0m                            Traceback (most recent call last)",
            "\u001b[0;32m/usr/local/lib/python3.6/dist-packages/matplotlib/axes/_base.py\u001b[0m in \u001b[0;36mticklabel_format\u001b[0;34m(self, axis, style, scilimits, useOffset, useLocale, useMathText)\u001b[0m\n\u001b[1;32m   2829\u001b[0m                 \u001b[0;32mif\u001b[0m \u001b[0mis_sci_style\u001b[0m \u001b[0;32mis\u001b[0m \u001b[0;32mnot\u001b[0m \u001b[0;32mNone\u001b[0m\u001b[0;34m:\u001b[0m\u001b[0;34m\u001b[0m\u001b[0;34m\u001b[0m\u001b[0m\n\u001b[0;32m-> 2830\u001b[0;31m                     \u001b[0maxis\u001b[0m\u001b[0;34m.\u001b[0m\u001b[0mmajor\u001b[0m\u001b[0;34m.\u001b[0m\u001b[0mformatter\u001b[0m\u001b[0;34m.\u001b[0m\u001b[0mset_scientific\u001b[0m\u001b[0;34m(\u001b[0m\u001b[0mis_sci_style\u001b[0m\u001b[0;34m)\u001b[0m\u001b[0;34m\u001b[0m\u001b[0;34m\u001b[0m\u001b[0m\n\u001b[0m\u001b[1;32m   2831\u001b[0m                 \u001b[0;32mif\u001b[0m \u001b[0mscilimits\u001b[0m \u001b[0;32mis\u001b[0m \u001b[0;32mnot\u001b[0m \u001b[0;32mNone\u001b[0m\u001b[0;34m:\u001b[0m\u001b[0;34m\u001b[0m\u001b[0;34m\u001b[0m\u001b[0m\n",
            "\u001b[0;31mAttributeError\u001b[0m: 'FixedFormatter' object has no attribute 'set_scientific'",
            "\nDuring handling of the above exception, another exception occurred:\n",
            "\u001b[0;31mAttributeError\u001b[0m                            Traceback (most recent call last)",
            "\u001b[0;32m<ipython-input-222-925fd652978a>\u001b[0m in \u001b[0;36m<module>\u001b[0;34m()\u001b[0m\n\u001b[0;32m----> 1\u001b[0;31m \u001b[0mplot_num\u001b[0m\u001b[0;34m(\u001b[0m\u001b[0mdf\u001b[0m\u001b[0;34m,\u001b[0m \u001b[0;34m[\u001b[0m\u001b[0;34m'monthly rent'\u001b[0m\u001b[0;34m]\u001b[0m\u001b[0;34m)\u001b[0m\u001b[0;34m\u001b[0m\u001b[0;34m\u001b[0m\u001b[0m\n\u001b[0m",
            "\u001b[0;32m<ipython-input-220-1a684b042a07>\u001b[0m in \u001b[0;36mplot_num\u001b[0;34m(df, columns)\u001b[0m\n\u001b[1;32m     12\u001b[0m       \u001b[0mplt\u001b[0m\u001b[0;34m.\u001b[0m\u001b[0msubplot\u001b[0m\u001b[0;34m(\u001b[0m\u001b[0;36m1\u001b[0m\u001b[0;34m,\u001b[0m\u001b[0;36m3\u001b[0m\u001b[0;34m,\u001b[0m\u001b[0;36m2\u001b[0m\u001b[0;34m)\u001b[0m\u001b[0;34m\u001b[0m\u001b[0;34m\u001b[0m\u001b[0m\n\u001b[1;32m     13\u001b[0m       \u001b[0msns\u001b[0m\u001b[0;34m.\u001b[0m\u001b[0mboxplot\u001b[0m\u001b[0;34m(\u001b[0m\u001b[0my\u001b[0m \u001b[0;34m=\u001b[0m \u001b[0mdata\u001b[0m\u001b[0;34m[\u001b[0m\u001b[0mcolumn\u001b[0m\u001b[0;34m]\u001b[0m\u001b[0;34m,\u001b[0m \u001b[0mshowmeans\u001b[0m\u001b[0;34m=\u001b[0m\u001b[0;32mTrue\u001b[0m\u001b[0;34m)\u001b[0m\u001b[0;34m\u001b[0m\u001b[0;34m\u001b[0m\u001b[0m\n\u001b[0;32m---> 14\u001b[0;31m       \u001b[0mplt\u001b[0m\u001b[0;34m.\u001b[0m\u001b[0mticklabel_format\u001b[0m\u001b[0;34m(\u001b[0m\u001b[0mstyle\u001b[0m\u001b[0;34m=\u001b[0m\u001b[0;34m'plain'\u001b[0m\u001b[0;34m)\u001b[0m\u001b[0;34m\u001b[0m\u001b[0;34m\u001b[0m\u001b[0m\n\u001b[0m\u001b[1;32m     15\u001b[0m       \u001b[0mplt\u001b[0m\u001b[0;34m.\u001b[0m\u001b[0mtitle\u001b[0m\u001b[0;34m(\u001b[0m\u001b[0;34mf'{column}  Distribution'\u001b[0m\u001b[0;34m)\u001b[0m\u001b[0;34m\u001b[0m\u001b[0;34m\u001b[0m\u001b[0m\n\u001b[1;32m     16\u001b[0m \u001b[0;34m\u001b[0m\u001b[0m\n",
            "\u001b[0;32m/usr/local/lib/python3.6/dist-packages/matplotlib/pyplot.py\u001b[0m in \u001b[0;36mticklabel_format\u001b[0;34m(axis, style, scilimits, useOffset, useLocale, useMathText)\u001b[0m\n\u001b[1;32m   2947\u001b[0m         \u001b[0maxis\u001b[0m\u001b[0;34m=\u001b[0m\u001b[0maxis\u001b[0m\u001b[0;34m,\u001b[0m \u001b[0mstyle\u001b[0m\u001b[0;34m=\u001b[0m\u001b[0mstyle\u001b[0m\u001b[0;34m,\u001b[0m \u001b[0mscilimits\u001b[0m\u001b[0;34m=\u001b[0m\u001b[0mscilimits\u001b[0m\u001b[0;34m,\u001b[0m\u001b[0;34m\u001b[0m\u001b[0;34m\u001b[0m\u001b[0m\n\u001b[1;32m   2948\u001b[0m         \u001b[0museOffset\u001b[0m\u001b[0;34m=\u001b[0m\u001b[0museOffset\u001b[0m\u001b[0;34m,\u001b[0m \u001b[0museLocale\u001b[0m\u001b[0;34m=\u001b[0m\u001b[0museLocale\u001b[0m\u001b[0;34m,\u001b[0m\u001b[0;34m\u001b[0m\u001b[0;34m\u001b[0m\u001b[0m\n\u001b[0;32m-> 2949\u001b[0;31m         useMathText=useMathText)\n\u001b[0m\u001b[1;32m   2950\u001b[0m \u001b[0;34m\u001b[0m\u001b[0m\n\u001b[1;32m   2951\u001b[0m \u001b[0;34m\u001b[0m\u001b[0m\n",
            "\u001b[0;32m/usr/local/lib/python3.6/dist-packages/matplotlib/axes/_base.py\u001b[0m in \u001b[0;36mticklabel_format\u001b[0;34m(self, axis, style, scilimits, useOffset, useLocale, useMathText)\u001b[0m\n\u001b[1;32m   2839\u001b[0m         \u001b[0;32mexcept\u001b[0m \u001b[0mAttributeError\u001b[0m\u001b[0;34m:\u001b[0m\u001b[0;34m\u001b[0m\u001b[0;34m\u001b[0m\u001b[0m\n\u001b[1;32m   2840\u001b[0m             raise AttributeError(\n\u001b[0;32m-> 2841\u001b[0;31m                 \"This method only works with the ScalarFormatter\")\n\u001b[0m\u001b[1;32m   2842\u001b[0m \u001b[0;34m\u001b[0m\u001b[0m\n\u001b[1;32m   2843\u001b[0m     \u001b[0;32mdef\u001b[0m \u001b[0mlocator_params\u001b[0m\u001b[0;34m(\u001b[0m\u001b[0mself\u001b[0m\u001b[0;34m,\u001b[0m \u001b[0maxis\u001b[0m\u001b[0;34m=\u001b[0m\u001b[0;34m'both'\u001b[0m\u001b[0;34m,\u001b[0m \u001b[0mtight\u001b[0m\u001b[0;34m=\u001b[0m\u001b[0;32mNone\u001b[0m\u001b[0;34m,\u001b[0m \u001b[0;34m**\u001b[0m\u001b[0mkwargs\u001b[0m\u001b[0;34m)\u001b[0m\u001b[0;34m:\u001b[0m\u001b[0;34m\u001b[0m\u001b[0;34m\u001b[0m\u001b[0m\n",
            "\u001b[0;31mAttributeError\u001b[0m: This method only works with the ScalarFormatter"
          ]
        },
        {
          "output_type": "display_data",
          "data": {
            "image/png": "[encoded data removed]",
            "text/plain": [
              "<Figure size 1152x288 with 2 Axes>"
            ]
          },
          "metadata": {
            "tags": [],
            "needs_background": "light"
          }
        }
      ]
    },
    {
      "cell_type": "code",
      "metadata": {
        "colab": {
          "base_uri": "https://localhost:8080/",
          "height": 308
        },
        "id": "l2La0uuUeTz2",
        "outputId": "bf314fd1-3c9f-4ad8-dc3a-0ff6e9fba9c3"
      },
      "source": [
        "sns.histplot(df['monthly rent'], kde=True)\r\n",
        "plt.ticklabel_format(style='plain')\r\n",
        "plt.xticks(rotation=45)\r\n",
        "plt.show()"
      ],
      "execution_count": 216,
      "outputs": [
        {
          "output_type": "display_data",
          "data": {
            "image/png": "[encoded data removed]",
            "text/plain": [
              "<Figure size 432x288 with 1 Axes>"
            ]
          },
          "metadata": {
            "tags": [],
            "needs_background": "light"
          }
        }
      ]
    },
    {
      "cell_type": "code",
      "metadata": {
        "colab": {
          "base_uri": "https://localhost:8080/"
        },
        "id": "ak6xkNJ-d-gU",
        "outputId": "05d92666-e020-428a-ae6e-d450adec20d3"
      },
      "source": [
        "print('95th', df['monthly rent'].quantile(q = 0.95))\r\n",
        "print('99th', df['monthly rent'].quantile(q = 0.99))"
      ],
      "execution_count": 207,
      "outputs": [
        {
          "output_type": "stream",
          "text": [
            "95th 160000.0\n",
            "99th 300000.0\n"
          ],
          "name": "stdout"
        }
      ]
    },
    {
      "cell_type": "markdown",
      "metadata": {
        "id": "S84cNk5mev1G"
      },
      "source": [
        "## Finally Cleaned "
      ]
    },
    {
      "cell_type": "markdown",
      "metadata": {
        "id": "1sYzwnESev1G"
      },
      "source": [
        " "
      ]
    },
    {
      "cell_type": "markdown",
      "metadata": {
        "id": "Km9IujS8ev1G"
      },
      "source": [
        "<a id ='s3'></a>\n",
        "# <font color = Blue> 3. Data Visualization and Removing Outliers/Exceptions. </font>\n",
        "<a href = '#top'>Back on Top </a>\n",
        "\n",
        "- Trying to look what Data all features contain are How they are `Related` with montly rent."
      ]
    },
    {
      "cell_type": "code",
      "metadata": {
        "id": "Q17RDLaEev1H"
      },
      "source": [
        "data9.describe()"
      ],
      "execution_count": null,
      "outputs": []
    },
    {
      "cell_type": "code",
      "metadata": {
        "id": "g3v7gRsuev1M"
      },
      "source": [
        "data9.corr()['monthly rent']"
      ],
      "execution_count": null,
      "outputs": []
    },
    {
      "cell_type": "code",
      "metadata": {
        "id": "ftXu13WAev1O"
      },
      "source": [
        "plt.scatter(data9['bedrooms'],data9['monthly rent'])\n",
        "plt.xlabel('bedrooms')\n",
        "plt.ylabel('monthly rent')\n",
        "plt.show()"
      ],
      "execution_count": null,
      "outputs": []
    },
    {
      "cell_type": "markdown",
      "metadata": {
        "id": "AKb40q3cev1R"
      },
      "source": [
        " "
      ]
    },
    {
      "cell_type": "markdown",
      "metadata": {
        "id": "h1qqzlQNev1R"
      },
      "source": [
        "## Removing Outliers which seems to be unreal."
      ]
    },
    {
      "cell_type": "code",
      "metadata": {
        "id": "1gxRjkeRev1R"
      },
      "source": [
        "data9[(data9['monthly rent'] > 900000)]"
      ],
      "execution_count": null,
      "outputs": []
    },
    {
      "cell_type": "code",
      "metadata": {
        "id": "tvkFp5yGev1T"
      },
      "source": [
        "data9.drop([1381, 1529, 8176, 10335], inplace = True)"
      ],
      "execution_count": null,
      "outputs": []
    },
    {
      "cell_type": "code",
      "metadata": {
        "id": "3zLvwdWPev1V"
      },
      "source": [
        "data9[(data9['monthly rent'] > 900000)]"
      ],
      "execution_count": null,
      "outputs": []
    },
    {
      "cell_type": "code",
      "metadata": {
        "id": "uMOZiW8Lev1X"
      },
      "source": [
        "plt.scatter(data9['bedrooms'],data9['monthly rent'])\n",
        "plt.xlabel('bedrooms')\n",
        "plt.ylabel('monthly rent')\n",
        "plt.show()"
      ],
      "execution_count": null,
      "outputs": []
    },
    {
      "cell_type": "code",
      "metadata": {
        "id": "oi-g78bTev1Z"
      },
      "source": [
        "plt.hist(data9['bedrooms'], rwidth = .8)\n",
        "plt.xlabel('bedrooms')\n",
        "plt.ylabel('monthly rent')\n",
        "plt.show()"
      ],
      "execution_count": null,
      "outputs": []
    },
    {
      "cell_type": "code",
      "metadata": {
        "scrolled": false,
        "id": "dezyle2Qev1b"
      },
      "source": [
        "plt.scatter(data9['built-up area'], data9['monthly rent'])\n",
        "plt.xlabel('built up area')\n",
        "plt.ylabel('monthly rent')\n",
        "plt.show()"
      ],
      "execution_count": null,
      "outputs": []
    },
    {
      "cell_type": "markdown",
      "metadata": {
        "id": "KrUru3XDev1c"
      },
      "source": [
        " "
      ]
    },
    {
      "cell_type": "markdown",
      "metadata": {
        "id": "iHHqdCkSev1c"
      },
      "source": [
        "## Removing Outliers which seems to be unreal."
      ]
    },
    {
      "cell_type": "code",
      "metadata": {
        "id": "AsqObss1ev1d"
      },
      "source": [
        "built_area_outlier_index = data9[data9['built-up area']>10000].index\n",
        "built_area_outlier_index"
      ],
      "execution_count": null,
      "outputs": []
    },
    {
      "cell_type": "code",
      "metadata": {
        "id": "K9xAoEipev1e"
      },
      "source": [
        "data9.loc[built_area_outlier_index,:]"
      ],
      "execution_count": null,
      "outputs": []
    },
    {
      "cell_type": "code",
      "metadata": {
        "id": "AkC2mbk6ev1g"
      },
      "source": [
        "data10 = data9.drop(built_area_outlier_index)"
      ],
      "execution_count": null,
      "outputs": []
    },
    {
      "cell_type": "code",
      "metadata": {
        "id": "GGWQWj7cev1h"
      },
      "source": [
        "rent_outlier_index = data10[data10['monthly rent'] >= 1000000].index\n",
        "rent_outlier_index"
      ],
      "execution_count": null,
      "outputs": []
    },
    {
      "cell_type": "code",
      "metadata": {
        "id": "KbG8DVDpev1i"
      },
      "source": [
        "data10.loc[rent_outlier_index,:]"
      ],
      "execution_count": null,
      "outputs": []
    },
    {
      "cell_type": "code",
      "metadata": {
        "id": "y_LSFl3Sev1k"
      },
      "source": [
        "data11 = data10.drop(rent_outlier_index)"
      ],
      "execution_count": null,
      "outputs": []
    },
    {
      "cell_type": "code",
      "metadata": {
        "id": "mB81MH4Fev1m"
      },
      "source": [
        "plt.scatter(data11['built-up area'], data11['monthly rent'])\n",
        "plt.xlabel('built up area')\n",
        "plt.ylabel('monthly rent')\n",
        "plt.show()"
      ],
      "execution_count": null,
      "outputs": []
    },
    {
      "cell_type": "code",
      "metadata": {
        "id": "_8QToBzEev1n"
      },
      "source": [
        "data11.corr()['monthly rent']"
      ],
      "execution_count": null,
      "outputs": []
    },
    {
      "cell_type": "code",
      "metadata": {
        "id": "Nv1zevgFev1r"
      },
      "source": [
        "fig, ax = plt.subplots(1,2, figsize = (10,5))\n",
        "ax[0].boxplot(data11['built-up area'])\n",
        "ax[0].set_title('built up area')\n",
        "ax[1].boxplot(data11['monthly rent'])\n",
        "ax[1].set_title('monthly rent')\n",
        "plt.show()"
      ],
      "execution_count": null,
      "outputs": []
    },
    {
      "cell_type": "code",
      "metadata": {
        "id": "kobQ9x_Lev1s"
      },
      "source": [
        "plt.scatter(data11['floor'], data11['monthly rent'])\n",
        "plt.xlabel('floor')\n",
        "plt.ylabel('monthly rent')\n",
        "plt.show()"
      ],
      "execution_count": null,
      "outputs": []
    },
    {
      "cell_type": "code",
      "metadata": {
        "id": "mT1uTuvHev1u"
      },
      "source": [
        "plt.hist(data11['floor'] ,rwidth = .8)\n",
        "plt.title('floor')\n",
        "plt.show()"
      ],
      "execution_count": null,
      "outputs": []
    },
    {
      "cell_type": "code",
      "metadata": {
        "id": "s0vzK3VFev1w"
      },
      "source": [
        "plt.scatter(data11['total floors'], data11['monthly rent'])\n",
        "plt.xlabel('total floor')\n",
        "plt.ylabel('monthly rent')\n",
        "plt.show()"
      ],
      "execution_count": null,
      "outputs": []
    },
    {
      "cell_type": "code",
      "metadata": {
        "scrolled": true,
        "id": "DTWBSJrQev1x"
      },
      "source": [
        "plt.hist(data11['total floors'] ,rwidth = .8)\n",
        "plt.title('total floors')\n",
        "plt.show()"
      ],
      "execution_count": null,
      "outputs": []
    },
    {
      "cell_type": "code",
      "metadata": {
        "id": "AbwCkHCHev10"
      },
      "source": [
        "data11.head()"
      ],
      "execution_count": null,
      "outputs": []
    },
    {
      "cell_type": "code",
      "metadata": {
        "id": "XJnjwjBuev12"
      },
      "source": [
        "data11.describe()"
      ],
      "execution_count": null,
      "outputs": []
    },
    {
      "cell_type": "markdown",
      "metadata": {
        "id": "zHQRln6Tev13"
      },
      "source": [
        " "
      ]
    },
    {
      "cell_type": "markdown",
      "metadata": {
        "id": "v0Gzs1-rev14"
      },
      "source": [
        " ## Exporting Cleaned Data locally."
      ]
    },
    {
      "cell_type": "code",
      "metadata": {
        "id": "I-AE3hQ1ev14"
      },
      "source": [
        "data11.to_csv('mumbai_rent_cleaned_data.csv', index = False)"
      ],
      "execution_count": null,
      "outputs": []
    },
    {
      "cell_type": "markdown",
      "metadata": {
        "id": "kWMJG3gSev15"
      },
      "source": [
        " "
      ]
    },
    {
      "cell_type": "markdown",
      "metadata": {
        "id": "ohjh887dev15"
      },
      "source": [
        "<a id = 's4'></a>\n",
        "# <font color = Blue> 4. OneHotEncoding Text features. </font> \n",
        "<a href = '#top'>Back on Top</a>"
      ]
    },
    {
      "cell_type": "code",
      "metadata": {
        "id": "46fsXgRKev16"
      },
      "source": [
        "society_dummies = pd.get_dummies(data11['society'])\n",
        "society_dummies.drop('other society', axis =1, inplace = True)"
      ],
      "execution_count": null,
      "outputs": []
    },
    {
      "cell_type": "code",
      "metadata": {
        "id": "Vhy_hRqoev17"
      },
      "source": [
        "type_dummies = pd.get_dummies(data11['type'])\n",
        "type_dummies.head()"
      ],
      "execution_count": null,
      "outputs": []
    },
    {
      "cell_type": "code",
      "metadata": {
        "id": "WYis0Ks7ev19"
      },
      "source": [
        "type_dummies.drop('Independent House/Villa', axis =1, inplace = True)"
      ],
      "execution_count": null,
      "outputs": []
    },
    {
      "cell_type": "code",
      "metadata": {
        "id": "s8jRlgI1ev2A"
      },
      "source": [
        "location_dummies = pd.get_dummies(data11['location'])\n",
        "location_dummies.drop('other location', axis =1, inplace = True)"
      ],
      "execution_count": null,
      "outputs": []
    },
    {
      "cell_type": "code",
      "metadata": {
        "id": "XJfEG1_aev2B"
      },
      "source": [
        "furnishing_dummies = pd.get_dummies(data11['furnishing'])\n",
        "furnishing_dummies.head()"
      ],
      "execution_count": null,
      "outputs": []
    },
    {
      "cell_type": "code",
      "metadata": {
        "id": "RGCpd2beev2C"
      },
      "source": [
        "furnishing_dummies.drop('Unfurnished', axis =1, inplace = True)"
      ],
      "execution_count": null,
      "outputs": []
    },
    {
      "cell_type": "code",
      "metadata": {
        "id": "OXIGcaftev2E"
      },
      "source": [
        "age_dummies = pd.get_dummies(data11['age'])\n",
        "age_dummies.head()"
      ],
      "execution_count": null,
      "outputs": []
    },
    {
      "cell_type": "code",
      "metadata": {
        "id": "8ODSxJxQev2F"
      },
      "source": [
        "age_dummies.drop('0 to 1 years old', axis =1, inplace = True)"
      ],
      "execution_count": null,
      "outputs": []
    },
    {
      "cell_type": "code",
      "metadata": {
        "scrolled": true,
        "id": "gZhSPk6Nev2H"
      },
      "source": [
        "data11.head(3)"
      ],
      "execution_count": null,
      "outputs": []
    },
    {
      "cell_type": "code",
      "metadata": {
        "id": "3fhNkUsxev2I"
      },
      "source": [
        "final_data = pd.concat([data11.drop(['society','type','location','furnishing','age'], axis =1),\n",
        "                        society_dummies, type_dummies, location_dummies, furnishing_dummies, age_dummies], axis = 'columns')"
      ],
      "execution_count": null,
      "outputs": []
    },
    {
      "cell_type": "code",
      "metadata": {
        "scrolled": true,
        "id": "RbJrPcp1ev2J"
      },
      "source": [
        "final_data.head()"
      ],
      "execution_count": null,
      "outputs": []
    },
    {
      "cell_type": "markdown",
      "metadata": {
        "id": "Z5ouLam8ev2L"
      },
      "source": [
        " "
      ]
    },
    {
      "cell_type": "markdown",
      "metadata": {
        "id": "pM0Vd-elev2L"
      },
      "source": [
        "<a id = 's5'></a>\n",
        "# <font color = Blue> 5. Machine Learning Model Building. </font>\n",
        "<a href = '#top'>Back on Top</a>"
      ]
    },
    {
      "cell_type": "markdown",
      "metadata": {
        "id": "w7Kfd1Zdev2L"
      },
      "source": [
        "## Preparing Training and Testing Datasets"
      ]
    },
    {
      "cell_type": "code",
      "metadata": {
        "id": "xY1vaTr2ev2L"
      },
      "source": [
        "x = final_data.drop('monthly rent', axis = 1)\n",
        "y = final_data['monthly rent']"
      ],
      "execution_count": null,
      "outputs": []
    },
    {
      "cell_type": "code",
      "metadata": {
        "id": "piu0c-dxev2N"
      },
      "source": [
        "x.shape"
      ],
      "execution_count": null,
      "outputs": []
    },
    {
      "cell_type": "code",
      "metadata": {
        "id": "YCovGMKSev2O"
      },
      "source": [
        "y.shape"
      ],
      "execution_count": null,
      "outputs": []
    },
    {
      "cell_type": "code",
      "metadata": {
        "id": "vLn1WUQtev2P"
      },
      "source": [
        "from sklearn.model_selection import train_test_split\n",
        "x_train, x_test, y_train, y_test = train_test_split(x,y, test_size = .2, random_state = 42)"
      ],
      "execution_count": null,
      "outputs": []
    },
    {
      "cell_type": "code",
      "metadata": {
        "id": "B3-goaHrev2R"
      },
      "source": [
        "print(x_train.shape)\n",
        "print(x_test.shape)\n",
        "print(y_train.shape)\n",
        "print(y_test.shape)"
      ],
      "execution_count": null,
      "outputs": []
    },
    {
      "cell_type": "markdown",
      "metadata": {
        "id": "1o4oNxxdev2U"
      },
      "source": [
        " "
      ]
    },
    {
      "cell_type": "markdown",
      "metadata": {
        "id": "ZoEQbj8-ev2W"
      },
      "source": [
        "## Scaling Datasets to convert them into same range."
      ]
    },
    {
      "cell_type": "code",
      "metadata": {
        "id": "KaLrFNOiev2W"
      },
      "source": [
        "from sklearn.preprocessing import StandardScaler\n",
        "scaler = StandardScaler()\n",
        "scaler.fit(x_train)\n",
        "scaled_x_train = scaler.transform(x_train)\n",
        "scaled_x_train"
      ],
      "execution_count": null,
      "outputs": []
    },
    {
      "cell_type": "code",
      "metadata": {
        "scrolled": true,
        "id": "adMasDSQev2X"
      },
      "source": [
        "scaler.fit(x_test)\n",
        "scaled_x_test = scaler.transform(x_test)\n",
        "scaled_x_test"
      ],
      "execution_count": null,
      "outputs": []
    },
    {
      "cell_type": "markdown",
      "metadata": {
        "id": "SYyZMabrev2Z"
      },
      "source": [
        " "
      ]
    },
    {
      "cell_type": "markdown",
      "metadata": {
        "id": "hyCdHsz2ev2Z"
      },
      "source": [
        "## Time to Built a ML model now "
      ]
    },
    {
      "cell_type": "markdown",
      "metadata": {
        "id": "QPUtmb-jev2a"
      },
      "source": [
        "## LinearRegression model with standard scaling."
      ]
    },
    {
      "cell_type": "code",
      "metadata": {
        "id": "-sRkRncIev2a"
      },
      "source": [
        "from sklearn.linear_model import LinearRegression\n",
        "from sklearn.metrics import r2_score\n",
        "standard_scaler_linear_model = LinearRegression()\n",
        "standard_scaler_linear_model.fit(scaled_x_train,y_train)"
      ],
      "execution_count": null,
      "outputs": []
    },
    {
      "cell_type": "code",
      "metadata": {
        "id": "akwtVDr4ev2b"
      },
      "source": [
        "standard_scaler_linear_y_pred = standard_scaler_linear_model.predict(scaled_x_test)"
      ],
      "execution_count": null,
      "outputs": []
    },
    {
      "cell_type": "code",
      "metadata": {
        "id": "9Y0bSrpnev2c"
      },
      "source": [
        "standard_scaler_linear_model.score(scaled_x_train, y_train)"
      ],
      "execution_count": null,
      "outputs": []
    },
    {
      "cell_type": "code",
      "metadata": {
        "id": "xuZDgBtLev2d"
      },
      "source": [
        "standard_scaler_linear_model.score(scaled_x_test, y_test)"
      ],
      "execution_count": null,
      "outputs": []
    },
    {
      "cell_type": "code",
      "metadata": {
        "id": "7HHZFIl5ev2f"
      },
      "source": [
        "r2_score(y_test, standard_scaler_linear_y_pred)"
      ],
      "execution_count": null,
      "outputs": []
    },
    {
      "cell_type": "markdown",
      "metadata": {
        "id": "oe0xy1Pjev2g"
      },
      "source": [
        "## Lets store it in a DataFrame. so that we can compare different model's scores in last."
      ]
    },
    {
      "cell_type": "code",
      "metadata": {
        "id": "pvvya9dvev2g"
      },
      "source": [
        "Final_Scores = pd.DataFrame( index = ['With Training Data', 'With Test Data'])\n"
      ],
      "execution_count": null,
      "outputs": []
    },
    {
      "cell_type": "code",
      "metadata": {
        "id": "u6lPcvnbev2h"
      },
      "source": [
        "Final_Scores['Linear Regression (Standard Scaler) %'] = [standard_scaler_linear_model.score(scaled_x_train, y_train)*100, \n",
        "                                                         standard_scaler_linear_model.score(scaled_x_test, y_test)*100]"
      ],
      "execution_count": null,
      "outputs": []
    },
    {
      "cell_type": "markdown",
      "metadata": {
        "id": "lX_3zq-uev2i"
      },
      "source": [
        " "
      ]
    },
    {
      "cell_type": "markdown",
      "metadata": {
        "id": "G9jX9PVHev2j"
      },
      "source": [
        "## LinearRegression model with Normalizing scaling"
      ]
    },
    {
      "cell_type": "code",
      "metadata": {
        "id": "X4jJO9Ebev2j"
      },
      "source": [
        "normalized_linear_model = LinearRegression( normalize = True)\n",
        "normalized_linear_model.fit(x_train, y_train)"
      ],
      "execution_count": null,
      "outputs": []
    },
    {
      "cell_type": "code",
      "metadata": {
        "id": "jGMM8q8Aev2k"
      },
      "source": [
        "normalized_linear_y_pred = normalized_linear_model.predict(x_test)"
      ],
      "execution_count": null,
      "outputs": []
    },
    {
      "cell_type": "code",
      "metadata": {
        "scrolled": true,
        "id": "oAlMvxr3ev2m"
      },
      "source": [
        "normalized_linear_model.score(x_train, y_train)"
      ],
      "execution_count": null,
      "outputs": []
    },
    {
      "cell_type": "code",
      "metadata": {
        "id": "_8mZg52wev2o"
      },
      "source": [
        "normalized_linear_model.score(x_test, y_test)"
      ],
      "execution_count": null,
      "outputs": []
    },
    {
      "cell_type": "code",
      "metadata": {
        "id": "yNz3ZUfGev2p"
      },
      "source": [
        "r2_score(y_test, normalized_linear_y_pred)"
      ],
      "execution_count": null,
      "outputs": []
    },
    {
      "cell_type": "code",
      "metadata": {
        "id": "HyEPJxXoev2r"
      },
      "source": [
        "Final_Scores['Linear Regression (Normalization Scaler) %'] = [normalized_linear_model.score(x_train, y_train)*100, \n",
        "                                                              normalized_linear_model.score(x_test, y_test)*100]"
      ],
      "execution_count": null,
      "outputs": []
    },
    {
      "cell_type": "markdown",
      "metadata": {
        "id": "j8Wehcm0ev2t"
      },
      "source": [
        " "
      ]
    },
    {
      "cell_type": "markdown",
      "metadata": {
        "id": "kBHjRjQ8ev2u"
      },
      "source": [
        "##  Decision Tree Regressor model"
      ]
    },
    {
      "cell_type": "code",
      "metadata": {
        "id": "CbR-06qMev2u"
      },
      "source": [
        "from sklearn.tree import DecisionTreeRegressor\n",
        "ssdtr_model = DecisionTreeRegressor()\n",
        "ssdtr_model.fit( scaled_x_train, y_train)"
      ],
      "execution_count": null,
      "outputs": []
    },
    {
      "cell_type": "code",
      "metadata": {
        "id": "2WoFuA5Kev2v"
      },
      "source": [
        "ssdtr_y_pred = ssdtr_model.predict(scaled_x_test)"
      ],
      "execution_count": null,
      "outputs": []
    },
    {
      "cell_type": "code",
      "metadata": {
        "id": "3dqB2GE-ev2w"
      },
      "source": [
        "ssdtr_model.score(scaled_x_train, y_train)"
      ],
      "execution_count": null,
      "outputs": []
    },
    {
      "cell_type": "code",
      "metadata": {
        "id": "uk2PU36vev2x"
      },
      "source": [
        "ssdtr_model.score(scaled_x_test, y_test)"
      ],
      "execution_count": null,
      "outputs": []
    },
    {
      "cell_type": "code",
      "metadata": {
        "id": "_TOjv0DFev2y"
      },
      "source": [
        "r2_score(y_test, ssdtr_y_pred)"
      ],
      "execution_count": null,
      "outputs": []
    },
    {
      "cell_type": "code",
      "metadata": {
        "id": "Bazwz05aev2z"
      },
      "source": [
        "Final_Scores['Decision Tree Regressor %'] = [ssdtr_model.score(scaled_x_train, y_train)*100,\n",
        "                                             ssdtr_model.score(scaled_x_test, y_test)*100]"
      ],
      "execution_count": null,
      "outputs": []
    },
    {
      "cell_type": "markdown",
      "metadata": {
        "id": "r1V1qkWuev20"
      },
      "source": [
        " "
      ]
    },
    {
      "cell_type": "markdown",
      "metadata": {
        "id": "p5ZrGIk2ev20"
      },
      "source": [
        "## Random Forest Regressor model"
      ]
    },
    {
      "cell_type": "code",
      "metadata": {
        "id": "N2GdKcwgev20"
      },
      "source": [
        "from sklearn.ensemble import RandomForestRegressor\n",
        "ssrfr_model = RandomForestRegressor()\n",
        "ssrfr_model.fit(scaled_x_train, y_train)"
      ],
      "execution_count": null,
      "outputs": []
    },
    {
      "cell_type": "code",
      "metadata": {
        "id": "oXUGzFgNev22"
      },
      "source": [
        "ssrfr_y_pred = ssrfr_model.predict(scaled_x_test)"
      ],
      "execution_count": null,
      "outputs": []
    },
    {
      "cell_type": "code",
      "metadata": {
        "id": "9kW1h_Glev24"
      },
      "source": [
        "ssrfr_model.score(scaled_x_train, y_train)"
      ],
      "execution_count": null,
      "outputs": []
    },
    {
      "cell_type": "code",
      "metadata": {
        "id": "3lbsy1yyev26"
      },
      "source": [
        "ssrfr_model.score(scaled_x_test, y_test)"
      ],
      "execution_count": null,
      "outputs": []
    },
    {
      "cell_type": "code",
      "metadata": {
        "id": "MUjppAw9ev27"
      },
      "source": [
        "r2_score(y_test, ssrfr_y_pred)"
      ],
      "execution_count": null,
      "outputs": []
    },
    {
      "cell_type": "code",
      "metadata": {
        "id": "t7EbUjPGev28"
      },
      "source": [
        "Final_Scores['Random Forest Regressor %'] = [ssrfr_model.score(scaled_x_train, y_train)*100,\n",
        "                                             ssrfr_model.score(scaled_x_test, y_test)*100]"
      ],
      "execution_count": null,
      "outputs": []
    },
    {
      "cell_type": "markdown",
      "metadata": {
        "id": "W0nrFD6sev2-"
      },
      "source": [
        " "
      ]
    },
    {
      "cell_type": "markdown",
      "metadata": {
        "id": "YwM13SI5ev2-"
      },
      "source": [
        "<a id = 's6'></a>\n",
        "# <font color = Red> Finally Lets Compare Scores now </font>"
      ]
    },
    {
      "cell_type": "code",
      "metadata": {
        "id": "zKHVZGj2ev2-"
      },
      "source": [
        "Final_Scores"
      ],
      "execution_count": null,
      "outputs": []
    },
    {
      "cell_type": "markdown",
      "metadata": {
        "id": "Te1FeI16ev2_"
      },
      "source": [
        "# <font color = Green> We Deploy Random Forest Regressor model to predict Monthly Rent with highest accuracy.</font>"
      ]
    },
    {
      "cell_type": "markdown",
      "metadata": {
        "id": "hI0ib3LVev3A"
      },
      "source": [
        "## Created by: Gaurav \n",
        "<a href = '#top'>Back on Top</a>\n",
        "\n",
        "<a href = 'https://github.com/G0rav'> Github Link</a>"
      ]
    }
  ]
}