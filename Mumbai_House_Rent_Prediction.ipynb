{
 "cells": [
  {
   "cell_type": "markdown",
   "metadata": {},
   "source": [
    "# <font color = Blue> Aim: To Predict Monthly House Rent in Mumbai City with given Data. </font>\n",
    "\n",
    "## <font color = Blue> Approch: </font>\n",
    "- Import Dataset and have a very Quick look.\n",
    "- Analyze and Clean Data. Look into each and every feature and make them clean for use.\n",
    "- Remove Outliers and exception data by visualizing features.\n",
    "- Visualize and have a look how features related with monthly rent.\n",
    "- Prepare and Scale Data for Machine learning model.\n",
    "- Try Different ML models and calculate their accuracy scores.\n",
    "- Select best model.\n"
   ]
  },
  {
   "cell_type": "markdown",
   "metadata": {},
   "source": [
    "<a id = 'top'></a>\n",
    "## <font color = Blue> Table of Contents: </font>\n",
    "- <a href = '#s1'> 1. Importing Data and required packages. </a>\n",
    "- <a href = '#s2'> 2. Data Analyzing and Wranggling. </a>\n",
    "- <a href = '#s3'> 3. Data Visualization and Removing Outliers/Exceptions. </a>\n",
    "- <a href = '#s4'> 4. OneHotEncoding Text features.  </a>\n",
    "- <a href = '#s5'> 5. Machine Learning Model Building. </a>\n",
    "\n",
    "## <a href = '#s6'> <font color = Red> Conclusion </font> </a>"
   ]
  },
  {
   "cell_type": "markdown",
   "metadata": {},
   "source": [
    "<a id = 's1'></a>\n",
    "# <font color = Blue> 1. Importing Data and required packages. </font>"
   ]
  },
  {
   "cell_type": "code",
   "execution_count": 1,
   "metadata": {},
   "outputs": [],
   "source": [
    "import numpy as np\n",
    "import pandas as pd\n",
    "import matplotlib.pyplot as plt\n",
    "%matplotlib inline\n",
    "import warnings                                             # only to ignore python warnings\n",
    "warnings.simplefilter(\"ignore\")"
   ]
  },
  {
   "cell_type": "code",
   "execution_count": 2,
   "metadata": {},
   "outputs": [
    {
     "data": {
      "text/html": [
       "<div>\n",
       "<style scoped>\n",
       "    .dataframe tbody tr th:only-of-type {\n",
       "        vertical-align: middle;\n",
       "    }\n",
       "\n",
       "    .dataframe tbody tr th {\n",
       "        vertical-align: top;\n",
       "    }\n",
       "\n",
       "    .dataframe thead th {\n",
       "        text-align: right;\n",
       "    }\n",
       "</style>\n",
       "<table border=\"1\" class=\"dataframe\">\n",
       "  <thead>\n",
       "    <tr style=\"text-align: right;\">\n",
       "      <th></th>\n",
       "      <th>sl no.</th>\n",
       "      <th>society</th>\n",
       "      <th>type</th>\n",
       "      <th>location</th>\n",
       "      <th>lattitude</th>\n",
       "      <th>longitude</th>\n",
       "      <th>bedrooms</th>\n",
       "      <th>built-up area</th>\n",
       "      <th>furnishing</th>\n",
       "      <th>age</th>\n",
       "      <th>...</th>\n",
       "      <th>dealer</th>\n",
       "      <th>posted</th>\n",
       "      <th>monthly rent</th>\n",
       "      <th>property photo</th>\n",
       "      <th>property video</th>\n",
       "      <th>society photo</th>\n",
       "      <th>society video</th>\n",
       "      <th>locality photo</th>\n",
       "      <th>locality video</th>\n",
       "      <th>description</th>\n",
       "    </tr>\n",
       "  </thead>\n",
       "  <tbody>\n",
       "    <tr>\n",
       "      <td>0</td>\n",
       "      <td>1</td>\n",
       "      <td>Bandstand Apartment</td>\n",
       "      <td>Residential Apartment</td>\n",
       "      <td>Bandra (West)</td>\n",
       "      <td>19.047353</td>\n",
       "      <td>72.820068</td>\n",
       "      <td>2 BHK</td>\n",
       "      <td>800.0</td>\n",
       "      <td>Furnished</td>\n",
       "      <td>5 to 10 years old</td>\n",
       "      <td>...</td>\n",
       "      <td>PROPBAY</td>\n",
       "      <td>Jul-05-2018</td>\n",
       "      <td>85000</td>\n",
       "      <td>2</td>\n",
       "      <td>0</td>\n",
       "      <td>3</td>\n",
       "      <td>0</td>\n",
       "      <td>0</td>\n",
       "      <td>0</td>\n",
       "      <td>Description : 2 bhk apartment for rent in band...</td>\n",
       "    </tr>\n",
       "    <tr>\n",
       "      <td>1</td>\n",
       "      <td>2</td>\n",
       "      <td>Fantastic Apartment</td>\n",
       "      <td>Residential Apartment</td>\n",
       "      <td>Khar West</td>\n",
       "      <td>19.071690</td>\n",
       "      <td>72.834127</td>\n",
       "      <td>2 BHK</td>\n",
       "      <td>1050.0</td>\n",
       "      <td>Furnished</td>\n",
       "      <td>1 to 5 years old</td>\n",
       "      <td>...</td>\n",
       "      <td>PROPBAY</td>\n",
       "      <td>Jul-05-2018</td>\n",
       "      <td>110000</td>\n",
       "      <td>0</td>\n",
       "      <td>0</td>\n",
       "      <td>0</td>\n",
       "      <td>0</td>\n",
       "      <td>1</td>\n",
       "      <td>0</td>\n",
       "      <td>Description : 2 bhk apartment for rent in khar...</td>\n",
       "    </tr>\n",
       "    <tr>\n",
       "      <td>2</td>\n",
       "      <td>3</td>\n",
       "      <td>Gajra Bhoomi Symphony</td>\n",
       "      <td>Residential Apartment</td>\n",
       "      <td>Sector-20 Koparkhairane</td>\n",
       "      <td>19.109368</td>\n",
       "      <td>73.001346</td>\n",
       "      <td>2 BHK</td>\n",
       "      <td>1050.0</td>\n",
       "      <td>Unfurnished</td>\n",
       "      <td>1 to 5 years old</td>\n",
       "      <td>...</td>\n",
       "      <td>AAKASH REAL ESTATE</td>\n",
       "      <td>Jul-07-2018</td>\n",
       "      <td>32000</td>\n",
       "      <td>0</td>\n",
       "      <td>0</td>\n",
       "      <td>0</td>\n",
       "      <td>1</td>\n",
       "      <td>0</td>\n",
       "      <td>0</td>\n",
       "      <td>Description : 2 bhk flat available for rent in...</td>\n",
       "    </tr>\n",
       "  </tbody>\n",
       "</table>\n",
       "<p>3 rows × 22 columns</p>\n",
       "</div>"
      ],
      "text/plain": [
       "   sl no.                society                   type  \\\n",
       "0       1    Bandstand Apartment  Residential Apartment   \n",
       "1       2    Fantastic Apartment  Residential Apartment   \n",
       "2       3  Gajra Bhoomi Symphony  Residential Apartment   \n",
       "\n",
       "                  location  lattitude  longitude bedrooms  built-up area  \\\n",
       "0            Bandra (West)  19.047353  72.820068    2 BHK          800.0   \n",
       "1                Khar West  19.071690  72.834127    2 BHK         1050.0   \n",
       "2  Sector-20 Koparkhairane  19.109368  73.001346    2 BHK         1050.0   \n",
       "\n",
       "    furnishing                age  ...              dealer       posted  \\\n",
       "0    Furnished  5 to 10 years old  ...             PROPBAY  Jul-05-2018   \n",
       "1    Furnished   1 to 5 years old  ...             PROPBAY  Jul-05-2018   \n",
       "2  Unfurnished   1 to 5 years old  ...  AAKASH REAL ESTATE  Jul-07-2018   \n",
       "\n",
       "  monthly rent property photo  property video  society photo  society video  \\\n",
       "0        85000              2               0              3              0   \n",
       "1       110000              0               0              0              0   \n",
       "2        32000              0               0              0              1   \n",
       "\n",
       "   locality photo  locality video  \\\n",
       "0               0               0   \n",
       "1               1               0   \n",
       "2               0               0   \n",
       "\n",
       "                                         description  \n",
       "0  Description : 2 bhk apartment for rent in band...  \n",
       "1  Description : 2 bhk apartment for rent in khar...  \n",
       "2  Description : 2 bhk flat available for rent in...  \n",
       "\n",
       "[3 rows x 22 columns]"
      ]
     },
     "execution_count": 2,
     "metadata": {},
     "output_type": "execute_result"
    }
   ],
   "source": [
    "data1 = pd.read_csv('Mumbai_99acers.csv')\n",
    "data1.head(3)"
   ]
  },
  {
   "cell_type": "code",
   "execution_count": 3,
   "metadata": {
    "scrolled": false
   },
   "outputs": [
    {
     "name": "stdout",
     "output_type": "stream",
     "text": [
      "<class 'pandas.core.frame.DataFrame'>\n",
      "RangeIndex: 13541 entries, 0 to 13540\n",
      "Data columns (total 22 columns):\n",
      "sl no.            13541 non-null int64\n",
      "society           13541 non-null object\n",
      "type              13541 non-null object\n",
      "location          13541 non-null object\n",
      "lattitude         2174 non-null float64\n",
      "longitude         2174 non-null float64\n",
      "bedrooms          13541 non-null object\n",
      "built-up area     13541 non-null float64\n",
      "furnishing        13541 non-null object\n",
      "age               13541 non-null object\n",
      "floor             13541 non-null object\n",
      "total floors      13541 non-null object\n",
      "dealer            13478 non-null object\n",
      "posted            13541 non-null object\n",
      "monthly rent      13541 non-null int64\n",
      "property photo    13541 non-null int64\n",
      "property video    13541 non-null int64\n",
      "society photo     13541 non-null int64\n",
      "society video     13541 non-null int64\n",
      "locality photo    13541 non-null int64\n",
      "locality video    13541 non-null int64\n",
      "description       13541 non-null object\n",
      "dtypes: float64(3), int64(8), object(11)\n",
      "memory usage: 2.3+ MB\n"
     ]
    }
   ],
   "source": [
    "data1.info()"
   ]
  },
  {
   "cell_type": "code",
   "execution_count": null,
   "metadata": {},
   "outputs": [],
   "source": []
  },
  {
   "cell_type": "markdown",
   "metadata": {},
   "source": [
    "<a id = 's2'></a>\n",
    "## <font color = Blue> 2. Data Analyzing and Wranggling. </font>\n",
    "<a href = '#top'>Back on Top</a>"
   ]
  },
  {
   "cell_type": "markdown",
   "metadata": {},
   "source": [
    "###  Dropping useless features. (In my view, as per requirements) "
   ]
  },
  {
   "cell_type": "code",
   "execution_count": 4,
   "metadata": {},
   "outputs": [
    {
     "data": {
      "text/html": [
       "<div>\n",
       "<style scoped>\n",
       "    .dataframe tbody tr th:only-of-type {\n",
       "        vertical-align: middle;\n",
       "    }\n",
       "\n",
       "    .dataframe tbody tr th {\n",
       "        vertical-align: top;\n",
       "    }\n",
       "\n",
       "    .dataframe thead th {\n",
       "        text-align: right;\n",
       "    }\n",
       "</style>\n",
       "<table border=\"1\" class=\"dataframe\">\n",
       "  <thead>\n",
       "    <tr style=\"text-align: right;\">\n",
       "      <th></th>\n",
       "      <th>society</th>\n",
       "      <th>type</th>\n",
       "      <th>location</th>\n",
       "      <th>bedrooms</th>\n",
       "      <th>built-up area</th>\n",
       "      <th>furnishing</th>\n",
       "      <th>age</th>\n",
       "      <th>floor</th>\n",
       "      <th>total floors</th>\n",
       "      <th>monthly rent</th>\n",
       "    </tr>\n",
       "  </thead>\n",
       "  <tbody>\n",
       "    <tr>\n",
       "      <td>0</td>\n",
       "      <td>Bandstand Apartment</td>\n",
       "      <td>Residential Apartment</td>\n",
       "      <td>Bandra (West)</td>\n",
       "      <td>2 BHK</td>\n",
       "      <td>800.0</td>\n",
       "      <td>Furnished</td>\n",
       "      <td>5 to 10 years old</td>\n",
       "      <td>2nd</td>\n",
       "      <td>6</td>\n",
       "      <td>85000</td>\n",
       "    </tr>\n",
       "    <tr>\n",
       "      <td>1</td>\n",
       "      <td>Fantastic Apartment</td>\n",
       "      <td>Residential Apartment</td>\n",
       "      <td>Khar West</td>\n",
       "      <td>2 BHK</td>\n",
       "      <td>1050.0</td>\n",
       "      <td>Furnished</td>\n",
       "      <td>1 to 5 years old</td>\n",
       "      <td>8th</td>\n",
       "      <td>12</td>\n",
       "      <td>110000</td>\n",
       "    </tr>\n",
       "    <tr>\n",
       "      <td>2</td>\n",
       "      <td>Gajra Bhoomi Symphony</td>\n",
       "      <td>Residential Apartment</td>\n",
       "      <td>Sector-20 Koparkhairane</td>\n",
       "      <td>2 BHK</td>\n",
       "      <td>1050.0</td>\n",
       "      <td>Unfurnished</td>\n",
       "      <td>1 to 5 years old</td>\n",
       "      <td>14th</td>\n",
       "      <td>17</td>\n",
       "      <td>32000</td>\n",
       "    </tr>\n",
       "    <tr>\n",
       "      <td>3</td>\n",
       "      <td>Crescent Bay</td>\n",
       "      <td>Residential Apartment</td>\n",
       "      <td>Parel</td>\n",
       "      <td>3 BHK</td>\n",
       "      <td>2275.0</td>\n",
       "      <td>Semifurnished</td>\n",
       "      <td>1 to 5 years old</td>\n",
       "      <td>40th</td>\n",
       "      <td>41</td>\n",
       "      <td>150000</td>\n",
       "    </tr>\n",
       "    <tr>\n",
       "      <td>4</td>\n",
       "      <td>Ashwini CHS</td>\n",
       "      <td>Residential Apartment</td>\n",
       "      <td>Tilak Nagar</td>\n",
       "      <td>1 BHK</td>\n",
       "      <td>550.0</td>\n",
       "      <td>Semifurnished</td>\n",
       "      <td>5 to 10 years old</td>\n",
       "      <td>4th</td>\n",
       "      <td>7</td>\n",
       "      <td>27000</td>\n",
       "    </tr>\n",
       "  </tbody>\n",
       "</table>\n",
       "</div>"
      ],
      "text/plain": [
       "                 society                   type                 location  \\\n",
       "0    Bandstand Apartment  Residential Apartment            Bandra (West)   \n",
       "1    Fantastic Apartment  Residential Apartment                Khar West   \n",
       "2  Gajra Bhoomi Symphony  Residential Apartment  Sector-20 Koparkhairane   \n",
       "3           Crescent Bay  Residential Apartment                    Parel   \n",
       "4            Ashwini CHS  Residential Apartment              Tilak Nagar   \n",
       "\n",
       "  bedrooms  built-up area     furnishing                age floor  \\\n",
       "0    2 BHK          800.0      Furnished  5 to 10 years old   2nd   \n",
       "1    2 BHK         1050.0      Furnished   1 to 5 years old   8th   \n",
       "2    2 BHK         1050.0    Unfurnished   1 to 5 years old  14th   \n",
       "3    3 BHK         2275.0  Semifurnished   1 to 5 years old  40th   \n",
       "4    1 BHK          550.0  Semifurnished  5 to 10 years old   4th   \n",
       "\n",
       "  total floors  monthly rent  \n",
       "0            6         85000  \n",
       "1           12        110000  \n",
       "2           17         32000  \n",
       "3           41        150000  \n",
       "4            7         27000  "
      ]
     },
     "execution_count": 4,
     "metadata": {},
     "output_type": "execute_result"
    }
   ],
   "source": [
    "data2 = data1.drop(data1.iloc[:,[0,4,5,12,13,15,16,17,18,19,20,21]],axis = 1)\n",
    "data2.head()"
   ]
  },
  {
   "cell_type": "code",
   "execution_count": 5,
   "metadata": {
    "scrolled": true
   },
   "outputs": [
    {
     "data": {
      "text/plain": [
       "society          0\n",
       "type             0\n",
       "location         0\n",
       "bedrooms         0\n",
       "built-up area    0\n",
       "furnishing       0\n",
       "age              0\n",
       "floor            0\n",
       "total floors     0\n",
       "monthly rent     0\n",
       "dtype: int64"
      ]
     },
     "execution_count": 5,
     "metadata": {},
     "output_type": "execute_result"
    }
   ],
   "source": [
    "data2.isnull().sum()"
   ]
  },
  {
   "cell_type": "code",
   "execution_count": 6,
   "metadata": {},
   "outputs": [
    {
     "data": {
      "text/plain": [
       "society           object\n",
       "type              object\n",
       "location          object\n",
       "bedrooms          object\n",
       "built-up area    float64\n",
       "furnishing        object\n",
       "age               object\n",
       "floor             object\n",
       "total floors      object\n",
       "monthly rent       int64\n",
       "dtype: object"
      ]
     },
     "execution_count": 6,
     "metadata": {},
     "output_type": "execute_result"
    }
   ],
   "source": [
    "data2.dtypes"
   ]
  },
  {
   "cell_type": "markdown",
   "metadata": {},
   "source": [
    " "
   ]
  },
  {
   "cell_type": "markdown",
   "metadata": {},
   "source": [
    "## Removing useless spaces from numeric columns, just in case if they have. "
   ]
  },
  {
   "cell_type": "code",
   "execution_count": 7,
   "metadata": {},
   "outputs": [],
   "source": [
    "for i in data2.columns.drop(['built-up area','monthly rent']):\n",
    "    data2[i] = data2[i].apply(lambda x: x.strip())"
   ]
  },
  {
   "cell_type": "code",
   "execution_count": 8,
   "metadata": {
    "scrolled": false
   },
   "outputs": [
    {
     "data": {
      "text/html": [
       "<div>\n",
       "<style scoped>\n",
       "    .dataframe tbody tr th:only-of-type {\n",
       "        vertical-align: middle;\n",
       "    }\n",
       "\n",
       "    .dataframe tbody tr th {\n",
       "        vertical-align: top;\n",
       "    }\n",
       "\n",
       "    .dataframe thead th {\n",
       "        text-align: right;\n",
       "    }\n",
       "</style>\n",
       "<table border=\"1\" class=\"dataframe\">\n",
       "  <thead>\n",
       "    <tr style=\"text-align: right;\">\n",
       "      <th></th>\n",
       "      <th>society</th>\n",
       "      <th>type</th>\n",
       "      <th>location</th>\n",
       "      <th>bedrooms</th>\n",
       "      <th>built-up area</th>\n",
       "      <th>furnishing</th>\n",
       "      <th>age</th>\n",
       "      <th>floor</th>\n",
       "      <th>total floors</th>\n",
       "      <th>monthly rent</th>\n",
       "    </tr>\n",
       "  </thead>\n",
       "  <tbody>\n",
       "    <tr>\n",
       "      <td>0</td>\n",
       "      <td>Bandstand Apartment</td>\n",
       "      <td>Residential Apartment</td>\n",
       "      <td>Bandra (West)</td>\n",
       "      <td>2 BHK</td>\n",
       "      <td>800.0</td>\n",
       "      <td>Furnished</td>\n",
       "      <td>5 to 10 years old</td>\n",
       "      <td>2nd</td>\n",
       "      <td>6</td>\n",
       "      <td>85000</td>\n",
       "    </tr>\n",
       "    <tr>\n",
       "      <td>1</td>\n",
       "      <td>Fantastic Apartment</td>\n",
       "      <td>Residential Apartment</td>\n",
       "      <td>Khar West</td>\n",
       "      <td>2 BHK</td>\n",
       "      <td>1050.0</td>\n",
       "      <td>Furnished</td>\n",
       "      <td>1 to 5 years old</td>\n",
       "      <td>8th</td>\n",
       "      <td>12</td>\n",
       "      <td>110000</td>\n",
       "    </tr>\n",
       "    <tr>\n",
       "      <td>2</td>\n",
       "      <td>Gajra Bhoomi Symphony</td>\n",
       "      <td>Residential Apartment</td>\n",
       "      <td>Sector-20 Koparkhairane</td>\n",
       "      <td>2 BHK</td>\n",
       "      <td>1050.0</td>\n",
       "      <td>Unfurnished</td>\n",
       "      <td>1 to 5 years old</td>\n",
       "      <td>14th</td>\n",
       "      <td>17</td>\n",
       "      <td>32000</td>\n",
       "    </tr>\n",
       "    <tr>\n",
       "      <td>3</td>\n",
       "      <td>Crescent Bay</td>\n",
       "      <td>Residential Apartment</td>\n",
       "      <td>Parel</td>\n",
       "      <td>3 BHK</td>\n",
       "      <td>2275.0</td>\n",
       "      <td>Semifurnished</td>\n",
       "      <td>1 to 5 years old</td>\n",
       "      <td>40th</td>\n",
       "      <td>41</td>\n",
       "      <td>150000</td>\n",
       "    </tr>\n",
       "    <tr>\n",
       "      <td>4</td>\n",
       "      <td>Ashwini CHS</td>\n",
       "      <td>Residential Apartment</td>\n",
       "      <td>Tilak Nagar</td>\n",
       "      <td>1 BHK</td>\n",
       "      <td>550.0</td>\n",
       "      <td>Semifurnished</td>\n",
       "      <td>5 to 10 years old</td>\n",
       "      <td>4th</td>\n",
       "      <td>7</td>\n",
       "      <td>27000</td>\n",
       "    </tr>\n",
       "  </tbody>\n",
       "</table>\n",
       "</div>"
      ],
      "text/plain": [
       "                 society                   type                 location  \\\n",
       "0    Bandstand Apartment  Residential Apartment            Bandra (West)   \n",
       "1    Fantastic Apartment  Residential Apartment                Khar West   \n",
       "2  Gajra Bhoomi Symphony  Residential Apartment  Sector-20 Koparkhairane   \n",
       "3           Crescent Bay  Residential Apartment                    Parel   \n",
       "4            Ashwini CHS  Residential Apartment              Tilak Nagar   \n",
       "\n",
       "  bedrooms  built-up area     furnishing                age floor  \\\n",
       "0    2 BHK          800.0      Furnished  5 to 10 years old   2nd   \n",
       "1    2 BHK         1050.0      Furnished   1 to 5 years old   8th   \n",
       "2    2 BHK         1050.0    Unfurnished   1 to 5 years old  14th   \n",
       "3    3 BHK         2275.0  Semifurnished   1 to 5 years old  40th   \n",
       "4    1 BHK          550.0  Semifurnished  5 to 10 years old   4th   \n",
       "\n",
       "  total floors  monthly rent  \n",
       "0            6         85000  \n",
       "1           12        110000  \n",
       "2           17         32000  \n",
       "3           41        150000  \n",
       "4            7         27000  "
      ]
     },
     "execution_count": 8,
     "metadata": {},
     "output_type": "execute_result"
    }
   ],
   "source": [
    "data2.head()"
   ]
  },
  {
   "cell_type": "code",
   "execution_count": 9,
   "metadata": {},
   "outputs": [],
   "source": [
    "data3 = data2.copy()"
   ]
  },
  {
   "cell_type": "markdown",
   "metadata": {},
   "source": [
    " "
   ]
  },
  {
   "cell_type": "markdown",
   "metadata": {},
   "source": [
    "## Merging societies having count less than 10. only to simplify our model."
   ]
  },
  {
   "cell_type": "code",
   "execution_count": 10,
   "metadata": {
    "scrolled": false
   },
   "outputs": [
    {
     "data": {
      "text/html": [
       "<div>\n",
       "<style scoped>\n",
       "    .dataframe tbody tr th:only-of-type {\n",
       "        vertical-align: middle;\n",
       "    }\n",
       "\n",
       "    .dataframe tbody tr th {\n",
       "        vertical-align: top;\n",
       "    }\n",
       "\n",
       "    .dataframe thead th {\n",
       "        text-align: right;\n",
       "    }\n",
       "</style>\n",
       "<table border=\"1\" class=\"dataframe\">\n",
       "  <thead>\n",
       "    <tr style=\"text-align: right;\">\n",
       "      <th></th>\n",
       "      <th>society</th>\n",
       "    </tr>\n",
       "  </thead>\n",
       "  <tbody>\n",
       "    <tr>\n",
       "      <td>On Request</td>\n",
       "      <td>1219</td>\n",
       "    </tr>\n",
       "    <tr>\n",
       "      <td>Lodha New Cuffe Parade</td>\n",
       "      <td>279</td>\n",
       "    </tr>\n",
       "    <tr>\n",
       "      <td>Lodha Lakeshore Greens</td>\n",
       "      <td>186</td>\n",
       "    </tr>\n",
       "    <tr>\n",
       "      <td>Crescent Bay</td>\n",
       "      <td>162</td>\n",
       "    </tr>\n",
       "    <tr>\n",
       "      <td>Ajmera Bhakti Park Sector 1 and 2</td>\n",
       "      <td>160</td>\n",
       "    </tr>\n",
       "    <tr>\n",
       "      <td>...</td>\n",
       "      <td>...</td>\n",
       "    </tr>\n",
       "    <tr>\n",
       "      <td>Gardenia Chs Ltd</td>\n",
       "      <td>1</td>\n",
       "    </tr>\n",
       "    <tr>\n",
       "      <td>Shree Sawan Elegance</td>\n",
       "      <td>1</td>\n",
       "    </tr>\n",
       "    <tr>\n",
       "      <td>Devdaya Nagar Phase 1, Pokhran-2, Mumbai Thane</td>\n",
       "      <td>1</td>\n",
       "    </tr>\n",
       "    <tr>\n",
       "      <td>Khar West,lane Of Gabbana Show Room 15th Road</td>\n",
       "      <td>1</td>\n",
       "    </tr>\n",
       "    <tr>\n",
       "      <td>Radhekrishna Complex</td>\n",
       "      <td>1</td>\n",
       "    </tr>\n",
       "  </tbody>\n",
       "</table>\n",
       "<p>3473 rows × 1 columns</p>\n",
       "</div>"
      ],
      "text/plain": [
       "                                                society\n",
       "On Request                                         1219\n",
       "Lodha New Cuffe Parade                              279\n",
       "Lodha Lakeshore Greens                              186\n",
       "Crescent Bay                                        162\n",
       "Ajmera Bhakti Park Sector 1 and 2                   160\n",
       "...                                                 ...\n",
       "Gardenia Chs Ltd                                      1\n",
       "Shree Sawan Elegance                                  1\n",
       "Devdaya Nagar Phase 1, Pokhran-2, Mumbai Thane        1\n",
       "Khar West,lane Of Gabbana Show Room 15th Road         1\n",
       "Radhekrishna Complex                                  1\n",
       "\n",
       "[3473 rows x 1 columns]"
      ]
     },
     "execution_count": 10,
     "metadata": {},
     "output_type": "execute_result"
    }
   ],
   "source": [
    "society_count = pd.DataFrame(data3['society'].value_counts())\n",
    "society_count"
   ]
  },
  {
   "cell_type": "code",
   "execution_count": 11,
   "metadata": {},
   "outputs": [],
   "source": [
    "society_count_less_than_10_index_list = society_count[society_count['society']<10].index"
   ]
  },
  {
   "cell_type": "code",
   "execution_count": 12,
   "metadata": {},
   "outputs": [
    {
     "data": {
      "text/plain": [
       "Index(['K Raheja Maple Leaf CHS', 'Ace Aviana', 'Raheja Height chs ltd',\n",
       "       'Ajmera I land', 'DSS Mahavir Classik', 'GHP Powai Vihar Complex',\n",
       "       'Omkar 1973 Worli', 'Ajmera Himalayan Heights',\n",
       "       'Mahindra Great Eastern Gardens', 'Omkar Meridia',\n",
       "       ...\n",
       "       'SCN Society', 'Shubharambh Towers', 'Shirin Apartment',\n",
       "       'Samartha Aangan', 'Minarette Condominiums', 'Gardenia Chs Ltd',\n",
       "       'Shree Sawan Elegance',\n",
       "       'Devdaya Nagar Phase 1, Pokhran-2, Mumbai Thane',\n",
       "       'Khar West,lane Of Gabbana Show Room 15th Road',\n",
       "       'Radhekrishna Complex'],\n",
       "      dtype='object', length=3292)"
      ]
     },
     "execution_count": 12,
     "metadata": {},
     "output_type": "execute_result"
    }
   ],
   "source": [
    "society_count_less_than_10_index_list"
   ]
  },
  {
   "cell_type": "code",
   "execution_count": 13,
   "metadata": {},
   "outputs": [],
   "source": [
    "data3['society'] = data3['society'].apply(lambda x: 'other society' if x in society_count_less_than_10_index_list else x)"
   ]
  },
  {
   "cell_type": "code",
   "execution_count": 14,
   "metadata": {},
   "outputs": [
    {
     "data": {
      "text/plain": [
       "other society                                5554\n",
       "On Request                                   1219\n",
       "Lodha New Cuffe Parade                        279\n",
       "Lodha Lakeshore Greens                        186\n",
       "Crescent Bay                                  162\n",
       "                                             ... \n",
       "Bhoomi Park                                    10\n",
       "Kesar Harmony                                  10\n",
       "Hiranandani Estate, Patlipada, Thane West      10\n",
       "Emgee Greens                                   10\n",
       "Oberoi Parkview                                10\n",
       "Name: society, Length: 182, dtype: int64"
      ]
     },
     "execution_count": 14,
     "metadata": {},
     "output_type": "execute_result"
    }
   ],
   "source": [
    "data3['society'].value_counts()"
   ]
  },
  {
   "cell_type": "markdown",
   "metadata": {},
   "source": [
    " \n"
   ]
  },
  {
   "cell_type": "markdown",
   "metadata": {},
   "source": [
    "## Making floor and total floors = 0 for Independent House/Villa"
   ]
  },
  {
   "cell_type": "code",
   "execution_count": 15,
   "metadata": {},
   "outputs": [
    {
     "data": {
      "text/plain": [
       "Residential Apartment      13416\n",
       "Studio Apartment              69\n",
       "Independent House/Villa       56\n",
       "Name: type, dtype: int64"
      ]
     },
     "execution_count": 15,
     "metadata": {},
     "output_type": "execute_result"
    }
   ],
   "source": [
    "data3['type'].value_counts()"
   ]
  },
  {
   "cell_type": "code",
   "execution_count": 16,
   "metadata": {
    "scrolled": true
   },
   "outputs": [
    {
     "data": {
      "text/html": [
       "<div>\n",
       "<style scoped>\n",
       "    .dataframe tbody tr th:only-of-type {\n",
       "        vertical-align: middle;\n",
       "    }\n",
       "\n",
       "    .dataframe tbody tr th {\n",
       "        vertical-align: top;\n",
       "    }\n",
       "\n",
       "    .dataframe thead th {\n",
       "        text-align: right;\n",
       "    }\n",
       "</style>\n",
       "<table border=\"1\" class=\"dataframe\">\n",
       "  <thead>\n",
       "    <tr style=\"text-align: right;\">\n",
       "      <th></th>\n",
       "      <th>society</th>\n",
       "      <th>type</th>\n",
       "      <th>location</th>\n",
       "      <th>bedrooms</th>\n",
       "      <th>built-up area</th>\n",
       "      <th>furnishing</th>\n",
       "      <th>age</th>\n",
       "      <th>floor</th>\n",
       "      <th>total floors</th>\n",
       "      <th>monthly rent</th>\n",
       "    </tr>\n",
       "  </thead>\n",
       "  <tbody>\n",
       "    <tr>\n",
       "      <td>1360</td>\n",
       "      <td>Union Park</td>\n",
       "      <td>Independent House/Villa</td>\n",
       "      <td>Chembur</td>\n",
       "      <td>2 Bedroom</td>\n",
       "      <td>935.0000</td>\n",
       "      <td>Unfurnished</td>\n",
       "      <td>1 to 5 years old</td>\n",
       "      <td>Not Mentioned</td>\n",
       "      <td>Not Mentioned</td>\n",
       "      <td>44000</td>\n",
       "    </tr>\n",
       "    <tr>\n",
       "      <td>1606</td>\n",
       "      <td>other society</td>\n",
       "      <td>Independent House/Villa</td>\n",
       "      <td>Lokhandwala</td>\n",
       "      <td>4 Bedroom</td>\n",
       "      <td>2500.0000</td>\n",
       "      <td>Semifurnished</td>\n",
       "      <td>5 to 10 years old</td>\n",
       "      <td>Not Mentioned</td>\n",
       "      <td>Not Mentioned</td>\n",
       "      <td>250000</td>\n",
       "    </tr>\n",
       "    <tr>\n",
       "      <td>1646</td>\n",
       "      <td>other society</td>\n",
       "      <td>Independent House/Villa</td>\n",
       "      <td>Worli Naka</td>\n",
       "      <td>4 Bedroom</td>\n",
       "      <td>41548.6540</td>\n",
       "      <td>Semifurnished</td>\n",
       "      <td>0 to 1 years old</td>\n",
       "      <td>Not Mentioned</td>\n",
       "      <td>Not Mentioned</td>\n",
       "      <td>310000</td>\n",
       "    </tr>\n",
       "    <tr>\n",
       "      <td>1788</td>\n",
       "      <td>Description :</td>\n",
       "      <td>Independent House/Villa</td>\n",
       "      <td>Juhu</td>\n",
       "      <td>4 Bedroom</td>\n",
       "      <td>3500.0000</td>\n",
       "      <td>Not Mentioned</td>\n",
       "      <td>5 to 10 years old</td>\n",
       "      <td>Not Mentioned</td>\n",
       "      <td>Not Mentioned</td>\n",
       "      <td>400000</td>\n",
       "    </tr>\n",
       "    <tr>\n",
       "      <td>1901</td>\n",
       "      <td>On Request</td>\n",
       "      <td>Independent House/Villa</td>\n",
       "      <td>Sector-8 Charkop</td>\n",
       "      <td>1 Bedroom</td>\n",
       "      <td>250.0000</td>\n",
       "      <td>Unfurnished</td>\n",
       "      <td>10+ years old</td>\n",
       "      <td>Not Mentioned</td>\n",
       "      <td>Not Mentioned</td>\n",
       "      <td>10500</td>\n",
       "    </tr>\n",
       "    <tr>\n",
       "      <td>2122</td>\n",
       "      <td>On Request</td>\n",
       "      <td>Independent House/Villa</td>\n",
       "      <td>Juhu</td>\n",
       "      <td>4 Bedroom</td>\n",
       "      <td>3300.0000</td>\n",
       "      <td>Furnished</td>\n",
       "      <td>5 to 10 years old</td>\n",
       "      <td>Not Mentioned</td>\n",
       "      <td>Not Mentioned</td>\n",
       "      <td>450000</td>\n",
       "    </tr>\n",
       "    <tr>\n",
       "      <td>2124</td>\n",
       "      <td>other society</td>\n",
       "      <td>Independent House/Villa</td>\n",
       "      <td>Sector-2 Airoli</td>\n",
       "      <td>1 Bedroom</td>\n",
       "      <td>269.0975</td>\n",
       "      <td>Unfurnished</td>\n",
       "      <td>0 to 1 years old</td>\n",
       "      <td>Not Mentioned</td>\n",
       "      <td>Not Mentioned</td>\n",
       "      <td>7500</td>\n",
       "    </tr>\n",
       "    <tr>\n",
       "      <td>2175</td>\n",
       "      <td>other society</td>\n",
       "      <td>Independent House/Villa</td>\n",
       "      <td>Sector 12 Vashi</td>\n",
       "      <td>4 Bedroom</td>\n",
       "      <td>3229.1700</td>\n",
       "      <td>Semifurnished</td>\n",
       "      <td>1 to 5 years old</td>\n",
       "      <td>Not Mentioned</td>\n",
       "      <td>Not Mentioned</td>\n",
       "      <td>125000</td>\n",
       "    </tr>\n",
       "    <tr>\n",
       "      <td>2340</td>\n",
       "      <td>other society</td>\n",
       "      <td>Independent House/Villa</td>\n",
       "      <td>Chembur</td>\n",
       "      <td>4 Bedroom</td>\n",
       "      <td>2500.0000</td>\n",
       "      <td>Furnished</td>\n",
       "      <td>1 to 5 years old</td>\n",
       "      <td>Not Mentioned</td>\n",
       "      <td>Not Mentioned</td>\n",
       "      <td>84000</td>\n",
       "    </tr>\n",
       "    <tr>\n",
       "      <td>2377</td>\n",
       "      <td>Description :</td>\n",
       "      <td>Independent House/Villa</td>\n",
       "      <td>Kharghar</td>\n",
       "      <td>2 Bedroom</td>\n",
       "      <td>4520.8380</td>\n",
       "      <td>Not Mentioned</td>\n",
       "      <td>10+ years old</td>\n",
       "      <td>Not Mentioned</td>\n",
       "      <td>Not Mentioned</td>\n",
       "      <td>25000</td>\n",
       "    </tr>\n",
       "    <tr>\n",
       "      <td>2391</td>\n",
       "      <td>On Request</td>\n",
       "      <td>Independent House/Villa</td>\n",
       "      <td>Upper Govind Nagar</td>\n",
       "      <td>4 Bedroom</td>\n",
       "      <td>5000.0000</td>\n",
       "      <td>Furnished</td>\n",
       "      <td>10+ years old</td>\n",
       "      <td>Not Mentioned</td>\n",
       "      <td>Not Mentioned</td>\n",
       "      <td>250000</td>\n",
       "    </tr>\n",
       "    <tr>\n",
       "      <td>5638</td>\n",
       "      <td>On Request</td>\n",
       "      <td>Independent House/Villa</td>\n",
       "      <td>Kharghar</td>\n",
       "      <td>5 Bedroom</td>\n",
       "      <td>2152.7800</td>\n",
       "      <td>Unfurnished</td>\n",
       "      <td>0 to 1 years old</td>\n",
       "      <td>Not Mentioned</td>\n",
       "      <td>Not Mentioned</td>\n",
       "      <td>75000</td>\n",
       "    </tr>\n",
       "    <tr>\n",
       "      <td>5726</td>\n",
       "      <td>other society</td>\n",
       "      <td>Independent House/Villa</td>\n",
       "      <td>Chembur</td>\n",
       "      <td>4 Bedroom</td>\n",
       "      <td>3229.1700</td>\n",
       "      <td>Unfurnished</td>\n",
       "      <td>10+ years old</td>\n",
       "      <td>Not Mentioned</td>\n",
       "      <td>Not Mentioned</td>\n",
       "      <td>100000</td>\n",
       "    </tr>\n",
       "    <tr>\n",
       "      <td>5865</td>\n",
       "      <td>other society</td>\n",
       "      <td>Independent House/Villa</td>\n",
       "      <td>Chembur (East)</td>\n",
       "      <td>3 Bedroom</td>\n",
       "      <td>2000.0000</td>\n",
       "      <td>Semifurnished</td>\n",
       "      <td>10+ years old</td>\n",
       "      <td>Not Mentioned</td>\n",
       "      <td>Not Mentioned</td>\n",
       "      <td>125000</td>\n",
       "    </tr>\n",
       "    <tr>\n",
       "      <td>5915</td>\n",
       "      <td>other society</td>\n",
       "      <td>Independent House/Villa</td>\n",
       "      <td>Manpada</td>\n",
       "      <td>7 Bedroom</td>\n",
       "      <td>4500.0000</td>\n",
       "      <td>Unfurnished</td>\n",
       "      <td>5 to 10 years old</td>\n",
       "      <td>Not Mentioned</td>\n",
       "      <td>Not Mentioned</td>\n",
       "      <td>110000</td>\n",
       "    </tr>\n",
       "    <tr>\n",
       "      <td>6106</td>\n",
       "      <td>other society</td>\n",
       "      <td>Independent House/Villa</td>\n",
       "      <td>Chembur (East)</td>\n",
       "      <td>3 Bedroom</td>\n",
       "      <td>1800.0000</td>\n",
       "      <td>Semifurnished</td>\n",
       "      <td>5 to 10 years old</td>\n",
       "      <td>Not Mentioned</td>\n",
       "      <td>Not Mentioned</td>\n",
       "      <td>100000</td>\n",
       "    </tr>\n",
       "    <tr>\n",
       "      <td>6659</td>\n",
       "      <td>Description :</td>\n",
       "      <td>Independent House/Villa</td>\n",
       "      <td>Kajupada, Kurla</td>\n",
       "      <td>1 Bedroom</td>\n",
       "      <td>10.7639</td>\n",
       "      <td>Not Mentioned</td>\n",
       "      <td>5 to 10 years old</td>\n",
       "      <td>Not Mentioned</td>\n",
       "      <td>Not Mentioned</td>\n",
       "      <td>10000</td>\n",
       "    </tr>\n",
       "    <tr>\n",
       "      <td>6934</td>\n",
       "      <td>Sindhi Society</td>\n",
       "      <td>Independent House/Villa</td>\n",
       "      <td>Chembur (East)</td>\n",
       "      <td>4 Bedroom</td>\n",
       "      <td>2650.0000</td>\n",
       "      <td>Semifurnished</td>\n",
       "      <td>1 to 5 years old</td>\n",
       "      <td>Not Mentioned</td>\n",
       "      <td>Not Mentioned</td>\n",
       "      <td>110000</td>\n",
       "    </tr>\n",
       "    <tr>\n",
       "      <td>6979</td>\n",
       "      <td>Description :</td>\n",
       "      <td>Independent House/Villa</td>\n",
       "      <td>Gtb Nagar</td>\n",
       "      <td>9 Bedroom</td>\n",
       "      <td>2025.0000</td>\n",
       "      <td>Not Mentioned</td>\n",
       "      <td>10+ years old</td>\n",
       "      <td>Not Mentioned</td>\n",
       "      <td>Not Mentioned</td>\n",
       "      <td>220000</td>\n",
       "    </tr>\n",
       "    <tr>\n",
       "      <td>6987</td>\n",
       "      <td>On Request</td>\n",
       "      <td>Independent House/Villa</td>\n",
       "      <td>Juhu</td>\n",
       "      <td>4 Bedroom</td>\n",
       "      <td>3500.0000</td>\n",
       "      <td>Furnished</td>\n",
       "      <td>5 to 10 years old</td>\n",
       "      <td>Not Mentioned</td>\n",
       "      <td>Not Mentioned</td>\n",
       "      <td>550000</td>\n",
       "    </tr>\n",
       "    <tr>\n",
       "      <td>7101</td>\n",
       "      <td>Description :</td>\n",
       "      <td>Independent House/Villa</td>\n",
       "      <td>Chembur</td>\n",
       "      <td>4 Bedroom</td>\n",
       "      <td>2400.0000</td>\n",
       "      <td>Not Mentioned</td>\n",
       "      <td>1 to 5 years old</td>\n",
       "      <td>Not Mentioned</td>\n",
       "      <td>Not Mentioned</td>\n",
       "      <td>120000</td>\n",
       "    </tr>\n",
       "    <tr>\n",
       "      <td>7574</td>\n",
       "      <td>other society</td>\n",
       "      <td>Independent House/Villa</td>\n",
       "      <td>Sector-4 Airoli</td>\n",
       "      <td>1 Bedroom</td>\n",
       "      <td>1076.3900</td>\n",
       "      <td>Unfurnished</td>\n",
       "      <td>5 to 10 years old</td>\n",
       "      <td>Not Mentioned</td>\n",
       "      <td>Not Mentioned</td>\n",
       "      <td>13000</td>\n",
       "    </tr>\n",
       "    <tr>\n",
       "      <td>7702</td>\n",
       "      <td>other society</td>\n",
       "      <td>Independent House/Villa</td>\n",
       "      <td>Manpada</td>\n",
       "      <td>3 Bedroom</td>\n",
       "      <td>3500.0000</td>\n",
       "      <td>Furnished</td>\n",
       "      <td>10+ years old</td>\n",
       "      <td>Not Mentioned</td>\n",
       "      <td>Not Mentioned</td>\n",
       "      <td>125000</td>\n",
       "    </tr>\n",
       "    <tr>\n",
       "      <td>7883</td>\n",
       "      <td>other society</td>\n",
       "      <td>Independent House/Villa</td>\n",
       "      <td>Jolly Maker No1 Row House</td>\n",
       "      <td>4 Bedroom</td>\n",
       "      <td>11022.2336</td>\n",
       "      <td>Semifurnished</td>\n",
       "      <td>10+ years old</td>\n",
       "      <td>Not Mentioned</td>\n",
       "      <td>Not Mentioned</td>\n",
       "      <td>500000</td>\n",
       "    </tr>\n",
       "    <tr>\n",
       "      <td>7928</td>\n",
       "      <td>Description :</td>\n",
       "      <td>Independent House/Villa</td>\n",
       "      <td>Ambernath</td>\n",
       "      <td>1 Bedroom</td>\n",
       "      <td>450.0000</td>\n",
       "      <td>Not Mentioned</td>\n",
       "      <td>Not Mentioned</td>\n",
       "      <td>Not Mentioned</td>\n",
       "      <td>Not Mentioned</td>\n",
       "      <td>4500</td>\n",
       "    </tr>\n",
       "    <tr>\n",
       "      <td>7933</td>\n",
       "      <td>other society</td>\n",
       "      <td>Independent House/Villa</td>\n",
       "      <td>Santacruz (West)</td>\n",
       "      <td>5 Bedroom</td>\n",
       "      <td>5000.0000</td>\n",
       "      <td>Semifurnished</td>\n",
       "      <td>5 to 10 years old</td>\n",
       "      <td>Not Mentioned</td>\n",
       "      <td>Not Mentioned</td>\n",
       "      <td>550000</td>\n",
       "    </tr>\n",
       "    <tr>\n",
       "      <td>7934</td>\n",
       "      <td>other society</td>\n",
       "      <td>Independent House/Villa</td>\n",
       "      <td>Santacruz (West)</td>\n",
       "      <td>5 Bedroom</td>\n",
       "      <td>5000.0000</td>\n",
       "      <td>Semifurnished</td>\n",
       "      <td>5 to 10 years old</td>\n",
       "      <td>Not Mentioned</td>\n",
       "      <td>Not Mentioned</td>\n",
       "      <td>550000</td>\n",
       "    </tr>\n",
       "    <tr>\n",
       "      <td>7942</td>\n",
       "      <td>other society</td>\n",
       "      <td>Independent House/Villa</td>\n",
       "      <td>Shahaji Nagar</td>\n",
       "      <td>1 Bedroom</td>\n",
       "      <td>300.0000</td>\n",
       "      <td>Unfurnished</td>\n",
       "      <td>10+ years old</td>\n",
       "      <td>Not Mentioned</td>\n",
       "      <td>Not Mentioned</td>\n",
       "      <td>7000</td>\n",
       "    </tr>\n",
       "    <tr>\n",
       "      <td>8008</td>\n",
       "      <td>On Request</td>\n",
       "      <td>Independent House/Villa</td>\n",
       "      <td>Juhu</td>\n",
       "      <td>3 Bedroom</td>\n",
       "      <td>2800.0000</td>\n",
       "      <td>Furnished</td>\n",
       "      <td>5 to 10 years old</td>\n",
       "      <td>Not Mentioned</td>\n",
       "      <td>Not Mentioned</td>\n",
       "      <td>400000</td>\n",
       "    </tr>\n",
       "    <tr>\n",
       "      <td>8153</td>\n",
       "      <td>other society</td>\n",
       "      <td>Independent House/Villa</td>\n",
       "      <td>Deonar</td>\n",
       "      <td>4 Bedroom</td>\n",
       "      <td>3000.0000</td>\n",
       "      <td>Furnished</td>\n",
       "      <td>10+ years old</td>\n",
       "      <td>Not Mentioned</td>\n",
       "      <td>Not Mentioned</td>\n",
       "      <td>110000</td>\n",
       "    </tr>\n",
       "    <tr>\n",
       "      <td>8428</td>\n",
       "      <td>other society</td>\n",
       "      <td>Independent House/Villa</td>\n",
       "      <td>Dombivli (East)</td>\n",
       "      <td>1 Bedroom</td>\n",
       "      <td>800.0000</td>\n",
       "      <td>Semifurnished</td>\n",
       "      <td>5 to 10 years old</td>\n",
       "      <td>Not Mentioned</td>\n",
       "      <td>Not Mentioned</td>\n",
       "      <td>7000</td>\n",
       "    </tr>\n",
       "    <tr>\n",
       "      <td>8762</td>\n",
       "      <td>Description :</td>\n",
       "      <td>Independent House/Villa</td>\n",
       "      <td>Sector-8 Kharghar</td>\n",
       "      <td>4 Bedroom</td>\n",
       "      <td>2152.7800</td>\n",
       "      <td>Not Mentioned</td>\n",
       "      <td>Not Mentioned</td>\n",
       "      <td>Not Mentioned</td>\n",
       "      <td>Not Mentioned</td>\n",
       "      <td>50000</td>\n",
       "    </tr>\n",
       "    <tr>\n",
       "      <td>8921</td>\n",
       "      <td>other society</td>\n",
       "      <td>Independent House/Villa</td>\n",
       "      <td>Sector 9 Airoli</td>\n",
       "      <td>1 Bedroom</td>\n",
       "      <td>550.0000</td>\n",
       "      <td>Unfurnished</td>\n",
       "      <td>1 to 5 years old</td>\n",
       "      <td>Not Mentioned</td>\n",
       "      <td>Not Mentioned</td>\n",
       "      <td>13000</td>\n",
       "    </tr>\n",
       "    <tr>\n",
       "      <td>9023</td>\n",
       "      <td>Description :</td>\n",
       "      <td>Independent House/Villa</td>\n",
       "      <td>Mulund Colony</td>\n",
       "      <td>4 Bedroom</td>\n",
       "      <td>1800.0000</td>\n",
       "      <td>Not Mentioned</td>\n",
       "      <td>10+ years old</td>\n",
       "      <td>Not Mentioned</td>\n",
       "      <td>Not Mentioned</td>\n",
       "      <td>50000</td>\n",
       "    </tr>\n",
       "    <tr>\n",
       "      <td>9430</td>\n",
       "      <td>other society</td>\n",
       "      <td>Independent House/Villa</td>\n",
       "      <td>Sector-8 Charkop</td>\n",
       "      <td>2 Bedroom</td>\n",
       "      <td>430.5560</td>\n",
       "      <td>Unfurnished</td>\n",
       "      <td>0 to 1 years old</td>\n",
       "      <td>Not Mentioned</td>\n",
       "      <td>Not Mentioned</td>\n",
       "      <td>14000</td>\n",
       "    </tr>\n",
       "    <tr>\n",
       "      <td>9715</td>\n",
       "      <td>other society</td>\n",
       "      <td>Independent House/Villa</td>\n",
       "      <td>Chembur</td>\n",
       "      <td>4 Bedroom</td>\n",
       "      <td>2800.0000</td>\n",
       "      <td>Furnished</td>\n",
       "      <td>5 to 10 years old</td>\n",
       "      <td>Not Mentioned</td>\n",
       "      <td>Not Mentioned</td>\n",
       "      <td>75000</td>\n",
       "    </tr>\n",
       "    <tr>\n",
       "      <td>9736</td>\n",
       "      <td>other society</td>\n",
       "      <td>Independent House/Villa</td>\n",
       "      <td>Chembur (East)</td>\n",
       "      <td>4 Bedroom</td>\n",
       "      <td>3500.0000</td>\n",
       "      <td>Semifurnished</td>\n",
       "      <td>1 to 5 years old</td>\n",
       "      <td>Not Mentioned</td>\n",
       "      <td>Not Mentioned</td>\n",
       "      <td>125000</td>\n",
       "    </tr>\n",
       "    <tr>\n",
       "      <td>10049</td>\n",
       "      <td>Description :</td>\n",
       "      <td>Independent House/Villa</td>\n",
       "      <td>Mankhurd</td>\n",
       "      <td>3 Bedroom</td>\n",
       "      <td>2500.0000</td>\n",
       "      <td>Not Mentioned</td>\n",
       "      <td>Not Mentioned</td>\n",
       "      <td>Not Mentioned</td>\n",
       "      <td>Not Mentioned</td>\n",
       "      <td>85000</td>\n",
       "    </tr>\n",
       "    <tr>\n",
       "      <td>10262</td>\n",
       "      <td>other society</td>\n",
       "      <td>Independent House/Villa</td>\n",
       "      <td>Sector 28 Vashi</td>\n",
       "      <td>7 Bedroom</td>\n",
       "      <td>3444.4480</td>\n",
       "      <td>Unfurnished</td>\n",
       "      <td>5 to 10 years old</td>\n",
       "      <td>Not Mentioned</td>\n",
       "      <td>Not Mentioned</td>\n",
       "      <td>120000</td>\n",
       "    </tr>\n",
       "    <tr>\n",
       "      <td>10293</td>\n",
       "      <td>other society</td>\n",
       "      <td>Independent House/Villa</td>\n",
       "      <td>Aram Nagar Part 1</td>\n",
       "      <td>3 Bedroom</td>\n",
       "      <td>1991.3215</td>\n",
       "      <td>Unfurnished</td>\n",
       "      <td>10+ years old</td>\n",
       "      <td>Not Mentioned</td>\n",
       "      <td>Not Mentioned</td>\n",
       "      <td>150000</td>\n",
       "    </tr>\n",
       "    <tr>\n",
       "      <td>10409</td>\n",
       "      <td>other society</td>\n",
       "      <td>Independent House/Villa</td>\n",
       "      <td>Sector 8 Airoli</td>\n",
       "      <td>1 Bedroom</td>\n",
       "      <td>150.0000</td>\n",
       "      <td>Unfurnished</td>\n",
       "      <td>1 to 5 years old</td>\n",
       "      <td>Not Mentioned</td>\n",
       "      <td>Not Mentioned</td>\n",
       "      <td>17000</td>\n",
       "    </tr>\n",
       "    <tr>\n",
       "      <td>10410</td>\n",
       "      <td>other society</td>\n",
       "      <td>Independent House/Villa</td>\n",
       "      <td>Sector 8 Airoli</td>\n",
       "      <td>2 Bedroom</td>\n",
       "      <td>500.0000</td>\n",
       "      <td>Unfurnished</td>\n",
       "      <td>5 to 10 years old</td>\n",
       "      <td>Not Mentioned</td>\n",
       "      <td>Not Mentioned</td>\n",
       "      <td>25000</td>\n",
       "    </tr>\n",
       "    <tr>\n",
       "      <td>10433</td>\n",
       "      <td>other society</td>\n",
       "      <td>Independent House/Villa</td>\n",
       "      <td>Sector-17 Nerul</td>\n",
       "      <td>2 Bedroom</td>\n",
       "      <td>1100.0000</td>\n",
       "      <td>Furnished</td>\n",
       "      <td>10+ years old</td>\n",
       "      <td>Not Mentioned</td>\n",
       "      <td>Not Mentioned</td>\n",
       "      <td>32500</td>\n",
       "    </tr>\n",
       "    <tr>\n",
       "      <td>10595</td>\n",
       "      <td>other society</td>\n",
       "      <td>Independent House/Villa</td>\n",
       "      <td>Chembur</td>\n",
       "      <td>4 Bedroom</td>\n",
       "      <td>2500.0000</td>\n",
       "      <td>Unfurnished</td>\n",
       "      <td>Not Mentioned</td>\n",
       "      <td>Not Mentioned</td>\n",
       "      <td>Not Mentioned</td>\n",
       "      <td>100000</td>\n",
       "    </tr>\n",
       "    <tr>\n",
       "      <td>10846</td>\n",
       "      <td>other society</td>\n",
       "      <td>Independent House/Villa</td>\n",
       "      <td>Chembur (East)</td>\n",
       "      <td>4 Bedroom</td>\n",
       "      <td>3000.0000</td>\n",
       "      <td>Furnished</td>\n",
       "      <td>10+ years old</td>\n",
       "      <td>Not Mentioned</td>\n",
       "      <td>Not Mentioned</td>\n",
       "      <td>110000</td>\n",
       "    </tr>\n",
       "    <tr>\n",
       "      <td>10847</td>\n",
       "      <td>Description :</td>\n",
       "      <td>Independent House/Villa</td>\n",
       "      <td>Sector-8 Charkop</td>\n",
       "      <td>1 Bedroom</td>\n",
       "      <td>300.0000</td>\n",
       "      <td>Not Mentioned</td>\n",
       "      <td>10+ years old</td>\n",
       "      <td>Not Mentioned</td>\n",
       "      <td>Not Mentioned</td>\n",
       "      <td>11000</td>\n",
       "    </tr>\n",
       "    <tr>\n",
       "      <td>11045</td>\n",
       "      <td>Description :</td>\n",
       "      <td>Independent House/Villa</td>\n",
       "      <td>Cidco Colony</td>\n",
       "      <td>1 Bedroom</td>\n",
       "      <td>430.5560</td>\n",
       "      <td>Not Mentioned</td>\n",
       "      <td>1 to 5 years old</td>\n",
       "      <td>Not Mentioned</td>\n",
       "      <td>Not Mentioned</td>\n",
       "      <td>9000</td>\n",
       "    </tr>\n",
       "    <tr>\n",
       "      <td>11063</td>\n",
       "      <td>Description :</td>\n",
       "      <td>Independent House/Villa</td>\n",
       "      <td>Sector-4A Koparkhairane</td>\n",
       "      <td>4 Bedroom</td>\n",
       "      <td>1076.3900</td>\n",
       "      <td>Not Mentioned</td>\n",
       "      <td>1 to 5 years old</td>\n",
       "      <td>Not Mentioned</td>\n",
       "      <td>Not Mentioned</td>\n",
       "      <td>55000</td>\n",
       "    </tr>\n",
       "    <tr>\n",
       "      <td>11373</td>\n",
       "      <td>other society</td>\n",
       "      <td>Independent House/Villa</td>\n",
       "      <td>Mira Road East</td>\n",
       "      <td>3 Bedroom</td>\n",
       "      <td>1850.0000</td>\n",
       "      <td>Semifurnished</td>\n",
       "      <td>1 to 5 years old</td>\n",
       "      <td>Not Mentioned</td>\n",
       "      <td>Not Mentioned</td>\n",
       "      <td>30000</td>\n",
       "    </tr>\n",
       "    <tr>\n",
       "      <td>11671</td>\n",
       "      <td>other society</td>\n",
       "      <td>Independent House/Villa</td>\n",
       "      <td>Juhu</td>\n",
       "      <td>4 Bedroom</td>\n",
       "      <td>4305.5600</td>\n",
       "      <td>Semifurnished</td>\n",
       "      <td>1 to 5 years old</td>\n",
       "      <td>Not Mentioned</td>\n",
       "      <td>Not Mentioned</td>\n",
       "      <td>399000</td>\n",
       "    </tr>\n",
       "    <tr>\n",
       "      <td>11864</td>\n",
       "      <td>other society</td>\n",
       "      <td>Independent House/Villa</td>\n",
       "      <td>Chembur (East)</td>\n",
       "      <td>4 Bedroom</td>\n",
       "      <td>4000.0000</td>\n",
       "      <td>Semifurnished</td>\n",
       "      <td>1 to 5 years old</td>\n",
       "      <td>Not Mentioned</td>\n",
       "      <td>Not Mentioned</td>\n",
       "      <td>125000</td>\n",
       "    </tr>\n",
       "    <tr>\n",
       "      <td>11888</td>\n",
       "      <td>other society</td>\n",
       "      <td>Independent House/Villa</td>\n",
       "      <td>Sector 2 Charkop</td>\n",
       "      <td>2 Bedroom</td>\n",
       "      <td>430.5560</td>\n",
       "      <td>Unfurnished</td>\n",
       "      <td>1 to 5 years old</td>\n",
       "      <td>Not Mentioned</td>\n",
       "      <td>Not Mentioned</td>\n",
       "      <td>21000</td>\n",
       "    </tr>\n",
       "    <tr>\n",
       "      <td>12033</td>\n",
       "      <td>On Request</td>\n",
       "      <td>Independent House/Villa</td>\n",
       "      <td>Sector-8 Charkop</td>\n",
       "      <td>1 Bedroom</td>\n",
       "      <td>400.0000</td>\n",
       "      <td>Unfurnished</td>\n",
       "      <td>10+ years old</td>\n",
       "      <td>Not Mentioned</td>\n",
       "      <td>Not Mentioned</td>\n",
       "      <td>13000</td>\n",
       "    </tr>\n",
       "    <tr>\n",
       "      <td>12142</td>\n",
       "      <td>other society</td>\n",
       "      <td>Independent House/Villa</td>\n",
       "      <td>Sector 5 Charkop</td>\n",
       "      <td>2 Bedroom</td>\n",
       "      <td>269.0975</td>\n",
       "      <td>Semifurnished</td>\n",
       "      <td>1 to 5 years old</td>\n",
       "      <td>Not Mentioned</td>\n",
       "      <td>Not Mentioned</td>\n",
       "      <td>16500</td>\n",
       "    </tr>\n",
       "    <tr>\n",
       "      <td>12469</td>\n",
       "      <td>Description :</td>\n",
       "      <td>Independent House/Villa</td>\n",
       "      <td>Sector-9 Sanpada</td>\n",
       "      <td>2 Bedroom</td>\n",
       "      <td>900.0000</td>\n",
       "      <td>Not Mentioned</td>\n",
       "      <td>Not Mentioned</td>\n",
       "      <td>Not Mentioned</td>\n",
       "      <td>Not Mentioned</td>\n",
       "      <td>20000</td>\n",
       "    </tr>\n",
       "    <tr>\n",
       "      <td>13513</td>\n",
       "      <td>other society</td>\n",
       "      <td>Independent House/Villa</td>\n",
       "      <td>Hiranandani Gardens - Powai</td>\n",
       "      <td>5 Bedroom</td>\n",
       "      <td>2000.0000</td>\n",
       "      <td>Furnished</td>\n",
       "      <td>1 to 5 years old</td>\n",
       "      <td>Not Mentioned</td>\n",
       "      <td>Not Mentioned</td>\n",
       "      <td>80000</td>\n",
       "    </tr>\n",
       "  </tbody>\n",
       "</table>\n",
       "</div>"
      ],
      "text/plain": [
       "              society                     type                     location  \\\n",
       "1360       Union Park  Independent House/Villa                      Chembur   \n",
       "1606    other society  Independent House/Villa                  Lokhandwala   \n",
       "1646    other society  Independent House/Villa                   Worli Naka   \n",
       "1788    Description :  Independent House/Villa                         Juhu   \n",
       "1901       On Request  Independent House/Villa             Sector-8 Charkop   \n",
       "2122       On Request  Independent House/Villa                         Juhu   \n",
       "2124    other society  Independent House/Villa              Sector-2 Airoli   \n",
       "2175    other society  Independent House/Villa              Sector 12 Vashi   \n",
       "2340    other society  Independent House/Villa                      Chembur   \n",
       "2377    Description :  Independent House/Villa                     Kharghar   \n",
       "2391       On Request  Independent House/Villa           Upper Govind Nagar   \n",
       "5638       On Request  Independent House/Villa                     Kharghar   \n",
       "5726    other society  Independent House/Villa                      Chembur   \n",
       "5865    other society  Independent House/Villa               Chembur (East)   \n",
       "5915    other society  Independent House/Villa                      Manpada   \n",
       "6106    other society  Independent House/Villa               Chembur (East)   \n",
       "6659    Description :  Independent House/Villa              Kajupada, Kurla   \n",
       "6934   Sindhi Society  Independent House/Villa               Chembur (East)   \n",
       "6979    Description :  Independent House/Villa                    Gtb Nagar   \n",
       "6987       On Request  Independent House/Villa                         Juhu   \n",
       "7101    Description :  Independent House/Villa                      Chembur   \n",
       "7574    other society  Independent House/Villa              Sector-4 Airoli   \n",
       "7702    other society  Independent House/Villa                      Manpada   \n",
       "7883    other society  Independent House/Villa    Jolly Maker No1 Row House   \n",
       "7928    Description :  Independent House/Villa                    Ambernath   \n",
       "7933    other society  Independent House/Villa             Santacruz (West)   \n",
       "7934    other society  Independent House/Villa             Santacruz (West)   \n",
       "7942    other society  Independent House/Villa                Shahaji Nagar   \n",
       "8008       On Request  Independent House/Villa                         Juhu   \n",
       "8153    other society  Independent House/Villa                       Deonar   \n",
       "8428    other society  Independent House/Villa              Dombivli (East)   \n",
       "8762    Description :  Independent House/Villa            Sector-8 Kharghar   \n",
       "8921    other society  Independent House/Villa              Sector 9 Airoli   \n",
       "9023    Description :  Independent House/Villa                Mulund Colony   \n",
       "9430    other society  Independent House/Villa             Sector-8 Charkop   \n",
       "9715    other society  Independent House/Villa                      Chembur   \n",
       "9736    other society  Independent House/Villa               Chembur (East)   \n",
       "10049   Description :  Independent House/Villa                     Mankhurd   \n",
       "10262   other society  Independent House/Villa              Sector 28 Vashi   \n",
       "10293   other society  Independent House/Villa            Aram Nagar Part 1   \n",
       "10409   other society  Independent House/Villa              Sector 8 Airoli   \n",
       "10410   other society  Independent House/Villa              Sector 8 Airoli   \n",
       "10433   other society  Independent House/Villa              Sector-17 Nerul   \n",
       "10595   other society  Independent House/Villa                      Chembur   \n",
       "10846   other society  Independent House/Villa               Chembur (East)   \n",
       "10847   Description :  Independent House/Villa             Sector-8 Charkop   \n",
       "11045   Description :  Independent House/Villa                 Cidco Colony   \n",
       "11063   Description :  Independent House/Villa      Sector-4A Koparkhairane   \n",
       "11373   other society  Independent House/Villa               Mira Road East   \n",
       "11671   other society  Independent House/Villa                         Juhu   \n",
       "11864   other society  Independent House/Villa               Chembur (East)   \n",
       "11888   other society  Independent House/Villa             Sector 2 Charkop   \n",
       "12033      On Request  Independent House/Villa             Sector-8 Charkop   \n",
       "12142   other society  Independent House/Villa             Sector 5 Charkop   \n",
       "12469   Description :  Independent House/Villa             Sector-9 Sanpada   \n",
       "13513   other society  Independent House/Villa  Hiranandani Gardens - Powai   \n",
       "\n",
       "        bedrooms  built-up area     furnishing                age  \\\n",
       "1360   2 Bedroom       935.0000    Unfurnished   1 to 5 years old   \n",
       "1606   4 Bedroom      2500.0000  Semifurnished  5 to 10 years old   \n",
       "1646   4 Bedroom     41548.6540  Semifurnished   0 to 1 years old   \n",
       "1788   4 Bedroom      3500.0000  Not Mentioned  5 to 10 years old   \n",
       "1901   1 Bedroom       250.0000    Unfurnished      10+ years old   \n",
       "2122   4 Bedroom      3300.0000      Furnished  5 to 10 years old   \n",
       "2124   1 Bedroom       269.0975    Unfurnished   0 to 1 years old   \n",
       "2175   4 Bedroom      3229.1700  Semifurnished   1 to 5 years old   \n",
       "2340   4 Bedroom      2500.0000      Furnished   1 to 5 years old   \n",
       "2377   2 Bedroom      4520.8380  Not Mentioned      10+ years old   \n",
       "2391   4 Bedroom      5000.0000      Furnished      10+ years old   \n",
       "5638   5 Bedroom      2152.7800    Unfurnished   0 to 1 years old   \n",
       "5726   4 Bedroom      3229.1700    Unfurnished      10+ years old   \n",
       "5865   3 Bedroom      2000.0000  Semifurnished      10+ years old   \n",
       "5915   7 Bedroom      4500.0000    Unfurnished  5 to 10 years old   \n",
       "6106   3 Bedroom      1800.0000  Semifurnished  5 to 10 years old   \n",
       "6659   1 Bedroom        10.7639  Not Mentioned  5 to 10 years old   \n",
       "6934   4 Bedroom      2650.0000  Semifurnished   1 to 5 years old   \n",
       "6979   9 Bedroom      2025.0000  Not Mentioned      10+ years old   \n",
       "6987   4 Bedroom      3500.0000      Furnished  5 to 10 years old   \n",
       "7101   4 Bedroom      2400.0000  Not Mentioned   1 to 5 years old   \n",
       "7574   1 Bedroom      1076.3900    Unfurnished  5 to 10 years old   \n",
       "7702   3 Bedroom      3500.0000      Furnished      10+ years old   \n",
       "7883   4 Bedroom     11022.2336  Semifurnished      10+ years old   \n",
       "7928   1 Bedroom       450.0000  Not Mentioned      Not Mentioned   \n",
       "7933   5 Bedroom      5000.0000  Semifurnished  5 to 10 years old   \n",
       "7934   5 Bedroom      5000.0000  Semifurnished  5 to 10 years old   \n",
       "7942   1 Bedroom       300.0000    Unfurnished      10+ years old   \n",
       "8008   3 Bedroom      2800.0000      Furnished  5 to 10 years old   \n",
       "8153   4 Bedroom      3000.0000      Furnished      10+ years old   \n",
       "8428   1 Bedroom       800.0000  Semifurnished  5 to 10 years old   \n",
       "8762   4 Bedroom      2152.7800  Not Mentioned      Not Mentioned   \n",
       "8921   1 Bedroom       550.0000    Unfurnished   1 to 5 years old   \n",
       "9023   4 Bedroom      1800.0000  Not Mentioned      10+ years old   \n",
       "9430   2 Bedroom       430.5560    Unfurnished   0 to 1 years old   \n",
       "9715   4 Bedroom      2800.0000      Furnished  5 to 10 years old   \n",
       "9736   4 Bedroom      3500.0000  Semifurnished   1 to 5 years old   \n",
       "10049  3 Bedroom      2500.0000  Not Mentioned      Not Mentioned   \n",
       "10262  7 Bedroom      3444.4480    Unfurnished  5 to 10 years old   \n",
       "10293  3 Bedroom      1991.3215    Unfurnished      10+ years old   \n",
       "10409  1 Bedroom       150.0000    Unfurnished   1 to 5 years old   \n",
       "10410  2 Bedroom       500.0000    Unfurnished  5 to 10 years old   \n",
       "10433  2 Bedroom      1100.0000      Furnished      10+ years old   \n",
       "10595  4 Bedroom      2500.0000    Unfurnished      Not Mentioned   \n",
       "10846  4 Bedroom      3000.0000      Furnished      10+ years old   \n",
       "10847  1 Bedroom       300.0000  Not Mentioned      10+ years old   \n",
       "11045  1 Bedroom       430.5560  Not Mentioned   1 to 5 years old   \n",
       "11063  4 Bedroom      1076.3900  Not Mentioned   1 to 5 years old   \n",
       "11373  3 Bedroom      1850.0000  Semifurnished   1 to 5 years old   \n",
       "11671  4 Bedroom      4305.5600  Semifurnished   1 to 5 years old   \n",
       "11864  4 Bedroom      4000.0000  Semifurnished   1 to 5 years old   \n",
       "11888  2 Bedroom       430.5560    Unfurnished   1 to 5 years old   \n",
       "12033  1 Bedroom       400.0000    Unfurnished      10+ years old   \n",
       "12142  2 Bedroom       269.0975  Semifurnished   1 to 5 years old   \n",
       "12469  2 Bedroom       900.0000  Not Mentioned      Not Mentioned   \n",
       "13513  5 Bedroom      2000.0000      Furnished   1 to 5 years old   \n",
       "\n",
       "               floor   total floors  monthly rent  \n",
       "1360   Not Mentioned  Not Mentioned         44000  \n",
       "1606   Not Mentioned  Not Mentioned        250000  \n",
       "1646   Not Mentioned  Not Mentioned        310000  \n",
       "1788   Not Mentioned  Not Mentioned        400000  \n",
       "1901   Not Mentioned  Not Mentioned         10500  \n",
       "2122   Not Mentioned  Not Mentioned        450000  \n",
       "2124   Not Mentioned  Not Mentioned          7500  \n",
       "2175   Not Mentioned  Not Mentioned        125000  \n",
       "2340   Not Mentioned  Not Mentioned         84000  \n",
       "2377   Not Mentioned  Not Mentioned         25000  \n",
       "2391   Not Mentioned  Not Mentioned        250000  \n",
       "5638   Not Mentioned  Not Mentioned         75000  \n",
       "5726   Not Mentioned  Not Mentioned        100000  \n",
       "5865   Not Mentioned  Not Mentioned        125000  \n",
       "5915   Not Mentioned  Not Mentioned        110000  \n",
       "6106   Not Mentioned  Not Mentioned        100000  \n",
       "6659   Not Mentioned  Not Mentioned         10000  \n",
       "6934   Not Mentioned  Not Mentioned        110000  \n",
       "6979   Not Mentioned  Not Mentioned        220000  \n",
       "6987   Not Mentioned  Not Mentioned        550000  \n",
       "7101   Not Mentioned  Not Mentioned        120000  \n",
       "7574   Not Mentioned  Not Mentioned         13000  \n",
       "7702   Not Mentioned  Not Mentioned        125000  \n",
       "7883   Not Mentioned  Not Mentioned        500000  \n",
       "7928   Not Mentioned  Not Mentioned          4500  \n",
       "7933   Not Mentioned  Not Mentioned        550000  \n",
       "7934   Not Mentioned  Not Mentioned        550000  \n",
       "7942   Not Mentioned  Not Mentioned          7000  \n",
       "8008   Not Mentioned  Not Mentioned        400000  \n",
       "8153   Not Mentioned  Not Mentioned        110000  \n",
       "8428   Not Mentioned  Not Mentioned          7000  \n",
       "8762   Not Mentioned  Not Mentioned         50000  \n",
       "8921   Not Mentioned  Not Mentioned         13000  \n",
       "9023   Not Mentioned  Not Mentioned         50000  \n",
       "9430   Not Mentioned  Not Mentioned         14000  \n",
       "9715   Not Mentioned  Not Mentioned         75000  \n",
       "9736   Not Mentioned  Not Mentioned        125000  \n",
       "10049  Not Mentioned  Not Mentioned         85000  \n",
       "10262  Not Mentioned  Not Mentioned        120000  \n",
       "10293  Not Mentioned  Not Mentioned        150000  \n",
       "10409  Not Mentioned  Not Mentioned         17000  \n",
       "10410  Not Mentioned  Not Mentioned         25000  \n",
       "10433  Not Mentioned  Not Mentioned         32500  \n",
       "10595  Not Mentioned  Not Mentioned        100000  \n",
       "10846  Not Mentioned  Not Mentioned        110000  \n",
       "10847  Not Mentioned  Not Mentioned         11000  \n",
       "11045  Not Mentioned  Not Mentioned          9000  \n",
       "11063  Not Mentioned  Not Mentioned         55000  \n",
       "11373  Not Mentioned  Not Mentioned         30000  \n",
       "11671  Not Mentioned  Not Mentioned        399000  \n",
       "11864  Not Mentioned  Not Mentioned        125000  \n",
       "11888  Not Mentioned  Not Mentioned         21000  \n",
       "12033  Not Mentioned  Not Mentioned         13000  \n",
       "12142  Not Mentioned  Not Mentioned         16500  \n",
       "12469  Not Mentioned  Not Mentioned         20000  \n",
       "13513  Not Mentioned  Not Mentioned         80000  "
      ]
     },
     "execution_count": 16,
     "metadata": {},
     "output_type": "execute_result"
    }
   ],
   "source": [
    "data3[data3['type'] == 'Independent House/Villa']"
   ]
  },
  {
   "cell_type": "code",
   "execution_count": 17,
   "metadata": {},
   "outputs": [
    {
     "data": {
      "text/plain": [
       "Int64Index([ 1360,  1606,  1646,  1788,  1901,  2122,  2124,  2175,  2340,\n",
       "             2377,  2391,  5638,  5726,  5865,  5915,  6106,  6659,  6934,\n",
       "             6979,  6987,  7101,  7574,  7702,  7883,  7928,  7933,  7934,\n",
       "             7942,  8008,  8153,  8428,  8762,  8921,  9023,  9430,  9715,\n",
       "             9736, 10049, 10262, 10293, 10409, 10410, 10433, 10595, 10846,\n",
       "            10847, 11045, 11063, 11373, 11671, 11864, 11888, 12033, 12142,\n",
       "            12469, 13513],\n",
       "           dtype='int64')"
      ]
     },
     "execution_count": 17,
     "metadata": {},
     "output_type": "execute_result"
    }
   ],
   "source": [
    "type_index_list = data3[data3['type'] == 'Independent House/Villa'].index\n",
    "type_index_list"
   ]
  },
  {
   "cell_type": "code",
   "execution_count": null,
   "metadata": {},
   "outputs": [],
   "source": []
  },
  {
   "cell_type": "code",
   "execution_count": 18,
   "metadata": {},
   "outputs": [],
   "source": [
    "for i in type_index_list:\n",
    "    data3['floor'][i] = 0\n",
    "    data3['total floors'][i] = 0"
   ]
  },
  {
   "cell_type": "code",
   "execution_count": 19,
   "metadata": {
    "scrolled": true
   },
   "outputs": [
    {
     "data": {
      "text/html": [
       "<div>\n",
       "<style scoped>\n",
       "    .dataframe tbody tr th:only-of-type {\n",
       "        vertical-align: middle;\n",
       "    }\n",
       "\n",
       "    .dataframe tbody tr th {\n",
       "        vertical-align: top;\n",
       "    }\n",
       "\n",
       "    .dataframe thead th {\n",
       "        text-align: right;\n",
       "    }\n",
       "</style>\n",
       "<table border=\"1\" class=\"dataframe\">\n",
       "  <thead>\n",
       "    <tr style=\"text-align: right;\">\n",
       "      <th></th>\n",
       "      <th>society</th>\n",
       "      <th>type</th>\n",
       "      <th>location</th>\n",
       "      <th>bedrooms</th>\n",
       "      <th>built-up area</th>\n",
       "      <th>furnishing</th>\n",
       "      <th>age</th>\n",
       "      <th>floor</th>\n",
       "      <th>total floors</th>\n",
       "      <th>monthly rent</th>\n",
       "    </tr>\n",
       "  </thead>\n",
       "  <tbody>\n",
       "    <tr>\n",
       "      <td>1360</td>\n",
       "      <td>Union Park</td>\n",
       "      <td>Independent House/Villa</td>\n",
       "      <td>Chembur</td>\n",
       "      <td>2 Bedroom</td>\n",
       "      <td>935.0000</td>\n",
       "      <td>Unfurnished</td>\n",
       "      <td>1 to 5 years old</td>\n",
       "      <td>0</td>\n",
       "      <td>0</td>\n",
       "      <td>44000</td>\n",
       "    </tr>\n",
       "    <tr>\n",
       "      <td>1606</td>\n",
       "      <td>other society</td>\n",
       "      <td>Independent House/Villa</td>\n",
       "      <td>Lokhandwala</td>\n",
       "      <td>4 Bedroom</td>\n",
       "      <td>2500.0000</td>\n",
       "      <td>Semifurnished</td>\n",
       "      <td>5 to 10 years old</td>\n",
       "      <td>0</td>\n",
       "      <td>0</td>\n",
       "      <td>250000</td>\n",
       "    </tr>\n",
       "    <tr>\n",
       "      <td>1646</td>\n",
       "      <td>other society</td>\n",
       "      <td>Independent House/Villa</td>\n",
       "      <td>Worli Naka</td>\n",
       "      <td>4 Bedroom</td>\n",
       "      <td>41548.6540</td>\n",
       "      <td>Semifurnished</td>\n",
       "      <td>0 to 1 years old</td>\n",
       "      <td>0</td>\n",
       "      <td>0</td>\n",
       "      <td>310000</td>\n",
       "    </tr>\n",
       "    <tr>\n",
       "      <td>1788</td>\n",
       "      <td>Description :</td>\n",
       "      <td>Independent House/Villa</td>\n",
       "      <td>Juhu</td>\n",
       "      <td>4 Bedroom</td>\n",
       "      <td>3500.0000</td>\n",
       "      <td>Not Mentioned</td>\n",
       "      <td>5 to 10 years old</td>\n",
       "      <td>0</td>\n",
       "      <td>0</td>\n",
       "      <td>400000</td>\n",
       "    </tr>\n",
       "    <tr>\n",
       "      <td>1901</td>\n",
       "      <td>On Request</td>\n",
       "      <td>Independent House/Villa</td>\n",
       "      <td>Sector-8 Charkop</td>\n",
       "      <td>1 Bedroom</td>\n",
       "      <td>250.0000</td>\n",
       "      <td>Unfurnished</td>\n",
       "      <td>10+ years old</td>\n",
       "      <td>0</td>\n",
       "      <td>0</td>\n",
       "      <td>10500</td>\n",
       "    </tr>\n",
       "    <tr>\n",
       "      <td>2122</td>\n",
       "      <td>On Request</td>\n",
       "      <td>Independent House/Villa</td>\n",
       "      <td>Juhu</td>\n",
       "      <td>4 Bedroom</td>\n",
       "      <td>3300.0000</td>\n",
       "      <td>Furnished</td>\n",
       "      <td>5 to 10 years old</td>\n",
       "      <td>0</td>\n",
       "      <td>0</td>\n",
       "      <td>450000</td>\n",
       "    </tr>\n",
       "    <tr>\n",
       "      <td>2124</td>\n",
       "      <td>other society</td>\n",
       "      <td>Independent House/Villa</td>\n",
       "      <td>Sector-2 Airoli</td>\n",
       "      <td>1 Bedroom</td>\n",
       "      <td>269.0975</td>\n",
       "      <td>Unfurnished</td>\n",
       "      <td>0 to 1 years old</td>\n",
       "      <td>0</td>\n",
       "      <td>0</td>\n",
       "      <td>7500</td>\n",
       "    </tr>\n",
       "    <tr>\n",
       "      <td>2175</td>\n",
       "      <td>other society</td>\n",
       "      <td>Independent House/Villa</td>\n",
       "      <td>Sector 12 Vashi</td>\n",
       "      <td>4 Bedroom</td>\n",
       "      <td>3229.1700</td>\n",
       "      <td>Semifurnished</td>\n",
       "      <td>1 to 5 years old</td>\n",
       "      <td>0</td>\n",
       "      <td>0</td>\n",
       "      <td>125000</td>\n",
       "    </tr>\n",
       "    <tr>\n",
       "      <td>2340</td>\n",
       "      <td>other society</td>\n",
       "      <td>Independent House/Villa</td>\n",
       "      <td>Chembur</td>\n",
       "      <td>4 Bedroom</td>\n",
       "      <td>2500.0000</td>\n",
       "      <td>Furnished</td>\n",
       "      <td>1 to 5 years old</td>\n",
       "      <td>0</td>\n",
       "      <td>0</td>\n",
       "      <td>84000</td>\n",
       "    </tr>\n",
       "    <tr>\n",
       "      <td>2377</td>\n",
       "      <td>Description :</td>\n",
       "      <td>Independent House/Villa</td>\n",
       "      <td>Kharghar</td>\n",
       "      <td>2 Bedroom</td>\n",
       "      <td>4520.8380</td>\n",
       "      <td>Not Mentioned</td>\n",
       "      <td>10+ years old</td>\n",
       "      <td>0</td>\n",
       "      <td>0</td>\n",
       "      <td>25000</td>\n",
       "    </tr>\n",
       "    <tr>\n",
       "      <td>2391</td>\n",
       "      <td>On Request</td>\n",
       "      <td>Independent House/Villa</td>\n",
       "      <td>Upper Govind Nagar</td>\n",
       "      <td>4 Bedroom</td>\n",
       "      <td>5000.0000</td>\n",
       "      <td>Furnished</td>\n",
       "      <td>10+ years old</td>\n",
       "      <td>0</td>\n",
       "      <td>0</td>\n",
       "      <td>250000</td>\n",
       "    </tr>\n",
       "    <tr>\n",
       "      <td>5638</td>\n",
       "      <td>On Request</td>\n",
       "      <td>Independent House/Villa</td>\n",
       "      <td>Kharghar</td>\n",
       "      <td>5 Bedroom</td>\n",
       "      <td>2152.7800</td>\n",
       "      <td>Unfurnished</td>\n",
       "      <td>0 to 1 years old</td>\n",
       "      <td>0</td>\n",
       "      <td>0</td>\n",
       "      <td>75000</td>\n",
       "    </tr>\n",
       "    <tr>\n",
       "      <td>5726</td>\n",
       "      <td>other society</td>\n",
       "      <td>Independent House/Villa</td>\n",
       "      <td>Chembur</td>\n",
       "      <td>4 Bedroom</td>\n",
       "      <td>3229.1700</td>\n",
       "      <td>Unfurnished</td>\n",
       "      <td>10+ years old</td>\n",
       "      <td>0</td>\n",
       "      <td>0</td>\n",
       "      <td>100000</td>\n",
       "    </tr>\n",
       "    <tr>\n",
       "      <td>5865</td>\n",
       "      <td>other society</td>\n",
       "      <td>Independent House/Villa</td>\n",
       "      <td>Chembur (East)</td>\n",
       "      <td>3 Bedroom</td>\n",
       "      <td>2000.0000</td>\n",
       "      <td>Semifurnished</td>\n",
       "      <td>10+ years old</td>\n",
       "      <td>0</td>\n",
       "      <td>0</td>\n",
       "      <td>125000</td>\n",
       "    </tr>\n",
       "    <tr>\n",
       "      <td>5915</td>\n",
       "      <td>other society</td>\n",
       "      <td>Independent House/Villa</td>\n",
       "      <td>Manpada</td>\n",
       "      <td>7 Bedroom</td>\n",
       "      <td>4500.0000</td>\n",
       "      <td>Unfurnished</td>\n",
       "      <td>5 to 10 years old</td>\n",
       "      <td>0</td>\n",
       "      <td>0</td>\n",
       "      <td>110000</td>\n",
       "    </tr>\n",
       "    <tr>\n",
       "      <td>6106</td>\n",
       "      <td>other society</td>\n",
       "      <td>Independent House/Villa</td>\n",
       "      <td>Chembur (East)</td>\n",
       "      <td>3 Bedroom</td>\n",
       "      <td>1800.0000</td>\n",
       "      <td>Semifurnished</td>\n",
       "      <td>5 to 10 years old</td>\n",
       "      <td>0</td>\n",
       "      <td>0</td>\n",
       "      <td>100000</td>\n",
       "    </tr>\n",
       "    <tr>\n",
       "      <td>6659</td>\n",
       "      <td>Description :</td>\n",
       "      <td>Independent House/Villa</td>\n",
       "      <td>Kajupada, Kurla</td>\n",
       "      <td>1 Bedroom</td>\n",
       "      <td>10.7639</td>\n",
       "      <td>Not Mentioned</td>\n",
       "      <td>5 to 10 years old</td>\n",
       "      <td>0</td>\n",
       "      <td>0</td>\n",
       "      <td>10000</td>\n",
       "    </tr>\n",
       "    <tr>\n",
       "      <td>6934</td>\n",
       "      <td>Sindhi Society</td>\n",
       "      <td>Independent House/Villa</td>\n",
       "      <td>Chembur (East)</td>\n",
       "      <td>4 Bedroom</td>\n",
       "      <td>2650.0000</td>\n",
       "      <td>Semifurnished</td>\n",
       "      <td>1 to 5 years old</td>\n",
       "      <td>0</td>\n",
       "      <td>0</td>\n",
       "      <td>110000</td>\n",
       "    </tr>\n",
       "    <tr>\n",
       "      <td>6979</td>\n",
       "      <td>Description :</td>\n",
       "      <td>Independent House/Villa</td>\n",
       "      <td>Gtb Nagar</td>\n",
       "      <td>9 Bedroom</td>\n",
       "      <td>2025.0000</td>\n",
       "      <td>Not Mentioned</td>\n",
       "      <td>10+ years old</td>\n",
       "      <td>0</td>\n",
       "      <td>0</td>\n",
       "      <td>220000</td>\n",
       "    </tr>\n",
       "    <tr>\n",
       "      <td>6987</td>\n",
       "      <td>On Request</td>\n",
       "      <td>Independent House/Villa</td>\n",
       "      <td>Juhu</td>\n",
       "      <td>4 Bedroom</td>\n",
       "      <td>3500.0000</td>\n",
       "      <td>Furnished</td>\n",
       "      <td>5 to 10 years old</td>\n",
       "      <td>0</td>\n",
       "      <td>0</td>\n",
       "      <td>550000</td>\n",
       "    </tr>\n",
       "    <tr>\n",
       "      <td>7101</td>\n",
       "      <td>Description :</td>\n",
       "      <td>Independent House/Villa</td>\n",
       "      <td>Chembur</td>\n",
       "      <td>4 Bedroom</td>\n",
       "      <td>2400.0000</td>\n",
       "      <td>Not Mentioned</td>\n",
       "      <td>1 to 5 years old</td>\n",
       "      <td>0</td>\n",
       "      <td>0</td>\n",
       "      <td>120000</td>\n",
       "    </tr>\n",
       "    <tr>\n",
       "      <td>7574</td>\n",
       "      <td>other society</td>\n",
       "      <td>Independent House/Villa</td>\n",
       "      <td>Sector-4 Airoli</td>\n",
       "      <td>1 Bedroom</td>\n",
       "      <td>1076.3900</td>\n",
       "      <td>Unfurnished</td>\n",
       "      <td>5 to 10 years old</td>\n",
       "      <td>0</td>\n",
       "      <td>0</td>\n",
       "      <td>13000</td>\n",
       "    </tr>\n",
       "    <tr>\n",
       "      <td>7702</td>\n",
       "      <td>other society</td>\n",
       "      <td>Independent House/Villa</td>\n",
       "      <td>Manpada</td>\n",
       "      <td>3 Bedroom</td>\n",
       "      <td>3500.0000</td>\n",
       "      <td>Furnished</td>\n",
       "      <td>10+ years old</td>\n",
       "      <td>0</td>\n",
       "      <td>0</td>\n",
       "      <td>125000</td>\n",
       "    </tr>\n",
       "    <tr>\n",
       "      <td>7883</td>\n",
       "      <td>other society</td>\n",
       "      <td>Independent House/Villa</td>\n",
       "      <td>Jolly Maker No1 Row House</td>\n",
       "      <td>4 Bedroom</td>\n",
       "      <td>11022.2336</td>\n",
       "      <td>Semifurnished</td>\n",
       "      <td>10+ years old</td>\n",
       "      <td>0</td>\n",
       "      <td>0</td>\n",
       "      <td>500000</td>\n",
       "    </tr>\n",
       "    <tr>\n",
       "      <td>7928</td>\n",
       "      <td>Description :</td>\n",
       "      <td>Independent House/Villa</td>\n",
       "      <td>Ambernath</td>\n",
       "      <td>1 Bedroom</td>\n",
       "      <td>450.0000</td>\n",
       "      <td>Not Mentioned</td>\n",
       "      <td>Not Mentioned</td>\n",
       "      <td>0</td>\n",
       "      <td>0</td>\n",
       "      <td>4500</td>\n",
       "    </tr>\n",
       "    <tr>\n",
       "      <td>7933</td>\n",
       "      <td>other society</td>\n",
       "      <td>Independent House/Villa</td>\n",
       "      <td>Santacruz (West)</td>\n",
       "      <td>5 Bedroom</td>\n",
       "      <td>5000.0000</td>\n",
       "      <td>Semifurnished</td>\n",
       "      <td>5 to 10 years old</td>\n",
       "      <td>0</td>\n",
       "      <td>0</td>\n",
       "      <td>550000</td>\n",
       "    </tr>\n",
       "    <tr>\n",
       "      <td>7934</td>\n",
       "      <td>other society</td>\n",
       "      <td>Independent House/Villa</td>\n",
       "      <td>Santacruz (West)</td>\n",
       "      <td>5 Bedroom</td>\n",
       "      <td>5000.0000</td>\n",
       "      <td>Semifurnished</td>\n",
       "      <td>5 to 10 years old</td>\n",
       "      <td>0</td>\n",
       "      <td>0</td>\n",
       "      <td>550000</td>\n",
       "    </tr>\n",
       "    <tr>\n",
       "      <td>7942</td>\n",
       "      <td>other society</td>\n",
       "      <td>Independent House/Villa</td>\n",
       "      <td>Shahaji Nagar</td>\n",
       "      <td>1 Bedroom</td>\n",
       "      <td>300.0000</td>\n",
       "      <td>Unfurnished</td>\n",
       "      <td>10+ years old</td>\n",
       "      <td>0</td>\n",
       "      <td>0</td>\n",
       "      <td>7000</td>\n",
       "    </tr>\n",
       "    <tr>\n",
       "      <td>8008</td>\n",
       "      <td>On Request</td>\n",
       "      <td>Independent House/Villa</td>\n",
       "      <td>Juhu</td>\n",
       "      <td>3 Bedroom</td>\n",
       "      <td>2800.0000</td>\n",
       "      <td>Furnished</td>\n",
       "      <td>5 to 10 years old</td>\n",
       "      <td>0</td>\n",
       "      <td>0</td>\n",
       "      <td>400000</td>\n",
       "    </tr>\n",
       "    <tr>\n",
       "      <td>8153</td>\n",
       "      <td>other society</td>\n",
       "      <td>Independent House/Villa</td>\n",
       "      <td>Deonar</td>\n",
       "      <td>4 Bedroom</td>\n",
       "      <td>3000.0000</td>\n",
       "      <td>Furnished</td>\n",
       "      <td>10+ years old</td>\n",
       "      <td>0</td>\n",
       "      <td>0</td>\n",
       "      <td>110000</td>\n",
       "    </tr>\n",
       "    <tr>\n",
       "      <td>8428</td>\n",
       "      <td>other society</td>\n",
       "      <td>Independent House/Villa</td>\n",
       "      <td>Dombivli (East)</td>\n",
       "      <td>1 Bedroom</td>\n",
       "      <td>800.0000</td>\n",
       "      <td>Semifurnished</td>\n",
       "      <td>5 to 10 years old</td>\n",
       "      <td>0</td>\n",
       "      <td>0</td>\n",
       "      <td>7000</td>\n",
       "    </tr>\n",
       "    <tr>\n",
       "      <td>8762</td>\n",
       "      <td>Description :</td>\n",
       "      <td>Independent House/Villa</td>\n",
       "      <td>Sector-8 Kharghar</td>\n",
       "      <td>4 Bedroom</td>\n",
       "      <td>2152.7800</td>\n",
       "      <td>Not Mentioned</td>\n",
       "      <td>Not Mentioned</td>\n",
       "      <td>0</td>\n",
       "      <td>0</td>\n",
       "      <td>50000</td>\n",
       "    </tr>\n",
       "    <tr>\n",
       "      <td>8921</td>\n",
       "      <td>other society</td>\n",
       "      <td>Independent House/Villa</td>\n",
       "      <td>Sector 9 Airoli</td>\n",
       "      <td>1 Bedroom</td>\n",
       "      <td>550.0000</td>\n",
       "      <td>Unfurnished</td>\n",
       "      <td>1 to 5 years old</td>\n",
       "      <td>0</td>\n",
       "      <td>0</td>\n",
       "      <td>13000</td>\n",
       "    </tr>\n",
       "    <tr>\n",
       "      <td>9023</td>\n",
       "      <td>Description :</td>\n",
       "      <td>Independent House/Villa</td>\n",
       "      <td>Mulund Colony</td>\n",
       "      <td>4 Bedroom</td>\n",
       "      <td>1800.0000</td>\n",
       "      <td>Not Mentioned</td>\n",
       "      <td>10+ years old</td>\n",
       "      <td>0</td>\n",
       "      <td>0</td>\n",
       "      <td>50000</td>\n",
       "    </tr>\n",
       "    <tr>\n",
       "      <td>9430</td>\n",
       "      <td>other society</td>\n",
       "      <td>Independent House/Villa</td>\n",
       "      <td>Sector-8 Charkop</td>\n",
       "      <td>2 Bedroom</td>\n",
       "      <td>430.5560</td>\n",
       "      <td>Unfurnished</td>\n",
       "      <td>0 to 1 years old</td>\n",
       "      <td>0</td>\n",
       "      <td>0</td>\n",
       "      <td>14000</td>\n",
       "    </tr>\n",
       "    <tr>\n",
       "      <td>9715</td>\n",
       "      <td>other society</td>\n",
       "      <td>Independent House/Villa</td>\n",
       "      <td>Chembur</td>\n",
       "      <td>4 Bedroom</td>\n",
       "      <td>2800.0000</td>\n",
       "      <td>Furnished</td>\n",
       "      <td>5 to 10 years old</td>\n",
       "      <td>0</td>\n",
       "      <td>0</td>\n",
       "      <td>75000</td>\n",
       "    </tr>\n",
       "    <tr>\n",
       "      <td>9736</td>\n",
       "      <td>other society</td>\n",
       "      <td>Independent House/Villa</td>\n",
       "      <td>Chembur (East)</td>\n",
       "      <td>4 Bedroom</td>\n",
       "      <td>3500.0000</td>\n",
       "      <td>Semifurnished</td>\n",
       "      <td>1 to 5 years old</td>\n",
       "      <td>0</td>\n",
       "      <td>0</td>\n",
       "      <td>125000</td>\n",
       "    </tr>\n",
       "    <tr>\n",
       "      <td>10049</td>\n",
       "      <td>Description :</td>\n",
       "      <td>Independent House/Villa</td>\n",
       "      <td>Mankhurd</td>\n",
       "      <td>3 Bedroom</td>\n",
       "      <td>2500.0000</td>\n",
       "      <td>Not Mentioned</td>\n",
       "      <td>Not Mentioned</td>\n",
       "      <td>0</td>\n",
       "      <td>0</td>\n",
       "      <td>85000</td>\n",
       "    </tr>\n",
       "    <tr>\n",
       "      <td>10262</td>\n",
       "      <td>other society</td>\n",
       "      <td>Independent House/Villa</td>\n",
       "      <td>Sector 28 Vashi</td>\n",
       "      <td>7 Bedroom</td>\n",
       "      <td>3444.4480</td>\n",
       "      <td>Unfurnished</td>\n",
       "      <td>5 to 10 years old</td>\n",
       "      <td>0</td>\n",
       "      <td>0</td>\n",
       "      <td>120000</td>\n",
       "    </tr>\n",
       "    <tr>\n",
       "      <td>10293</td>\n",
       "      <td>other society</td>\n",
       "      <td>Independent House/Villa</td>\n",
       "      <td>Aram Nagar Part 1</td>\n",
       "      <td>3 Bedroom</td>\n",
       "      <td>1991.3215</td>\n",
       "      <td>Unfurnished</td>\n",
       "      <td>10+ years old</td>\n",
       "      <td>0</td>\n",
       "      <td>0</td>\n",
       "      <td>150000</td>\n",
       "    </tr>\n",
       "    <tr>\n",
       "      <td>10409</td>\n",
       "      <td>other society</td>\n",
       "      <td>Independent House/Villa</td>\n",
       "      <td>Sector 8 Airoli</td>\n",
       "      <td>1 Bedroom</td>\n",
       "      <td>150.0000</td>\n",
       "      <td>Unfurnished</td>\n",
       "      <td>1 to 5 years old</td>\n",
       "      <td>0</td>\n",
       "      <td>0</td>\n",
       "      <td>17000</td>\n",
       "    </tr>\n",
       "    <tr>\n",
       "      <td>10410</td>\n",
       "      <td>other society</td>\n",
       "      <td>Independent House/Villa</td>\n",
       "      <td>Sector 8 Airoli</td>\n",
       "      <td>2 Bedroom</td>\n",
       "      <td>500.0000</td>\n",
       "      <td>Unfurnished</td>\n",
       "      <td>5 to 10 years old</td>\n",
       "      <td>0</td>\n",
       "      <td>0</td>\n",
       "      <td>25000</td>\n",
       "    </tr>\n",
       "    <tr>\n",
       "      <td>10433</td>\n",
       "      <td>other society</td>\n",
       "      <td>Independent House/Villa</td>\n",
       "      <td>Sector-17 Nerul</td>\n",
       "      <td>2 Bedroom</td>\n",
       "      <td>1100.0000</td>\n",
       "      <td>Furnished</td>\n",
       "      <td>10+ years old</td>\n",
       "      <td>0</td>\n",
       "      <td>0</td>\n",
       "      <td>32500</td>\n",
       "    </tr>\n",
       "    <tr>\n",
       "      <td>10595</td>\n",
       "      <td>other society</td>\n",
       "      <td>Independent House/Villa</td>\n",
       "      <td>Chembur</td>\n",
       "      <td>4 Bedroom</td>\n",
       "      <td>2500.0000</td>\n",
       "      <td>Unfurnished</td>\n",
       "      <td>Not Mentioned</td>\n",
       "      <td>0</td>\n",
       "      <td>0</td>\n",
       "      <td>100000</td>\n",
       "    </tr>\n",
       "    <tr>\n",
       "      <td>10846</td>\n",
       "      <td>other society</td>\n",
       "      <td>Independent House/Villa</td>\n",
       "      <td>Chembur (East)</td>\n",
       "      <td>4 Bedroom</td>\n",
       "      <td>3000.0000</td>\n",
       "      <td>Furnished</td>\n",
       "      <td>10+ years old</td>\n",
       "      <td>0</td>\n",
       "      <td>0</td>\n",
       "      <td>110000</td>\n",
       "    </tr>\n",
       "    <tr>\n",
       "      <td>10847</td>\n",
       "      <td>Description :</td>\n",
       "      <td>Independent House/Villa</td>\n",
       "      <td>Sector-8 Charkop</td>\n",
       "      <td>1 Bedroom</td>\n",
       "      <td>300.0000</td>\n",
       "      <td>Not Mentioned</td>\n",
       "      <td>10+ years old</td>\n",
       "      <td>0</td>\n",
       "      <td>0</td>\n",
       "      <td>11000</td>\n",
       "    </tr>\n",
       "    <tr>\n",
       "      <td>11045</td>\n",
       "      <td>Description :</td>\n",
       "      <td>Independent House/Villa</td>\n",
       "      <td>Cidco Colony</td>\n",
       "      <td>1 Bedroom</td>\n",
       "      <td>430.5560</td>\n",
       "      <td>Not Mentioned</td>\n",
       "      <td>1 to 5 years old</td>\n",
       "      <td>0</td>\n",
       "      <td>0</td>\n",
       "      <td>9000</td>\n",
       "    </tr>\n",
       "    <tr>\n",
       "      <td>11063</td>\n",
       "      <td>Description :</td>\n",
       "      <td>Independent House/Villa</td>\n",
       "      <td>Sector-4A Koparkhairane</td>\n",
       "      <td>4 Bedroom</td>\n",
       "      <td>1076.3900</td>\n",
       "      <td>Not Mentioned</td>\n",
       "      <td>1 to 5 years old</td>\n",
       "      <td>0</td>\n",
       "      <td>0</td>\n",
       "      <td>55000</td>\n",
       "    </tr>\n",
       "    <tr>\n",
       "      <td>11373</td>\n",
       "      <td>other society</td>\n",
       "      <td>Independent House/Villa</td>\n",
       "      <td>Mira Road East</td>\n",
       "      <td>3 Bedroom</td>\n",
       "      <td>1850.0000</td>\n",
       "      <td>Semifurnished</td>\n",
       "      <td>1 to 5 years old</td>\n",
       "      <td>0</td>\n",
       "      <td>0</td>\n",
       "      <td>30000</td>\n",
       "    </tr>\n",
       "    <tr>\n",
       "      <td>11671</td>\n",
       "      <td>other society</td>\n",
       "      <td>Independent House/Villa</td>\n",
       "      <td>Juhu</td>\n",
       "      <td>4 Bedroom</td>\n",
       "      <td>4305.5600</td>\n",
       "      <td>Semifurnished</td>\n",
       "      <td>1 to 5 years old</td>\n",
       "      <td>0</td>\n",
       "      <td>0</td>\n",
       "      <td>399000</td>\n",
       "    </tr>\n",
       "    <tr>\n",
       "      <td>11864</td>\n",
       "      <td>other society</td>\n",
       "      <td>Independent House/Villa</td>\n",
       "      <td>Chembur (East)</td>\n",
       "      <td>4 Bedroom</td>\n",
       "      <td>4000.0000</td>\n",
       "      <td>Semifurnished</td>\n",
       "      <td>1 to 5 years old</td>\n",
       "      <td>0</td>\n",
       "      <td>0</td>\n",
       "      <td>125000</td>\n",
       "    </tr>\n",
       "    <tr>\n",
       "      <td>11888</td>\n",
       "      <td>other society</td>\n",
       "      <td>Independent House/Villa</td>\n",
       "      <td>Sector 2 Charkop</td>\n",
       "      <td>2 Bedroom</td>\n",
       "      <td>430.5560</td>\n",
       "      <td>Unfurnished</td>\n",
       "      <td>1 to 5 years old</td>\n",
       "      <td>0</td>\n",
       "      <td>0</td>\n",
       "      <td>21000</td>\n",
       "    </tr>\n",
       "    <tr>\n",
       "      <td>12033</td>\n",
       "      <td>On Request</td>\n",
       "      <td>Independent House/Villa</td>\n",
       "      <td>Sector-8 Charkop</td>\n",
       "      <td>1 Bedroom</td>\n",
       "      <td>400.0000</td>\n",
       "      <td>Unfurnished</td>\n",
       "      <td>10+ years old</td>\n",
       "      <td>0</td>\n",
       "      <td>0</td>\n",
       "      <td>13000</td>\n",
       "    </tr>\n",
       "    <tr>\n",
       "      <td>12142</td>\n",
       "      <td>other society</td>\n",
       "      <td>Independent House/Villa</td>\n",
       "      <td>Sector 5 Charkop</td>\n",
       "      <td>2 Bedroom</td>\n",
       "      <td>269.0975</td>\n",
       "      <td>Semifurnished</td>\n",
       "      <td>1 to 5 years old</td>\n",
       "      <td>0</td>\n",
       "      <td>0</td>\n",
       "      <td>16500</td>\n",
       "    </tr>\n",
       "    <tr>\n",
       "      <td>12469</td>\n",
       "      <td>Description :</td>\n",
       "      <td>Independent House/Villa</td>\n",
       "      <td>Sector-9 Sanpada</td>\n",
       "      <td>2 Bedroom</td>\n",
       "      <td>900.0000</td>\n",
       "      <td>Not Mentioned</td>\n",
       "      <td>Not Mentioned</td>\n",
       "      <td>0</td>\n",
       "      <td>0</td>\n",
       "      <td>20000</td>\n",
       "    </tr>\n",
       "    <tr>\n",
       "      <td>13513</td>\n",
       "      <td>other society</td>\n",
       "      <td>Independent House/Villa</td>\n",
       "      <td>Hiranandani Gardens - Powai</td>\n",
       "      <td>5 Bedroom</td>\n",
       "      <td>2000.0000</td>\n",
       "      <td>Furnished</td>\n",
       "      <td>1 to 5 years old</td>\n",
       "      <td>0</td>\n",
       "      <td>0</td>\n",
       "      <td>80000</td>\n",
       "    </tr>\n",
       "  </tbody>\n",
       "</table>\n",
       "</div>"
      ],
      "text/plain": [
       "              society                     type                     location  \\\n",
       "1360       Union Park  Independent House/Villa                      Chembur   \n",
       "1606    other society  Independent House/Villa                  Lokhandwala   \n",
       "1646    other society  Independent House/Villa                   Worli Naka   \n",
       "1788    Description :  Independent House/Villa                         Juhu   \n",
       "1901       On Request  Independent House/Villa             Sector-8 Charkop   \n",
       "2122       On Request  Independent House/Villa                         Juhu   \n",
       "2124    other society  Independent House/Villa              Sector-2 Airoli   \n",
       "2175    other society  Independent House/Villa              Sector 12 Vashi   \n",
       "2340    other society  Independent House/Villa                      Chembur   \n",
       "2377    Description :  Independent House/Villa                     Kharghar   \n",
       "2391       On Request  Independent House/Villa           Upper Govind Nagar   \n",
       "5638       On Request  Independent House/Villa                     Kharghar   \n",
       "5726    other society  Independent House/Villa                      Chembur   \n",
       "5865    other society  Independent House/Villa               Chembur (East)   \n",
       "5915    other society  Independent House/Villa                      Manpada   \n",
       "6106    other society  Independent House/Villa               Chembur (East)   \n",
       "6659    Description :  Independent House/Villa              Kajupada, Kurla   \n",
       "6934   Sindhi Society  Independent House/Villa               Chembur (East)   \n",
       "6979    Description :  Independent House/Villa                    Gtb Nagar   \n",
       "6987       On Request  Independent House/Villa                         Juhu   \n",
       "7101    Description :  Independent House/Villa                      Chembur   \n",
       "7574    other society  Independent House/Villa              Sector-4 Airoli   \n",
       "7702    other society  Independent House/Villa                      Manpada   \n",
       "7883    other society  Independent House/Villa    Jolly Maker No1 Row House   \n",
       "7928    Description :  Independent House/Villa                    Ambernath   \n",
       "7933    other society  Independent House/Villa             Santacruz (West)   \n",
       "7934    other society  Independent House/Villa             Santacruz (West)   \n",
       "7942    other society  Independent House/Villa                Shahaji Nagar   \n",
       "8008       On Request  Independent House/Villa                         Juhu   \n",
       "8153    other society  Independent House/Villa                       Deonar   \n",
       "8428    other society  Independent House/Villa              Dombivli (East)   \n",
       "8762    Description :  Independent House/Villa            Sector-8 Kharghar   \n",
       "8921    other society  Independent House/Villa              Sector 9 Airoli   \n",
       "9023    Description :  Independent House/Villa                Mulund Colony   \n",
       "9430    other society  Independent House/Villa             Sector-8 Charkop   \n",
       "9715    other society  Independent House/Villa                      Chembur   \n",
       "9736    other society  Independent House/Villa               Chembur (East)   \n",
       "10049   Description :  Independent House/Villa                     Mankhurd   \n",
       "10262   other society  Independent House/Villa              Sector 28 Vashi   \n",
       "10293   other society  Independent House/Villa            Aram Nagar Part 1   \n",
       "10409   other society  Independent House/Villa              Sector 8 Airoli   \n",
       "10410   other society  Independent House/Villa              Sector 8 Airoli   \n",
       "10433   other society  Independent House/Villa              Sector-17 Nerul   \n",
       "10595   other society  Independent House/Villa                      Chembur   \n",
       "10846   other society  Independent House/Villa               Chembur (East)   \n",
       "10847   Description :  Independent House/Villa             Sector-8 Charkop   \n",
       "11045   Description :  Independent House/Villa                 Cidco Colony   \n",
       "11063   Description :  Independent House/Villa      Sector-4A Koparkhairane   \n",
       "11373   other society  Independent House/Villa               Mira Road East   \n",
       "11671   other society  Independent House/Villa                         Juhu   \n",
       "11864   other society  Independent House/Villa               Chembur (East)   \n",
       "11888   other society  Independent House/Villa             Sector 2 Charkop   \n",
       "12033      On Request  Independent House/Villa             Sector-8 Charkop   \n",
       "12142   other society  Independent House/Villa             Sector 5 Charkop   \n",
       "12469   Description :  Independent House/Villa             Sector-9 Sanpada   \n",
       "13513   other society  Independent House/Villa  Hiranandani Gardens - Powai   \n",
       "\n",
       "        bedrooms  built-up area     furnishing                age floor  \\\n",
       "1360   2 Bedroom       935.0000    Unfurnished   1 to 5 years old     0   \n",
       "1606   4 Bedroom      2500.0000  Semifurnished  5 to 10 years old     0   \n",
       "1646   4 Bedroom     41548.6540  Semifurnished   0 to 1 years old     0   \n",
       "1788   4 Bedroom      3500.0000  Not Mentioned  5 to 10 years old     0   \n",
       "1901   1 Bedroom       250.0000    Unfurnished      10+ years old     0   \n",
       "2122   4 Bedroom      3300.0000      Furnished  5 to 10 years old     0   \n",
       "2124   1 Bedroom       269.0975    Unfurnished   0 to 1 years old     0   \n",
       "2175   4 Bedroom      3229.1700  Semifurnished   1 to 5 years old     0   \n",
       "2340   4 Bedroom      2500.0000      Furnished   1 to 5 years old     0   \n",
       "2377   2 Bedroom      4520.8380  Not Mentioned      10+ years old     0   \n",
       "2391   4 Bedroom      5000.0000      Furnished      10+ years old     0   \n",
       "5638   5 Bedroom      2152.7800    Unfurnished   0 to 1 years old     0   \n",
       "5726   4 Bedroom      3229.1700    Unfurnished      10+ years old     0   \n",
       "5865   3 Bedroom      2000.0000  Semifurnished      10+ years old     0   \n",
       "5915   7 Bedroom      4500.0000    Unfurnished  5 to 10 years old     0   \n",
       "6106   3 Bedroom      1800.0000  Semifurnished  5 to 10 years old     0   \n",
       "6659   1 Bedroom        10.7639  Not Mentioned  5 to 10 years old     0   \n",
       "6934   4 Bedroom      2650.0000  Semifurnished   1 to 5 years old     0   \n",
       "6979   9 Bedroom      2025.0000  Not Mentioned      10+ years old     0   \n",
       "6987   4 Bedroom      3500.0000      Furnished  5 to 10 years old     0   \n",
       "7101   4 Bedroom      2400.0000  Not Mentioned   1 to 5 years old     0   \n",
       "7574   1 Bedroom      1076.3900    Unfurnished  5 to 10 years old     0   \n",
       "7702   3 Bedroom      3500.0000      Furnished      10+ years old     0   \n",
       "7883   4 Bedroom     11022.2336  Semifurnished      10+ years old     0   \n",
       "7928   1 Bedroom       450.0000  Not Mentioned      Not Mentioned     0   \n",
       "7933   5 Bedroom      5000.0000  Semifurnished  5 to 10 years old     0   \n",
       "7934   5 Bedroom      5000.0000  Semifurnished  5 to 10 years old     0   \n",
       "7942   1 Bedroom       300.0000    Unfurnished      10+ years old     0   \n",
       "8008   3 Bedroom      2800.0000      Furnished  5 to 10 years old     0   \n",
       "8153   4 Bedroom      3000.0000      Furnished      10+ years old     0   \n",
       "8428   1 Bedroom       800.0000  Semifurnished  5 to 10 years old     0   \n",
       "8762   4 Bedroom      2152.7800  Not Mentioned      Not Mentioned     0   \n",
       "8921   1 Bedroom       550.0000    Unfurnished   1 to 5 years old     0   \n",
       "9023   4 Bedroom      1800.0000  Not Mentioned      10+ years old     0   \n",
       "9430   2 Bedroom       430.5560    Unfurnished   0 to 1 years old     0   \n",
       "9715   4 Bedroom      2800.0000      Furnished  5 to 10 years old     0   \n",
       "9736   4 Bedroom      3500.0000  Semifurnished   1 to 5 years old     0   \n",
       "10049  3 Bedroom      2500.0000  Not Mentioned      Not Mentioned     0   \n",
       "10262  7 Bedroom      3444.4480    Unfurnished  5 to 10 years old     0   \n",
       "10293  3 Bedroom      1991.3215    Unfurnished      10+ years old     0   \n",
       "10409  1 Bedroom       150.0000    Unfurnished   1 to 5 years old     0   \n",
       "10410  2 Bedroom       500.0000    Unfurnished  5 to 10 years old     0   \n",
       "10433  2 Bedroom      1100.0000      Furnished      10+ years old     0   \n",
       "10595  4 Bedroom      2500.0000    Unfurnished      Not Mentioned     0   \n",
       "10846  4 Bedroom      3000.0000      Furnished      10+ years old     0   \n",
       "10847  1 Bedroom       300.0000  Not Mentioned      10+ years old     0   \n",
       "11045  1 Bedroom       430.5560  Not Mentioned   1 to 5 years old     0   \n",
       "11063  4 Bedroom      1076.3900  Not Mentioned   1 to 5 years old     0   \n",
       "11373  3 Bedroom      1850.0000  Semifurnished   1 to 5 years old     0   \n",
       "11671  4 Bedroom      4305.5600  Semifurnished   1 to 5 years old     0   \n",
       "11864  4 Bedroom      4000.0000  Semifurnished   1 to 5 years old     0   \n",
       "11888  2 Bedroom       430.5560    Unfurnished   1 to 5 years old     0   \n",
       "12033  1 Bedroom       400.0000    Unfurnished      10+ years old     0   \n",
       "12142  2 Bedroom       269.0975  Semifurnished   1 to 5 years old     0   \n",
       "12469  2 Bedroom       900.0000  Not Mentioned      Not Mentioned     0   \n",
       "13513  5 Bedroom      2000.0000      Furnished   1 to 5 years old     0   \n",
       "\n",
       "      total floors  monthly rent  \n",
       "1360             0         44000  \n",
       "1606             0        250000  \n",
       "1646             0        310000  \n",
       "1788             0        400000  \n",
       "1901             0         10500  \n",
       "2122             0        450000  \n",
       "2124             0          7500  \n",
       "2175             0        125000  \n",
       "2340             0         84000  \n",
       "2377             0         25000  \n",
       "2391             0        250000  \n",
       "5638             0         75000  \n",
       "5726             0        100000  \n",
       "5865             0        125000  \n",
       "5915             0        110000  \n",
       "6106             0        100000  \n",
       "6659             0         10000  \n",
       "6934             0        110000  \n",
       "6979             0        220000  \n",
       "6987             0        550000  \n",
       "7101             0        120000  \n",
       "7574             0         13000  \n",
       "7702             0        125000  \n",
       "7883             0        500000  \n",
       "7928             0          4500  \n",
       "7933             0        550000  \n",
       "7934             0        550000  \n",
       "7942             0          7000  \n",
       "8008             0        400000  \n",
       "8153             0        110000  \n",
       "8428             0          7000  \n",
       "8762             0         50000  \n",
       "8921             0         13000  \n",
       "9023             0         50000  \n",
       "9430             0         14000  \n",
       "9715             0         75000  \n",
       "9736             0        125000  \n",
       "10049            0         85000  \n",
       "10262            0        120000  \n",
       "10293            0        150000  \n",
       "10409            0         17000  \n",
       "10410            0         25000  \n",
       "10433            0         32500  \n",
       "10595            0        100000  \n",
       "10846            0        110000  \n",
       "10847            0         11000  \n",
       "11045            0          9000  \n",
       "11063            0         55000  \n",
       "11373            0         30000  \n",
       "11671            0        399000  \n",
       "11864            0        125000  \n",
       "11888            0         21000  \n",
       "12033            0         13000  \n",
       "12142            0         16500  \n",
       "12469            0         20000  \n",
       "13513            0         80000  "
      ]
     },
     "execution_count": 19,
     "metadata": {},
     "output_type": "execute_result"
    }
   ],
   "source": [
    "data3[data3['type'] == 'Independent House/Villa']"
   ]
  },
  {
   "cell_type": "markdown",
   "metadata": {},
   "source": [
    " "
   ]
  },
  {
   "cell_type": "markdown",
   "metadata": {},
   "source": [
    "## Merging locations having count less than 10. only to simplify our model."
   ]
  },
  {
   "cell_type": "code",
   "execution_count": 20,
   "metadata": {
    "scrolled": true
   },
   "outputs": [
    {
     "data": {
      "text/html": [
       "<div>\n",
       "<style scoped>\n",
       "    .dataframe tbody tr th:only-of-type {\n",
       "        vertical-align: middle;\n",
       "    }\n",
       "\n",
       "    .dataframe tbody tr th {\n",
       "        vertical-align: top;\n",
       "    }\n",
       "\n",
       "    .dataframe thead th {\n",
       "        text-align: right;\n",
       "    }\n",
       "</style>\n",
       "<table border=\"1\" class=\"dataframe\">\n",
       "  <thead>\n",
       "    <tr style=\"text-align: right;\">\n",
       "      <th></th>\n",
       "      <th>location</th>\n",
       "    </tr>\n",
       "  </thead>\n",
       "  <tbody>\n",
       "    <tr>\n",
       "      <td>Bandra (West)</td>\n",
       "      <td>571</td>\n",
       "    </tr>\n",
       "    <tr>\n",
       "      <td>Wadala</td>\n",
       "      <td>497</td>\n",
       "    </tr>\n",
       "    <tr>\n",
       "      <td>Hiranandani Gardens - Powai</td>\n",
       "      <td>463</td>\n",
       "    </tr>\n",
       "    <tr>\n",
       "      <td>Wadala East</td>\n",
       "      <td>458</td>\n",
       "    </tr>\n",
       "    <tr>\n",
       "      <td>Chembur (East)</td>\n",
       "      <td>449</td>\n",
       "    </tr>\n",
       "    <tr>\n",
       "      <td>...</td>\n",
       "      <td>...</td>\n",
       "    </tr>\n",
       "    <tr>\n",
       "      <td>Sector-18 Sanpada</td>\n",
       "      <td>1</td>\n",
       "    </tr>\n",
       "    <tr>\n",
       "      <td>Swastik Park</td>\n",
       "      <td>1</td>\n",
       "    </tr>\n",
       "    <tr>\n",
       "      <td>Manisha Nagar</td>\n",
       "      <td>1</td>\n",
       "    </tr>\n",
       "    <tr>\n",
       "      <td>Sector-12 Kopar Khairane</td>\n",
       "      <td>1</td>\n",
       "    </tr>\n",
       "    <tr>\n",
       "      <td>Usarli Khurd</td>\n",
       "      <td>1</td>\n",
       "    </tr>\n",
       "  </tbody>\n",
       "</table>\n",
       "<p>532 rows × 1 columns</p>\n",
       "</div>"
      ],
      "text/plain": [
       "                             location\n",
       "Bandra (West)                     571\n",
       "Wadala                            497\n",
       "Hiranandani Gardens - Powai       463\n",
       "Wadala East                       458\n",
       "Chembur (East)                    449\n",
       "...                               ...\n",
       "Sector-18 Sanpada                   1\n",
       "Swastik Park                        1\n",
       "Manisha Nagar                       1\n",
       "Sector-12 Kopar Khairane            1\n",
       "Usarli Khurd                        1\n",
       "\n",
       "[532 rows x 1 columns]"
      ]
     },
     "execution_count": 20,
     "metadata": {},
     "output_type": "execute_result"
    }
   ],
   "source": [
    "location_count = pd.DataFrame(data3['location'].value_counts())\n",
    "location_count"
   ]
  },
  {
   "cell_type": "code",
   "execution_count": 21,
   "metadata": {},
   "outputs": [
    {
     "data": {
      "text/plain": [
       "Index(['Old Panvel', 'Sector-9 Sanpada', 'Sector-20 Roadpali',\n",
       "       'Sector 5 Ghansoli', 'Vartak Nagar', 'Nerul', 'Mahakali Caves',\n",
       "       'Bandra Kurla Complex', 'Ghatkopar (East)', 'Hanuman Nagar',\n",
       "       ...\n",
       "       'Lalbaug', 'Chamundeshwari Nagar', 'Nariman Point',\n",
       "       'Sector 34C Kharghar', 'Gauripada', 'Sector-18 Sanpada', 'Swastik Park',\n",
       "       'Manisha Nagar', 'Sector-12 Kopar Khairane', 'Usarli Khurd'],\n",
       "      dtype='object', length=367)"
      ]
     },
     "execution_count": 21,
     "metadata": {},
     "output_type": "execute_result"
    }
   ],
   "source": [
    "location_count_less_than_10_index = location_count[location_count['location']<10].index\n",
    "location_count_less_than_10_index"
   ]
  },
  {
   "cell_type": "code",
   "execution_count": 22,
   "metadata": {},
   "outputs": [],
   "source": [
    "data3['location'] = data3['location'].apply(lambda x: 'other location' if x in location_count_less_than_10_index else x)"
   ]
  },
  {
   "cell_type": "code",
   "execution_count": 23,
   "metadata": {},
   "outputs": [
    {
     "data": {
      "text/plain": [
       "other location                 1003\n",
       "Bandra (West)                   571\n",
       "Wadala                          497\n",
       "Hiranandani Gardens - Powai     463\n",
       "Wadala East                     458\n",
       "                               ... \n",
       "Chakala                          11\n",
       "4 Bunglows                       10\n",
       "Sindhi Society Chembur           10\n",
       "Sector-6 Nerul                   10\n",
       "Dindoshi                         10\n",
       "Name: location, Length: 166, dtype: int64"
      ]
     },
     "execution_count": 23,
     "metadata": {},
     "output_type": "execute_result"
    }
   ],
   "source": [
    "data3['location'].value_counts()"
   ]
  },
  {
   "cell_type": "markdown",
   "metadata": {},
   "source": [
    " "
   ]
  },
  {
   "cell_type": "markdown",
   "metadata": {},
   "source": [
    "## Extracting only numerals from bedrooms column."
   ]
  },
  {
   "cell_type": "code",
   "execution_count": 24,
   "metadata": {
    "scrolled": true
   },
   "outputs": [
    {
     "data": {
      "text/plain": [
       "2 BHK        6392\n",
       "3 BHK        3447\n",
       "1 BHK        2906\n",
       "4 BHK         620\n",
       "1 RK           69\n",
       "5 BHK          46\n",
       "4 Bedroom      22\n",
       "1 Bedroom      12\n",
       "2 Bedroom       8\n",
       "3 Bedroom       7\n",
       "6 BHK           5\n",
       "5 Bedroom       4\n",
       "7 Bedroom       2\n",
       "9 Bedroom       1\n",
       "Name: bedrooms, dtype: int64"
      ]
     },
     "execution_count": 24,
     "metadata": {},
     "output_type": "execute_result"
    }
   ],
   "source": [
    "data3['bedrooms'].value_counts()"
   ]
  },
  {
   "cell_type": "code",
   "execution_count": 25,
   "metadata": {},
   "outputs": [],
   "source": [
    "data3['bedrooms'] = data3['bedrooms'].apply(lambda x: x.strip(' ')[0])"
   ]
  },
  {
   "cell_type": "code",
   "execution_count": 26,
   "metadata": {
    "scrolled": true
   },
   "outputs": [
    {
     "data": {
      "text/plain": [
       "2    6400\n",
       "3    3454\n",
       "1    2987\n",
       "4     642\n",
       "5      50\n",
       "6       5\n",
       "7       2\n",
       "9       1\n",
       "Name: bedrooms, dtype: int64"
      ]
     },
     "execution_count": 26,
     "metadata": {},
     "output_type": "execute_result"
    }
   ],
   "source": [
    "data3['bedrooms'].value_counts()"
   ]
  },
  {
   "cell_type": "markdown",
   "metadata": {},
   "source": [
    " "
   ]
  },
  {
   "cell_type": "markdown",
   "metadata": {},
   "source": [
    "## Droping 'Not Mentioned'  from furnishing and age columns."
   ]
  },
  {
   "cell_type": "code",
   "execution_count": 27,
   "metadata": {
    "scrolled": true
   },
   "outputs": [
    {
     "data": {
      "text/plain": [
       "Semifurnished    5661\n",
       "Unfurnished      4272\n",
       "Furnished        3395\n",
       "Not Mentioned     213\n",
       "Name: furnishing, dtype: int64"
      ]
     },
     "execution_count": 27,
     "metadata": {},
     "output_type": "execute_result"
    }
   ],
   "source": [
    "data3['furnishing'].value_counts()"
   ]
  },
  {
   "cell_type": "code",
   "execution_count": 28,
   "metadata": {},
   "outputs": [
    {
     "data": {
      "text/plain": [
       "society            0\n",
       "type               0\n",
       "location           0\n",
       "bedrooms           0\n",
       "built-up area      0\n",
       "furnishing       213\n",
       "age                0\n",
       "floor              0\n",
       "total floors       0\n",
       "monthly rent       0\n",
       "dtype: int64"
      ]
     },
     "execution_count": 28,
     "metadata": {},
     "output_type": "execute_result"
    }
   ],
   "source": [
    "data4 = data3.replace({'furnishing':'Not Mentioned' }, np.NaN)\n",
    "data4.isnull().sum()"
   ]
  },
  {
   "cell_type": "code",
   "execution_count": 29,
   "metadata": {},
   "outputs": [
    {
     "name": "stdout",
     "output_type": "stream",
     "text": [
      "<class 'pandas.core.frame.DataFrame'>\n",
      "Int64Index: 13328 entries, 0 to 13540\n",
      "Data columns (total 10 columns):\n",
      "society          13328 non-null object\n",
      "type             13328 non-null object\n",
      "location         13328 non-null object\n",
      "bedrooms         13328 non-null object\n",
      "built-up area    13328 non-null float64\n",
      "furnishing       13328 non-null object\n",
      "age              13328 non-null object\n",
      "floor            13328 non-null object\n",
      "total floors     13328 non-null object\n",
      "monthly rent     13328 non-null int64\n",
      "dtypes: float64(1), int64(1), object(8)\n",
      "memory usage: 1.1+ MB\n"
     ]
    }
   ],
   "source": [
    "data5 = data4.dropna()\n",
    "data5.info()"
   ]
  },
  {
   "cell_type": "code",
   "execution_count": 30,
   "metadata": {},
   "outputs": [
    {
     "data": {
      "text/plain": [
       "1 to 5 years old     4750\n",
       "5 to 10 years old    3969\n",
       "0 to 1 years old     2649\n",
       "10+ years old        1956\n",
       "Not Mentioned           4\n",
       "Name: age, dtype: int64"
      ]
     },
     "execution_count": 30,
     "metadata": {},
     "output_type": "execute_result"
    }
   ],
   "source": [
    "data5['age'].value_counts()"
   ]
  },
  {
   "cell_type": "code",
   "execution_count": 31,
   "metadata": {},
   "outputs": [],
   "source": [
    "data5 = data5.replace({'age': 'Not Mentioned'}, np.NaN)"
   ]
  },
  {
   "cell_type": "code",
   "execution_count": 32,
   "metadata": {},
   "outputs": [
    {
     "data": {
      "text/plain": [
       "1 to 5 years old     4750\n",
       "5 to 10 years old    3969\n",
       "0 to 1 years old     2649\n",
       "10+ years old        1956\n",
       "Name: age, dtype: int64"
      ]
     },
     "execution_count": 32,
     "metadata": {},
     "output_type": "execute_result"
    }
   ],
   "source": [
    "data5['age'].value_counts()"
   ]
  },
  {
   "cell_type": "markdown",
   "metadata": {},
   "source": [
    " "
   ]
  },
  {
   "cell_type": "markdown",
   "metadata": {},
   "source": [
    "## Cleaning floor column"
   ]
  },
  {
   "cell_type": "code",
   "execution_count": 33,
   "metadata": {},
   "outputs": [
    {
     "data": {
      "text/plain": [
       "5th              1315\n",
       "4th              1181\n",
       "3rd              1174\n",
       "6th              1063\n",
       "2nd               994\n",
       "7th               833\n",
       "1st               659\n",
       "12th              644\n",
       "8th               639\n",
       "10th              631\n",
       "11th              532\n",
       "9th               469\n",
       "14th              379\n",
       "16th              316\n",
       "15th              306\n",
       "20th              247\n",
       "19th              228\n",
       "13th              203\n",
       "18th              193\n",
       "17th              155\n",
       "Ground            109\n",
       "22nd              104\n",
       "24th              102\n",
       "25th               98\n",
       "21st               78\n",
       "40th               72\n",
       "23rd               62\n",
       "27th               55\n",
       "26th               45\n",
       "28th               45\n",
       "0                  43\n",
       "ried               42\n",
       "35th               36\n",
       "40+                36\n",
       "34th               36\n",
       "30th               35\n",
       "29th               30\n",
       "Not Mentioned      29\n",
       "36th               24\n",
       "32nd               22\n",
       "33rd               18\n",
       "38th               15\n",
       "31st               13\n",
       "39th               11\n",
       "37th                7\n",
       "Name: floor, dtype: int64"
      ]
     },
     "execution_count": 33,
     "metadata": {},
     "output_type": "execute_result"
    }
   ],
   "source": [
    "data5['floor'].value_counts()"
   ]
  },
  {
   "cell_type": "code",
   "execution_count": 34,
   "metadata": {},
   "outputs": [],
   "source": [
    "data6 = data5.replace({'floor': ['Ground','ried']}, 0)\n",
    "data6.replace({'floor': '40+'},41, inplace =True)\n",
    "data6.replace({'floor': 'Not Mentioned'}, np.NaN, inplace =True)"
   ]
  },
  {
   "cell_type": "code",
   "execution_count": 35,
   "metadata": {},
   "outputs": [
    {
     "data": {
      "text/plain": [
       "5th     1315\n",
       "4th     1181\n",
       "3rd     1174\n",
       "6th     1063\n",
       "2nd      994\n",
       "7th      833\n",
       "1st      659\n",
       "12th     644\n",
       "8th      639\n",
       "10th     631\n",
       "11th     532\n",
       "9th      469\n",
       "14th     379\n",
       "16th     316\n",
       "15th     306\n",
       "20th     247\n",
       "19th     228\n",
       "13th     203\n",
       "0        194\n",
       "18th     193\n",
       "17th     155\n",
       "22nd     104\n",
       "24th     102\n",
       "25th      98\n",
       "21st      78\n",
       "40th      72\n",
       "23rd      62\n",
       "27th      55\n",
       "28th      45\n",
       "26th      45\n",
       "35th      36\n",
       "34th      36\n",
       "41        36\n",
       "30th      35\n",
       "29th      30\n",
       "36th      24\n",
       "32nd      22\n",
       "33rd      18\n",
       "38th      15\n",
       "31st      13\n",
       "39th      11\n",
       "37th       7\n",
       "Name: floor, dtype: int64"
      ]
     },
     "execution_count": 35,
     "metadata": {},
     "output_type": "execute_result"
    }
   ],
   "source": [
    "data6['floor'].value_counts()"
   ]
  },
  {
   "cell_type": "code",
   "execution_count": 36,
   "metadata": {},
   "outputs": [
    {
     "data": {
      "text/plain": [
       "society           object\n",
       "type              object\n",
       "location          object\n",
       "bedrooms          object\n",
       "built-up area    float64\n",
       "furnishing        object\n",
       "age               object\n",
       "floor             object\n",
       "total floors      object\n",
       "monthly rent       int64\n",
       "dtype: object"
      ]
     },
     "execution_count": 36,
     "metadata": {},
     "output_type": "execute_result"
    }
   ],
   "source": [
    "data7 = data6.replace({'floor': '[A-Za-z]'}, ' ', regex = True)\n",
    "data7['floor'] = data7['floor'].astype(str)\n",
    "data7['floor'] = data7['floor'].apply(lambda x: x.strip())\n",
    "data7.dtypes"
   ]
  },
  {
   "cell_type": "code",
   "execution_count": 37,
   "metadata": {},
   "outputs": [
    {
     "data": {
      "text/plain": [
       "5      1315\n",
       "4      1181\n",
       "3      1174\n",
       "6      1063\n",
       "2       994\n",
       "7       833\n",
       "1       659\n",
       "12      644\n",
       "8       639\n",
       "10      631\n",
       "11      532\n",
       "9       469\n",
       "14      379\n",
       "16      316\n",
       "15      306\n",
       "20      247\n",
       "19      228\n",
       "13      203\n",
       "0       194\n",
       "18      193\n",
       "17      155\n",
       "22      104\n",
       "24      102\n",
       "25       98\n",
       "21       78\n",
       "40       72\n",
       "23       62\n",
       "27       55\n",
       "28       45\n",
       "26       45\n",
       "35       36\n",
       "34       36\n",
       "41       36\n",
       "30       35\n",
       "29       30\n",
       "nan      29\n",
       "36       24\n",
       "32       22\n",
       "33       18\n",
       "38       15\n",
       "31       13\n",
       "39       11\n",
       "37        7\n",
       "Name: floor, dtype: int64"
      ]
     },
     "execution_count": 37,
     "metadata": {},
     "output_type": "execute_result"
    }
   ],
   "source": [
    "data7.floor.value_counts()"
   ]
  },
  {
   "cell_type": "code",
   "execution_count": 38,
   "metadata": {},
   "outputs": [],
   "source": [
    "data7.replace({'floor': 'nan'}, 0, inplace = True)"
   ]
  },
  {
   "cell_type": "code",
   "execution_count": 39,
   "metadata": {},
   "outputs": [
    {
     "data": {
      "text/plain": [
       "society          0\n",
       "type             0\n",
       "location         0\n",
       "bedrooms         0\n",
       "built-up area    0\n",
       "furnishing       0\n",
       "age              4\n",
       "floor            0\n",
       "total floors     0\n",
       "monthly rent     0\n",
       "dtype: int64"
      ]
     },
     "execution_count": 39,
     "metadata": {},
     "output_type": "execute_result"
    }
   ],
   "source": [
    "data7.isnull().sum()"
   ]
  },
  {
   "cell_type": "code",
   "execution_count": 40,
   "metadata": {},
   "outputs": [
    {
     "name": "stdout",
     "output_type": "stream",
     "text": [
      "<class 'pandas.core.frame.DataFrame'>\n",
      "Int64Index: 13324 entries, 0 to 13540\n",
      "Data columns (total 10 columns):\n",
      "society          13324 non-null object\n",
      "type             13324 non-null object\n",
      "location         13324 non-null object\n",
      "bedrooms         13324 non-null object\n",
      "built-up area    13324 non-null float64\n",
      "furnishing       13324 non-null object\n",
      "age              13324 non-null object\n",
      "floor            13324 non-null object\n",
      "total floors     13324 non-null object\n",
      "monthly rent     13324 non-null int64\n",
      "dtypes: float64(1), int64(1), object(8)\n",
      "memory usage: 1.1+ MB\n"
     ]
    }
   ],
   "source": [
    "data8 = data7.dropna()\n",
    "data8.info()"
   ]
  },
  {
   "cell_type": "code",
   "execution_count": 41,
   "metadata": {},
   "outputs": [
    {
     "data": {
      "text/plain": [
       "array(['6', '12', '17', '41', '7', '19', '30', '23', '24', '8', '18', '4',\n",
       "       '11', '14', '22', '10', '3', '39', '35', '20', '21', '40', '13',\n",
       "       '15', '32', '33', '36', '16', '5', '37', '38', '27',\n",
       "       'Not Mentioned', '9', '26', '25', '28', 0, '34', '29', '59', '46',\n",
       "       '31', '2', '45', '48', '42', '1', '60', '55', '52', '58'],\n",
       "      dtype=object)"
      ]
     },
     "execution_count": 41,
     "metadata": {},
     "output_type": "execute_result"
    }
   ],
   "source": [
    "data8['total floors'].unique()"
   ]
  },
  {
   "cell_type": "code",
   "execution_count": 42,
   "metadata": {},
   "outputs": [
    {
     "data": {
      "text/plain": [
       "11"
      ]
     },
     "execution_count": 42,
     "metadata": {},
     "output_type": "execute_result"
    }
   ],
   "source": [
    "(data8['total floors'] == 'Not Mentioned').sum()"
   ]
  },
  {
   "cell_type": "code",
   "execution_count": 43,
   "metadata": {},
   "outputs": [],
   "source": [
    "data8.replace({'total floors': 'Not Mentioned'}, np.NaN, inplace = True)"
   ]
  },
  {
   "cell_type": "code",
   "execution_count": 44,
   "metadata": {
    "scrolled": true
   },
   "outputs": [
    {
     "name": "stdout",
     "output_type": "stream",
     "text": [
      "<class 'pandas.core.frame.DataFrame'>\n",
      "Int64Index: 13313 entries, 0 to 13540\n",
      "Data columns (total 10 columns):\n",
      "society          13313 non-null object\n",
      "type             13313 non-null object\n",
      "location         13313 non-null object\n",
      "bedrooms         13313 non-null object\n",
      "built-up area    13313 non-null float64\n",
      "furnishing       13313 non-null object\n",
      "age              13313 non-null object\n",
      "floor            13313 non-null object\n",
      "total floors     13313 non-null object\n",
      "monthly rent     13313 non-null int64\n",
      "dtypes: float64(1), int64(1), object(8)\n",
      "memory usage: 1.1+ MB\n"
     ]
    }
   ],
   "source": [
    "data9 = data8.dropna()\n",
    "data9.info()"
   ]
  },
  {
   "cell_type": "markdown",
   "metadata": {},
   "source": [
    " "
   ]
  },
  {
   "cell_type": "markdown",
   "metadata": {},
   "source": [
    "## At last convert all columns contains numerals into integer datatype"
   ]
  },
  {
   "cell_type": "code",
   "execution_count": 45,
   "metadata": {
    "scrolled": true
   },
   "outputs": [],
   "source": [
    "data9['bedrooms'] = data9['bedrooms'].astype(int)\n",
    "data9['floor'] = data9['floor'].astype(int)\n",
    "data9['total floors'] = data9['total floors'].astype(int)"
   ]
  },
  {
   "cell_type": "code",
   "execution_count": 46,
   "metadata": {},
   "outputs": [
    {
     "data": {
      "text/html": [
       "<div>\n",
       "<style scoped>\n",
       "    .dataframe tbody tr th:only-of-type {\n",
       "        vertical-align: middle;\n",
       "    }\n",
       "\n",
       "    .dataframe tbody tr th {\n",
       "        vertical-align: top;\n",
       "    }\n",
       "\n",
       "    .dataframe thead th {\n",
       "        text-align: right;\n",
       "    }\n",
       "</style>\n",
       "<table border=\"1\" class=\"dataframe\">\n",
       "  <thead>\n",
       "    <tr style=\"text-align: right;\">\n",
       "      <th></th>\n",
       "      <th>society</th>\n",
       "      <th>type</th>\n",
       "      <th>location</th>\n",
       "      <th>bedrooms</th>\n",
       "      <th>built-up area</th>\n",
       "      <th>furnishing</th>\n",
       "      <th>age</th>\n",
       "      <th>floor</th>\n",
       "      <th>total floors</th>\n",
       "      <th>monthly rent</th>\n",
       "    </tr>\n",
       "  </thead>\n",
       "  <tbody>\n",
       "    <tr>\n",
       "      <td>0</td>\n",
       "      <td>other society</td>\n",
       "      <td>Residential Apartment</td>\n",
       "      <td>Bandra (West)</td>\n",
       "      <td>2</td>\n",
       "      <td>800.0</td>\n",
       "      <td>Furnished</td>\n",
       "      <td>5 to 10 years old</td>\n",
       "      <td>2</td>\n",
       "      <td>6</td>\n",
       "      <td>85000</td>\n",
       "    </tr>\n",
       "    <tr>\n",
       "      <td>1</td>\n",
       "      <td>other society</td>\n",
       "      <td>Residential Apartment</td>\n",
       "      <td>Khar West</td>\n",
       "      <td>2</td>\n",
       "      <td>1050.0</td>\n",
       "      <td>Furnished</td>\n",
       "      <td>1 to 5 years old</td>\n",
       "      <td>8</td>\n",
       "      <td>12</td>\n",
       "      <td>110000</td>\n",
       "    </tr>\n",
       "    <tr>\n",
       "      <td>2</td>\n",
       "      <td>Gajra Bhoomi Symphony</td>\n",
       "      <td>Residential Apartment</td>\n",
       "      <td>Sector-20 Koparkhairane</td>\n",
       "      <td>2</td>\n",
       "      <td>1050.0</td>\n",
       "      <td>Unfurnished</td>\n",
       "      <td>1 to 5 years old</td>\n",
       "      <td>14</td>\n",
       "      <td>17</td>\n",
       "      <td>32000</td>\n",
       "    </tr>\n",
       "    <tr>\n",
       "      <td>3</td>\n",
       "      <td>Crescent Bay</td>\n",
       "      <td>Residential Apartment</td>\n",
       "      <td>Parel</td>\n",
       "      <td>3</td>\n",
       "      <td>2275.0</td>\n",
       "      <td>Semifurnished</td>\n",
       "      <td>1 to 5 years old</td>\n",
       "      <td>40</td>\n",
       "      <td>41</td>\n",
       "      <td>150000</td>\n",
       "    </tr>\n",
       "    <tr>\n",
       "      <td>4</td>\n",
       "      <td>Ashwini CHS</td>\n",
       "      <td>Residential Apartment</td>\n",
       "      <td>Tilak Nagar</td>\n",
       "      <td>1</td>\n",
       "      <td>550.0</td>\n",
       "      <td>Semifurnished</td>\n",
       "      <td>5 to 10 years old</td>\n",
       "      <td>4</td>\n",
       "      <td>7</td>\n",
       "      <td>27000</td>\n",
       "    </tr>\n",
       "  </tbody>\n",
       "</table>\n",
       "</div>"
      ],
      "text/plain": [
       "                 society                   type                 location  \\\n",
       "0          other society  Residential Apartment            Bandra (West)   \n",
       "1          other society  Residential Apartment                Khar West   \n",
       "2  Gajra Bhoomi Symphony  Residential Apartment  Sector-20 Koparkhairane   \n",
       "3           Crescent Bay  Residential Apartment                    Parel   \n",
       "4            Ashwini CHS  Residential Apartment              Tilak Nagar   \n",
       "\n",
       "   bedrooms  built-up area     furnishing                age  floor  \\\n",
       "0         2          800.0      Furnished  5 to 10 years old      2   \n",
       "1         2         1050.0      Furnished   1 to 5 years old      8   \n",
       "2         2         1050.0    Unfurnished   1 to 5 years old     14   \n",
       "3         3         2275.0  Semifurnished   1 to 5 years old     40   \n",
       "4         1          550.0  Semifurnished  5 to 10 years old      4   \n",
       "\n",
       "   total floors  monthly rent  \n",
       "0             6         85000  \n",
       "1            12        110000  \n",
       "2            17         32000  \n",
       "3            41        150000  \n",
       "4             7         27000  "
      ]
     },
     "execution_count": 46,
     "metadata": {},
     "output_type": "execute_result"
    }
   ],
   "source": [
    "data9.head()"
   ]
  },
  {
   "cell_type": "code",
   "execution_count": 47,
   "metadata": {},
   "outputs": [
    {
     "name": "stdout",
     "output_type": "stream",
     "text": [
      "<class 'pandas.core.frame.DataFrame'>\n",
      "Int64Index: 13313 entries, 0 to 13540\n",
      "Data columns (total 10 columns):\n",
      "society          13313 non-null object\n",
      "type             13313 non-null object\n",
      "location         13313 non-null object\n",
      "bedrooms         13313 non-null int32\n",
      "built-up area    13313 non-null float64\n",
      "furnishing       13313 non-null object\n",
      "age              13313 non-null object\n",
      "floor            13313 non-null int32\n",
      "total floors     13313 non-null int32\n",
      "monthly rent     13313 non-null int64\n",
      "dtypes: float64(1), int32(3), int64(1), object(5)\n",
      "memory usage: 988.1+ KB\n"
     ]
    }
   ],
   "source": [
    "data9.info()"
   ]
  },
  {
   "cell_type": "markdown",
   "metadata": {},
   "source": [
    "## Finally Cleaned "
   ]
  },
  {
   "cell_type": "markdown",
   "metadata": {},
   "source": [
    " "
   ]
  },
  {
   "cell_type": "markdown",
   "metadata": {},
   "source": [
    "<a id ='s3'></a>\n",
    "# <font color = Blue> 3. Data Visualization and Removing Outliers/Exceptions. </font>\n",
    "<a href = '#top'>Back on Top </a>\n",
    "\n",
    "- Trying to look what Data all features contain are How they are `Related` with montly rent."
   ]
  },
  {
   "cell_type": "code",
   "execution_count": 48,
   "metadata": {},
   "outputs": [
    {
     "data": {
      "text/html": [
       "<div>\n",
       "<style scoped>\n",
       "    .dataframe tbody tr th:only-of-type {\n",
       "        vertical-align: middle;\n",
       "    }\n",
       "\n",
       "    .dataframe tbody tr th {\n",
       "        vertical-align: top;\n",
       "    }\n",
       "\n",
       "    .dataframe thead th {\n",
       "        text-align: right;\n",
       "    }\n",
       "</style>\n",
       "<table border=\"1\" class=\"dataframe\">\n",
       "  <thead>\n",
       "    <tr style=\"text-align: right;\">\n",
       "      <th></th>\n",
       "      <th>bedrooms</th>\n",
       "      <th>built-up area</th>\n",
       "      <th>floor</th>\n",
       "      <th>total floors</th>\n",
       "      <th>monthly rent</th>\n",
       "    </tr>\n",
       "  </thead>\n",
       "  <tbody>\n",
       "    <tr>\n",
       "      <td>count</td>\n",
       "      <td>13313.000000</td>\n",
       "      <td>13313.000000</td>\n",
       "      <td>13313.000000</td>\n",
       "      <td>13313.000000</td>\n",
       "      <td>1.331300e+04</td>\n",
       "    </tr>\n",
       "    <tr>\n",
       "      <td>mean</td>\n",
       "      <td>2.145572</td>\n",
       "      <td>1231.072603</td>\n",
       "      <td>8.907609</td>\n",
       "      <td>17.284909</td>\n",
       "      <td>6.053882e+04</td>\n",
       "    </tr>\n",
       "    <tr>\n",
       "      <td>std</td>\n",
       "      <td>0.827881</td>\n",
       "      <td>781.383985</td>\n",
       "      <td>7.408326</td>\n",
       "      <td>11.353154</td>\n",
       "      <td>6.804957e+04</td>\n",
       "    </tr>\n",
       "    <tr>\n",
       "      <td>min</td>\n",
       "      <td>1.000000</td>\n",
       "      <td>150.000000</td>\n",
       "      <td>0.000000</td>\n",
       "      <td>0.000000</td>\n",
       "      <td>2.900000e+03</td>\n",
       "    </tr>\n",
       "    <tr>\n",
       "      <td>25%</td>\n",
       "      <td>2.000000</td>\n",
       "      <td>785.000000</td>\n",
       "      <td>4.000000</td>\n",
       "      <td>7.000000</td>\n",
       "      <td>2.500000e+04</td>\n",
       "    </tr>\n",
       "    <tr>\n",
       "      <td>50%</td>\n",
       "      <td>2.000000</td>\n",
       "      <td>1070.000000</td>\n",
       "      <td>7.000000</td>\n",
       "      <td>15.000000</td>\n",
       "      <td>4.200000e+04</td>\n",
       "    </tr>\n",
       "    <tr>\n",
       "      <td>75%</td>\n",
       "      <td>3.000000</td>\n",
       "      <td>1450.000000</td>\n",
       "      <td>12.000000</td>\n",
       "      <td>23.000000</td>\n",
       "      <td>7.000000e+04</td>\n",
       "    </tr>\n",
       "    <tr>\n",
       "      <td>max</td>\n",
       "      <td>7.000000</td>\n",
       "      <td>41548.654000</td>\n",
       "      <td>41.000000</td>\n",
       "      <td>60.000000</td>\n",
       "      <td>1.490000e+06</td>\n",
       "    </tr>\n",
       "  </tbody>\n",
       "</table>\n",
       "</div>"
      ],
      "text/plain": [
       "           bedrooms  built-up area         floor  total floors  monthly rent\n",
       "count  13313.000000   13313.000000  13313.000000  13313.000000  1.331300e+04\n",
       "mean       2.145572    1231.072603      8.907609     17.284909  6.053882e+04\n",
       "std        0.827881     781.383985      7.408326     11.353154  6.804957e+04\n",
       "min        1.000000     150.000000      0.000000      0.000000  2.900000e+03\n",
       "25%        2.000000     785.000000      4.000000      7.000000  2.500000e+04\n",
       "50%        2.000000    1070.000000      7.000000     15.000000  4.200000e+04\n",
       "75%        3.000000    1450.000000     12.000000     23.000000  7.000000e+04\n",
       "max        7.000000   41548.654000     41.000000     60.000000  1.490000e+06"
      ]
     },
     "execution_count": 48,
     "metadata": {},
     "output_type": "execute_result"
    }
   ],
   "source": [
    "data9.describe()"
   ]
  },
  {
   "cell_type": "code",
   "execution_count": 49,
   "metadata": {},
   "outputs": [
    {
     "data": {
      "text/plain": [
       "bedrooms         0.562037\n",
       "built-up area    0.643000\n",
       "floor            0.349657\n",
       "total floors     0.334306\n",
       "monthly rent     1.000000\n",
       "Name: monthly rent, dtype: float64"
      ]
     },
     "execution_count": 49,
     "metadata": {},
     "output_type": "execute_result"
    }
   ],
   "source": [
    "data9.corr()['monthly rent']"
   ]
  },
  {
   "cell_type": "code",
   "execution_count": 50,
   "metadata": {},
   "outputs": [
    {
     "data": {
      "image/png": "[encoded data removed]",
      "text/plain": [
       "<Figure size 432x288 with 1 Axes>"
      ]
     },
     "metadata": {
      "needs_background": "light"
     },
     "output_type": "display_data"
    }
   ],
   "source": [
    "plt.scatter(data9['bedrooms'],data9['monthly rent'])\n",
    "plt.xlabel('bedrooms')\n",
    "plt.ylabel('monthly rent')\n",
    "plt.show()"
   ]
  },
  {
   "cell_type": "markdown",
   "metadata": {},
   "source": [
    " "
   ]
  },
  {
   "cell_type": "markdown",
   "metadata": {},
   "source": [
    "## Removing Outliers which seems to be unreal."
   ]
  },
  {
   "cell_type": "code",
   "execution_count": 51,
   "metadata": {},
   "outputs": [
    {
     "data": {
      "text/html": [
       "<div>\n",
       "<style scoped>\n",
       "    .dataframe tbody tr th:only-of-type {\n",
       "        vertical-align: middle;\n",
       "    }\n",
       "\n",
       "    .dataframe tbody tr th {\n",
       "        vertical-align: top;\n",
       "    }\n",
       "\n",
       "    .dataframe thead th {\n",
       "        text-align: right;\n",
       "    }\n",
       "</style>\n",
       "<table border=\"1\" class=\"dataframe\">\n",
       "  <thead>\n",
       "    <tr style=\"text-align: right;\">\n",
       "      <th></th>\n",
       "      <th>society</th>\n",
       "      <th>type</th>\n",
       "      <th>location</th>\n",
       "      <th>bedrooms</th>\n",
       "      <th>built-up area</th>\n",
       "      <th>furnishing</th>\n",
       "      <th>age</th>\n",
       "      <th>floor</th>\n",
       "      <th>total floors</th>\n",
       "      <th>monthly rent</th>\n",
       "    </tr>\n",
       "  </thead>\n",
       "  <tbody>\n",
       "    <tr>\n",
       "      <td>1381</td>\n",
       "      <td>other society</td>\n",
       "      <td>Residential Apartment</td>\n",
       "      <td>Lokhandwala</td>\n",
       "      <td>4</td>\n",
       "      <td>22000.0</td>\n",
       "      <td>Furnished</td>\n",
       "      <td>5 to 10 years old</td>\n",
       "      <td>10</td>\n",
       "      <td>15</td>\n",
       "      <td>1150000</td>\n",
       "    </tr>\n",
       "    <tr>\n",
       "      <td>1529</td>\n",
       "      <td>other society</td>\n",
       "      <td>Residential Apartment</td>\n",
       "      <td>Juhu</td>\n",
       "      <td>3</td>\n",
       "      <td>1500.0</td>\n",
       "      <td>Semifurnished</td>\n",
       "      <td>10+ years old</td>\n",
       "      <td>2</td>\n",
       "      <td>7</td>\n",
       "      <td>1490000</td>\n",
       "    </tr>\n",
       "    <tr>\n",
       "      <td>8176</td>\n",
       "      <td>other society</td>\n",
       "      <td>Residential Apartment</td>\n",
       "      <td>Prabhadevi</td>\n",
       "      <td>5</td>\n",
       "      <td>5500.0</td>\n",
       "      <td>Furnished</td>\n",
       "      <td>1 to 5 years old</td>\n",
       "      <td>30</td>\n",
       "      <td>41</td>\n",
       "      <td>1200000</td>\n",
       "    </tr>\n",
       "    <tr>\n",
       "      <td>10335</td>\n",
       "      <td>other society</td>\n",
       "      <td>Residential Apartment</td>\n",
       "      <td>other location</td>\n",
       "      <td>4</td>\n",
       "      <td>7300.0</td>\n",
       "      <td>Semifurnished</td>\n",
       "      <td>0 to 1 years old</td>\n",
       "      <td>16</td>\n",
       "      <td>20</td>\n",
       "      <td>1000000</td>\n",
       "    </tr>\n",
       "  </tbody>\n",
       "</table>\n",
       "</div>"
      ],
      "text/plain": [
       "             society                   type        location  bedrooms  \\\n",
       "1381   other society  Residential Apartment     Lokhandwala         4   \n",
       "1529   other society  Residential Apartment            Juhu         3   \n",
       "8176   other society  Residential Apartment      Prabhadevi         5   \n",
       "10335  other society  Residential Apartment  other location         4   \n",
       "\n",
       "       built-up area     furnishing                age  floor  total floors  \\\n",
       "1381         22000.0      Furnished  5 to 10 years old     10            15   \n",
       "1529          1500.0  Semifurnished      10+ years old      2             7   \n",
       "8176          5500.0      Furnished   1 to 5 years old     30            41   \n",
       "10335         7300.0  Semifurnished   0 to 1 years old     16            20   \n",
       "\n",
       "       monthly rent  \n",
       "1381        1150000  \n",
       "1529        1490000  \n",
       "8176        1200000  \n",
       "10335       1000000  "
      ]
     },
     "execution_count": 51,
     "metadata": {},
     "output_type": "execute_result"
    }
   ],
   "source": [
    "data9[(data9['monthly rent'] > 900000)]"
   ]
  },
  {
   "cell_type": "code",
   "execution_count": 52,
   "metadata": {},
   "outputs": [],
   "source": [
    "data9.drop([1381, 1529, 8176, 10335], inplace = True)"
   ]
  },
  {
   "cell_type": "code",
   "execution_count": 53,
   "metadata": {},
   "outputs": [
    {
     "data": {
      "text/html": [
       "<div>\n",
       "<style scoped>\n",
       "    .dataframe tbody tr th:only-of-type {\n",
       "        vertical-align: middle;\n",
       "    }\n",
       "\n",
       "    .dataframe tbody tr th {\n",
       "        vertical-align: top;\n",
       "    }\n",
       "\n",
       "    .dataframe thead th {\n",
       "        text-align: right;\n",
       "    }\n",
       "</style>\n",
       "<table border=\"1\" class=\"dataframe\">\n",
       "  <thead>\n",
       "    <tr style=\"text-align: right;\">\n",
       "      <th></th>\n",
       "      <th>society</th>\n",
       "      <th>type</th>\n",
       "      <th>location</th>\n",
       "      <th>bedrooms</th>\n",
       "      <th>built-up area</th>\n",
       "      <th>furnishing</th>\n",
       "      <th>age</th>\n",
       "      <th>floor</th>\n",
       "      <th>total floors</th>\n",
       "      <th>monthly rent</th>\n",
       "    </tr>\n",
       "  </thead>\n",
       "  <tbody>\n",
       "  </tbody>\n",
       "</table>\n",
       "</div>"
      ],
      "text/plain": [
       "Empty DataFrame\n",
       "Columns: [society, type, location, bedrooms, built-up area, furnishing, age, floor, total floors, monthly rent]\n",
       "Index: []"
      ]
     },
     "execution_count": 53,
     "metadata": {},
     "output_type": "execute_result"
    }
   ],
   "source": [
    "data9[(data9['monthly rent'] > 900000)]"
   ]
  },
  {
   "cell_type": "code",
   "execution_count": 54,
   "metadata": {},
   "outputs": [
    {
     "data": {
      "image/png": "[encoded data removed]",
      "text/plain": [
       "<Figure size 432x288 with 1 Axes>"
      ]
     },
     "metadata": {
      "needs_background": "light"
     },
     "output_type": "display_data"
    }
   ],
   "source": [
    "plt.scatter(data9['bedrooms'],data9['monthly rent'])\n",
    "plt.xlabel('bedrooms')\n",
    "plt.ylabel('monthly rent')\n",
    "plt.show()"
   ]
  },
  {
   "cell_type": "code",
   "execution_count": 55,
   "metadata": {},
   "outputs": [
    {
     "data": {
      "image/png": "[encoded data removed]",
      "text/plain": [
       "<Figure size 432x288 with 1 Axes>"
      ]
     },
     "metadata": {
      "needs_background": "light"
     },
     "output_type": "display_data"
    }
   ],
   "source": [
    "plt.hist(data9['bedrooms'], rwidth = .8)\n",
    "plt.xlabel('bedrooms')\n",
    "plt.ylabel('monthly rent')\n",
    "plt.show()"
   ]
  },
  {
   "cell_type": "code",
   "execution_count": 56,
   "metadata": {
    "scrolled": false
   },
   "outputs": [
    {
     "data": {
      "image/png": "[encoded data removed]",
      "text/plain": [
       "<Figure size 432x288 with 1 Axes>"
      ]
     },
     "metadata": {
      "needs_background": "light"
     },
     "output_type": "display_data"
    }
   ],
   "source": [
    "plt.scatter(data9['built-up area'], data9['monthly rent'])\n",
    "plt.xlabel('built up area')\n",
    "plt.ylabel('monthly rent')\n",
    "plt.show()"
   ]
  },
  {
   "cell_type": "markdown",
   "metadata": {},
   "source": [
    " "
   ]
  },
  {
   "cell_type": "markdown",
   "metadata": {},
   "source": [
    "## Removing Outliers which seems to be unreal."
   ]
  },
  {
   "cell_type": "code",
   "execution_count": 57,
   "metadata": {},
   "outputs": [
    {
     "data": {
      "text/plain": [
       "Int64Index([1646, 6478, 7883, 9030], dtype='int64')"
      ]
     },
     "execution_count": 57,
     "metadata": {},
     "output_type": "execute_result"
    }
   ],
   "source": [
    "built_area_outlier_index = data9[data9['built-up area']>10000].index\n",
    "built_area_outlier_index"
   ]
  },
  {
   "cell_type": "code",
   "execution_count": 58,
   "metadata": {},
   "outputs": [
    {
     "data": {
      "text/html": [
       "<div>\n",
       "<style scoped>\n",
       "    .dataframe tbody tr th:only-of-type {\n",
       "        vertical-align: middle;\n",
       "    }\n",
       "\n",
       "    .dataframe tbody tr th {\n",
       "        vertical-align: top;\n",
       "    }\n",
       "\n",
       "    .dataframe thead th {\n",
       "        text-align: right;\n",
       "    }\n",
       "</style>\n",
       "<table border=\"1\" class=\"dataframe\">\n",
       "  <thead>\n",
       "    <tr style=\"text-align: right;\">\n",
       "      <th></th>\n",
       "      <th>society</th>\n",
       "      <th>type</th>\n",
       "      <th>location</th>\n",
       "      <th>bedrooms</th>\n",
       "      <th>built-up area</th>\n",
       "      <th>furnishing</th>\n",
       "      <th>age</th>\n",
       "      <th>floor</th>\n",
       "      <th>total floors</th>\n",
       "      <th>monthly rent</th>\n",
       "    </tr>\n",
       "  </thead>\n",
       "  <tbody>\n",
       "    <tr>\n",
       "      <td>1646</td>\n",
       "      <td>other society</td>\n",
       "      <td>Independent House/Villa</td>\n",
       "      <td>other location</td>\n",
       "      <td>4</td>\n",
       "      <td>41548.6540</td>\n",
       "      <td>Semifurnished</td>\n",
       "      <td>0 to 1 years old</td>\n",
       "      <td>0</td>\n",
       "      <td>0</td>\n",
       "      <td>310000</td>\n",
       "    </tr>\n",
       "    <tr>\n",
       "      <td>6478</td>\n",
       "      <td>other society</td>\n",
       "      <td>Residential Apartment</td>\n",
       "      <td>other location</td>\n",
       "      <td>3</td>\n",
       "      <td>12000.0000</td>\n",
       "      <td>Furnished</td>\n",
       "      <td>5 to 10 years old</td>\n",
       "      <td>5</td>\n",
       "      <td>7</td>\n",
       "      <td>9000</td>\n",
       "    </tr>\n",
       "    <tr>\n",
       "      <td>7883</td>\n",
       "      <td>other society</td>\n",
       "      <td>Independent House/Villa</td>\n",
       "      <td>other location</td>\n",
       "      <td>4</td>\n",
       "      <td>11022.2336</td>\n",
       "      <td>Semifurnished</td>\n",
       "      <td>10+ years old</td>\n",
       "      <td>0</td>\n",
       "      <td>0</td>\n",
       "      <td>500000</td>\n",
       "    </tr>\n",
       "    <tr>\n",
       "      <td>9030</td>\n",
       "      <td>other society</td>\n",
       "      <td>Residential Apartment</td>\n",
       "      <td>other location</td>\n",
       "      <td>3</td>\n",
       "      <td>13454.8750</td>\n",
       "      <td>Unfurnished</td>\n",
       "      <td>5 to 10 years old</td>\n",
       "      <td>10</td>\n",
       "      <td>12</td>\n",
       "      <td>25000</td>\n",
       "    </tr>\n",
       "  </tbody>\n",
       "</table>\n",
       "</div>"
      ],
      "text/plain": [
       "            society                     type        location  bedrooms  \\\n",
       "1646  other society  Independent House/Villa  other location         4   \n",
       "6478  other society    Residential Apartment  other location         3   \n",
       "7883  other society  Independent House/Villa  other location         4   \n",
       "9030  other society    Residential Apartment  other location         3   \n",
       "\n",
       "      built-up area     furnishing                age  floor  total floors  \\\n",
       "1646     41548.6540  Semifurnished   0 to 1 years old      0             0   \n",
       "6478     12000.0000      Furnished  5 to 10 years old      5             7   \n",
       "7883     11022.2336  Semifurnished      10+ years old      0             0   \n",
       "9030     13454.8750    Unfurnished  5 to 10 years old     10            12   \n",
       "\n",
       "      monthly rent  \n",
       "1646        310000  \n",
       "6478          9000  \n",
       "7883        500000  \n",
       "9030         25000  "
      ]
     },
     "execution_count": 58,
     "metadata": {},
     "output_type": "execute_result"
    }
   ],
   "source": [
    "data9.loc[built_area_outlier_index,:]"
   ]
  },
  {
   "cell_type": "code",
   "execution_count": 59,
   "metadata": {},
   "outputs": [],
   "source": [
    "data10 = data9.drop(built_area_outlier_index)"
   ]
  },
  {
   "cell_type": "code",
   "execution_count": 60,
   "metadata": {},
   "outputs": [
    {
     "data": {
      "text/plain": [
       "Int64Index([], dtype='int64')"
      ]
     },
     "execution_count": 60,
     "metadata": {},
     "output_type": "execute_result"
    }
   ],
   "source": [
    "rent_outlier_index = data10[data10['monthly rent'] >= 1000000].index\n",
    "rent_outlier_index"
   ]
  },
  {
   "cell_type": "code",
   "execution_count": 61,
   "metadata": {},
   "outputs": [
    {
     "data": {
      "text/html": [
       "<div>\n",
       "<style scoped>\n",
       "    .dataframe tbody tr th:only-of-type {\n",
       "        vertical-align: middle;\n",
       "    }\n",
       "\n",
       "    .dataframe tbody tr th {\n",
       "        vertical-align: top;\n",
       "    }\n",
       "\n",
       "    .dataframe thead th {\n",
       "        text-align: right;\n",
       "    }\n",
       "</style>\n",
       "<table border=\"1\" class=\"dataframe\">\n",
       "  <thead>\n",
       "    <tr style=\"text-align: right;\">\n",
       "      <th></th>\n",
       "      <th>society</th>\n",
       "      <th>type</th>\n",
       "      <th>location</th>\n",
       "      <th>bedrooms</th>\n",
       "      <th>built-up area</th>\n",
       "      <th>furnishing</th>\n",
       "      <th>age</th>\n",
       "      <th>floor</th>\n",
       "      <th>total floors</th>\n",
       "      <th>monthly rent</th>\n",
       "    </tr>\n",
       "  </thead>\n",
       "  <tbody>\n",
       "  </tbody>\n",
       "</table>\n",
       "</div>"
      ],
      "text/plain": [
       "Empty DataFrame\n",
       "Columns: [society, type, location, bedrooms, built-up area, furnishing, age, floor, total floors, monthly rent]\n",
       "Index: []"
      ]
     },
     "execution_count": 61,
     "metadata": {},
     "output_type": "execute_result"
    }
   ],
   "source": [
    "data10.loc[rent_outlier_index,:]"
   ]
  },
  {
   "cell_type": "code",
   "execution_count": 62,
   "metadata": {},
   "outputs": [],
   "source": [
    "data11 = data10.drop(rent_outlier_index)"
   ]
  },
  {
   "cell_type": "code",
   "execution_count": 63,
   "metadata": {},
   "outputs": [
    {
     "data": {
      "image/png": "[encoded data removed]",
      "text/plain": [
       "<Figure size 432x288 with 1 Axes>"
      ]
     },
     "metadata": {
      "needs_background": "light"
     },
     "output_type": "display_data"
    }
   ],
   "source": [
    "plt.scatter(data11['built-up area'], data11['monthly rent'])\n",
    "plt.xlabel('built up area')\n",
    "plt.ylabel('monthly rent')\n",
    "plt.show()"
   ]
  },
  {
   "cell_type": "code",
   "execution_count": 64,
   "metadata": {},
   "outputs": [
    {
     "data": {
      "text/plain": [
       "bedrooms         0.577377\n",
       "built-up area    0.725550\n",
       "floor            0.364619\n",
       "total floors     0.350862\n",
       "monthly rent     1.000000\n",
       "Name: monthly rent, dtype: float64"
      ]
     },
     "execution_count": 64,
     "metadata": {},
     "output_type": "execute_result"
    }
   ],
   "source": [
    "data11.corr()['monthly rent']"
   ]
  },
  {
   "cell_type": "code",
   "execution_count": 65,
   "metadata": {},
   "outputs": [
    {
     "data": {
      "image/png": "[encoded data removed]",
      "text/plain": [
       "<Figure size 720x360 with 2 Axes>"
      ]
     },
     "metadata": {
      "needs_background": "light"
     },
     "output_type": "display_data"
    }
   ],
   "source": [
    "fig, ax = plt.subplots(1,2, figsize = (10,5))\n",
    "ax[0].boxplot(data11['built-up area'])\n",
    "ax[0].set_title('built up area')\n",
    "ax[1].boxplot(data11['monthly rent'])\n",
    "ax[1].set_title('monthly rent')\n",
    "plt.show()"
   ]
  },
  {
   "cell_type": "code",
   "execution_count": 66,
   "metadata": {},
   "outputs": [
    {
     "data": {
      "image/png": "[encoded data removed]",
      "text/plain": [
       "<Figure size 432x288 with 1 Axes>"
      ]
     },
     "metadata": {
      "needs_background": "light"
     },
     "output_type": "display_data"
    }
   ],
   "source": [
    "plt.scatter(data11['floor'], data11['monthly rent'])\n",
    "plt.xlabel('floor')\n",
    "plt.ylabel('monthly rent')\n",
    "plt.show()"
   ]
  },
  {
   "cell_type": "code",
   "execution_count": 67,
   "metadata": {},
   "outputs": [
    {
     "data": {
      "image/png": "[encoded data removed]",
      "text/plain": [
       "<Figure size 432x288 with 1 Axes>"
      ]
     },
     "metadata": {
      "needs_background": "light"
     },
     "output_type": "display_data"
    }
   ],
   "source": [
    "plt.hist(data11['floor'] ,rwidth = .8)\n",
    "plt.title('floor')\n",
    "plt.show()"
   ]
  },
  {
   "cell_type": "code",
   "execution_count": 68,
   "metadata": {},
   "outputs": [
    {
     "data": {
      "image/png": "[encoded data removed]",
      "text/plain": [
       "<Figure size 432x288 with 1 Axes>"
      ]
     },
     "metadata": {
      "needs_background": "light"
     },
     "output_type": "display_data"
    }
   ],
   "source": [
    "plt.scatter(data11['total floors'], data11['monthly rent'])\n",
    "plt.xlabel('total floor')\n",
    "plt.ylabel('monthly rent')\n",
    "plt.show()"
   ]
  },
  {
   "cell_type": "code",
   "execution_count": 69,
   "metadata": {
    "scrolled": true
   },
   "outputs": [
    {
     "data": {
      "image/png": "[encoded data removed]",
      "text/plain": [
       "<Figure size 432x288 with 1 Axes>"
      ]
     },
     "metadata": {
      "needs_background": "light"
     },
     "output_type": "display_data"
    }
   ],
   "source": [
    "plt.hist(data11['total floors'] ,rwidth = .8)\n",
    "plt.title('total floors')\n",
    "plt.show()"
   ]
  },
  {
   "cell_type": "code",
   "execution_count": 70,
   "metadata": {},
   "outputs": [
    {
     "data": {
      "text/html": [
       "<div>\n",
       "<style scoped>\n",
       "    .dataframe tbody tr th:only-of-type {\n",
       "        vertical-align: middle;\n",
       "    }\n",
       "\n",
       "    .dataframe tbody tr th {\n",
       "        vertical-align: top;\n",
       "    }\n",
       "\n",
       "    .dataframe thead th {\n",
       "        text-align: right;\n",
       "    }\n",
       "</style>\n",
       "<table border=\"1\" class=\"dataframe\">\n",
       "  <thead>\n",
       "    <tr style=\"text-align: right;\">\n",
       "      <th></th>\n",
       "      <th>society</th>\n",
       "      <th>type</th>\n",
       "      <th>location</th>\n",
       "      <th>bedrooms</th>\n",
       "      <th>built-up area</th>\n",
       "      <th>furnishing</th>\n",
       "      <th>age</th>\n",
       "      <th>floor</th>\n",
       "      <th>total floors</th>\n",
       "      <th>monthly rent</th>\n",
       "    </tr>\n",
       "  </thead>\n",
       "  <tbody>\n",
       "    <tr>\n",
       "      <td>0</td>\n",
       "      <td>other society</td>\n",
       "      <td>Residential Apartment</td>\n",
       "      <td>Bandra (West)</td>\n",
       "      <td>2</td>\n",
       "      <td>800.0</td>\n",
       "      <td>Furnished</td>\n",
       "      <td>5 to 10 years old</td>\n",
       "      <td>2</td>\n",
       "      <td>6</td>\n",
       "      <td>85000</td>\n",
       "    </tr>\n",
       "    <tr>\n",
       "      <td>1</td>\n",
       "      <td>other society</td>\n",
       "      <td>Residential Apartment</td>\n",
       "      <td>Khar West</td>\n",
       "      <td>2</td>\n",
       "      <td>1050.0</td>\n",
       "      <td>Furnished</td>\n",
       "      <td>1 to 5 years old</td>\n",
       "      <td>8</td>\n",
       "      <td>12</td>\n",
       "      <td>110000</td>\n",
       "    </tr>\n",
       "    <tr>\n",
       "      <td>2</td>\n",
       "      <td>Gajra Bhoomi Symphony</td>\n",
       "      <td>Residential Apartment</td>\n",
       "      <td>Sector-20 Koparkhairane</td>\n",
       "      <td>2</td>\n",
       "      <td>1050.0</td>\n",
       "      <td>Unfurnished</td>\n",
       "      <td>1 to 5 years old</td>\n",
       "      <td>14</td>\n",
       "      <td>17</td>\n",
       "      <td>32000</td>\n",
       "    </tr>\n",
       "    <tr>\n",
       "      <td>3</td>\n",
       "      <td>Crescent Bay</td>\n",
       "      <td>Residential Apartment</td>\n",
       "      <td>Parel</td>\n",
       "      <td>3</td>\n",
       "      <td>2275.0</td>\n",
       "      <td>Semifurnished</td>\n",
       "      <td>1 to 5 years old</td>\n",
       "      <td>40</td>\n",
       "      <td>41</td>\n",
       "      <td>150000</td>\n",
       "    </tr>\n",
       "    <tr>\n",
       "      <td>4</td>\n",
       "      <td>Ashwini CHS</td>\n",
       "      <td>Residential Apartment</td>\n",
       "      <td>Tilak Nagar</td>\n",
       "      <td>1</td>\n",
       "      <td>550.0</td>\n",
       "      <td>Semifurnished</td>\n",
       "      <td>5 to 10 years old</td>\n",
       "      <td>4</td>\n",
       "      <td>7</td>\n",
       "      <td>27000</td>\n",
       "    </tr>\n",
       "  </tbody>\n",
       "</table>\n",
       "</div>"
      ],
      "text/plain": [
       "                 society                   type                 location  \\\n",
       "0          other society  Residential Apartment            Bandra (West)   \n",
       "1          other society  Residential Apartment                Khar West   \n",
       "2  Gajra Bhoomi Symphony  Residential Apartment  Sector-20 Koparkhairane   \n",
       "3           Crescent Bay  Residential Apartment                    Parel   \n",
       "4            Ashwini CHS  Residential Apartment              Tilak Nagar   \n",
       "\n",
       "   bedrooms  built-up area     furnishing                age  floor  \\\n",
       "0         2          800.0      Furnished  5 to 10 years old      2   \n",
       "1         2         1050.0      Furnished   1 to 5 years old      8   \n",
       "2         2         1050.0    Unfurnished   1 to 5 years old     14   \n",
       "3         3         2275.0  Semifurnished   1 to 5 years old     40   \n",
       "4         1          550.0  Semifurnished  5 to 10 years old      4   \n",
       "\n",
       "   total floors  monthly rent  \n",
       "0             6         85000  \n",
       "1            12        110000  \n",
       "2            17         32000  \n",
       "3            41        150000  \n",
       "4             7         27000  "
      ]
     },
     "execution_count": 70,
     "metadata": {},
     "output_type": "execute_result"
    }
   ],
   "source": [
    "data11.head()"
   ]
  },
  {
   "cell_type": "code",
   "execution_count": 71,
   "metadata": {},
   "outputs": [
    {
     "data": {
      "text/html": [
       "<div>\n",
       "<style scoped>\n",
       "    .dataframe tbody tr th:only-of-type {\n",
       "        vertical-align: middle;\n",
       "    }\n",
       "\n",
       "    .dataframe tbody tr th {\n",
       "        vertical-align: top;\n",
       "    }\n",
       "\n",
       "    .dataframe thead th {\n",
       "        text-align: right;\n",
       "    }\n",
       "</style>\n",
       "<table border=\"1\" class=\"dataframe\">\n",
       "  <thead>\n",
       "    <tr style=\"text-align: right;\">\n",
       "      <th></th>\n",
       "      <th>bedrooms</th>\n",
       "      <th>built-up area</th>\n",
       "      <th>floor</th>\n",
       "      <th>total floors</th>\n",
       "      <th>monthly rent</th>\n",
       "    </tr>\n",
       "  </thead>\n",
       "  <tbody>\n",
       "    <tr>\n",
       "      <td>count</td>\n",
       "      <td>13305.000000</td>\n",
       "      <td>13305.000000</td>\n",
       "      <td>13305.000000</td>\n",
       "      <td>13305.000000</td>\n",
       "      <td>13305.000000</td>\n",
       "    </tr>\n",
       "    <tr>\n",
       "      <td>mean</td>\n",
       "      <td>2.144607</td>\n",
       "      <td>1223.220128</td>\n",
       "      <td>8.907478</td>\n",
       "      <td>17.287636</td>\n",
       "      <td>60148.015333</td>\n",
       "    </tr>\n",
       "    <tr>\n",
       "      <td>std</td>\n",
       "      <td>0.827036</td>\n",
       "      <td>651.892862</td>\n",
       "      <td>7.406904</td>\n",
       "      <td>11.351893</td>\n",
       "      <td>64862.538445</td>\n",
       "    </tr>\n",
       "    <tr>\n",
       "      <td>min</td>\n",
       "      <td>1.000000</td>\n",
       "      <td>150.000000</td>\n",
       "      <td>0.000000</td>\n",
       "      <td>0.000000</td>\n",
       "      <td>2900.000000</td>\n",
       "    </tr>\n",
       "    <tr>\n",
       "      <td>25%</td>\n",
       "      <td>2.000000</td>\n",
       "      <td>785.000000</td>\n",
       "      <td>4.000000</td>\n",
       "      <td>7.000000</td>\n",
       "      <td>25000.000000</td>\n",
       "    </tr>\n",
       "    <tr>\n",
       "      <td>50%</td>\n",
       "      <td>2.000000</td>\n",
       "      <td>1070.000000</td>\n",
       "      <td>7.000000</td>\n",
       "      <td>15.000000</td>\n",
       "      <td>42000.000000</td>\n",
       "    </tr>\n",
       "    <tr>\n",
       "      <td>75%</td>\n",
       "      <td>3.000000</td>\n",
       "      <td>1450.000000</td>\n",
       "      <td>12.000000</td>\n",
       "      <td>23.000000</td>\n",
       "      <td>70000.000000</td>\n",
       "    </tr>\n",
       "    <tr>\n",
       "      <td>max</td>\n",
       "      <td>7.000000</td>\n",
       "      <td>7218.000000</td>\n",
       "      <td>41.000000</td>\n",
       "      <td>60.000000</td>\n",
       "      <td>800000.000000</td>\n",
       "    </tr>\n",
       "  </tbody>\n",
       "</table>\n",
       "</div>"
      ],
      "text/plain": [
       "           bedrooms  built-up area         floor  total floors   monthly rent\n",
       "count  13305.000000   13305.000000  13305.000000  13305.000000   13305.000000\n",
       "mean       2.144607    1223.220128      8.907478     17.287636   60148.015333\n",
       "std        0.827036     651.892862      7.406904     11.351893   64862.538445\n",
       "min        1.000000     150.000000      0.000000      0.000000    2900.000000\n",
       "25%        2.000000     785.000000      4.000000      7.000000   25000.000000\n",
       "50%        2.000000    1070.000000      7.000000     15.000000   42000.000000\n",
       "75%        3.000000    1450.000000     12.000000     23.000000   70000.000000\n",
       "max        7.000000    7218.000000     41.000000     60.000000  800000.000000"
      ]
     },
     "execution_count": 71,
     "metadata": {},
     "output_type": "execute_result"
    }
   ],
   "source": [
    "data11.describe()"
   ]
  },
  {
   "cell_type": "markdown",
   "metadata": {},
   "source": [
    " "
   ]
  },
  {
   "cell_type": "markdown",
   "metadata": {},
   "source": [
    " ## Exporting Cleaned Data locally."
   ]
  },
  {
   "cell_type": "code",
   "execution_count": 72,
   "metadata": {},
   "outputs": [],
   "source": [
    "data11.to_csv('mumbai_rent_cleaned_data.csv', index = False)"
   ]
  },
  {
   "cell_type": "markdown",
   "metadata": {},
   "source": [
    " "
   ]
  },
  {
   "cell_type": "markdown",
   "metadata": {},
   "source": [
    "<a id = 's4'></a>\n",
    "# <font color = Blue> 4. OneHotEncoding Text features. </font> \n",
    "<a href = '#top'>Back on Top</a>"
   ]
  },
  {
   "cell_type": "code",
   "execution_count": 73,
   "metadata": {},
   "outputs": [],
   "source": [
    "society_dummies = pd.get_dummies(data11['society'])\n",
    "society_dummies.drop('other society', axis =1, inplace = True)"
   ]
  },
  {
   "cell_type": "code",
   "execution_count": 74,
   "metadata": {},
   "outputs": [
    {
     "data": {
      "text/html": [
       "<div>\n",
       "<style scoped>\n",
       "    .dataframe tbody tr th:only-of-type {\n",
       "        vertical-align: middle;\n",
       "    }\n",
       "\n",
       "    .dataframe tbody tr th {\n",
       "        vertical-align: top;\n",
       "    }\n",
       "\n",
       "    .dataframe thead th {\n",
       "        text-align: right;\n",
       "    }\n",
       "</style>\n",
       "<table border=\"1\" class=\"dataframe\">\n",
       "  <thead>\n",
       "    <tr style=\"text-align: right;\">\n",
       "      <th></th>\n",
       "      <th>Independent House/Villa</th>\n",
       "      <th>Residential Apartment</th>\n",
       "      <th>Studio Apartment</th>\n",
       "    </tr>\n",
       "  </thead>\n",
       "  <tbody>\n",
       "    <tr>\n",
       "      <td>0</td>\n",
       "      <td>0</td>\n",
       "      <td>1</td>\n",
       "      <td>0</td>\n",
       "    </tr>\n",
       "    <tr>\n",
       "      <td>1</td>\n",
       "      <td>0</td>\n",
       "      <td>1</td>\n",
       "      <td>0</td>\n",
       "    </tr>\n",
       "    <tr>\n",
       "      <td>2</td>\n",
       "      <td>0</td>\n",
       "      <td>1</td>\n",
       "      <td>0</td>\n",
       "    </tr>\n",
       "    <tr>\n",
       "      <td>3</td>\n",
       "      <td>0</td>\n",
       "      <td>1</td>\n",
       "      <td>0</td>\n",
       "    </tr>\n",
       "    <tr>\n",
       "      <td>4</td>\n",
       "      <td>0</td>\n",
       "      <td>1</td>\n",
       "      <td>0</td>\n",
       "    </tr>\n",
       "  </tbody>\n",
       "</table>\n",
       "</div>"
      ],
      "text/plain": [
       "   Independent House/Villa  Residential Apartment  Studio Apartment\n",
       "0                        0                      1                 0\n",
       "1                        0                      1                 0\n",
       "2                        0                      1                 0\n",
       "3                        0                      1                 0\n",
       "4                        0                      1                 0"
      ]
     },
     "execution_count": 74,
     "metadata": {},
     "output_type": "execute_result"
    }
   ],
   "source": [
    "type_dummies = pd.get_dummies(data11['type'])\n",
    "type_dummies.head()"
   ]
  },
  {
   "cell_type": "code",
   "execution_count": 75,
   "metadata": {},
   "outputs": [],
   "source": [
    "type_dummies.drop('Independent House/Villa', axis =1, inplace = True)"
   ]
  },
  {
   "cell_type": "code",
   "execution_count": 76,
   "metadata": {},
   "outputs": [],
   "source": [
    "location_dummies = pd.get_dummies(data11['location'])\n",
    "location_dummies.drop('other location', axis =1, inplace = True)"
   ]
  },
  {
   "cell_type": "code",
   "execution_count": 77,
   "metadata": {},
   "outputs": [
    {
     "data": {
      "text/html": [
       "<div>\n",
       "<style scoped>\n",
       "    .dataframe tbody tr th:only-of-type {\n",
       "        vertical-align: middle;\n",
       "    }\n",
       "\n",
       "    .dataframe tbody tr th {\n",
       "        vertical-align: top;\n",
       "    }\n",
       "\n",
       "    .dataframe thead th {\n",
       "        text-align: right;\n",
       "    }\n",
       "</style>\n",
       "<table border=\"1\" class=\"dataframe\">\n",
       "  <thead>\n",
       "    <tr style=\"text-align: right;\">\n",
       "      <th></th>\n",
       "      <th>Furnished</th>\n",
       "      <th>Semifurnished</th>\n",
       "      <th>Unfurnished</th>\n",
       "    </tr>\n",
       "  </thead>\n",
       "  <tbody>\n",
       "    <tr>\n",
       "      <td>0</td>\n",
       "      <td>1</td>\n",
       "      <td>0</td>\n",
       "      <td>0</td>\n",
       "    </tr>\n",
       "    <tr>\n",
       "      <td>1</td>\n",
       "      <td>1</td>\n",
       "      <td>0</td>\n",
       "      <td>0</td>\n",
       "    </tr>\n",
       "    <tr>\n",
       "      <td>2</td>\n",
       "      <td>0</td>\n",
       "      <td>0</td>\n",
       "      <td>1</td>\n",
       "    </tr>\n",
       "    <tr>\n",
       "      <td>3</td>\n",
       "      <td>0</td>\n",
       "      <td>1</td>\n",
       "      <td>0</td>\n",
       "    </tr>\n",
       "    <tr>\n",
       "      <td>4</td>\n",
       "      <td>0</td>\n",
       "      <td>1</td>\n",
       "      <td>0</td>\n",
       "    </tr>\n",
       "  </tbody>\n",
       "</table>\n",
       "</div>"
      ],
      "text/plain": [
       "   Furnished  Semifurnished  Unfurnished\n",
       "0          1              0            0\n",
       "1          1              0            0\n",
       "2          0              0            1\n",
       "3          0              1            0\n",
       "4          0              1            0"
      ]
     },
     "execution_count": 77,
     "metadata": {},
     "output_type": "execute_result"
    }
   ],
   "source": [
    "furnishing_dummies = pd.get_dummies(data11['furnishing'])\n",
    "furnishing_dummies.head()"
   ]
  },
  {
   "cell_type": "code",
   "execution_count": 78,
   "metadata": {},
   "outputs": [],
   "source": [
    "furnishing_dummies.drop('Unfurnished', axis =1, inplace = True)"
   ]
  },
  {
   "cell_type": "code",
   "execution_count": 79,
   "metadata": {},
   "outputs": [
    {
     "data": {
      "text/html": [
       "<div>\n",
       "<style scoped>\n",
       "    .dataframe tbody tr th:only-of-type {\n",
       "        vertical-align: middle;\n",
       "    }\n",
       "\n",
       "    .dataframe tbody tr th {\n",
       "        vertical-align: top;\n",
       "    }\n",
       "\n",
       "    .dataframe thead th {\n",
       "        text-align: right;\n",
       "    }\n",
       "</style>\n",
       "<table border=\"1\" class=\"dataframe\">\n",
       "  <thead>\n",
       "    <tr style=\"text-align: right;\">\n",
       "      <th></th>\n",
       "      <th>0 to 1 years old</th>\n",
       "      <th>1 to 5 years old</th>\n",
       "      <th>10+ years old</th>\n",
       "      <th>5 to 10 years old</th>\n",
       "    </tr>\n",
       "  </thead>\n",
       "  <tbody>\n",
       "    <tr>\n",
       "      <td>0</td>\n",
       "      <td>0</td>\n",
       "      <td>0</td>\n",
       "      <td>0</td>\n",
       "      <td>1</td>\n",
       "    </tr>\n",
       "    <tr>\n",
       "      <td>1</td>\n",
       "      <td>0</td>\n",
       "      <td>1</td>\n",
       "      <td>0</td>\n",
       "      <td>0</td>\n",
       "    </tr>\n",
       "    <tr>\n",
       "      <td>2</td>\n",
       "      <td>0</td>\n",
       "      <td>1</td>\n",
       "      <td>0</td>\n",
       "      <td>0</td>\n",
       "    </tr>\n",
       "    <tr>\n",
       "      <td>3</td>\n",
       "      <td>0</td>\n",
       "      <td>1</td>\n",
       "      <td>0</td>\n",
       "      <td>0</td>\n",
       "    </tr>\n",
       "    <tr>\n",
       "      <td>4</td>\n",
       "      <td>0</td>\n",
       "      <td>0</td>\n",
       "      <td>0</td>\n",
       "      <td>1</td>\n",
       "    </tr>\n",
       "  </tbody>\n",
       "</table>\n",
       "</div>"
      ],
      "text/plain": [
       "   0 to 1 years old  1 to 5 years old  10+ years old  5 to 10 years old\n",
       "0                 0                 0              0                  1\n",
       "1                 0                 1              0                  0\n",
       "2                 0                 1              0                  0\n",
       "3                 0                 1              0                  0\n",
       "4                 0                 0              0                  1"
      ]
     },
     "execution_count": 79,
     "metadata": {},
     "output_type": "execute_result"
    }
   ],
   "source": [
    "age_dummies = pd.get_dummies(data11['age'])\n",
    "age_dummies.head()"
   ]
  },
  {
   "cell_type": "code",
   "execution_count": 80,
   "metadata": {},
   "outputs": [],
   "source": [
    "age_dummies.drop('0 to 1 years old', axis =1, inplace = True)"
   ]
  },
  {
   "cell_type": "code",
   "execution_count": 81,
   "metadata": {
    "scrolled": true
   },
   "outputs": [
    {
     "data": {
      "text/html": [
       "<div>\n",
       "<style scoped>\n",
       "    .dataframe tbody tr th:only-of-type {\n",
       "        vertical-align: middle;\n",
       "    }\n",
       "\n",
       "    .dataframe tbody tr th {\n",
       "        vertical-align: top;\n",
       "    }\n",
       "\n",
       "    .dataframe thead th {\n",
       "        text-align: right;\n",
       "    }\n",
       "</style>\n",
       "<table border=\"1\" class=\"dataframe\">\n",
       "  <thead>\n",
       "    <tr style=\"text-align: right;\">\n",
       "      <th></th>\n",
       "      <th>society</th>\n",
       "      <th>type</th>\n",
       "      <th>location</th>\n",
       "      <th>bedrooms</th>\n",
       "      <th>built-up area</th>\n",
       "      <th>furnishing</th>\n",
       "      <th>age</th>\n",
       "      <th>floor</th>\n",
       "      <th>total floors</th>\n",
       "      <th>monthly rent</th>\n",
       "    </tr>\n",
       "  </thead>\n",
       "  <tbody>\n",
       "    <tr>\n",
       "      <td>0</td>\n",
       "      <td>other society</td>\n",
       "      <td>Residential Apartment</td>\n",
       "      <td>Bandra (West)</td>\n",
       "      <td>2</td>\n",
       "      <td>800.0</td>\n",
       "      <td>Furnished</td>\n",
       "      <td>5 to 10 years old</td>\n",
       "      <td>2</td>\n",
       "      <td>6</td>\n",
       "      <td>85000</td>\n",
       "    </tr>\n",
       "    <tr>\n",
       "      <td>1</td>\n",
       "      <td>other society</td>\n",
       "      <td>Residential Apartment</td>\n",
       "      <td>Khar West</td>\n",
       "      <td>2</td>\n",
       "      <td>1050.0</td>\n",
       "      <td>Furnished</td>\n",
       "      <td>1 to 5 years old</td>\n",
       "      <td>8</td>\n",
       "      <td>12</td>\n",
       "      <td>110000</td>\n",
       "    </tr>\n",
       "    <tr>\n",
       "      <td>2</td>\n",
       "      <td>Gajra Bhoomi Symphony</td>\n",
       "      <td>Residential Apartment</td>\n",
       "      <td>Sector-20 Koparkhairane</td>\n",
       "      <td>2</td>\n",
       "      <td>1050.0</td>\n",
       "      <td>Unfurnished</td>\n",
       "      <td>1 to 5 years old</td>\n",
       "      <td>14</td>\n",
       "      <td>17</td>\n",
       "      <td>32000</td>\n",
       "    </tr>\n",
       "  </tbody>\n",
       "</table>\n",
       "</div>"
      ],
      "text/plain": [
       "                 society                   type                 location  \\\n",
       "0          other society  Residential Apartment            Bandra (West)   \n",
       "1          other society  Residential Apartment                Khar West   \n",
       "2  Gajra Bhoomi Symphony  Residential Apartment  Sector-20 Koparkhairane   \n",
       "\n",
       "   bedrooms  built-up area   furnishing                age  floor  \\\n",
       "0         2          800.0    Furnished  5 to 10 years old      2   \n",
       "1         2         1050.0    Furnished   1 to 5 years old      8   \n",
       "2         2         1050.0  Unfurnished   1 to 5 years old     14   \n",
       "\n",
       "   total floors  monthly rent  \n",
       "0             6         85000  \n",
       "1            12        110000  \n",
       "2            17         32000  "
      ]
     },
     "execution_count": 81,
     "metadata": {},
     "output_type": "execute_result"
    }
   ],
   "source": [
    "data11.head(3)"
   ]
  },
  {
   "cell_type": "code",
   "execution_count": 82,
   "metadata": {},
   "outputs": [],
   "source": [
    "final_data = pd.concat([data11.drop(['society','type','location','furnishing','age'], axis =1),\n",
    "                        society_dummies, type_dummies, location_dummies, furnishing_dummies, age_dummies], axis = 'columns')"
   ]
  },
  {
   "cell_type": "code",
   "execution_count": 83,
   "metadata": {
    "scrolled": true
   },
   "outputs": [
    {
     "data": {
      "text/html": [
       "<div>\n",
       "<style scoped>\n",
       "    .dataframe tbody tr th:only-of-type {\n",
       "        vertical-align: middle;\n",
       "    }\n",
       "\n",
       "    .dataframe tbody tr th {\n",
       "        vertical-align: top;\n",
       "    }\n",
       "\n",
       "    .dataframe thead th {\n",
       "        text-align: right;\n",
       "    }\n",
       "</style>\n",
       "<table border=\"1\" class=\"dataframe\">\n",
       "  <thead>\n",
       "    <tr style=\"text-align: right;\">\n",
       "      <th></th>\n",
       "      <th>bedrooms</th>\n",
       "      <th>built-up area</th>\n",
       "      <th>floor</th>\n",
       "      <th>total floors</th>\n",
       "      <th>monthly rent</th>\n",
       "      <th>Aaram Sty</th>\n",
       "      <th>Acme Ozone</th>\n",
       "      <th>Adityavardhan Apartment</th>\n",
       "      <th>Adonia Apartments</th>\n",
       "      <th>Ajmera Aeon</th>\n",
       "      <th>...</th>\n",
       "      <th>Wadala East</th>\n",
       "      <th>Waghbil</th>\n",
       "      <th>Worli</th>\n",
       "      <th>Worli Seaface</th>\n",
       "      <th>Yogidham</th>\n",
       "      <th>Furnished</th>\n",
       "      <th>Semifurnished</th>\n",
       "      <th>1 to 5 years old</th>\n",
       "      <th>10+ years old</th>\n",
       "      <th>5 to 10 years old</th>\n",
       "    </tr>\n",
       "  </thead>\n",
       "  <tbody>\n",
       "    <tr>\n",
       "      <td>0</td>\n",
       "      <td>2</td>\n",
       "      <td>800.0</td>\n",
       "      <td>2</td>\n",
       "      <td>6</td>\n",
       "      <td>85000</td>\n",
       "      <td>0</td>\n",
       "      <td>0</td>\n",
       "      <td>0</td>\n",
       "      <td>0</td>\n",
       "      <td>0</td>\n",
       "      <td>...</td>\n",
       "      <td>0</td>\n",
       "      <td>0</td>\n",
       "      <td>0</td>\n",
       "      <td>0</td>\n",
       "      <td>0</td>\n",
       "      <td>1</td>\n",
       "      <td>0</td>\n",
       "      <td>0</td>\n",
       "      <td>0</td>\n",
       "      <td>1</td>\n",
       "    </tr>\n",
       "    <tr>\n",
       "      <td>1</td>\n",
       "      <td>2</td>\n",
       "      <td>1050.0</td>\n",
       "      <td>8</td>\n",
       "      <td>12</td>\n",
       "      <td>110000</td>\n",
       "      <td>0</td>\n",
       "      <td>0</td>\n",
       "      <td>0</td>\n",
       "      <td>0</td>\n",
       "      <td>0</td>\n",
       "      <td>...</td>\n",
       "      <td>0</td>\n",
       "      <td>0</td>\n",
       "      <td>0</td>\n",
       "      <td>0</td>\n",
       "      <td>0</td>\n",
       "      <td>1</td>\n",
       "      <td>0</td>\n",
       "      <td>1</td>\n",
       "      <td>0</td>\n",
       "      <td>0</td>\n",
       "    </tr>\n",
       "    <tr>\n",
       "      <td>2</td>\n",
       "      <td>2</td>\n",
       "      <td>1050.0</td>\n",
       "      <td>14</td>\n",
       "      <td>17</td>\n",
       "      <td>32000</td>\n",
       "      <td>0</td>\n",
       "      <td>0</td>\n",
       "      <td>0</td>\n",
       "      <td>0</td>\n",
       "      <td>0</td>\n",
       "      <td>...</td>\n",
       "      <td>0</td>\n",
       "      <td>0</td>\n",
       "      <td>0</td>\n",
       "      <td>0</td>\n",
       "      <td>0</td>\n",
       "      <td>0</td>\n",
       "      <td>0</td>\n",
       "      <td>1</td>\n",
       "      <td>0</td>\n",
       "      <td>0</td>\n",
       "    </tr>\n",
       "    <tr>\n",
       "      <td>3</td>\n",
       "      <td>3</td>\n",
       "      <td>2275.0</td>\n",
       "      <td>40</td>\n",
       "      <td>41</td>\n",
       "      <td>150000</td>\n",
       "      <td>0</td>\n",
       "      <td>0</td>\n",
       "      <td>0</td>\n",
       "      <td>0</td>\n",
       "      <td>0</td>\n",
       "      <td>...</td>\n",
       "      <td>0</td>\n",
       "      <td>0</td>\n",
       "      <td>0</td>\n",
       "      <td>0</td>\n",
       "      <td>0</td>\n",
       "      <td>0</td>\n",
       "      <td>1</td>\n",
       "      <td>1</td>\n",
       "      <td>0</td>\n",
       "      <td>0</td>\n",
       "    </tr>\n",
       "    <tr>\n",
       "      <td>4</td>\n",
       "      <td>1</td>\n",
       "      <td>550.0</td>\n",
       "      <td>4</td>\n",
       "      <td>7</td>\n",
       "      <td>27000</td>\n",
       "      <td>0</td>\n",
       "      <td>0</td>\n",
       "      <td>0</td>\n",
       "      <td>0</td>\n",
       "      <td>0</td>\n",
       "      <td>...</td>\n",
       "      <td>0</td>\n",
       "      <td>0</td>\n",
       "      <td>0</td>\n",
       "      <td>0</td>\n",
       "      <td>0</td>\n",
       "      <td>0</td>\n",
       "      <td>1</td>\n",
       "      <td>0</td>\n",
       "      <td>0</td>\n",
       "      <td>1</td>\n",
       "    </tr>\n",
       "  </tbody>\n",
       "</table>\n",
       "<p>5 rows × 357 columns</p>\n",
       "</div>"
      ],
      "text/plain": [
       "   bedrooms  built-up area  floor  total floors  monthly rent  Aaram Sty  \\\n",
       "0         2          800.0      2             6         85000          0   \n",
       "1         2         1050.0      8            12        110000          0   \n",
       "2         2         1050.0     14            17         32000          0   \n",
       "3         3         2275.0     40            41        150000          0   \n",
       "4         1          550.0      4             7         27000          0   \n",
       "\n",
       "   Acme Ozone  Adityavardhan Apartment  Adonia Apartments  Ajmera Aeon  ...  \\\n",
       "0           0                        0                  0            0  ...   \n",
       "1           0                        0                  0            0  ...   \n",
       "2           0                        0                  0            0  ...   \n",
       "3           0                        0                  0            0  ...   \n",
       "4           0                        0                  0            0  ...   \n",
       "\n",
       "   Wadala East  Waghbil  Worli  Worli Seaface  Yogidham  Furnished  \\\n",
       "0            0        0      0              0         0          1   \n",
       "1            0        0      0              0         0          1   \n",
       "2            0        0      0              0         0          0   \n",
       "3            0        0      0              0         0          0   \n",
       "4            0        0      0              0         0          0   \n",
       "\n",
       "   Semifurnished  1 to 5 years old  10+ years old  5 to 10 years old  \n",
       "0              0                 0              0                  1  \n",
       "1              0                 1              0                  0  \n",
       "2              0                 1              0                  0  \n",
       "3              1                 1              0                  0  \n",
       "4              1                 0              0                  1  \n",
       "\n",
       "[5 rows x 357 columns]"
      ]
     },
     "execution_count": 83,
     "metadata": {},
     "output_type": "execute_result"
    }
   ],
   "source": [
    "final_data.head()"
   ]
  },
  {
   "cell_type": "markdown",
   "metadata": {},
   "source": [
    " "
   ]
  },
  {
   "cell_type": "markdown",
   "metadata": {},
   "source": [
    "<a id = 's5'></a>\n",
    "# <font color = Blue> 5. Machine Learning Model Building. </font>\n",
    "<a href = '#top'>Back on Top</a>"
   ]
  },
  {
   "cell_type": "markdown",
   "metadata": {},
   "source": [
    "## Preparing Training and Testing Datasets"
   ]
  },
  {
   "cell_type": "code",
   "execution_count": 84,
   "metadata": {},
   "outputs": [],
   "source": [
    "x = final_data.drop('monthly rent', axis = 1)\n",
    "y = final_data['monthly rent']"
   ]
  },
  {
   "cell_type": "code",
   "execution_count": 85,
   "metadata": {},
   "outputs": [
    {
     "data": {
      "text/plain": [
       "(13305, 356)"
      ]
     },
     "execution_count": 85,
     "metadata": {},
     "output_type": "execute_result"
    }
   ],
   "source": [
    "x.shape"
   ]
  },
  {
   "cell_type": "code",
   "execution_count": 86,
   "metadata": {},
   "outputs": [
    {
     "data": {
      "text/plain": [
       "(13305,)"
      ]
     },
     "execution_count": 86,
     "metadata": {},
     "output_type": "execute_result"
    }
   ],
   "source": [
    "y.shape"
   ]
  },
  {
   "cell_type": "code",
   "execution_count": 87,
   "metadata": {},
   "outputs": [],
   "source": [
    "from sklearn.model_selection import train_test_split\n",
    "x_train, x_test, y_train, y_test = train_test_split(x,y, test_size = .2, random_state = 42)"
   ]
  },
  {
   "cell_type": "code",
   "execution_count": 88,
   "metadata": {},
   "outputs": [
    {
     "name": "stdout",
     "output_type": "stream",
     "text": [
      "(10644, 356)\n",
      "(2661, 356)\n",
      "(10644,)\n",
      "(2661,)\n"
     ]
    }
   ],
   "source": [
    "print(x_train.shape)\n",
    "print(x_test.shape)\n",
    "print(y_train.shape)\n",
    "print(y_test.shape)"
   ]
  },
  {
   "cell_type": "markdown",
   "metadata": {},
   "source": [
    " "
   ]
  },
  {
   "cell_type": "markdown",
   "metadata": {},
   "source": [
    "## Scaling Datasets to convert them into same range."
   ]
  },
  {
   "cell_type": "code",
   "execution_count": 89,
   "metadata": {},
   "outputs": [
    {
     "data": {
      "text/plain": [
       "array([[-0.1797809 , -0.62103542, -0.39213451, ..., -0.74757957,\n",
       "        -0.4140925 ,  1.54346002],\n",
       "       [ 1.03288571,  1.62300419,  2.29393265, ..., -0.74757957,\n",
       "        -0.4140925 , -0.64789498],\n",
       "       [-0.1797809 , -0.34342227, -0.92934795, ..., -0.74757957,\n",
       "        -0.4140925 ,  1.54346002],\n",
       "       ...,\n",
       "       [ 1.03288571, -0.31257637, -0.52643787, ...,  1.33765024,\n",
       "        -0.4140925 , -0.64789498],\n",
       "       [-0.1797809 , -0.34342227, -1.06365131, ...,  1.33765024,\n",
       "        -0.4140925 , -0.64789498],\n",
       "       [-1.39244751, -1.11456991, -1.19795466, ..., -0.74757957,\n",
       "         2.4149194 , -0.64789498]])"
      ]
     },
     "execution_count": 89,
     "metadata": {},
     "output_type": "execute_result"
    }
   ],
   "source": [
    "from sklearn.preprocessing import StandardScaler\n",
    "scaler = StandardScaler()\n",
    "scaler.fit(x_train)\n",
    "scaled_x_train = scaler.transform(x_train)\n",
    "scaled_x_train"
   ]
  },
  {
   "cell_type": "code",
   "execution_count": 90,
   "metadata": {
    "scrolled": true
   },
   "outputs": [
    {
     "data": {
      "text/plain": [
       "array([[-0.15548167, -0.47387889,  0.01954832, ..., -0.73479967,\n",
       "        -0.41440381,  1.49969472],\n",
       "       [-1.35125257, -0.71425707, -0.11843068, ...,  1.36091515,\n",
       "        -0.41440381, -0.66680237],\n",
       "       [ 1.04028922,  2.66606111,  1.3993383 , ...,  1.36091515,\n",
       "        -0.41440381, -0.66680237],\n",
       "       ...,\n",
       "       [-0.15548167, -0.30861889, -0.67034667, ..., -0.73479967,\n",
       "        -0.41440381, -0.66680237],\n",
       "       [-0.15548167, -0.44383162,  0.57146431, ..., -0.73479967,\n",
       "         2.41310524, -0.66680237],\n",
       "       [-0.15548167, -0.06824071, -0.39438867, ...,  1.36091515,\n",
       "        -0.41440381, -0.66680237]])"
      ]
     },
     "execution_count": 90,
     "metadata": {},
     "output_type": "execute_result"
    }
   ],
   "source": [
    "scaler.fit(x_test)\n",
    "scaled_x_test = scaler.transform(x_test)\n",
    "scaled_x_test"
   ]
  },
  {
   "cell_type": "markdown",
   "metadata": {},
   "source": [
    " "
   ]
  },
  {
   "cell_type": "markdown",
   "metadata": {},
   "source": [
    "## Time to Built a ML model now "
   ]
  },
  {
   "cell_type": "markdown",
   "metadata": {},
   "source": [
    "## LinearRegression model with standard scaling."
   ]
  },
  {
   "cell_type": "code",
   "execution_count": 91,
   "metadata": {},
   "outputs": [
    {
     "data": {
      "text/plain": [
       "LinearRegression(copy_X=True, fit_intercept=True, n_jobs=None, normalize=False)"
      ]
     },
     "execution_count": 91,
     "metadata": {},
     "output_type": "execute_result"
    }
   ],
   "source": [
    "from sklearn.linear_model import LinearRegression\n",
    "from sklearn.metrics import r2_score\n",
    "standard_scaler_linear_model = LinearRegression()\n",
    "standard_scaler_linear_model.fit(scaled_x_train,y_train)"
   ]
  },
  {
   "cell_type": "code",
   "execution_count": 92,
   "metadata": {},
   "outputs": [],
   "source": [
    "standard_scaler_linear_y_pred = standard_scaler_linear_model.predict(scaled_x_test)"
   ]
  },
  {
   "cell_type": "code",
   "execution_count": 93,
   "metadata": {},
   "outputs": [
    {
     "data": {
      "text/plain": [
       "0.826029253665806"
      ]
     },
     "execution_count": 93,
     "metadata": {},
     "output_type": "execute_result"
    }
   ],
   "source": [
    "standard_scaler_linear_model.score(scaled_x_train, y_train)"
   ]
  },
  {
   "cell_type": "code",
   "execution_count": 94,
   "metadata": {},
   "outputs": [
    {
     "data": {
      "text/plain": [
       "0.8299849691971595"
      ]
     },
     "execution_count": 94,
     "metadata": {},
     "output_type": "execute_result"
    }
   ],
   "source": [
    "standard_scaler_linear_model.score(scaled_x_test, y_test)"
   ]
  },
  {
   "cell_type": "code",
   "execution_count": 95,
   "metadata": {},
   "outputs": [
    {
     "data": {
      "text/plain": [
       "0.8299849691971595"
      ]
     },
     "execution_count": 95,
     "metadata": {},
     "output_type": "execute_result"
    }
   ],
   "source": [
    "r2_score(y_test, standard_scaler_linear_y_pred)"
   ]
  },
  {
   "cell_type": "markdown",
   "metadata": {},
   "source": [
    "## Lets store it in a DataFrame. so that we can compare different model's scores in last."
   ]
  },
  {
   "cell_type": "code",
   "execution_count": 96,
   "metadata": {},
   "outputs": [],
   "source": [
    "Final_Scores = pd.DataFrame( index = ['With Training Data', 'With Test Data'])\n"
   ]
  },
  {
   "cell_type": "code",
   "execution_count": 97,
   "metadata": {},
   "outputs": [],
   "source": [
    "Final_Scores['Linear Regression (Standard Scaler) %'] = [standard_scaler_linear_model.score(scaled_x_train, y_train)*100, \n",
    "                                                         standard_scaler_linear_model.score(scaled_x_test, y_test)*100]"
   ]
  },
  {
   "cell_type": "markdown",
   "metadata": {},
   "source": [
    " "
   ]
  },
  {
   "cell_type": "markdown",
   "metadata": {},
   "source": [
    "## LinearRegression model with Normalizing scaling"
   ]
  },
  {
   "cell_type": "code",
   "execution_count": 98,
   "metadata": {},
   "outputs": [
    {
     "data": {
      "text/plain": [
       "LinearRegression(copy_X=True, fit_intercept=True, n_jobs=None, normalize=True)"
      ]
     },
     "execution_count": 98,
     "metadata": {},
     "output_type": "execute_result"
    }
   ],
   "source": [
    "normalized_linear_model = LinearRegression( normalize = True)\n",
    "normalized_linear_model.fit(x_train, y_train)"
   ]
  },
  {
   "cell_type": "code",
   "execution_count": 99,
   "metadata": {},
   "outputs": [],
   "source": [
    "normalized_linear_y_pred = normalized_linear_model.predict(x_test)"
   ]
  },
  {
   "cell_type": "code",
   "execution_count": 100,
   "metadata": {
    "scrolled": true
   },
   "outputs": [
    {
     "data": {
      "text/plain": [
       "0.8260308331250236"
      ]
     },
     "execution_count": 100,
     "metadata": {},
     "output_type": "execute_result"
    }
   ],
   "source": [
    "normalized_linear_model.score(x_train, y_train)"
   ]
  },
  {
   "cell_type": "code",
   "execution_count": 101,
   "metadata": {},
   "outputs": [
    {
     "data": {
      "text/plain": [
       "0.8385353577117213"
      ]
     },
     "execution_count": 101,
     "metadata": {},
     "output_type": "execute_result"
    }
   ],
   "source": [
    "normalized_linear_model.score(x_test, y_test)"
   ]
  },
  {
   "cell_type": "code",
   "execution_count": 102,
   "metadata": {},
   "outputs": [
    {
     "data": {
      "text/plain": [
       "0.8385353577117214"
      ]
     },
     "execution_count": 102,
     "metadata": {},
     "output_type": "execute_result"
    }
   ],
   "source": [
    "r2_score(y_test, normalized_linear_y_pred)"
   ]
  },
  {
   "cell_type": "code",
   "execution_count": 103,
   "metadata": {},
   "outputs": [],
   "source": [
    "Final_Scores['Linear Regression (Normalization Scaler) %'] = [normalized_linear_model.score(x_train, y_train)*100, \n",
    "                                                              normalized_linear_model.score(x_test, y_test)*100]"
   ]
  },
  {
   "cell_type": "markdown",
   "metadata": {},
   "source": [
    " "
   ]
  },
  {
   "cell_type": "markdown",
   "metadata": {},
   "source": [
    "##  Decision Tree Regressor model"
   ]
  },
  {
   "cell_type": "code",
   "execution_count": 104,
   "metadata": {},
   "outputs": [
    {
     "data": {
      "text/plain": [
       "DecisionTreeRegressor(criterion='mse', max_depth=None, max_features=None,\n",
       "                      max_leaf_nodes=None, min_impurity_decrease=0.0,\n",
       "                      min_impurity_split=None, min_samples_leaf=1,\n",
       "                      min_samples_split=2, min_weight_fraction_leaf=0.0,\n",
       "                      presort=False, random_state=None, splitter='best')"
      ]
     },
     "execution_count": 104,
     "metadata": {},
     "output_type": "execute_result"
    }
   ],
   "source": [
    "from sklearn.tree import DecisionTreeRegressor\n",
    "ssdtr_model = DecisionTreeRegressor()\n",
    "ssdtr_model.fit( scaled_x_train, y_train)"
   ]
  },
  {
   "cell_type": "code",
   "execution_count": 105,
   "metadata": {},
   "outputs": [],
   "source": [
    "ssdtr_y_pred = ssdtr_model.predict(scaled_x_test)"
   ]
  },
  {
   "cell_type": "code",
   "execution_count": 106,
   "metadata": {},
   "outputs": [
    {
     "data": {
      "text/plain": [
       "0.9997743215801579"
      ]
     },
     "execution_count": 106,
     "metadata": {},
     "output_type": "execute_result"
    }
   ],
   "source": [
    "ssdtr_model.score(scaled_x_train, y_train)"
   ]
  },
  {
   "cell_type": "code",
   "execution_count": 107,
   "metadata": {},
   "outputs": [
    {
     "data": {
      "text/plain": [
       "0.6478339705789737"
      ]
     },
     "execution_count": 107,
     "metadata": {},
     "output_type": "execute_result"
    }
   ],
   "source": [
    "ssdtr_model.score(scaled_x_test, y_test)"
   ]
  },
  {
   "cell_type": "code",
   "execution_count": 108,
   "metadata": {},
   "outputs": [
    {
     "data": {
      "text/plain": [
       "0.6478339705789737"
      ]
     },
     "execution_count": 108,
     "metadata": {},
     "output_type": "execute_result"
    }
   ],
   "source": [
    "r2_score(y_test, ssdtr_y_pred)"
   ]
  },
  {
   "cell_type": "code",
   "execution_count": 109,
   "metadata": {},
   "outputs": [],
   "source": [
    "Final_Scores['Decision Tree Regressor %'] = [ssdtr_model.score(scaled_x_train, y_train)*100,\n",
    "                                             ssdtr_model.score(scaled_x_test, y_test)*100]"
   ]
  },
  {
   "cell_type": "markdown",
   "metadata": {},
   "source": [
    " "
   ]
  },
  {
   "cell_type": "markdown",
   "metadata": {},
   "source": [
    "## Random Forest Regressor model"
   ]
  },
  {
   "cell_type": "code",
   "execution_count": 110,
   "metadata": {},
   "outputs": [
    {
     "data": {
      "text/plain": [
       "RandomForestRegressor(bootstrap=True, criterion='mse', max_depth=None,\n",
       "                      max_features='auto', max_leaf_nodes=None,\n",
       "                      min_impurity_decrease=0.0, min_impurity_split=None,\n",
       "                      min_samples_leaf=1, min_samples_split=2,\n",
       "                      min_weight_fraction_leaf=0.0, n_estimators=10,\n",
       "                      n_jobs=None, oob_score=False, random_state=None,\n",
       "                      verbose=0, warm_start=False)"
      ]
     },
     "execution_count": 110,
     "metadata": {},
     "output_type": "execute_result"
    }
   ],
   "source": [
    "from sklearn.ensemble import RandomForestRegressor\n",
    "ssrfr_model = RandomForestRegressor()\n",
    "ssrfr_model.fit(scaled_x_train, y_train)"
   ]
  },
  {
   "cell_type": "code",
   "execution_count": 111,
   "metadata": {},
   "outputs": [],
   "source": [
    "ssrfr_y_pred = ssrfr_model.predict(scaled_x_test)"
   ]
  },
  {
   "cell_type": "code",
   "execution_count": 112,
   "metadata": {},
   "outputs": [
    {
     "data": {
      "text/plain": [
       "0.9681975479538648"
      ]
     },
     "execution_count": 112,
     "metadata": {},
     "output_type": "execute_result"
    }
   ],
   "source": [
    "ssrfr_model.score(scaled_x_train, y_train)"
   ]
  },
  {
   "cell_type": "code",
   "execution_count": 113,
   "metadata": {},
   "outputs": [
    {
     "data": {
      "text/plain": [
       "0.8573054172471634"
      ]
     },
     "execution_count": 113,
     "metadata": {},
     "output_type": "execute_result"
    }
   ],
   "source": [
    "ssrfr_model.score(scaled_x_test, y_test)"
   ]
  },
  {
   "cell_type": "code",
   "execution_count": 114,
   "metadata": {},
   "outputs": [
    {
     "data": {
      "text/plain": [
       "0.8573054172471632"
      ]
     },
     "execution_count": 114,
     "metadata": {},
     "output_type": "execute_result"
    }
   ],
   "source": [
    "r2_score(y_test, ssrfr_y_pred)"
   ]
  },
  {
   "cell_type": "code",
   "execution_count": 115,
   "metadata": {},
   "outputs": [],
   "source": [
    "Final_Scores['Random Forest Regressor %'] = [ssrfr_model.score(scaled_x_train, y_train)*100,\n",
    "                                             ssrfr_model.score(scaled_x_test, y_test)*100]"
   ]
  },
  {
   "cell_type": "markdown",
   "metadata": {},
   "source": [
    " "
   ]
  },
  {
   "cell_type": "markdown",
   "metadata": {},
   "source": [
    "<a id = 's6'></a>\n",
    "# <font color = Red> Finally Lets Compare Scores now </font>"
   ]
  },
  {
   "cell_type": "code",
   "execution_count": 116,
   "metadata": {},
   "outputs": [
    {
     "data": {
      "text/html": [
       "<div>\n",
       "<style scoped>\n",
       "    .dataframe tbody tr th:only-of-type {\n",
       "        vertical-align: middle;\n",
       "    }\n",
       "\n",
       "    .dataframe tbody tr th {\n",
       "        vertical-align: top;\n",
       "    }\n",
       "\n",
       "    .dataframe thead th {\n",
       "        text-align: right;\n",
       "    }\n",
       "</style>\n",
       "<table border=\"1\" class=\"dataframe\">\n",
       "  <thead>\n",
       "    <tr style=\"text-align: right;\">\n",
       "      <th></th>\n",
       "      <th>Linear Regression (Standard Scaler) %</th>\n",
       "      <th>Linear Regression (Normalization Scaler) %</th>\n",
       "      <th>Decision Tree Regressor %</th>\n",
       "      <th>Random Forest Regressor %</th>\n",
       "    </tr>\n",
       "  </thead>\n",
       "  <tbody>\n",
       "    <tr>\n",
       "      <td>With Training Data</td>\n",
       "      <td>82.602925</td>\n",
       "      <td>82.603083</td>\n",
       "      <td>99.977432</td>\n",
       "      <td>96.819755</td>\n",
       "    </tr>\n",
       "    <tr>\n",
       "      <td>With Test Data</td>\n",
       "      <td>82.998497</td>\n",
       "      <td>83.853536</td>\n",
       "      <td>64.783397</td>\n",
       "      <td>85.730542</td>\n",
       "    </tr>\n",
       "  </tbody>\n",
       "</table>\n",
       "</div>"
      ],
      "text/plain": [
       "                    Linear Regression (Standard Scaler) %  \\\n",
       "With Training Data                              82.602925   \n",
       "With Test Data                                  82.998497   \n",
       "\n",
       "                    Linear Regression (Normalization Scaler) %  \\\n",
       "With Training Data                                   82.603083   \n",
       "With Test Data                                       83.853536   \n",
       "\n",
       "                    Decision Tree Regressor %  Random Forest Regressor %  \n",
       "With Training Data                  99.977432                  96.819755  \n",
       "With Test Data                      64.783397                  85.730542  "
      ]
     },
     "execution_count": 116,
     "metadata": {},
     "output_type": "execute_result"
    }
   ],
   "source": [
    "Final_Scores"
   ]
  },
  {
   "cell_type": "markdown",
   "metadata": {},
   "source": [
    "# <font color = Green> So,We Deploy Random Forest Regressor model to predict Monthly Rent with highest accuracy.</font>"
   ]
  },
  {
   "cell_type": "markdown",
   "metadata": {},
   "source": [
    " "
   ]
  },
  {
   "cell_type": "markdown",
   "metadata": {},
   "source": [
    "## Created by: Gaurav \n",
    "<a href = '#top'>Back on Top</a>\n",
    "\n",
    "<a href = 'https://github.com/G0rav'> Github Link</a>"
   ]
  }
 ],
 "metadata": {
  "kernelspec": {
   "display_name": "Python 3",
   "language": "python",
   "name": "python3"
  },
  "language_info": {
   "codemirror_mode": {
    "name": "ipython",
    "version": 3
   },
   "file_extension": ".py",
   "mimetype": "text/x-python",
   "name": "python",
   "nbconvert_exporter": "python",
   "pygments_lexer": "ipython3",
   "version": "3.7.4"
  }
 },
 "nbformat": 4,
 "nbformat_minor": 2
}
