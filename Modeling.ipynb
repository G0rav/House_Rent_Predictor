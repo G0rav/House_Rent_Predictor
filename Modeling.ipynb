{
  "nbformat": 4,
  "nbformat_minor": 0,
  "metadata": {
    "colab": {
      "name": "Modeling.ipynb",
      "provenance": [],
      "collapsed_sections": [
        "i5Z2U1vdzUxU",
        "76TsAXcbzysp",
        "oyYBWK-5z9u3"
      ],
      "mount_file_id": "1Fs59gPRF-IpNMnagjc4D4CgqTQ9Fjwnt",
      "authorship_tag": "ABX9TyPowMTPQLHPnWbjzL7KU5Yn"
    },
    "kernelspec": {
      "name": "python3",
      "display_name": "Python 3"
    }
  },
  "cells": [
    {
      "cell_type": "code",
      "metadata": {
        "id": "-6YGo_NEsog_"
      },
      "source": [
        "import numpy as np\r\n",
        "import pandas as pd"
      ],
      "execution_count": 2,
      "outputs": []
    },
    {
      "cell_type": "code",
      "metadata": {
        "colab": {
          "base_uri": "https://localhost:8080/",
          "height": 419
        },
        "id": "ZV_idELlsORv",
        "outputId": "00a57a6a-ac8b-4ddc-e703-5ad62b7d1b7a"
      },
      "source": [
        "df = pd.read_csv('/content/drive/MyDrive/Datasets/Mumbai_house_rent_99acers/Mumbai_99acers_cleaned.csv')\r\n",
        "df"
      ],
      "execution_count": 7,
      "outputs": [
        {
          "output_type": "execute_result",
          "data": {
            "text/html": [
              "<div>\n",
              "<style scoped>\n",
              "    .dataframe tbody tr th:only-of-type {\n",
              "        vertical-align: middle;\n",
              "    }\n",
              "\n",
              "    .dataframe tbody tr th {\n",
              "        vertical-align: top;\n",
              "    }\n",
              "\n",
              "    .dataframe thead th {\n",
              "        text-align: right;\n",
              "    }\n",
              "</style>\n",
              "<table border=\"1\" class=\"dataframe\">\n",
              "  <thead>\n",
              "    <tr style=\"text-align: right;\">\n",
              "      <th></th>\n",
              "      <th>society</th>\n",
              "      <th>type</th>\n",
              "      <th>location</th>\n",
              "      <th>bedrooms</th>\n",
              "      <th>built-up area</th>\n",
              "      <th>furnishing</th>\n",
              "      <th>age</th>\n",
              "      <th>floor</th>\n",
              "      <th>total floors</th>\n",
              "      <th>monthly rent</th>\n",
              "    </tr>\n",
              "  </thead>\n",
              "  <tbody>\n",
              "    <tr>\n",
              "      <th>0</th>\n",
              "      <td>other society</td>\n",
              "      <td>Residential Apartment</td>\n",
              "      <td>Bandra (West)</td>\n",
              "      <td>2</td>\n",
              "      <td>800.0</td>\n",
              "      <td>Furnished</td>\n",
              "      <td>5 to 10 years old</td>\n",
              "      <td>2</td>\n",
              "      <td>6</td>\n",
              "      <td>85000</td>\n",
              "    </tr>\n",
              "    <tr>\n",
              "      <th>1</th>\n",
              "      <td>other society</td>\n",
              "      <td>Residential Apartment</td>\n",
              "      <td>Khar West</td>\n",
              "      <td>2</td>\n",
              "      <td>1050.0</td>\n",
              "      <td>Furnished</td>\n",
              "      <td>1 to 5 years old</td>\n",
              "      <td>8</td>\n",
              "      <td>12</td>\n",
              "      <td>110000</td>\n",
              "    </tr>\n",
              "    <tr>\n",
              "      <th>2</th>\n",
              "      <td>Gajra Bhoomi Symphony</td>\n",
              "      <td>Residential Apartment</td>\n",
              "      <td>Sector-20 Koparkhairane</td>\n",
              "      <td>2</td>\n",
              "      <td>1050.0</td>\n",
              "      <td>Unfurnished</td>\n",
              "      <td>1 to 5 years old</td>\n",
              "      <td>14</td>\n",
              "      <td>17</td>\n",
              "      <td>32000</td>\n",
              "    </tr>\n",
              "    <tr>\n",
              "      <th>3</th>\n",
              "      <td>Crescent Bay</td>\n",
              "      <td>Residential Apartment</td>\n",
              "      <td>Parel</td>\n",
              "      <td>3</td>\n",
              "      <td>2275.0</td>\n",
              "      <td>Semifurnished</td>\n",
              "      <td>1 to 5 years old</td>\n",
              "      <td>40</td>\n",
              "      <td>41</td>\n",
              "      <td>150000</td>\n",
              "    </tr>\n",
              "    <tr>\n",
              "      <th>4</th>\n",
              "      <td>Ashwini CHS</td>\n",
              "      <td>Residential Apartment</td>\n",
              "      <td>Tilak Nagar</td>\n",
              "      <td>1</td>\n",
              "      <td>550.0</td>\n",
              "      <td>Semifurnished</td>\n",
              "      <td>5 to 10 years old</td>\n",
              "      <td>4</td>\n",
              "      <td>7</td>\n",
              "      <td>27000</td>\n",
              "    </tr>\n",
              "    <tr>\n",
              "      <th>...</th>\n",
              "      <td>...</td>\n",
              "      <td>...</td>\n",
              "      <td>...</td>\n",
              "      <td>...</td>\n",
              "      <td>...</td>\n",
              "      <td>...</td>\n",
              "      <td>...</td>\n",
              "      <td>...</td>\n",
              "      <td>...</td>\n",
              "      <td>...</td>\n",
              "    </tr>\n",
              "    <tr>\n",
              "      <th>12792</th>\n",
              "      <td>other society</td>\n",
              "      <td>Residential Apartment</td>\n",
              "      <td>Prabhadevi</td>\n",
              "      <td>3</td>\n",
              "      <td>2529.0</td>\n",
              "      <td>Furnished</td>\n",
              "      <td>1 to 5 years old</td>\n",
              "      <td>12</td>\n",
              "      <td>32</td>\n",
              "      <td>175000</td>\n",
              "    </tr>\n",
              "    <tr>\n",
              "      <th>12793</th>\n",
              "      <td>Runwal Greens</td>\n",
              "      <td>Residential Apartment</td>\n",
              "      <td>Mulund (West)</td>\n",
              "      <td>3</td>\n",
              "      <td>1382.0</td>\n",
              "      <td>Semifurnished</td>\n",
              "      <td>0 to 1 years old</td>\n",
              "      <td>27</td>\n",
              "      <td>40</td>\n",
              "      <td>48000</td>\n",
              "    </tr>\n",
              "    <tr>\n",
              "      <th>12794</th>\n",
              "      <td>other society</td>\n",
              "      <td>Residential Apartment</td>\n",
              "      <td>other location</td>\n",
              "      <td>3</td>\n",
              "      <td>1750.0</td>\n",
              "      <td>Unfurnished</td>\n",
              "      <td>10+ years old</td>\n",
              "      <td>9</td>\n",
              "      <td>16</td>\n",
              "      <td>200000</td>\n",
              "    </tr>\n",
              "    <tr>\n",
              "      <th>12795</th>\n",
              "      <td>other society</td>\n",
              "      <td>Residential Apartment</td>\n",
              "      <td>Sector 19 Kharghar</td>\n",
              "      <td>2</td>\n",
              "      <td>950.0</td>\n",
              "      <td>Semifurnished</td>\n",
              "      <td>5 to 10 years old</td>\n",
              "      <td>8</td>\n",
              "      <td>10</td>\n",
              "      <td>25500</td>\n",
              "    </tr>\n",
              "    <tr>\n",
              "      <th>12796</th>\n",
              "      <td>other society</td>\n",
              "      <td>Residential Apartment</td>\n",
              "      <td>Bandra (West)</td>\n",
              "      <td>3</td>\n",
              "      <td>2500.0</td>\n",
              "      <td>Furnished</td>\n",
              "      <td>5 to 10 years old</td>\n",
              "      <td>5</td>\n",
              "      <td>10</td>\n",
              "      <td>120000</td>\n",
              "    </tr>\n",
              "  </tbody>\n",
              "</table>\n",
              "<p>12797 rows × 10 columns</p>\n",
              "</div>"
            ],
            "text/plain": [
              "                     society                   type  ... total floors  monthly rent\n",
              "0              other society  Residential Apartment  ...            6         85000\n",
              "1              other society  Residential Apartment  ...           12        110000\n",
              "2      Gajra Bhoomi Symphony  Residential Apartment  ...           17         32000\n",
              "3               Crescent Bay  Residential Apartment  ...           41        150000\n",
              "4                Ashwini CHS  Residential Apartment  ...            7         27000\n",
              "...                      ...                    ...  ...          ...           ...\n",
              "12792          other society  Residential Apartment  ...           32        175000\n",
              "12793          Runwal Greens  Residential Apartment  ...           40         48000\n",
              "12794          other society  Residential Apartment  ...           16        200000\n",
              "12795          other society  Residential Apartment  ...           10         25500\n",
              "12796          other society  Residential Apartment  ...           10        120000\n",
              "\n",
              "[12797 rows x 10 columns]"
            ]
          },
          "metadata": {
            "tags": []
          },
          "execution_count": 7
        }
      ]
    },
    {
      "cell_type": "code",
      "metadata": {
        "colab": {
          "base_uri": "https://localhost:8080/"
        },
        "id": "2fsHj-hKvkry",
        "outputId": "66a97136-05c3-4ebd-b66f-bc6effe32f32"
      },
      "source": [
        "df.info()"
      ],
      "execution_count": 17,
      "outputs": [
        {
          "output_type": "stream",
          "text": [
            "<class 'pandas.core.frame.DataFrame'>\n",
            "RangeIndex: 12797 entries, 0 to 12796\n",
            "Data columns (total 10 columns):\n",
            " #   Column         Non-Null Count  Dtype  \n",
            "---  ------         --------------  -----  \n",
            " 0   society        12797 non-null  object \n",
            " 1   type           12797 non-null  object \n",
            " 2   location       12797 non-null  object \n",
            " 3   bedrooms       12797 non-null  int64  \n",
            " 4   built-up area  12797 non-null  float64\n",
            " 5   furnishing     12797 non-null  object \n",
            " 6   age            12797 non-null  object \n",
            " 7   floor          12797 non-null  int64  \n",
            " 8   total floors   12797 non-null  int64  \n",
            " 9   monthly rent   12797 non-null  int64  \n",
            "dtypes: float64(1), int64(4), object(5)\n",
            "memory usage: 999.9+ KB\n"
          ],
          "name": "stdout"
        }
      ]
    },
    {
      "cell_type": "markdown",
      "metadata": {
        "id": "pM0Vd-elev2L"
      },
      "source": [
        "# Machine Learning Model Building.\n",
        "<a href = '#top'>Back on Top</a>"
      ]
    },
    {
      "cell_type": "markdown",
      "metadata": {
        "id": "dCrEBQlznCtj"
      },
      "source": [
        "## OneHotEncoding Text features"
      ]
    },
    {
      "cell_type": "code",
      "metadata": {
        "id": "tx7xliERoweE"
      },
      "source": [
        "temp = pd.get_dummies(df, drop_first=True)\r\n",
        "corr = temp.corr()['monthly rent'].sort_values()"
      ],
      "execution_count": 19,
      "outputs": []
    },
    {
      "cell_type": "code",
      "metadata": {
        "colab": {
          "base_uri": "https://localhost:8080/"
        },
        "id": "7KuF5E6nqyFE",
        "outputId": "2ba86032-b4cd-4855-9a62-474fd7b0036a"
      },
      "source": [
        "corr.head(10)\r\n"
      ],
      "execution_count": 20,
      "outputs": [
        {
          "output_type": "execute_result",
          "data": {
            "text/plain": [
              "furnishing_Unfurnished                    -0.361680\n",
              "location_Dombivli (East)                  -0.175266\n",
              "society_Lodha Lakeshore Greens            -0.143397\n",
              "location_other location                   -0.125308\n",
              "location_Kharghar                         -0.108375\n",
              "location_Sector 17 Ulwe                   -0.102996\n",
              "location_Kasar Vadavali                   -0.094774\n",
              "society_Chatrapati Shivaji Raje Complex   -0.093411\n",
              "location_Ekta Nagar                       -0.093411\n",
              "society_other society                     -0.093317\n",
              "Name: monthly rent, dtype: float64"
            ]
          },
          "metadata": {
            "tags": []
          },
          "execution_count": 20
        }
      ]
    },
    {
      "cell_type": "code",
      "metadata": {
        "colab": {
          "base_uri": "https://localhost:8080/"
        },
        "id": "y77OXlx-rPWF",
        "outputId": "330088e0-d97f-4570-e789-bb63697e997d"
      },
      "source": [
        "corr.tail(10)"
      ],
      "execution_count": 21,
      "outputs": [
        {
          "output_type": "execute_result",
          "data": {
            "text/plain": [
              "society_Oberoi Esquire      0.172564\n",
              "furnishing_Semifurnished    0.191221\n",
              "location_Khar West          0.203989\n",
              "society_Crescent Bay        0.238524\n",
              "location_Parel              0.240461\n",
              "floor                       0.379980\n",
              "total floors                0.383646\n",
              "bedrooms                    0.553519\n",
              "built-up area               0.615666\n",
              "monthly rent                1.000000\n",
              "Name: monthly rent, dtype: float64"
            ]
          },
          "metadata": {
            "tags": []
          },
          "execution_count": 21
        }
      ]
    },
    {
      "cell_type": "code",
      "metadata": {
        "colab": {
          "base_uri": "https://localhost:8080/",
          "height": 490
        },
        "id": "zpDa5RsWwnvq",
        "outputId": "90dfee9b-03c0-484e-a55e-880cf9dd64f4"
      },
      "source": [
        "temp"
      ],
      "execution_count": 22,
      "outputs": [
        {
          "output_type": "execute_result",
          "data": {
            "text/html": [
              "<div>\n",
              "<style scoped>\n",
              "    .dataframe tbody tr th:only-of-type {\n",
              "        vertical-align: middle;\n",
              "    }\n",
              "\n",
              "    .dataframe tbody tr th {\n",
              "        vertical-align: top;\n",
              "    }\n",
              "\n",
              "    .dataframe thead th {\n",
              "        text-align: right;\n",
              "    }\n",
              "</style>\n",
              "<table border=\"1\" class=\"dataframe\">\n",
              "  <thead>\n",
              "    <tr style=\"text-align: right;\">\n",
              "      <th></th>\n",
              "      <th>bedrooms</th>\n",
              "      <th>built-up area</th>\n",
              "      <th>floor</th>\n",
              "      <th>total floors</th>\n",
              "      <th>monthly rent</th>\n",
              "      <th>society_Acme Ozone</th>\n",
              "      <th>society_Adityavardhan Apartment</th>\n",
              "      <th>society_Ajmera Aeon</th>\n",
              "      <th>society_Ajmera Bhakti Park Sector 1 and 2</th>\n",
              "      <th>society_Ajmera Zeon</th>\n",
              "      <th>society_Alica Nagar CHS</th>\n",
              "      <th>society_Ashford Royale</th>\n",
              "      <th>society_Ashwini CHS</th>\n",
              "      <th>society_Bhagwati Bay Bliss</th>\n",
              "      <th>society_Bholenath Chembur Castle</th>\n",
              "      <th>society_Bhoomi Park</th>\n",
              "      <th>society_Carter Road</th>\n",
              "      <th>society_Central Avenue Apartments</th>\n",
              "      <th>society_Chaitanya Towers</th>\n",
              "      <th>society_Chatrapati Shivaji Raje Complex</th>\n",
              "      <th>society_Check</th>\n",
              "      <th>society_Co-oprative Society</th>\n",
              "      <th>society_Cosmos Jewels</th>\n",
              "      <th>society_Cosmos Lounge</th>\n",
              "      <th>society_Crescent Bay</th>\n",
              "      <th>society_DB Woods</th>\n",
              "      <th>society_Description :</th>\n",
              "      <th>society_Dheeraj Platinum Apartment</th>\n",
              "      <th>society_Diamond Garden</th>\n",
              "      <th>society_Divine Varsha</th>\n",
              "      <th>society_Dosti Acres</th>\n",
              "      <th>society_Dosti Ambrosia</th>\n",
              "      <th>society_Dosti Estates</th>\n",
              "      <th>society_Dosti Imperia</th>\n",
              "      <th>society_Dynamix Parkwoods</th>\n",
              "      <th>society_Emgee Greens</th>\n",
              "      <th>society_Evening Glory CHS</th>\n",
              "      <th>society_Evershine Millennium Paradise</th>\n",
              "      <th>society_Exquisit Falt</th>\n",
              "      <th>society_Exquisite Falt</th>\n",
              "      <th>...</th>\n",
              "      <th>location_Sector-35G Kharghar</th>\n",
              "      <th>location_Sector-50 Seawoods</th>\n",
              "      <th>location_Sector-58 Seawoods</th>\n",
              "      <th>location_Sector-6 Kharghar</th>\n",
              "      <th>location_Sector-6 Nerul</th>\n",
              "      <th>location_Sector-8 Charkop</th>\n",
              "      <th>location_Sector-8 Kharghar</th>\n",
              "      <th>location_Sector-8A Airoli</th>\n",
              "      <th>location_Sector-9 Ulwe</th>\n",
              "      <th>location_Sewri</th>\n",
              "      <th>location_Shastri Nagar</th>\n",
              "      <th>location_Sindhi Society Chembur</th>\n",
              "      <th>location_Tardeo</th>\n",
              "      <th>location_Teen Haath Naka</th>\n",
              "      <th>location_Thakur Complex</th>\n",
              "      <th>location_Thakur Village</th>\n",
              "      <th>location_Thane West</th>\n",
              "      <th>location_Tilak Nagar</th>\n",
              "      <th>location_Ulwe</th>\n",
              "      <th>location_Vakola</th>\n",
              "      <th>location_Vasant Vihar</th>\n",
              "      <th>location_Versova</th>\n",
              "      <th>location_Vijay Nagari</th>\n",
              "      <th>location_Vile Parle (East)</th>\n",
              "      <th>location_Vile Parle (West)</th>\n",
              "      <th>location_Virar West</th>\n",
              "      <th>location_Wadala</th>\n",
              "      <th>location_Wadala East</th>\n",
              "      <th>location_Waghbil</th>\n",
              "      <th>location_Worli</th>\n",
              "      <th>location_Worli Seaface</th>\n",
              "      <th>location_Yogidham</th>\n",
              "      <th>location_other location</th>\n",
              "      <th>furnishing_Not Mentioned</th>\n",
              "      <th>furnishing_Semifurnished</th>\n",
              "      <th>furnishing_Unfurnished</th>\n",
              "      <th>age_1 to 5 years old</th>\n",
              "      <th>age_10+ years old</th>\n",
              "      <th>age_5 to 10 years old</th>\n",
              "      <th>age_Not Mentioned</th>\n",
              "    </tr>\n",
              "  </thead>\n",
              "  <tbody>\n",
              "    <tr>\n",
              "      <th>0</th>\n",
              "      <td>2</td>\n",
              "      <td>800.0</td>\n",
              "      <td>2</td>\n",
              "      <td>6</td>\n",
              "      <td>85000</td>\n",
              "      <td>0</td>\n",
              "      <td>0</td>\n",
              "      <td>0</td>\n",
              "      <td>0</td>\n",
              "      <td>0</td>\n",
              "      <td>0</td>\n",
              "      <td>0</td>\n",
              "      <td>0</td>\n",
              "      <td>0</td>\n",
              "      <td>0</td>\n",
              "      <td>0</td>\n",
              "      <td>0</td>\n",
              "      <td>0</td>\n",
              "      <td>0</td>\n",
              "      <td>0</td>\n",
              "      <td>0</td>\n",
              "      <td>0</td>\n",
              "      <td>0</td>\n",
              "      <td>0</td>\n",
              "      <td>0</td>\n",
              "      <td>0</td>\n",
              "      <td>0</td>\n",
              "      <td>0</td>\n",
              "      <td>0</td>\n",
              "      <td>0</td>\n",
              "      <td>0</td>\n",
              "      <td>0</td>\n",
              "      <td>0</td>\n",
              "      <td>0</td>\n",
              "      <td>0</td>\n",
              "      <td>0</td>\n",
              "      <td>0</td>\n",
              "      <td>0</td>\n",
              "      <td>0</td>\n",
              "      <td>0</td>\n",
              "      <td>...</td>\n",
              "      <td>0</td>\n",
              "      <td>0</td>\n",
              "      <td>0</td>\n",
              "      <td>0</td>\n",
              "      <td>0</td>\n",
              "      <td>0</td>\n",
              "      <td>0</td>\n",
              "      <td>0</td>\n",
              "      <td>0</td>\n",
              "      <td>0</td>\n",
              "      <td>0</td>\n",
              "      <td>0</td>\n",
              "      <td>0</td>\n",
              "      <td>0</td>\n",
              "      <td>0</td>\n",
              "      <td>0</td>\n",
              "      <td>0</td>\n",
              "      <td>0</td>\n",
              "      <td>0</td>\n",
              "      <td>0</td>\n",
              "      <td>0</td>\n",
              "      <td>0</td>\n",
              "      <td>0</td>\n",
              "      <td>0</td>\n",
              "      <td>0</td>\n",
              "      <td>0</td>\n",
              "      <td>0</td>\n",
              "      <td>0</td>\n",
              "      <td>0</td>\n",
              "      <td>0</td>\n",
              "      <td>0</td>\n",
              "      <td>0</td>\n",
              "      <td>0</td>\n",
              "      <td>0</td>\n",
              "      <td>0</td>\n",
              "      <td>0</td>\n",
              "      <td>0</td>\n",
              "      <td>0</td>\n",
              "      <td>1</td>\n",
              "      <td>0</td>\n",
              "    </tr>\n",
              "    <tr>\n",
              "      <th>1</th>\n",
              "      <td>2</td>\n",
              "      <td>1050.0</td>\n",
              "      <td>8</td>\n",
              "      <td>12</td>\n",
              "      <td>110000</td>\n",
              "      <td>0</td>\n",
              "      <td>0</td>\n",
              "      <td>0</td>\n",
              "      <td>0</td>\n",
              "      <td>0</td>\n",
              "      <td>0</td>\n",
              "      <td>0</td>\n",
              "      <td>0</td>\n",
              "      <td>0</td>\n",
              "      <td>0</td>\n",
              "      <td>0</td>\n",
              "      <td>0</td>\n",
              "      <td>0</td>\n",
              "      <td>0</td>\n",
              "      <td>0</td>\n",
              "      <td>0</td>\n",
              "      <td>0</td>\n",
              "      <td>0</td>\n",
              "      <td>0</td>\n",
              "      <td>0</td>\n",
              "      <td>0</td>\n",
              "      <td>0</td>\n",
              "      <td>0</td>\n",
              "      <td>0</td>\n",
              "      <td>0</td>\n",
              "      <td>0</td>\n",
              "      <td>0</td>\n",
              "      <td>0</td>\n",
              "      <td>0</td>\n",
              "      <td>0</td>\n",
              "      <td>0</td>\n",
              "      <td>0</td>\n",
              "      <td>0</td>\n",
              "      <td>0</td>\n",
              "      <td>0</td>\n",
              "      <td>...</td>\n",
              "      <td>0</td>\n",
              "      <td>0</td>\n",
              "      <td>0</td>\n",
              "      <td>0</td>\n",
              "      <td>0</td>\n",
              "      <td>0</td>\n",
              "      <td>0</td>\n",
              "      <td>0</td>\n",
              "      <td>0</td>\n",
              "      <td>0</td>\n",
              "      <td>0</td>\n",
              "      <td>0</td>\n",
              "      <td>0</td>\n",
              "      <td>0</td>\n",
              "      <td>0</td>\n",
              "      <td>0</td>\n",
              "      <td>0</td>\n",
              "      <td>0</td>\n",
              "      <td>0</td>\n",
              "      <td>0</td>\n",
              "      <td>0</td>\n",
              "      <td>0</td>\n",
              "      <td>0</td>\n",
              "      <td>0</td>\n",
              "      <td>0</td>\n",
              "      <td>0</td>\n",
              "      <td>0</td>\n",
              "      <td>0</td>\n",
              "      <td>0</td>\n",
              "      <td>0</td>\n",
              "      <td>0</td>\n",
              "      <td>0</td>\n",
              "      <td>0</td>\n",
              "      <td>0</td>\n",
              "      <td>0</td>\n",
              "      <td>0</td>\n",
              "      <td>1</td>\n",
              "      <td>0</td>\n",
              "      <td>0</td>\n",
              "      <td>0</td>\n",
              "    </tr>\n",
              "    <tr>\n",
              "      <th>2</th>\n",
              "      <td>2</td>\n",
              "      <td>1050.0</td>\n",
              "      <td>14</td>\n",
              "      <td>17</td>\n",
              "      <td>32000</td>\n",
              "      <td>0</td>\n",
              "      <td>0</td>\n",
              "      <td>0</td>\n",
              "      <td>0</td>\n",
              "      <td>0</td>\n",
              "      <td>0</td>\n",
              "      <td>0</td>\n",
              "      <td>0</td>\n",
              "      <td>0</td>\n",
              "      <td>0</td>\n",
              "      <td>0</td>\n",
              "      <td>0</td>\n",
              "      <td>0</td>\n",
              "      <td>0</td>\n",
              "      <td>0</td>\n",
              "      <td>0</td>\n",
              "      <td>0</td>\n",
              "      <td>0</td>\n",
              "      <td>0</td>\n",
              "      <td>0</td>\n",
              "      <td>0</td>\n",
              "      <td>0</td>\n",
              "      <td>0</td>\n",
              "      <td>0</td>\n",
              "      <td>0</td>\n",
              "      <td>0</td>\n",
              "      <td>0</td>\n",
              "      <td>0</td>\n",
              "      <td>0</td>\n",
              "      <td>0</td>\n",
              "      <td>0</td>\n",
              "      <td>0</td>\n",
              "      <td>0</td>\n",
              "      <td>0</td>\n",
              "      <td>0</td>\n",
              "      <td>...</td>\n",
              "      <td>0</td>\n",
              "      <td>0</td>\n",
              "      <td>0</td>\n",
              "      <td>0</td>\n",
              "      <td>0</td>\n",
              "      <td>0</td>\n",
              "      <td>0</td>\n",
              "      <td>0</td>\n",
              "      <td>0</td>\n",
              "      <td>0</td>\n",
              "      <td>0</td>\n",
              "      <td>0</td>\n",
              "      <td>0</td>\n",
              "      <td>0</td>\n",
              "      <td>0</td>\n",
              "      <td>0</td>\n",
              "      <td>0</td>\n",
              "      <td>0</td>\n",
              "      <td>0</td>\n",
              "      <td>0</td>\n",
              "      <td>0</td>\n",
              "      <td>0</td>\n",
              "      <td>0</td>\n",
              "      <td>0</td>\n",
              "      <td>0</td>\n",
              "      <td>0</td>\n",
              "      <td>0</td>\n",
              "      <td>0</td>\n",
              "      <td>0</td>\n",
              "      <td>0</td>\n",
              "      <td>0</td>\n",
              "      <td>0</td>\n",
              "      <td>0</td>\n",
              "      <td>0</td>\n",
              "      <td>0</td>\n",
              "      <td>1</td>\n",
              "      <td>1</td>\n",
              "      <td>0</td>\n",
              "      <td>0</td>\n",
              "      <td>0</td>\n",
              "    </tr>\n",
              "    <tr>\n",
              "      <th>3</th>\n",
              "      <td>3</td>\n",
              "      <td>2275.0</td>\n",
              "      <td>40</td>\n",
              "      <td>41</td>\n",
              "      <td>150000</td>\n",
              "      <td>0</td>\n",
              "      <td>0</td>\n",
              "      <td>0</td>\n",
              "      <td>0</td>\n",
              "      <td>0</td>\n",
              "      <td>0</td>\n",
              "      <td>0</td>\n",
              "      <td>0</td>\n",
              "      <td>0</td>\n",
              "      <td>0</td>\n",
              "      <td>0</td>\n",
              "      <td>0</td>\n",
              "      <td>0</td>\n",
              "      <td>0</td>\n",
              "      <td>0</td>\n",
              "      <td>0</td>\n",
              "      <td>0</td>\n",
              "      <td>0</td>\n",
              "      <td>0</td>\n",
              "      <td>1</td>\n",
              "      <td>0</td>\n",
              "      <td>0</td>\n",
              "      <td>0</td>\n",
              "      <td>0</td>\n",
              "      <td>0</td>\n",
              "      <td>0</td>\n",
              "      <td>0</td>\n",
              "      <td>0</td>\n",
              "      <td>0</td>\n",
              "      <td>0</td>\n",
              "      <td>0</td>\n",
              "      <td>0</td>\n",
              "      <td>0</td>\n",
              "      <td>0</td>\n",
              "      <td>0</td>\n",
              "      <td>...</td>\n",
              "      <td>0</td>\n",
              "      <td>0</td>\n",
              "      <td>0</td>\n",
              "      <td>0</td>\n",
              "      <td>0</td>\n",
              "      <td>0</td>\n",
              "      <td>0</td>\n",
              "      <td>0</td>\n",
              "      <td>0</td>\n",
              "      <td>0</td>\n",
              "      <td>0</td>\n",
              "      <td>0</td>\n",
              "      <td>0</td>\n",
              "      <td>0</td>\n",
              "      <td>0</td>\n",
              "      <td>0</td>\n",
              "      <td>0</td>\n",
              "      <td>0</td>\n",
              "      <td>0</td>\n",
              "      <td>0</td>\n",
              "      <td>0</td>\n",
              "      <td>0</td>\n",
              "      <td>0</td>\n",
              "      <td>0</td>\n",
              "      <td>0</td>\n",
              "      <td>0</td>\n",
              "      <td>0</td>\n",
              "      <td>0</td>\n",
              "      <td>0</td>\n",
              "      <td>0</td>\n",
              "      <td>0</td>\n",
              "      <td>0</td>\n",
              "      <td>0</td>\n",
              "      <td>0</td>\n",
              "      <td>1</td>\n",
              "      <td>0</td>\n",
              "      <td>1</td>\n",
              "      <td>0</td>\n",
              "      <td>0</td>\n",
              "      <td>0</td>\n",
              "    </tr>\n",
              "    <tr>\n",
              "      <th>4</th>\n",
              "      <td>1</td>\n",
              "      <td>550.0</td>\n",
              "      <td>4</td>\n",
              "      <td>7</td>\n",
              "      <td>27000</td>\n",
              "      <td>0</td>\n",
              "      <td>0</td>\n",
              "      <td>0</td>\n",
              "      <td>0</td>\n",
              "      <td>0</td>\n",
              "      <td>0</td>\n",
              "      <td>0</td>\n",
              "      <td>1</td>\n",
              "      <td>0</td>\n",
              "      <td>0</td>\n",
              "      <td>0</td>\n",
              "      <td>0</td>\n",
              "      <td>0</td>\n",
              "      <td>0</td>\n",
              "      <td>0</td>\n",
              "      <td>0</td>\n",
              "      <td>0</td>\n",
              "      <td>0</td>\n",
              "      <td>0</td>\n",
              "      <td>0</td>\n",
              "      <td>0</td>\n",
              "      <td>0</td>\n",
              "      <td>0</td>\n",
              "      <td>0</td>\n",
              "      <td>0</td>\n",
              "      <td>0</td>\n",
              "      <td>0</td>\n",
              "      <td>0</td>\n",
              "      <td>0</td>\n",
              "      <td>0</td>\n",
              "      <td>0</td>\n",
              "      <td>0</td>\n",
              "      <td>0</td>\n",
              "      <td>0</td>\n",
              "      <td>0</td>\n",
              "      <td>...</td>\n",
              "      <td>0</td>\n",
              "      <td>0</td>\n",
              "      <td>0</td>\n",
              "      <td>0</td>\n",
              "      <td>0</td>\n",
              "      <td>0</td>\n",
              "      <td>0</td>\n",
              "      <td>0</td>\n",
              "      <td>0</td>\n",
              "      <td>0</td>\n",
              "      <td>0</td>\n",
              "      <td>0</td>\n",
              "      <td>0</td>\n",
              "      <td>0</td>\n",
              "      <td>0</td>\n",
              "      <td>0</td>\n",
              "      <td>0</td>\n",
              "      <td>1</td>\n",
              "      <td>0</td>\n",
              "      <td>0</td>\n",
              "      <td>0</td>\n",
              "      <td>0</td>\n",
              "      <td>0</td>\n",
              "      <td>0</td>\n",
              "      <td>0</td>\n",
              "      <td>0</td>\n",
              "      <td>0</td>\n",
              "      <td>0</td>\n",
              "      <td>0</td>\n",
              "      <td>0</td>\n",
              "      <td>0</td>\n",
              "      <td>0</td>\n",
              "      <td>0</td>\n",
              "      <td>0</td>\n",
              "      <td>1</td>\n",
              "      <td>0</td>\n",
              "      <td>0</td>\n",
              "      <td>0</td>\n",
              "      <td>1</td>\n",
              "      <td>0</td>\n",
              "    </tr>\n",
              "    <tr>\n",
              "      <th>...</th>\n",
              "      <td>...</td>\n",
              "      <td>...</td>\n",
              "      <td>...</td>\n",
              "      <td>...</td>\n",
              "      <td>...</td>\n",
              "      <td>...</td>\n",
              "      <td>...</td>\n",
              "      <td>...</td>\n",
              "      <td>...</td>\n",
              "      <td>...</td>\n",
              "      <td>...</td>\n",
              "      <td>...</td>\n",
              "      <td>...</td>\n",
              "      <td>...</td>\n",
              "      <td>...</td>\n",
              "      <td>...</td>\n",
              "      <td>...</td>\n",
              "      <td>...</td>\n",
              "      <td>...</td>\n",
              "      <td>...</td>\n",
              "      <td>...</td>\n",
              "      <td>...</td>\n",
              "      <td>...</td>\n",
              "      <td>...</td>\n",
              "      <td>...</td>\n",
              "      <td>...</td>\n",
              "      <td>...</td>\n",
              "      <td>...</td>\n",
              "      <td>...</td>\n",
              "      <td>...</td>\n",
              "      <td>...</td>\n",
              "      <td>...</td>\n",
              "      <td>...</td>\n",
              "      <td>...</td>\n",
              "      <td>...</td>\n",
              "      <td>...</td>\n",
              "      <td>...</td>\n",
              "      <td>...</td>\n",
              "      <td>...</td>\n",
              "      <td>...</td>\n",
              "      <td>...</td>\n",
              "      <td>...</td>\n",
              "      <td>...</td>\n",
              "      <td>...</td>\n",
              "      <td>...</td>\n",
              "      <td>...</td>\n",
              "      <td>...</td>\n",
              "      <td>...</td>\n",
              "      <td>...</td>\n",
              "      <td>...</td>\n",
              "      <td>...</td>\n",
              "      <td>...</td>\n",
              "      <td>...</td>\n",
              "      <td>...</td>\n",
              "      <td>...</td>\n",
              "      <td>...</td>\n",
              "      <td>...</td>\n",
              "      <td>...</td>\n",
              "      <td>...</td>\n",
              "      <td>...</td>\n",
              "      <td>...</td>\n",
              "      <td>...</td>\n",
              "      <td>...</td>\n",
              "      <td>...</td>\n",
              "      <td>...</td>\n",
              "      <td>...</td>\n",
              "      <td>...</td>\n",
              "      <td>...</td>\n",
              "      <td>...</td>\n",
              "      <td>...</td>\n",
              "      <td>...</td>\n",
              "      <td>...</td>\n",
              "      <td>...</td>\n",
              "      <td>...</td>\n",
              "      <td>...</td>\n",
              "      <td>...</td>\n",
              "      <td>...</td>\n",
              "      <td>...</td>\n",
              "      <td>...</td>\n",
              "      <td>...</td>\n",
              "      <td>...</td>\n",
              "    </tr>\n",
              "    <tr>\n",
              "      <th>12792</th>\n",
              "      <td>3</td>\n",
              "      <td>2529.0</td>\n",
              "      <td>12</td>\n",
              "      <td>32</td>\n",
              "      <td>175000</td>\n",
              "      <td>0</td>\n",
              "      <td>0</td>\n",
              "      <td>0</td>\n",
              "      <td>0</td>\n",
              "      <td>0</td>\n",
              "      <td>0</td>\n",
              "      <td>0</td>\n",
              "      <td>0</td>\n",
              "      <td>0</td>\n",
              "      <td>0</td>\n",
              "      <td>0</td>\n",
              "      <td>0</td>\n",
              "      <td>0</td>\n",
              "      <td>0</td>\n",
              "      <td>0</td>\n",
              "      <td>0</td>\n",
              "      <td>0</td>\n",
              "      <td>0</td>\n",
              "      <td>0</td>\n",
              "      <td>0</td>\n",
              "      <td>0</td>\n",
              "      <td>0</td>\n",
              "      <td>0</td>\n",
              "      <td>0</td>\n",
              "      <td>0</td>\n",
              "      <td>0</td>\n",
              "      <td>0</td>\n",
              "      <td>0</td>\n",
              "      <td>0</td>\n",
              "      <td>0</td>\n",
              "      <td>0</td>\n",
              "      <td>0</td>\n",
              "      <td>0</td>\n",
              "      <td>0</td>\n",
              "      <td>0</td>\n",
              "      <td>...</td>\n",
              "      <td>0</td>\n",
              "      <td>0</td>\n",
              "      <td>0</td>\n",
              "      <td>0</td>\n",
              "      <td>0</td>\n",
              "      <td>0</td>\n",
              "      <td>0</td>\n",
              "      <td>0</td>\n",
              "      <td>0</td>\n",
              "      <td>0</td>\n",
              "      <td>0</td>\n",
              "      <td>0</td>\n",
              "      <td>0</td>\n",
              "      <td>0</td>\n",
              "      <td>0</td>\n",
              "      <td>0</td>\n",
              "      <td>0</td>\n",
              "      <td>0</td>\n",
              "      <td>0</td>\n",
              "      <td>0</td>\n",
              "      <td>0</td>\n",
              "      <td>0</td>\n",
              "      <td>0</td>\n",
              "      <td>0</td>\n",
              "      <td>0</td>\n",
              "      <td>0</td>\n",
              "      <td>0</td>\n",
              "      <td>0</td>\n",
              "      <td>0</td>\n",
              "      <td>0</td>\n",
              "      <td>0</td>\n",
              "      <td>0</td>\n",
              "      <td>0</td>\n",
              "      <td>0</td>\n",
              "      <td>0</td>\n",
              "      <td>0</td>\n",
              "      <td>1</td>\n",
              "      <td>0</td>\n",
              "      <td>0</td>\n",
              "      <td>0</td>\n",
              "    </tr>\n",
              "    <tr>\n",
              "      <th>12793</th>\n",
              "      <td>3</td>\n",
              "      <td>1382.0</td>\n",
              "      <td>27</td>\n",
              "      <td>40</td>\n",
              "      <td>48000</td>\n",
              "      <td>0</td>\n",
              "      <td>0</td>\n",
              "      <td>0</td>\n",
              "      <td>0</td>\n",
              "      <td>0</td>\n",
              "      <td>0</td>\n",
              "      <td>0</td>\n",
              "      <td>0</td>\n",
              "      <td>0</td>\n",
              "      <td>0</td>\n",
              "      <td>0</td>\n",
              "      <td>0</td>\n",
              "      <td>0</td>\n",
              "      <td>0</td>\n",
              "      <td>0</td>\n",
              "      <td>0</td>\n",
              "      <td>0</td>\n",
              "      <td>0</td>\n",
              "      <td>0</td>\n",
              "      <td>0</td>\n",
              "      <td>0</td>\n",
              "      <td>0</td>\n",
              "      <td>0</td>\n",
              "      <td>0</td>\n",
              "      <td>0</td>\n",
              "      <td>0</td>\n",
              "      <td>0</td>\n",
              "      <td>0</td>\n",
              "      <td>0</td>\n",
              "      <td>0</td>\n",
              "      <td>0</td>\n",
              "      <td>0</td>\n",
              "      <td>0</td>\n",
              "      <td>0</td>\n",
              "      <td>0</td>\n",
              "      <td>...</td>\n",
              "      <td>0</td>\n",
              "      <td>0</td>\n",
              "      <td>0</td>\n",
              "      <td>0</td>\n",
              "      <td>0</td>\n",
              "      <td>0</td>\n",
              "      <td>0</td>\n",
              "      <td>0</td>\n",
              "      <td>0</td>\n",
              "      <td>0</td>\n",
              "      <td>0</td>\n",
              "      <td>0</td>\n",
              "      <td>0</td>\n",
              "      <td>0</td>\n",
              "      <td>0</td>\n",
              "      <td>0</td>\n",
              "      <td>0</td>\n",
              "      <td>0</td>\n",
              "      <td>0</td>\n",
              "      <td>0</td>\n",
              "      <td>0</td>\n",
              "      <td>0</td>\n",
              "      <td>0</td>\n",
              "      <td>0</td>\n",
              "      <td>0</td>\n",
              "      <td>0</td>\n",
              "      <td>0</td>\n",
              "      <td>0</td>\n",
              "      <td>0</td>\n",
              "      <td>0</td>\n",
              "      <td>0</td>\n",
              "      <td>0</td>\n",
              "      <td>0</td>\n",
              "      <td>0</td>\n",
              "      <td>1</td>\n",
              "      <td>0</td>\n",
              "      <td>0</td>\n",
              "      <td>0</td>\n",
              "      <td>0</td>\n",
              "      <td>0</td>\n",
              "    </tr>\n",
              "    <tr>\n",
              "      <th>12794</th>\n",
              "      <td>3</td>\n",
              "      <td>1750.0</td>\n",
              "      <td>9</td>\n",
              "      <td>16</td>\n",
              "      <td>200000</td>\n",
              "      <td>0</td>\n",
              "      <td>0</td>\n",
              "      <td>0</td>\n",
              "      <td>0</td>\n",
              "      <td>0</td>\n",
              "      <td>0</td>\n",
              "      <td>0</td>\n",
              "      <td>0</td>\n",
              "      <td>0</td>\n",
              "      <td>0</td>\n",
              "      <td>0</td>\n",
              "      <td>0</td>\n",
              "      <td>0</td>\n",
              "      <td>0</td>\n",
              "      <td>0</td>\n",
              "      <td>0</td>\n",
              "      <td>0</td>\n",
              "      <td>0</td>\n",
              "      <td>0</td>\n",
              "      <td>0</td>\n",
              "      <td>0</td>\n",
              "      <td>0</td>\n",
              "      <td>0</td>\n",
              "      <td>0</td>\n",
              "      <td>0</td>\n",
              "      <td>0</td>\n",
              "      <td>0</td>\n",
              "      <td>0</td>\n",
              "      <td>0</td>\n",
              "      <td>0</td>\n",
              "      <td>0</td>\n",
              "      <td>0</td>\n",
              "      <td>0</td>\n",
              "      <td>0</td>\n",
              "      <td>0</td>\n",
              "      <td>...</td>\n",
              "      <td>0</td>\n",
              "      <td>0</td>\n",
              "      <td>0</td>\n",
              "      <td>0</td>\n",
              "      <td>0</td>\n",
              "      <td>0</td>\n",
              "      <td>0</td>\n",
              "      <td>0</td>\n",
              "      <td>0</td>\n",
              "      <td>0</td>\n",
              "      <td>0</td>\n",
              "      <td>0</td>\n",
              "      <td>0</td>\n",
              "      <td>0</td>\n",
              "      <td>0</td>\n",
              "      <td>0</td>\n",
              "      <td>0</td>\n",
              "      <td>0</td>\n",
              "      <td>0</td>\n",
              "      <td>0</td>\n",
              "      <td>0</td>\n",
              "      <td>0</td>\n",
              "      <td>0</td>\n",
              "      <td>0</td>\n",
              "      <td>0</td>\n",
              "      <td>0</td>\n",
              "      <td>0</td>\n",
              "      <td>0</td>\n",
              "      <td>0</td>\n",
              "      <td>0</td>\n",
              "      <td>0</td>\n",
              "      <td>0</td>\n",
              "      <td>1</td>\n",
              "      <td>0</td>\n",
              "      <td>0</td>\n",
              "      <td>1</td>\n",
              "      <td>0</td>\n",
              "      <td>1</td>\n",
              "      <td>0</td>\n",
              "      <td>0</td>\n",
              "    </tr>\n",
              "    <tr>\n",
              "      <th>12795</th>\n",
              "      <td>2</td>\n",
              "      <td>950.0</td>\n",
              "      <td>8</td>\n",
              "      <td>10</td>\n",
              "      <td>25500</td>\n",
              "      <td>0</td>\n",
              "      <td>0</td>\n",
              "      <td>0</td>\n",
              "      <td>0</td>\n",
              "      <td>0</td>\n",
              "      <td>0</td>\n",
              "      <td>0</td>\n",
              "      <td>0</td>\n",
              "      <td>0</td>\n",
              "      <td>0</td>\n",
              "      <td>0</td>\n",
              "      <td>0</td>\n",
              "      <td>0</td>\n",
              "      <td>0</td>\n",
              "      <td>0</td>\n",
              "      <td>0</td>\n",
              "      <td>0</td>\n",
              "      <td>0</td>\n",
              "      <td>0</td>\n",
              "      <td>0</td>\n",
              "      <td>0</td>\n",
              "      <td>0</td>\n",
              "      <td>0</td>\n",
              "      <td>0</td>\n",
              "      <td>0</td>\n",
              "      <td>0</td>\n",
              "      <td>0</td>\n",
              "      <td>0</td>\n",
              "      <td>0</td>\n",
              "      <td>0</td>\n",
              "      <td>0</td>\n",
              "      <td>0</td>\n",
              "      <td>0</td>\n",
              "      <td>0</td>\n",
              "      <td>0</td>\n",
              "      <td>...</td>\n",
              "      <td>0</td>\n",
              "      <td>0</td>\n",
              "      <td>0</td>\n",
              "      <td>0</td>\n",
              "      <td>0</td>\n",
              "      <td>0</td>\n",
              "      <td>0</td>\n",
              "      <td>0</td>\n",
              "      <td>0</td>\n",
              "      <td>0</td>\n",
              "      <td>0</td>\n",
              "      <td>0</td>\n",
              "      <td>0</td>\n",
              "      <td>0</td>\n",
              "      <td>0</td>\n",
              "      <td>0</td>\n",
              "      <td>0</td>\n",
              "      <td>0</td>\n",
              "      <td>0</td>\n",
              "      <td>0</td>\n",
              "      <td>0</td>\n",
              "      <td>0</td>\n",
              "      <td>0</td>\n",
              "      <td>0</td>\n",
              "      <td>0</td>\n",
              "      <td>0</td>\n",
              "      <td>0</td>\n",
              "      <td>0</td>\n",
              "      <td>0</td>\n",
              "      <td>0</td>\n",
              "      <td>0</td>\n",
              "      <td>0</td>\n",
              "      <td>0</td>\n",
              "      <td>0</td>\n",
              "      <td>1</td>\n",
              "      <td>0</td>\n",
              "      <td>0</td>\n",
              "      <td>0</td>\n",
              "      <td>1</td>\n",
              "      <td>0</td>\n",
              "    </tr>\n",
              "    <tr>\n",
              "      <th>12796</th>\n",
              "      <td>3</td>\n",
              "      <td>2500.0</td>\n",
              "      <td>5</td>\n",
              "      <td>10</td>\n",
              "      <td>120000</td>\n",
              "      <td>0</td>\n",
              "      <td>0</td>\n",
              "      <td>0</td>\n",
              "      <td>0</td>\n",
              "      <td>0</td>\n",
              "      <td>0</td>\n",
              "      <td>0</td>\n",
              "      <td>0</td>\n",
              "      <td>0</td>\n",
              "      <td>0</td>\n",
              "      <td>0</td>\n",
              "      <td>0</td>\n",
              "      <td>0</td>\n",
              "      <td>0</td>\n",
              "      <td>0</td>\n",
              "      <td>0</td>\n",
              "      <td>0</td>\n",
              "      <td>0</td>\n",
              "      <td>0</td>\n",
              "      <td>0</td>\n",
              "      <td>0</td>\n",
              "      <td>0</td>\n",
              "      <td>0</td>\n",
              "      <td>0</td>\n",
              "      <td>0</td>\n",
              "      <td>0</td>\n",
              "      <td>0</td>\n",
              "      <td>0</td>\n",
              "      <td>0</td>\n",
              "      <td>0</td>\n",
              "      <td>0</td>\n",
              "      <td>0</td>\n",
              "      <td>0</td>\n",
              "      <td>0</td>\n",
              "      <td>0</td>\n",
              "      <td>...</td>\n",
              "      <td>0</td>\n",
              "      <td>0</td>\n",
              "      <td>0</td>\n",
              "      <td>0</td>\n",
              "      <td>0</td>\n",
              "      <td>0</td>\n",
              "      <td>0</td>\n",
              "      <td>0</td>\n",
              "      <td>0</td>\n",
              "      <td>0</td>\n",
              "      <td>0</td>\n",
              "      <td>0</td>\n",
              "      <td>0</td>\n",
              "      <td>0</td>\n",
              "      <td>0</td>\n",
              "      <td>0</td>\n",
              "      <td>0</td>\n",
              "      <td>0</td>\n",
              "      <td>0</td>\n",
              "      <td>0</td>\n",
              "      <td>0</td>\n",
              "      <td>0</td>\n",
              "      <td>0</td>\n",
              "      <td>0</td>\n",
              "      <td>0</td>\n",
              "      <td>0</td>\n",
              "      <td>0</td>\n",
              "      <td>0</td>\n",
              "      <td>0</td>\n",
              "      <td>0</td>\n",
              "      <td>0</td>\n",
              "      <td>0</td>\n",
              "      <td>0</td>\n",
              "      <td>0</td>\n",
              "      <td>0</td>\n",
              "      <td>0</td>\n",
              "      <td>0</td>\n",
              "      <td>0</td>\n",
              "      <td>1</td>\n",
              "      <td>0</td>\n",
              "    </tr>\n",
              "  </tbody>\n",
              "</table>\n",
              "<p>12797 rows × 356 columns</p>\n",
              "</div>"
            ],
            "text/plain": [
              "       bedrooms  built-up area  ...  age_5 to 10 years old  age_Not Mentioned\n",
              "0             2          800.0  ...                      1                  0\n",
              "1             2         1050.0  ...                      0                  0\n",
              "2             2         1050.0  ...                      0                  0\n",
              "3             3         2275.0  ...                      0                  0\n",
              "4             1          550.0  ...                      1                  0\n",
              "...         ...            ...  ...                    ...                ...\n",
              "12792         3         2529.0  ...                      0                  0\n",
              "12793         3         1382.0  ...                      0                  0\n",
              "12794         3         1750.0  ...                      0                  0\n",
              "12795         2          950.0  ...                      1                  0\n",
              "12796         3         2500.0  ...                      1                  0\n",
              "\n",
              "[12797 rows x 356 columns]"
            ]
          },
          "metadata": {
            "tags": []
          },
          "execution_count": 22
        }
      ]
    },
    {
      "cell_type": "markdown",
      "metadata": {
        "id": "w7Kfd1Zdev2L"
      },
      "source": [
        "## Preparing Training and Testing Datasets"
      ]
    },
    {
      "cell_type": "code",
      "metadata": {
        "id": "xY1vaTr2ev2L",
        "colab": {
          "base_uri": "https://localhost:8080/"
        },
        "outputId": "5b75b0e5-6137-4d4c-efdf-964a1ccfda00"
      },
      "source": [
        "x = temp.drop('monthly rent', axis = 1)\n",
        "y = temp['monthly rent']\n",
        "x.shape,y.shape"
      ],
      "execution_count": 23,
      "outputs": [
        {
          "output_type": "execute_result",
          "data": {
            "text/plain": [
              "((12797, 355), (12797,))"
            ]
          },
          "metadata": {
            "tags": []
          },
          "execution_count": 23
        }
      ]
    },
    {
      "cell_type": "code",
      "metadata": {
        "colab": {
          "base_uri": "https://localhost:8080/"
        },
        "id": "53h668J7ucUE",
        "outputId": "30314e0b-d4f2-4162-fdf0-deb62583e498"
      },
      "source": [
        "from sklearn.model_selection import train_test_split\r\n",
        "\r\n",
        "X_train, X_test, y_train, y_test = train_test_split(x, y, test_size=0.2, random_state=42)\r\n",
        "X_train.shape, X_test.shape, y_train.shape, y_test.shape"
      ],
      "execution_count": 24,
      "outputs": [
        {
          "output_type": "execute_result",
          "data": {
            "text/plain": [
              "((10237, 355), (2560, 355), (10237,), (2560,))"
            ]
          },
          "metadata": {
            "tags": []
          },
          "execution_count": 24
        }
      ]
    },
    {
      "cell_type": "markdown",
      "metadata": {
        "id": "ZoEQbj8-ev2W"
      },
      "source": [
        "## Scaling Datasets to convert them into same range."
      ]
    },
    {
      "cell_type": "code",
      "metadata": {
        "id": "KaLrFNOiev2W"
      },
      "source": [
        "from sklearn.preprocessing import StandardScaler\n",
        "\n",
        "scaler = StandardScaler()\n",
        "scaler.fit(X_train)\n",
        "x_train = scaler.transform(X_train)\n",
        "x_test = scaler.transform(X_test)"
      ],
      "execution_count": 47,
      "outputs": []
    },
    {
      "cell_type": "markdown",
      "metadata": {
        "id": "hyCdHsz2ev2Z"
      },
      "source": [
        "## Time to Built a ML model now "
      ]
    },
    {
      "cell_type": "markdown",
      "metadata": {
        "id": "QPUtmb-jev2a"
      },
      "source": [
        "## LinearRegression model with standard scaling."
      ]
    },
    {
      "cell_type": "code",
      "metadata": {
        "id": "-sRkRncIev2a",
        "colab": {
          "base_uri": "https://localhost:8080/"
        },
        "outputId": "3f869ae5-96aa-43e3-9765-548453b34137"
      },
      "source": [
        "from sklearn.linear_model import LinearRegression, Ridge, Lasso\n",
        "from sklearn.metrics import r2_score\n",
        "\n",
        "linear_model = LinearRegression()\n",
        "linear_model.fit(x_train,y_train)"
      ],
      "execution_count": 48,
      "outputs": [
        {
          "output_type": "execute_result",
          "data": {
            "text/plain": [
              "LinearRegression(copy_X=True, fit_intercept=True, n_jobs=None, normalize=False)"
            ]
          },
          "metadata": {
            "tags": []
          },
          "execution_count": 48
        }
      ]
    },
    {
      "cell_type": "code",
      "metadata": {
        "id": "akwtVDr4ev2b",
        "colab": {
          "base_uri": "https://localhost:8080/"
        },
        "outputId": "322124b8-4759-46ac-a95f-08ba460ea703"
      },
      "source": [
        "r2_score(y_test, linear_model.predict(x_test))"
      ],
      "execution_count": 51,
      "outputs": [
        {
          "output_type": "execute_result",
          "data": {
            "text/plain": [
              "0.8850250933959646"
            ]
          },
          "metadata": {
            "tags": []
          },
          "execution_count": 51
        }
      ]
    },
    {
      "cell_type": "markdown",
      "metadata": {
        "id": "oe0xy1Pjev2g"
      },
      "source": [
        "## Lets store it in a DataFrame. so that we can compare different model's scores in last."
      ]
    },
    {
      "cell_type": "code",
      "metadata": {
        "id": "pvvya9dvev2g"
      },
      "source": [
        "Final_Scores = pd.DataFrame( index = ['With Training Data', 'With Test Data'])\n"
      ],
      "execution_count": 52,
      "outputs": []
    },
    {
      "cell_type": "code",
      "metadata": {
        "id": "u6lPcvnbev2h"
      },
      "source": [
        "Final_Scores['Linear Regression %'] = [r2_score(y_train, linear_model.predict(x_train))*100, \n",
        "                                       r2_score(y_test, linear_model.predict(x_test))*100]"
      ],
      "execution_count": 53,
      "outputs": []
    },
    {
      "cell_type": "markdown",
      "metadata": {
        "id": "i5Z2U1vdzUxU"
      },
      "source": [
        "##Ridge"
      ]
    },
    {
      "cell_type": "code",
      "metadata": {
        "colab": {
          "base_uri": "https://localhost:8080/"
        },
        "id": "xLcbTp1JzVSp",
        "outputId": "5f1025eb-a91f-4846-89bb-4a77f0d0a279"
      },
      "source": [
        "ridge = Ridge()\r\n",
        "ridge.fit(x_train,y_train)"
      ],
      "execution_count": 54,
      "outputs": [
        {
          "output_type": "execute_result",
          "data": {
            "text/plain": [
              "Ridge(alpha=1.0, copy_X=True, fit_intercept=True, max_iter=None,\n",
              "      normalize=False, random_state=None, solver='auto', tol=0.001)"
            ]
          },
          "metadata": {
            "tags": []
          },
          "execution_count": 54
        }
      ]
    },
    {
      "cell_type": "code",
      "metadata": {
        "colab": {
          "base_uri": "https://localhost:8080/"
        },
        "id": "Udc0lkj7ziio",
        "outputId": "9e8885fc-01a6-477b-8cd9-c583983270d4"
      },
      "source": [
        "r2_score(y_test, ridge.predict(x_test))"
      ],
      "execution_count": 55,
      "outputs": [
        {
          "output_type": "execute_result",
          "data": {
            "text/plain": [
              "0.8850479799093492"
            ]
          },
          "metadata": {
            "tags": []
          },
          "execution_count": 55
        }
      ]
    },
    {
      "cell_type": "code",
      "metadata": {
        "id": "Dw1Kj8BXzifu"
      },
      "source": [
        "Final_Scores['Ridge Regression %'] = [r2_score(y_train, ridge.predict(x_train))*100, \r\n",
        "                                       r2_score(y_test, ridge.predict(x_test))*100]"
      ],
      "execution_count": 56,
      "outputs": []
    },
    {
      "cell_type": "markdown",
      "metadata": {
        "id": "76TsAXcbzysp"
      },
      "source": [
        "##Ridge"
      ]
    },
    {
      "cell_type": "code",
      "metadata": {
        "colab": {
          "base_uri": "https://localhost:8080/"
        },
        "id": "GN6AXE0Lzysq",
        "outputId": "ed6fba54-8617-4e1c-90f6-c06e45f3d2e5"
      },
      "source": [
        "lasso = Lasso()\r\n",
        "lasso.fit(x_train,y_train)"
      ],
      "execution_count": 57,
      "outputs": [
        {
          "output_type": "stream",
          "text": [
            "/usr/local/lib/python3.6/dist-packages/sklearn/linear_model/_coordinate_descent.py:476: ConvergenceWarning: Objective did not converge. You might want to increase the number of iterations. Duality gap: 35058627569.295166, tolerance: 1333801373.1923687\n",
            "  positive)\n"
          ],
          "name": "stderr"
        },
        {
          "output_type": "execute_result",
          "data": {
            "text/plain": [
              "Lasso(alpha=1.0, copy_X=True, fit_intercept=True, max_iter=1000,\n",
              "      normalize=False, positive=False, precompute=False, random_state=None,\n",
              "      selection='cyclic', tol=0.0001, warm_start=False)"
            ]
          },
          "metadata": {
            "tags": []
          },
          "execution_count": 57
        }
      ]
    },
    {
      "cell_type": "code",
      "metadata": {
        "colab": {
          "base_uri": "https://localhost:8080/"
        },
        "id": "aQojEhRtzyst",
        "outputId": "607e31c8-4a6d-43ec-c1be-d9d42a2e07c9"
      },
      "source": [
        "r2_score(y_test, lasso.predict(x_test))"
      ],
      "execution_count": 58,
      "outputs": [
        {
          "output_type": "execute_result",
          "data": {
            "text/plain": [
              "0.8851027112279908"
            ]
          },
          "metadata": {
            "tags": []
          },
          "execution_count": 58
        }
      ]
    },
    {
      "cell_type": "code",
      "metadata": {
        "id": "kwtNiKq1zysu"
      },
      "source": [
        "Final_Scores['Lasso Regression %'] = [r2_score(y_train, lasso.predict(x_train))*100, \r\n",
        "                                       r2_score(y_test, lasso.predict(x_test))*100]"
      ],
      "execution_count": 59,
      "outputs": []
    },
    {
      "cell_type": "markdown",
      "metadata": {
        "id": "oyYBWK-5z9u3"
      },
      "source": [
        "##LabelEncoder"
      ]
    },
    {
      "cell_type": "code",
      "metadata": {
        "colab": {
          "base_uri": "https://localhost:8080/",
          "height": 142
        },
        "id": "J9uW5cvu0chY",
        "outputId": "0862e317-7a54-452f-b3a6-5f20a61bc43d"
      },
      "source": [
        "df1 = df.copy()\r\n",
        "df1.head(3)"
      ],
      "execution_count": 61,
      "outputs": [
        {
          "output_type": "execute_result",
          "data": {
            "text/html": [
              "<div>\n",
              "<style scoped>\n",
              "    .dataframe tbody tr th:only-of-type {\n",
              "        vertical-align: middle;\n",
              "    }\n",
              "\n",
              "    .dataframe tbody tr th {\n",
              "        vertical-align: top;\n",
              "    }\n",
              "\n",
              "    .dataframe thead th {\n",
              "        text-align: right;\n",
              "    }\n",
              "</style>\n",
              "<table border=\"1\" class=\"dataframe\">\n",
              "  <thead>\n",
              "    <tr style=\"text-align: right;\">\n",
              "      <th></th>\n",
              "      <th>society</th>\n",
              "      <th>type</th>\n",
              "      <th>location</th>\n",
              "      <th>bedrooms</th>\n",
              "      <th>built-up area</th>\n",
              "      <th>furnishing</th>\n",
              "      <th>age</th>\n",
              "      <th>floor</th>\n",
              "      <th>total floors</th>\n",
              "      <th>monthly rent</th>\n",
              "    </tr>\n",
              "  </thead>\n",
              "  <tbody>\n",
              "    <tr>\n",
              "      <th>0</th>\n",
              "      <td>other society</td>\n",
              "      <td>Residential Apartment</td>\n",
              "      <td>Bandra (West)</td>\n",
              "      <td>2</td>\n",
              "      <td>800.0</td>\n",
              "      <td>Furnished</td>\n",
              "      <td>5 to 10 years old</td>\n",
              "      <td>2</td>\n",
              "      <td>6</td>\n",
              "      <td>85000</td>\n",
              "    </tr>\n",
              "    <tr>\n",
              "      <th>1</th>\n",
              "      <td>other society</td>\n",
              "      <td>Residential Apartment</td>\n",
              "      <td>Khar West</td>\n",
              "      <td>2</td>\n",
              "      <td>1050.0</td>\n",
              "      <td>Furnished</td>\n",
              "      <td>1 to 5 years old</td>\n",
              "      <td>8</td>\n",
              "      <td>12</td>\n",
              "      <td>110000</td>\n",
              "    </tr>\n",
              "    <tr>\n",
              "      <th>2</th>\n",
              "      <td>Gajra Bhoomi Symphony</td>\n",
              "      <td>Residential Apartment</td>\n",
              "      <td>Sector-20 Koparkhairane</td>\n",
              "      <td>2</td>\n",
              "      <td>1050.0</td>\n",
              "      <td>Unfurnished</td>\n",
              "      <td>1 to 5 years old</td>\n",
              "      <td>14</td>\n",
              "      <td>17</td>\n",
              "      <td>32000</td>\n",
              "    </tr>\n",
              "  </tbody>\n",
              "</table>\n",
              "</div>"
            ],
            "text/plain": [
              "                 society                   type  ... total floors  monthly rent\n",
              "0          other society  Residential Apartment  ...            6         85000\n",
              "1          other society  Residential Apartment  ...           12        110000\n",
              "2  Gajra Bhoomi Symphony  Residential Apartment  ...           17         32000\n",
              "\n",
              "[3 rows x 10 columns]"
            ]
          },
          "metadata": {
            "tags": []
          },
          "execution_count": 61
        }
      ]
    },
    {
      "cell_type": "code",
      "metadata": {
        "id": "m2cBTyPtz_sd"
      },
      "source": [
        "from sklearn.preprocessing import LabelEncoder\r\n",
        "\r\n",
        "society_encoder = LabelEncoder().fit(df1['society'])\r\n",
        "df1['society'] = society_encoder.transform(df1['society'])"
      ],
      "execution_count": 62,
      "outputs": []
    },
    {
      "cell_type": "code",
      "metadata": {
        "colab": {
          "base_uri": "https://localhost:8080/"
        },
        "id": "r2CMrl2f0u8p",
        "outputId": "0911da06-5a03-4980-9fd4-1211112396c7"
      },
      "source": [
        "society_encoder.classes_"
      ],
      "execution_count": 65,
      "outputs": [
        {
          "output_type": "execute_result",
          "data": {
            "text/plain": [
              "array(['Aaram Sty', 'Acme Ozone', 'Adityavardhan Apartment',\n",
              "       'Ajmera Aeon', 'Ajmera Bhakti Park Sector 1 and 2', 'Ajmera Zeon',\n",
              "       'Alica Nagar CHS', 'Ashford Royale', 'Ashwini CHS',\n",
              "       'Bhagwati Bay Bliss', 'Bholenath Chembur Castle', 'Bhoomi Park',\n",
              "       'Carter Road', 'Central Avenue Apartments', 'Chaitanya Towers',\n",
              "       'Chatrapati Shivaji Raje Complex', 'Check', 'Co-oprative Society',\n",
              "       'Cosmos Jewels', 'Cosmos Lounge', 'Crescent Bay', 'DB Woods',\n",
              "       'Description :', 'Dheeraj Platinum Apartment', 'Diamond Garden',\n",
              "       'Divine Varsha', 'Dosti Acres', 'Dosti Ambrosia', 'Dosti Estates',\n",
              "       'Dosti Imperia', 'Dynamix Parkwoods', 'Emgee Greens',\n",
              "       'Evening Glory CHS', 'Evershine Millennium Paradise',\n",
              "       'Exquisit Falt', 'Exquisite Falt', 'Gajra Bhoomi Symphony',\n",
              "       'Geomatrix Silver Crest', 'Godrej Central', 'Godrej Serenity',\n",
              "       'Grace Heritage', 'Grit Heights CHS', 'Gundecha Altura',\n",
              "       'HDIL Dreams', 'HDIL Metropolis Tower',\n",
              "       'Harmony Co Operative Housing Society', 'Haware Tiara',\n",
              "       'Hilla Almeida Park', 'Hiranandani Avalon',\n",
              "       'Hiranandani Casa Marina', 'Hiranandani Crystal Court CHS',\n",
              "       'Hiranandani Estate', 'Hiranandani Estate, Patlipada, Thane West',\n",
              "       'Hiranandani Gardens', 'Hiranandani Gardens Cypress',\n",
              "       'Hiranandani Heritage', 'Hiranandani Maitri Park',\n",
              "       'Hiranandani Meadows', 'Hiranandani Octavius',\n",
              "       'Hiranandani Odyssey', 'Hiranandani Princeton CHS',\n",
              "       'Hiranandani Rodas Enclave', 'Hiranandani The Walk',\n",
              "       'Hiranandani Torino', 'Hiranandani Verona CHS',\n",
              "       'Hiranandani Zen Atlantis', 'Hubtown Atul Hill Crest',\n",
              "       'Imperial Heights', 'Jai Shastri Nagar CHS',\n",
              "       'Juhi Niharika Residency', 'K Raheja Heights',\n",
              "       'K Raheja Palm Court', 'Kalpataru Aura', 'Kalpataru Crest',\n",
              "       'Kamal Kunj', 'Kanakia Challengers', 'Kanakia Samarpan',\n",
              "       'Kanakia Samarpan Exotica', 'Kanakia Sanskruti',\n",
              "       'Kanishka Chs Chembur', 'Kesar Harmony', 'Kings Acres',\n",
              "       'Kohinoor City Mumbai', 'Kohinoor City Phase 2',\n",
              "       'Kukreja Residency', 'L and T Emerald Isle', 'Lake Florence',\n",
              "       'Lake Homes', 'Lake Lucerne', 'Lake Pleasant', 'Lake Primrose',\n",
              "       'Lodha Amara', 'Lodha Aurum Grande', 'Lodha Casa Bella Gold',\n",
              "       'Lodha Dioro', 'Lodha Enchante', 'Lodha Fiorenza',\n",
              "       'Lodha Golflinks', 'Lodha Lakeshore Greens',\n",
              "       'Lodha New Cuffe Parade', 'Lodha Palava City', 'Lodha Paradise',\n",
              "       'Lodha Primero', 'Lodha Splendora', 'Lodha Venezia',\n",
              "       'Lodha World Crest', 'Lokhandwala Complex',\n",
              "       'Lokhandwala Sapphire Heights', 'Lokhandwala Spring Leaf',\n",
              "       'Lotus Link Square', 'Mahavir Kalpavruksha',\n",
              "       'Mahindra Lifespaces Splendour', 'Main Hill Road',\n",
              "       'Mehboob Studio', 'Millennium Avanish', 'NRI Complex Phase 2',\n",
              "       'Nahars Amrit Shakti', 'Neptune Living Point', 'New Mek Tawer',\n",
              "       'New Monica Chs', 'Oberoi Esquire', 'Oberoi Exquisite',\n",
              "       'Oberoi Parkview', 'Oberoi Splendor', 'Oberoi Springs',\n",
              "       'Oberoi Woods', 'Odyssey CHS Mumbai', 'Omkar Alta Monte',\n",
              "       'Omkar Om Residency', 'Omkar Veda Exclusive', 'On Reqeast',\n",
              "       'On Request', 'Peninsula Ashok Gardens', 'Peninsula Ashok Towers',\n",
              "       'Planet Godrej', 'Private Society', 'RNA Continental',\n",
              "       'Radha Niwas CHS', 'Raheja Acropolis', 'Raheja Ridgewood',\n",
              "       'Raheja Willows', 'Raj Legacy', 'Ravi GAURAV RESIDENCY',\n",
              "       'Regency Crest', 'Regency Gardens', 'Request', 'Rizvi Union Park',\n",
              "       'Rosa Bella', 'Runwal Elegante', 'Runwal Garden City',\n",
              "       'Runwal Greens', 'Rustomjee Azziano', 'Rustomjee Urbania',\n",
              "       'Safal Saraswati CHS', 'Safal Twins',\n",
              "       'Sea Princess Gundecha Trillium', 'Seven Bungalows',\n",
              "       'Sheth Clarion', 'Sheth Vasant Sagar Complex', 'Shitladevi CHS',\n",
              "       'Shrinath CHS', 'Sindhi Society', 'Someshwar Residency',\n",
              "       'Sundew CHS', 'Sunshine CHS', 'Swastik Solitaire',\n",
              "       'Tanisha Apartment', 'Tricity Pristine', 'Union Park',\n",
              "       'Universal Mashayakh Tower', 'Vasant Sarita', 'Wadhwa Boulevard',\n",
              "       'Wadhwa The Address', 'Windermere', 'Xyz', 'k Raheja Vistas',\n",
              "       'other society', 'vasant smruti'], dtype=object)"
            ]
          },
          "metadata": {
            "tags": []
          },
          "execution_count": 65
        }
      ]
    },
    {
      "cell_type": "code",
      "metadata": {
        "id": "M7Wgl-n_0u61"
      },
      "source": [
        "type_encoder = LabelEncoder().fit(df1['type'])\r\n",
        "df1['type'] = type_encoder.transform(df1['type'])"
      ],
      "execution_count": 66,
      "outputs": []
    },
    {
      "cell_type": "code",
      "metadata": {
        "colab": {
          "base_uri": "https://localhost:8080/"
        },
        "id": "bduUjFX20u3l",
        "outputId": "0e3da193-86b1-40ba-ae7f-2d746c8b8996"
      },
      "source": [
        "type_encoder.classes_"
      ],
      "execution_count": 67,
      "outputs": [
        {
          "output_type": "execute_result",
          "data": {
            "text/plain": [
              "array(['Independent House/Villa', 'Residential Apartment',\n",
              "       'Studio Apartment'], dtype=object)"
            ]
          },
          "metadata": {
            "tags": []
          },
          "execution_count": 67
        }
      ]
    },
    {
      "cell_type": "code",
      "metadata": {
        "id": "Y4AC-D8M0u04"
      },
      "source": [
        "furnishing_encoder = LabelEncoder().fit(df1['furnishing'])\r\n",
        "df1['furnishing'] = furnishing_encoder.transform(df1['furnishing'])"
      ],
      "execution_count": 68,
      "outputs": []
    },
    {
      "cell_type": "code",
      "metadata": {
        "colab": {
          "base_uri": "https://localhost:8080/"
        },
        "id": "tgA7UgX91ldQ",
        "outputId": "cf0308a9-4f3a-40f2-9c57-6bfb2c576fd5"
      },
      "source": [
        "furnishing_encoder.classes_"
      ],
      "execution_count": 69,
      "outputs": [
        {
          "output_type": "execute_result",
          "data": {
            "text/plain": [
              "array(['Furnished', 'Not Mentioned', 'Semifurnished', 'Unfurnished'],\n",
              "      dtype=object)"
            ]
          },
          "metadata": {
            "tags": []
          },
          "execution_count": 69
        }
      ]
    },
    {
      "cell_type": "code",
      "metadata": {
        "id": "sH_Qrg4y1laH"
      },
      "source": [
        "location_encoder = LabelEncoder().fit(df1['location'])\r\n",
        "df1['location'] = location_encoder.transform(df1['location'])"
      ],
      "execution_count": 70,
      "outputs": []
    },
    {
      "cell_type": "code",
      "metadata": {
        "colab": {
          "base_uri": "https://localhost:8080/"
        },
        "id": "CZ7j-e5l1lXc",
        "outputId": "1336edee-e8ee-4302-aff5-7bedc93684f5"
      },
      "source": [
        "location_encoder.classes_"
      ],
      "execution_count": 71,
      "outputs": [
        {
          "output_type": "execute_result",
          "data": {
            "text/plain": [
              "array(['4 Bunglows', '7 Bunglow', 'Airoli', 'Ambedkar Nagar',\n",
              "       'Anand Nagar', 'Andheri (East)', 'Andheri (West)', 'Asha Nagar',\n",
              "       'Bandra (West)', 'Bhakti Park', 'Bhandup (West)',\n",
              "       'Borivali (East)', 'Borivali (West)', 'Chakala', 'Chandivali',\n",
              "       'Chembur', 'Chembur (East)', 'Chembur (West)', 'Chincholi Bunder',\n",
              "       'Colaba', 'Cuffe Parade', 'Dadar (East)', 'Dahisar (East)',\n",
              "       'Dahisar (West)', 'Deonar', 'Dhokali', 'Dina Bama Estate',\n",
              "       'Dindoshi', 'Dn Nagar', 'Dombivli (East)', 'Ekta Nagar',\n",
              "       'Evershine Nagar', 'Ganesh Nagar', 'Gavanpada', 'Ghansoli',\n",
              "       'Ghatkopar West', 'Ghodbunder Road', 'Gokuldham',\n",
              "       'Goregaon (East)', 'Goregaon (West)', 'Hill Road',\n",
              "       'Hiranandani Estate', 'Hiranandani Gardens - Powai',\n",
              "       'Hiranandani Meadows', 'Hmpl Surya Nagar', 'I C Colony',\n",
              "       'Jacob Circle', 'Jankalyan Nagar', 'Jogeshwari (East)', 'Juhu',\n",
              "       'Jvlr', 'Jvpd', 'Kalina', 'Kalyan (West)', 'Kamothe', 'Kandarpada',\n",
              "       'Kandivali (East)', 'Kandivali (West)', 'Kanjur Marg (East)',\n",
              "       'Kasar Vadavali', 'Kavesar', 'Khadakpada', 'Khar', 'Khar West',\n",
              "       'Kharghar', 'Kolshet Road', 'Kopara', 'Koperkhairane',\n",
              "       'Kurla (West)', 'Lokhandwala', 'Lokhandwala Township',\n",
              "       'Lower Parel', 'Lower Parel West', 'Mahalaxmi', 'Mahim (West)',\n",
              "       'Majiwada', 'Malad (East)', 'Malad (West)', 'Manpada', 'Marol',\n",
              "       'Mira Bhayandar', 'Mira Road', 'Mira Road East', 'Mulund (West)',\n",
              "       'Mulund Colony', 'Orlem', 'Owale', 'Pali Hill', 'Parel',\n",
              "       'Parmanand Wadi', 'Parsik Nagar', 'Patlipada', 'Pokhran-2',\n",
              "       'Powai', 'Prabhadevi', 'Raheja Vihar', 'Roadpali', 'Sainath Nagar',\n",
              "       'Sanpada', 'Santacruz (East)', 'Santacruz (West)', 'Seawoods',\n",
              "       'Sector 10 Kharghar', 'Sector 11 Kharghar',\n",
              "       'Sector 11 Koparkhairane', 'Sector 12 Kharghar',\n",
              "       'Sector 15 Belapur', 'Sector 17 Ulwe', 'Sector 18 Kamothe',\n",
              "       'Sector 19 Kharghar', 'Sector 19 Ulwe', 'Sector 20 Airoli',\n",
              "       'Sector 20 Kharghar', 'Sector 21 Kamothe', 'Sector 23 Ulwe',\n",
              "       'Sector 34 Kamothe', 'Sector 36 Kharghar', 'Sector 4 Kharghar',\n",
              "       'Sector 44 Seawoods', 'Sector 5 Ulwe', 'Sector 7 Kharghar',\n",
              "       'Sector 8 Airoli', 'Sector 9 Airoli', 'Sector-10A Airoli',\n",
              "       'Sector-13 Kharghar', 'Sector-14 Koparkhairane', 'Sector-18 Ulwe',\n",
              "       'Sector-19 Airoli', 'Sector-20 Koparkhairane',\n",
              "       'Sector-25 Khandeshhwar', 'Sector-29C Airoli',\n",
              "       'Sector-34B Kharghar', 'Sector-35 Kamothe', 'Sector-35G Kharghar',\n",
              "       'Sector-50 Seawoods', 'Sector-58 Seawoods', 'Sector-6 Kharghar',\n",
              "       'Sector-6 Nerul', 'Sector-8 Charkop', 'Sector-8 Kharghar',\n",
              "       'Sector-8A Airoli', 'Sector-9 Ulwe', 'Sewri', 'Shastri Nagar',\n",
              "       'Sindhi Society Chembur', 'Tardeo', 'Teen Haath Naka',\n",
              "       'Thakur Complex', 'Thakur Village', 'Thane West', 'Tilak Nagar',\n",
              "       'Ulwe', 'Vakola', 'Vasant Vihar', 'Versova', 'Vijay Nagari',\n",
              "       'Vile Parle (East)', 'Vile Parle (West)', 'Virar West', 'Wadala',\n",
              "       'Wadala East', 'Waghbil', 'Worli', 'Worli Seaface', 'Yogidham',\n",
              "       'other location'], dtype=object)"
            ]
          },
          "metadata": {
            "tags": []
          },
          "execution_count": 71
        }
      ]
    },
    {
      "cell_type": "code",
      "metadata": {
        "id": "Hozs3qxr10Q1"
      },
      "source": [
        "age_encoder = LabelEncoder().fit(df1['age'])\r\n",
        "df1['age'] = age_encoder.transform(df1['age'])"
      ],
      "execution_count": 72,
      "outputs": []
    },
    {
      "cell_type": "code",
      "metadata": {
        "colab": {
          "base_uri": "https://localhost:8080/"
        },
        "id": "vUTLYX8I10Ks",
        "outputId": "4db5eaca-a26b-4421-bbda-7297896b793f"
      },
      "source": [
        "age_encoder.classes_"
      ],
      "execution_count": 73,
      "outputs": [
        {
          "output_type": "execute_result",
          "data": {
            "text/plain": [
              "array(['0 to 1 years old', '1 to 5 years old', '10+ years old',\n",
              "       '5 to 10 years old', 'Not Mentioned'], dtype=object)"
            ]
          },
          "metadata": {
            "tags": []
          },
          "execution_count": 73
        }
      ]
    },
    {
      "cell_type": "code",
      "metadata": {
        "colab": {
          "base_uri": "https://localhost:8080/",
          "height": 419
        },
        "id": "BHpdbpto10HV",
        "outputId": "8e910dbd-5632-42d8-beb1-ccac8b459132"
      },
      "source": [
        "df1"
      ],
      "execution_count": 74,
      "outputs": [
        {
          "output_type": "execute_result",
          "data": {
            "text/html": [
              "<div>\n",
              "<style scoped>\n",
              "    .dataframe tbody tr th:only-of-type {\n",
              "        vertical-align: middle;\n",
              "    }\n",
              "\n",
              "    .dataframe tbody tr th {\n",
              "        vertical-align: top;\n",
              "    }\n",
              "\n",
              "    .dataframe thead th {\n",
              "        text-align: right;\n",
              "    }\n",
              "</style>\n",
              "<table border=\"1\" class=\"dataframe\">\n",
              "  <thead>\n",
              "    <tr style=\"text-align: right;\">\n",
              "      <th></th>\n",
              "      <th>society</th>\n",
              "      <th>type</th>\n",
              "      <th>location</th>\n",
              "      <th>bedrooms</th>\n",
              "      <th>built-up area</th>\n",
              "      <th>furnishing</th>\n",
              "      <th>age</th>\n",
              "      <th>floor</th>\n",
              "      <th>total floors</th>\n",
              "      <th>monthly rent</th>\n",
              "    </tr>\n",
              "  </thead>\n",
              "  <tbody>\n",
              "    <tr>\n",
              "      <th>0</th>\n",
              "      <td>176</td>\n",
              "      <td>1</td>\n",
              "      <td>8</td>\n",
              "      <td>2</td>\n",
              "      <td>800.0</td>\n",
              "      <td>0</td>\n",
              "      <td>3</td>\n",
              "      <td>2</td>\n",
              "      <td>6</td>\n",
              "      <td>85000</td>\n",
              "    </tr>\n",
              "    <tr>\n",
              "      <th>1</th>\n",
              "      <td>176</td>\n",
              "      <td>1</td>\n",
              "      <td>63</td>\n",
              "      <td>2</td>\n",
              "      <td>1050.0</td>\n",
              "      <td>0</td>\n",
              "      <td>1</td>\n",
              "      <td>8</td>\n",
              "      <td>12</td>\n",
              "      <td>110000</td>\n",
              "    </tr>\n",
              "    <tr>\n",
              "      <th>2</th>\n",
              "      <td>36</td>\n",
              "      <td>1</td>\n",
              "      <td>128</td>\n",
              "      <td>2</td>\n",
              "      <td>1050.0</td>\n",
              "      <td>3</td>\n",
              "      <td>1</td>\n",
              "      <td>14</td>\n",
              "      <td>17</td>\n",
              "      <td>32000</td>\n",
              "    </tr>\n",
              "    <tr>\n",
              "      <th>3</th>\n",
              "      <td>20</td>\n",
              "      <td>1</td>\n",
              "      <td>88</td>\n",
              "      <td>3</td>\n",
              "      <td>2275.0</td>\n",
              "      <td>2</td>\n",
              "      <td>1</td>\n",
              "      <td>40</td>\n",
              "      <td>41</td>\n",
              "      <td>150000</td>\n",
              "    </tr>\n",
              "    <tr>\n",
              "      <th>4</th>\n",
              "      <td>8</td>\n",
              "      <td>1</td>\n",
              "      <td>150</td>\n",
              "      <td>1</td>\n",
              "      <td>550.0</td>\n",
              "      <td>2</td>\n",
              "      <td>3</td>\n",
              "      <td>4</td>\n",
              "      <td>7</td>\n",
              "      <td>27000</td>\n",
              "    </tr>\n",
              "    <tr>\n",
              "      <th>...</th>\n",
              "      <td>...</td>\n",
              "      <td>...</td>\n",
              "      <td>...</td>\n",
              "      <td>...</td>\n",
              "      <td>...</td>\n",
              "      <td>...</td>\n",
              "      <td>...</td>\n",
              "      <td>...</td>\n",
              "      <td>...</td>\n",
              "      <td>...</td>\n",
              "    </tr>\n",
              "    <tr>\n",
              "      <th>12792</th>\n",
              "      <td>176</td>\n",
              "      <td>1</td>\n",
              "      <td>94</td>\n",
              "      <td>3</td>\n",
              "      <td>2529.0</td>\n",
              "      <td>0</td>\n",
              "      <td>1</td>\n",
              "      <td>12</td>\n",
              "      <td>32</td>\n",
              "      <td>175000</td>\n",
              "    </tr>\n",
              "    <tr>\n",
              "      <th>12793</th>\n",
              "      <td>150</td>\n",
              "      <td>1</td>\n",
              "      <td>83</td>\n",
              "      <td>3</td>\n",
              "      <td>1382.0</td>\n",
              "      <td>2</td>\n",
              "      <td>0</td>\n",
              "      <td>27</td>\n",
              "      <td>40</td>\n",
              "      <td>48000</td>\n",
              "    </tr>\n",
              "    <tr>\n",
              "      <th>12794</th>\n",
              "      <td>176</td>\n",
              "      <td>1</td>\n",
              "      <td>165</td>\n",
              "      <td>3</td>\n",
              "      <td>1750.0</td>\n",
              "      <td>3</td>\n",
              "      <td>2</td>\n",
              "      <td>9</td>\n",
              "      <td>16</td>\n",
              "      <td>200000</td>\n",
              "    </tr>\n",
              "    <tr>\n",
              "      <th>12795</th>\n",
              "      <td>176</td>\n",
              "      <td>1</td>\n",
              "      <td>109</td>\n",
              "      <td>2</td>\n",
              "      <td>950.0</td>\n",
              "      <td>2</td>\n",
              "      <td>3</td>\n",
              "      <td>8</td>\n",
              "      <td>10</td>\n",
              "      <td>25500</td>\n",
              "    </tr>\n",
              "    <tr>\n",
              "      <th>12796</th>\n",
              "      <td>176</td>\n",
              "      <td>1</td>\n",
              "      <td>8</td>\n",
              "      <td>3</td>\n",
              "      <td>2500.0</td>\n",
              "      <td>0</td>\n",
              "      <td>3</td>\n",
              "      <td>5</td>\n",
              "      <td>10</td>\n",
              "      <td>120000</td>\n",
              "    </tr>\n",
              "  </tbody>\n",
              "</table>\n",
              "<p>12797 rows × 10 columns</p>\n",
              "</div>"
            ],
            "text/plain": [
              "       society  type  location  ...  floor  total floors  monthly rent\n",
              "0          176     1         8  ...      2             6         85000\n",
              "1          176     1        63  ...      8            12        110000\n",
              "2           36     1       128  ...     14            17         32000\n",
              "3           20     1        88  ...     40            41        150000\n",
              "4            8     1       150  ...      4             7         27000\n",
              "...        ...   ...       ...  ...    ...           ...           ...\n",
              "12792      176     1        94  ...     12            32        175000\n",
              "12793      150     1        83  ...     27            40         48000\n",
              "12794      176     1       165  ...      9            16        200000\n",
              "12795      176     1       109  ...      8            10         25500\n",
              "12796      176     1         8  ...      5            10        120000\n",
              "\n",
              "[12797 rows x 10 columns]"
            ]
          },
          "metadata": {
            "tags": []
          },
          "execution_count": 74
        }
      ]
    },
    {
      "cell_type": "markdown",
      "metadata": {
        "id": "kBHjRjQ8ev2u"
      },
      "source": [
        "##  Decision Tree Regressor model"
      ]
    },
    {
      "cell_type": "code",
      "metadata": {
        "colab": {
          "base_uri": "https://localhost:8080/"
        },
        "id": "PijnObFv2WF8",
        "outputId": "18566466-0395-4af8-afde-32de55adf68e"
      },
      "source": [
        "from sklearn.model_selection import train_test_split\r\n",
        "\r\n",
        "X_train, X_test, y_train, y_test = train_test_split(df1.drop('monthly rent', axis = 1), df1['monthly rent'], test_size=0.2, random_state=42)\r\n",
        "X_train.shape, X_test.shape, y_train.shape, y_test.shape"
      ],
      "execution_count": 75,
      "outputs": [
        {
          "output_type": "execute_result",
          "data": {
            "text/plain": [
              "((10237, 9), (2560, 9), (10237,), (2560,))"
            ]
          },
          "metadata": {
            "tags": []
          },
          "execution_count": 75
        }
      ]
    },
    {
      "cell_type": "code",
      "metadata": {
        "id": "CbR-06qMev2u",
        "colab": {
          "base_uri": "https://localhost:8080/"
        },
        "outputId": "57bfbf79-9f70-4747-ff5a-d6e590440800"
      },
      "source": [
        "from sklearn.tree import DecisionTreeRegressor\n",
        "dt_model = DecisionTreeRegressor()\n",
        "dt_model.fit(X_train, y_train)"
      ],
      "execution_count": 78,
      "outputs": [
        {
          "output_type": "execute_result",
          "data": {
            "text/plain": [
              "DecisionTreeRegressor(ccp_alpha=0.0, criterion='mse', max_depth=None,\n",
              "                      max_features=None, max_leaf_nodes=None,\n",
              "                      min_impurity_decrease=0.0, min_impurity_split=None,\n",
              "                      min_samples_leaf=1, min_samples_split=2,\n",
              "                      min_weight_fraction_leaf=0.0, presort='deprecated',\n",
              "                      random_state=None, splitter='best')"
            ]
          },
          "metadata": {
            "tags": []
          },
          "execution_count": 78
        }
      ]
    },
    {
      "cell_type": "code",
      "metadata": {
        "id": "_TOjv0DFev2y",
        "colab": {
          "base_uri": "https://localhost:8080/"
        },
        "outputId": "5a9b504f-535f-4c11-961f-5d701dfae225"
      },
      "source": [
        "r2_score(y_test, dt_model.predict(X_test))"
      ],
      "execution_count": 79,
      "outputs": [
        {
          "output_type": "execute_result",
          "data": {
            "text/plain": [
              "0.6464749701532908"
            ]
          },
          "metadata": {
            "tags": []
          },
          "execution_count": 79
        }
      ]
    },
    {
      "cell_type": "code",
      "metadata": {
        "id": "Bazwz05aev2z"
      },
      "source": [
        "Final_Scores['Decision Tree Regressor %'] = [r2_score(y_train, dt_model.predict(X_train))*100,\n",
        "                                             r2_score(y_test, dt_model.predict(X_test))*100]"
      ],
      "execution_count": 80,
      "outputs": []
    },
    {
      "cell_type": "markdown",
      "metadata": {
        "id": "p5ZrGIk2ev20"
      },
      "source": [
        "## Random Forest Regressor model"
      ]
    },
    {
      "cell_type": "code",
      "metadata": {
        "id": "N2GdKcwgev20",
        "colab": {
          "base_uri": "https://localhost:8080/"
        },
        "outputId": "06b7f406-4399-4ffe-b2e4-34b348765300"
      },
      "source": [
        "from sklearn.ensemble import RandomForestRegressor\n",
        "\n",
        "rf_model = RandomForestRegressor()\n",
        "rf_model.fit(X_train, y_train)"
      ],
      "execution_count": 81,
      "outputs": [
        {
          "output_type": "execute_result",
          "data": {
            "text/plain": [
              "RandomForestRegressor(bootstrap=True, ccp_alpha=0.0, criterion='mse',\n",
              "                      max_depth=None, max_features='auto', max_leaf_nodes=None,\n",
              "                      max_samples=None, min_impurity_decrease=0.0,\n",
              "                      min_impurity_split=None, min_samples_leaf=1,\n",
              "                      min_samples_split=2, min_weight_fraction_leaf=0.0,\n",
              "                      n_estimators=100, n_jobs=None, oob_score=False,\n",
              "                      random_state=None, verbose=0, warm_start=False)"
            ]
          },
          "metadata": {
            "tags": []
          },
          "execution_count": 81
        }
      ]
    },
    {
      "cell_type": "code",
      "metadata": {
        "id": "MUjppAw9ev27",
        "colab": {
          "base_uri": "https://localhost:8080/"
        },
        "outputId": "61a8b418-96a9-48a6-f04c-be05ae58b184"
      },
      "source": [
        "r2_score(y_test, rf_model.predict(X_test))"
      ],
      "execution_count": 82,
      "outputs": [
        {
          "output_type": "execute_result",
          "data": {
            "text/plain": [
              "0.8405331288973058"
            ]
          },
          "metadata": {
            "tags": []
          },
          "execution_count": 82
        }
      ]
    },
    {
      "cell_type": "code",
      "metadata": {
        "id": "t7EbUjPGev28"
      },
      "source": [
        "Final_Scores['Random Forest Regressor %'] = [r2_score(y_train, rf_model.predict(X_train))*100,\n",
        "                                             r2_score(y_test, rf_model.predict(X_test))*100]"
      ],
      "execution_count": 83,
      "outputs": []
    },
    {
      "cell_type": "markdown",
      "metadata": {
        "id": "W0nrFD6sev2-"
      },
      "source": [
        "#Final_Scores "
      ]
    },
    {
      "cell_type": "code",
      "metadata": {
        "colab": {
          "base_uri": "https://localhost:8080/",
          "height": 111
        },
        "id": "LkmuocOn3wuK",
        "outputId": "eb697195-d173-413a-e5bc-63b07b3c3582"
      },
      "source": [
        "Final_Scores"
      ],
      "execution_count": 84,
      "outputs": [
        {
          "output_type": "execute_result",
          "data": {
            "text/html": [
              "<div>\n",
              "<style scoped>\n",
              "    .dataframe tbody tr th:only-of-type {\n",
              "        vertical-align: middle;\n",
              "    }\n",
              "\n",
              "    .dataframe tbody tr th {\n",
              "        vertical-align: top;\n",
              "    }\n",
              "\n",
              "    .dataframe thead th {\n",
              "        text-align: right;\n",
              "    }\n",
              "</style>\n",
              "<table border=\"1\" class=\"dataframe\">\n",
              "  <thead>\n",
              "    <tr style=\"text-align: right;\">\n",
              "      <th></th>\n",
              "      <th>Linear Regression %</th>\n",
              "      <th>Ridge Regression %</th>\n",
              "      <th>Lasso Regression %</th>\n",
              "      <th>Decision Tree Regressor %</th>\n",
              "      <th>Random Forest Regressor %</th>\n",
              "    </tr>\n",
              "  </thead>\n",
              "  <tbody>\n",
              "    <tr>\n",
              "      <th>With Training Data</th>\n",
              "      <td>87.516062</td>\n",
              "      <td>87.515960</td>\n",
              "      <td>87.512821</td>\n",
              "      <td>99.945316</td>\n",
              "      <td>97.495486</td>\n",
              "    </tr>\n",
              "    <tr>\n",
              "      <th>With Test Data</th>\n",
              "      <td>88.502509</td>\n",
              "      <td>88.504798</td>\n",
              "      <td>88.510271</td>\n",
              "      <td>64.647497</td>\n",
              "      <td>84.053313</td>\n",
              "    </tr>\n",
              "  </tbody>\n",
              "</table>\n",
              "</div>"
            ],
            "text/plain": [
              "                    Linear Regression %  ...  Random Forest Regressor %\n",
              "With Training Data            87.516062  ...                  97.495486\n",
              "With Test Data                88.502509  ...                  84.053313\n",
              "\n",
              "[2 rows x 5 columns]"
            ]
          },
          "metadata": {
            "tags": []
          },
          "execution_count": 84
        }
      ]
    }
  ]
}