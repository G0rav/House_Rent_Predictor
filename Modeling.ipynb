{
  "nbformat": 4,
  "nbformat_minor": 0,
  "metadata": {
    "colab": {
      "name": "Modeling.ipynb",
      "provenance": [],
      "collapsed_sections": [
        "i5Z2U1vdzUxU",
        "76TsAXcbzysp",
        "oyYBWK-5z9u3",
        "kBHjRjQ8ev2u",
        "p5ZrGIk2ev20"
      ],
      "mount_file_id": "1Fs59gPRF-IpNMnagjc4D4CgqTQ9Fjwnt",
      "authorship_tag": "ABX9TyMEpDlk9c6bYNXJexBGAWR9"
    },
    "kernelspec": {
      "name": "python3",
      "display_name": "Python 3"
    }
  },
  "cells": [
    {
      "cell_type": "code",
      "metadata": {
        "colab": {
          "base_uri": "https://localhost:8080/"
        },
        "id": "6MT569JnjO75",
        "outputId": "b8bd3bc7-0f73-4a64-c286-761adf920346"
      },
      "source": [
        "from google.colab import drive\r\n",
        "drive.mount('/content/drive')"
      ],
      "execution_count": 1,
      "outputs": [
        {
          "output_type": "stream",
          "text": [
            "Drive already mounted at /content/drive; to attempt to forcibly remount, call drive.mount(\"/content/drive\", force_remount=True).\n"
          ],
          "name": "stdout"
        }
      ]
    },
    {
      "cell_type": "code",
      "metadata": {
        "id": "-6YGo_NEsog_"
      },
      "source": [
        "import numpy as np\r\n",
        "import pandas as pd"
      ],
      "execution_count": 2,
      "outputs": []
    },
    {
      "cell_type": "code",
      "metadata": {
        "id": "ZV_idELlsORv"
      },
      "source": [
        "df = pd.read_csv('/content/drive/MyDrive/Datasets/Mumbai_house_rent_99acers/Mumbai_99acers_cleaned.csv')\r\n",
        "logdf = pd.read_csv('/content/drive/MyDrive/Datasets/Mumbai_house_rent_99acers/Mumbai_99acers_logtransformed.csv')"
      ],
      "execution_count": 4,
      "outputs": []
    },
    {
      "cell_type": "code",
      "metadata": {
        "colab": {
          "base_uri": "https://localhost:8080/"
        },
        "id": "2fsHj-hKvkry",
        "outputId": "c6f234f8-ead8-4da6-f12e-d1bc55d25da0"
      },
      "source": [
        "logdf.info()"
      ],
      "execution_count": 5,
      "outputs": [
        {
          "output_type": "stream",
          "text": [
            "<class 'pandas.core.frame.DataFrame'>\n",
            "RangeIndex: 12797 entries, 0 to 12796\n",
            "Data columns (total 10 columns):\n",
            " #   Column         Non-Null Count  Dtype  \n",
            "---  ------         --------------  -----  \n",
            " 0   society        12797 non-null  object \n",
            " 1   type           12797 non-null  object \n",
            " 2   location       12797 non-null  object \n",
            " 3   bedrooms       12797 non-null  int64  \n",
            " 4   built-up area  12797 non-null  float64\n",
            " 5   furnishing     12797 non-null  object \n",
            " 6   age            12797 non-null  object \n",
            " 7   floor          12797 non-null  int64  \n",
            " 8   total floors   12797 non-null  int64  \n",
            " 9   monthly rent   12797 non-null  float64\n",
            "dtypes: float64(2), int64(3), object(5)\n",
            "memory usage: 999.9+ KB\n"
          ],
          "name": "stdout"
        }
      ]
    },
    {
      "cell_type": "markdown",
      "metadata": {
        "id": "pM0Vd-elev2L"
      },
      "source": [
        "# Machine Learning Model Building.\n",
        "<a href = '#top'>Back on Top</a>"
      ]
    },
    {
      "cell_type": "markdown",
      "metadata": {
        "id": "dCrEBQlznCtj"
      },
      "source": [
        "## OneHotEncoding Text features"
      ]
    },
    {
      "cell_type": "code",
      "metadata": {
        "id": "tx7xliERoweE"
      },
      "source": [
        "temp = pd.get_dummies(df, drop_first=True)\r\n",
        "corr = temp.corr()['monthly rent'].sort_values()\r\n",
        "\r\n",
        "logtemp = pd.get_dummies(logdf, drop_first=True)\r\n",
        "logcorr = logtemp.corr()['monthly rent'].sort_values()"
      ],
      "execution_count": 10,
      "outputs": []
    },
    {
      "cell_type": "code",
      "metadata": {
        "colab": {
          "base_uri": "https://localhost:8080/"
        },
        "id": "7KuF5E6nqyFE",
        "outputId": "c1e4aa85-7b2d-4dae-dc26-acc122171438"
      },
      "source": [
        "print('without log transform negative correlated:\\n')\r\n",
        "print(corr.head(10))\r\n",
        "print('*'*100)\r\n",
        "print('with log transform negative correlated:\\n')\r\n",
        "print(logcorr.head(10))"
      ],
      "execution_count": 12,
      "outputs": [
        {
          "output_type": "stream",
          "text": [
            "without log transform negative correlated:\n",
            "\n",
            "furnishing_Unfurnished                    -0.361680\n",
            "location_Dombivli (East)                  -0.175266\n",
            "society_Lodha Lakeshore Greens            -0.143397\n",
            "location_other location                   -0.125308\n",
            "location_Kharghar                         -0.108375\n",
            "location_Sector 17 Ulwe                   -0.102996\n",
            "location_Kasar Vadavali                   -0.094774\n",
            "society_Chatrapati Shivaji Raje Complex   -0.093411\n",
            "location_Ekta Nagar                       -0.093411\n",
            "society_other society                     -0.093317\n",
            "Name: monthly rent, dtype: float64\n",
            "****************************************************************************************************\n",
            "with log transform negative correlated:\n",
            "\n",
            "furnishing_Unfurnished                    -0.456255\n",
            "location_Dombivli (East)                  -0.297393\n",
            "society_Lodha Lakeshore Greens            -0.281717\n",
            "location_Sector 17 Ulwe                   -0.200992\n",
            "location_other location                   -0.163988\n",
            "location_Ulwe                             -0.144559\n",
            "location_Sector 19 Ulwe                   -0.142947\n",
            "society_Divine Varsha                     -0.139100\n",
            "location_Ekta Nagar                       -0.138059\n",
            "society_Chatrapati Shivaji Raje Complex   -0.138059\n",
            "Name: monthly rent, dtype: float64\n"
          ],
          "name": "stdout"
        }
      ]
    },
    {
      "cell_type": "code",
      "metadata": {
        "colab": {
          "base_uri": "https://localhost:8080/"
        },
        "id": "y77OXlx-rPWF",
        "outputId": "9fc28abd-56d2-4980-d245-cb9234f1b03a"
      },
      "source": [
        "print('without log transform positive correlated:\\n')\r\n",
        "print(corr.tail(11))\r\n",
        "print('*'*100)\r\n",
        "print('with log transform positive correlated:\\n')\r\n",
        "print(logcorr.tail(11))"
      ],
      "execution_count": 13,
      "outputs": [
        {
          "output_type": "stream",
          "text": [
            "without log transform positive correlated:\n",
            "\n",
            "location_Bandra (West)      0.169606\n",
            "society_Oberoi Esquire      0.172564\n",
            "furnishing_Semifurnished    0.191221\n",
            "location_Khar West          0.203989\n",
            "society_Crescent Bay        0.238524\n",
            "location_Parel              0.240461\n",
            "floor                       0.379980\n",
            "total floors                0.383646\n",
            "bedrooms                    0.553519\n",
            "built-up area               0.615666\n",
            "monthly rent                1.000000\n",
            "Name: monthly rent, dtype: float64\n",
            "****************************************************************************************************\n",
            "with log transform positive correlated:\n",
            "\n",
            "location_Goregaon (East)    0.154638\n",
            "location_Bandra (West)      0.168216\n",
            "location_Khar West          0.168600\n",
            "society_Crescent Bay        0.176711\n",
            "location_Parel              0.190611\n",
            "furnishing_Semifurnished    0.225378\n",
            "floor                       0.350188\n",
            "total floors                0.385382\n",
            "bedrooms                    0.524892\n",
            "built-up area               0.553981\n",
            "monthly rent                1.000000\n",
            "Name: monthly rent, dtype: float64\n"
          ],
          "name": "stdout"
        }
      ]
    },
    {
      "cell_type": "markdown",
      "metadata": {
        "id": "w7Kfd1Zdev2L"
      },
      "source": [
        "## Preparing Training and Testing Datasets"
      ]
    },
    {
      "cell_type": "code",
      "metadata": {
        "colab": {
          "base_uri": "https://localhost:8080/"
        },
        "id": "53h668J7ucUE",
        "outputId": "1ba365cf-5a4e-405b-e6e7-bfc19c7553e1"
      },
      "source": [
        "from sklearn.model_selection import train_test_split\r\n",
        "\r\n",
        "x = temp.drop('monthly rent', axis = 1)\r\n",
        "y = temp['monthly rent']\r\n",
        "\r\n",
        "X_train, X_test, y_train, y_test = train_test_split(x, y, test_size=0.2, random_state=42)\r\n",
        "X_train.shape, X_test.shape, y_train.shape, y_test.shape"
      ],
      "execution_count": 57,
      "outputs": [
        {
          "output_type": "execute_result",
          "data": {
            "text/plain": [
              "((10237, 355), (2560, 355), (10237,), (2560,))"
            ]
          },
          "metadata": {
            "tags": []
          },
          "execution_count": 57
        }
      ]
    },
    {
      "cell_type": "code",
      "metadata": {
        "colab": {
          "base_uri": "https://localhost:8080/"
        },
        "id": "E82FQjDgm7sB",
        "outputId": "82969261-0725-42d5-e899-9d11f076c9c4"
      },
      "source": [
        "logx = logtemp.drop('monthly rent', axis = 1)\r\n",
        "logy = logtemp['monthly rent']\r\n",
        "\r\n",
        "logx_train, logx_test, logy_train, logy_test = train_test_split(logx, logy, test_size=0.2, random_state=42)\r\n",
        "logx_train.shape, logx_test.shape, logy_train.shape, logy_test.shape"
      ],
      "execution_count": 58,
      "outputs": [
        {
          "output_type": "execute_result",
          "data": {
            "text/plain": [
              "((10237, 355), (2560, 355), (10237,), (2560,))"
            ]
          },
          "metadata": {
            "tags": []
          },
          "execution_count": 58
        }
      ]
    },
    {
      "cell_type": "markdown",
      "metadata": {
        "id": "ZoEQbj8-ev2W"
      },
      "source": [
        "## Scaling Datasets to convert them into same range."
      ]
    },
    {
      "cell_type": "code",
      "metadata": {
        "id": "KaLrFNOiev2W"
      },
      "source": [
        "from sklearn.preprocessing import StandardScaler\n",
        "\n",
        "scaler = StandardScaler()\n",
        "scaler.fit(X_train)\n",
        "x_train = scaler.transform(X_train)\n",
        "x_test = scaler.transform(X_test)"
      ],
      "execution_count": 59,
      "outputs": []
    },
    {
      "cell_type": "code",
      "metadata": {
        "id": "5WOx3ToEnN8Z"
      },
      "source": [
        "logscaler = StandardScaler()\r\n",
        "logscaler.fit(logx_train)\r\n",
        "logx_train = logscaler.transform(logx_train)\r\n",
        "logx_test = logscaler.transform(logx_test)"
      ],
      "execution_count": 60,
      "outputs": []
    },
    {
      "cell_type": "markdown",
      "metadata": {
        "id": "QPUtmb-jev2a"
      },
      "source": [
        "## LinearRegression model with standard scaling."
      ]
    },
    {
      "cell_type": "code",
      "metadata": {
        "id": "-sRkRncIev2a",
        "colab": {
          "base_uri": "https://localhost:8080/"
        },
        "outputId": "4916e070-f8d4-46e1-a5f6-2086069225ac"
      },
      "source": [
        "from sklearn.linear_model import LinearRegression, Ridge, Lasso\n",
        "from sklearn.metrics import r2_score, mean_squared_error\n",
        "\n",
        "linear_model = LinearRegression()\n",
        "linear_model.fit(x_train,y_train)\n",
        "print('r2 score:',r2_score(y_test, linear_model.predict(x_test)))\n",
        "print('rmse:',mean_squared_error(y_test, linear_model.predict(x_test))**.5)"
      ],
      "execution_count": 61,
      "outputs": [
        {
          "output_type": "stream",
          "text": [
            "r2 score: 0.8850250933959646\n",
            "rmse: 12192.729520008921\n"
          ],
          "name": "stdout"
        }
      ]
    },
    {
      "cell_type": "code",
      "metadata": {
        "colab": {
          "base_uri": "https://localhost:8080/"
        },
        "id": "KEBRQEV4naPv",
        "outputId": "38b8376d-d296-4ea9-a701-6e9d53c96cb7"
      },
      "source": [
        "linear_model = LinearRegression()\r\n",
        "linear_model.fit(logx_train,logy_train)\r\n",
        "print('r2 score:',r2_score(logy_test, linear_model.predict(logx_test)))\r\n",
        "print('rmse:',mean_squared_error(logy_test, linear_model.predict(logx_test))**.5)"
      ],
      "execution_count": 98,
      "outputs": [
        {
          "output_type": "stream",
          "text": [
            "r2 score: 0.5302628523443393\n",
            "rmse: 0.5055615321062806\n"
          ],
          "name": "stdout"
        }
      ]
    },
    {
      "cell_type": "markdown",
      "metadata": {
        "id": "oe0xy1Pjev2g"
      },
      "source": [
        "## Lets store it in a DataFrame. so that we can compare different model's scores in last."
      ]
    },
    {
      "cell_type": "code",
      "metadata": {
        "id": "pvvya9dvev2g"
      },
      "source": [
        "Final_Scores = pd.DataFrame( index = ['With Training Data', 'With Test Data'])"
      ],
      "execution_count": 63,
      "outputs": []
    },
    {
      "cell_type": "code",
      "metadata": {
        "id": "u6lPcvnbev2h"
      },
      "source": [
        "Final_Scores['Linear Regression %'] = [r2_score(logy_train, linear_model.predict(logx_train))*100, \n",
        "                                       r2_score(logy_test, linear_model.predict(logx_test))*100]"
      ],
      "execution_count": 99,
      "outputs": []
    },
    {
      "cell_type": "markdown",
      "metadata": {
        "id": "i5Z2U1vdzUxU"
      },
      "source": [
        "##Ridge"
      ]
    },
    {
      "cell_type": "code",
      "metadata": {
        "colab": {
          "base_uri": "https://localhost:8080/"
        },
        "id": "xLcbTp1JzVSp",
        "outputId": "f0e85aa0-e331-47be-f314-1eb64714fa76"
      },
      "source": [
        "ridge = Ridge()\r\n",
        "ridge.fit(x_train,y_train)\r\n",
        "print('r2 score:',r2_score(y_test, ridge.predict(x_test)))\r\n",
        "print('rmse:',mean_squared_error(y_test, ridge.predict(x_test))**.5)"
      ],
      "execution_count": 65,
      "outputs": [
        {
          "output_type": "stream",
          "text": [
            "r2 score: 0.8850479799093492\n",
            "rmse: 12191.515938003859\n"
          ],
          "name": "stdout"
        }
      ]
    },
    {
      "cell_type": "code",
      "metadata": {
        "colab": {
          "base_uri": "https://localhost:8080/"
        },
        "id": "oZbRS5zloN7A",
        "outputId": "7606e60d-6f3c-461e-b281-475ff84f100b"
      },
      "source": [
        "ridge = Ridge()\r\n",
        "ridge.fit(logx_train,logy_train)\r\n",
        "print('r2 score:',r2_score(logy_test, ridge.predict(logx_test)))\r\n",
        "print('rmse:',mean_squared_error(logy_test, ridge.predict(logx_test))**.5)"
      ],
      "execution_count": 66,
      "outputs": [
        {
          "output_type": "stream",
          "text": [
            "r2 score: 0.9272344512327572\n",
            "rmse: 0.19898002111917532\n"
          ],
          "name": "stdout"
        }
      ]
    },
    {
      "cell_type": "code",
      "metadata": {
        "id": "Dw1Kj8BXzifu",
        "colab": {
          "base_uri": "https://localhost:8080/",
          "height": 323
        },
        "outputId": "c41645b4-e88f-4018-dcf7-f8fc55f8924e"
      },
      "source": [
        "Final_Scores['Ridge Regression %'] = [r2_score(logy_train, ridge.predict(logx_train))*100, \r\n",
        "                                       r2_score(logy_test, ridge.predict(logx_test))*100]"
      ],
      "execution_count": 96,
      "outputs": [
        {
          "output_type": "error",
          "ename": "ValueError",
          "evalue": "ignored",
          "traceback": [
            "\u001b[0;31m---------------------------------------------------------------------------\u001b[0m",
            "\u001b[0;31mValueError\u001b[0m                                Traceback (most recent call last)",
            "\u001b[0;32m<ipython-input-96-32eb8d2416b6>\u001b[0m in \u001b[0;36m<module>\u001b[0;34m()\u001b[0m\n\u001b[0;32m----> 1\u001b[0;31m Final_Scores['Ridge Regression %'] = [r2_score(logy_train, ridge.predict(logx_train))*100, \n\u001b[0m\u001b[1;32m      2\u001b[0m                                        r2_score(logy_test, ridge.predict(logx_test))*100]\n",
            "\u001b[0;32m/usr/local/lib/python3.6/dist-packages/sklearn/linear_model/_base.py\u001b[0m in \u001b[0;36mpredict\u001b[0;34m(self, X)\u001b[0m\n\u001b[1;32m    223\u001b[0m             \u001b[0mReturns\u001b[0m \u001b[0mpredicted\u001b[0m \u001b[0mvalues\u001b[0m\u001b[0;34m.\u001b[0m\u001b[0;34m\u001b[0m\u001b[0;34m\u001b[0m\u001b[0m\n\u001b[1;32m    224\u001b[0m         \"\"\"\n\u001b[0;32m--> 225\u001b[0;31m         \u001b[0;32mreturn\u001b[0m \u001b[0mself\u001b[0m\u001b[0;34m.\u001b[0m\u001b[0m_decision_function\u001b[0m\u001b[0;34m(\u001b[0m\u001b[0mX\u001b[0m\u001b[0;34m)\u001b[0m\u001b[0;34m\u001b[0m\u001b[0;34m\u001b[0m\u001b[0m\n\u001b[0m\u001b[1;32m    226\u001b[0m \u001b[0;34m\u001b[0m\u001b[0m\n\u001b[1;32m    227\u001b[0m     \u001b[0m_preprocess_data\u001b[0m \u001b[0;34m=\u001b[0m \u001b[0mstaticmethod\u001b[0m\u001b[0;34m(\u001b[0m\u001b[0m_preprocess_data\u001b[0m\u001b[0;34m)\u001b[0m\u001b[0;34m\u001b[0m\u001b[0;34m\u001b[0m\u001b[0m\n",
            "\u001b[0;32m/usr/local/lib/python3.6/dist-packages/sklearn/linear_model/_base.py\u001b[0m in \u001b[0;36m_decision_function\u001b[0;34m(self, X)\u001b[0m\n\u001b[1;32m    207\u001b[0m         \u001b[0mX\u001b[0m \u001b[0;34m=\u001b[0m \u001b[0mcheck_array\u001b[0m\u001b[0;34m(\u001b[0m\u001b[0mX\u001b[0m\u001b[0;34m,\u001b[0m \u001b[0maccept_sparse\u001b[0m\u001b[0;34m=\u001b[0m\u001b[0;34m[\u001b[0m\u001b[0;34m'csr'\u001b[0m\u001b[0;34m,\u001b[0m \u001b[0;34m'csc'\u001b[0m\u001b[0;34m,\u001b[0m \u001b[0;34m'coo'\u001b[0m\u001b[0;34m]\u001b[0m\u001b[0;34m)\u001b[0m\u001b[0;34m\u001b[0m\u001b[0;34m\u001b[0m\u001b[0m\n\u001b[1;32m    208\u001b[0m         return safe_sparse_dot(X, self.coef_.T,\n\u001b[0;32m--> 209\u001b[0;31m                                dense_output=True) + self.intercept_\n\u001b[0m\u001b[1;32m    210\u001b[0m \u001b[0;34m\u001b[0m\u001b[0m\n\u001b[1;32m    211\u001b[0m     \u001b[0;32mdef\u001b[0m \u001b[0mpredict\u001b[0m\u001b[0;34m(\u001b[0m\u001b[0mself\u001b[0m\u001b[0;34m,\u001b[0m \u001b[0mX\u001b[0m\u001b[0;34m)\u001b[0m\u001b[0;34m:\u001b[0m\u001b[0;34m\u001b[0m\u001b[0;34m\u001b[0m\u001b[0m\n",
            "\u001b[0;32m/usr/local/lib/python3.6/dist-packages/sklearn/utils/extmath.py\u001b[0m in \u001b[0;36msafe_sparse_dot\u001b[0;34m(a, b, dense_output)\u001b[0m\n\u001b[1;32m    149\u001b[0m             \u001b[0mret\u001b[0m \u001b[0;34m=\u001b[0m \u001b[0mnp\u001b[0m\u001b[0;34m.\u001b[0m\u001b[0mdot\u001b[0m\u001b[0;34m(\u001b[0m\u001b[0ma\u001b[0m\u001b[0;34m,\u001b[0m \u001b[0mb\u001b[0m\u001b[0;34m)\u001b[0m\u001b[0;34m\u001b[0m\u001b[0;34m\u001b[0m\u001b[0m\n\u001b[1;32m    150\u001b[0m     \u001b[0;32melse\u001b[0m\u001b[0;34m:\u001b[0m\u001b[0;34m\u001b[0m\u001b[0;34m\u001b[0m\u001b[0m\n\u001b[0;32m--> 151\u001b[0;31m         \u001b[0mret\u001b[0m \u001b[0;34m=\u001b[0m \u001b[0ma\u001b[0m \u001b[0;34m@\u001b[0m \u001b[0mb\u001b[0m\u001b[0;34m\u001b[0m\u001b[0;34m\u001b[0m\u001b[0m\n\u001b[0m\u001b[1;32m    152\u001b[0m \u001b[0;34m\u001b[0m\u001b[0m\n\u001b[1;32m    153\u001b[0m     if (sparse.issparse(a) and sparse.issparse(b)\n",
            "\u001b[0;31mValueError\u001b[0m: matmul: Input operand 1 has a mismatch in its core dimension 0, with gufunc signature (n?,k),(k,m?)->(n?,m?) (size 355 is different from 9)"
          ]
        }
      ]
    },
    {
      "cell_type": "markdown",
      "metadata": {
        "id": "76TsAXcbzysp"
      },
      "source": [
        "## Lasso"
      ]
    },
    {
      "cell_type": "code",
      "metadata": {
        "colab": {
          "base_uri": "https://localhost:8080/"
        },
        "id": "GN6AXE0Lzysq",
        "outputId": "c8dd7177-03f8-4adf-fd4c-042f0135d345"
      },
      "source": [
        "lasso = Lasso()\r\n",
        "lasso.fit(x_train,y_train)\r\n",
        "print('r2 score:',r2_score(y_test, lasso.predict(x_test)))\r\n",
        "print('rmse:',mean_squared_error(y_test, lasso.predict(x_test))**.5)"
      ],
      "execution_count": 68,
      "outputs": [
        {
          "output_type": "stream",
          "text": [
            "r2 score: 0.8851027112279908\n",
            "rmse: 12188.613260929851\n"
          ],
          "name": "stdout"
        },
        {
          "output_type": "stream",
          "text": [
            "/usr/local/lib/python3.6/dist-packages/sklearn/linear_model/_coordinate_descent.py:476: ConvergenceWarning: Objective did not converge. You might want to increase the number of iterations. Duality gap: 35058627569.295166, tolerance: 1333801373.1923687\n",
            "  positive)\n"
          ],
          "name": "stderr"
        }
      ]
    },
    {
      "cell_type": "code",
      "metadata": {
        "colab": {
          "base_uri": "https://localhost:8080/"
        },
        "id": "aQojEhRtzyst",
        "outputId": "2f3844e9-f949-4188-b572-83eced94c99e"
      },
      "source": [
        "lasso = Lasso()\r\n",
        "lasso.fit(logx_train,logy_train)\r\n",
        "print('r2 score:',r2_score(logy_test, lasso.predict(logx_test)))\r\n",
        "print('rmse:',mean_squared_error(logy_test, lasso.predict(logx_test))**.5)"
      ],
      "execution_count": 69,
      "outputs": [
        {
          "output_type": "stream",
          "text": [
            "r2 score: -7.359715042265513e-05\n",
            "rmse: 0.7376707257923452\n"
          ],
          "name": "stdout"
        }
      ]
    },
    {
      "cell_type": "code",
      "metadata": {
        "id": "kwtNiKq1zysu",
        "colab": {
          "base_uri": "https://localhost:8080/",
          "height": 323
        },
        "outputId": "2b921b0e-98bb-4b26-9709-090e50a30010"
      },
      "source": [
        "Final_Scores['Lasso Regression %'] = [r2_score(logy_train, lasso.predict(logx_train))*100, \r\n",
        "                                       r2_score(logy_test, lasso.predict(logx_test))*100]"
      ],
      "execution_count": 95,
      "outputs": [
        {
          "output_type": "error",
          "ename": "ValueError",
          "evalue": "ignored",
          "traceback": [
            "\u001b[0;31m---------------------------------------------------------------------------\u001b[0m",
            "\u001b[0;31mValueError\u001b[0m                                Traceback (most recent call last)",
            "\u001b[0;32m<ipython-input-95-d8baac5c21b0>\u001b[0m in \u001b[0;36m<module>\u001b[0;34m()\u001b[0m\n\u001b[0;32m----> 1\u001b[0;31m Final_Scores['Lasso Regression %'] = [r2_score(logy_train, lasso.predict(logx_train))*100, \n\u001b[0m\u001b[1;32m      2\u001b[0m                                        r2_score(logy_test, lasso.predict(logx_test))*100]\n",
            "\u001b[0;32m/usr/local/lib/python3.6/dist-packages/sklearn/linear_model/_base.py\u001b[0m in \u001b[0;36mpredict\u001b[0;34m(self, X)\u001b[0m\n\u001b[1;32m    223\u001b[0m             \u001b[0mReturns\u001b[0m \u001b[0mpredicted\u001b[0m \u001b[0mvalues\u001b[0m\u001b[0;34m.\u001b[0m\u001b[0;34m\u001b[0m\u001b[0;34m\u001b[0m\u001b[0m\n\u001b[1;32m    224\u001b[0m         \"\"\"\n\u001b[0;32m--> 225\u001b[0;31m         \u001b[0;32mreturn\u001b[0m \u001b[0mself\u001b[0m\u001b[0;34m.\u001b[0m\u001b[0m_decision_function\u001b[0m\u001b[0;34m(\u001b[0m\u001b[0mX\u001b[0m\u001b[0;34m)\u001b[0m\u001b[0;34m\u001b[0m\u001b[0;34m\u001b[0m\u001b[0m\n\u001b[0m\u001b[1;32m    226\u001b[0m \u001b[0;34m\u001b[0m\u001b[0m\n\u001b[1;32m    227\u001b[0m     \u001b[0m_preprocess_data\u001b[0m \u001b[0;34m=\u001b[0m \u001b[0mstaticmethod\u001b[0m\u001b[0;34m(\u001b[0m\u001b[0m_preprocess_data\u001b[0m\u001b[0;34m)\u001b[0m\u001b[0;34m\u001b[0m\u001b[0;34m\u001b[0m\u001b[0m\n",
            "\u001b[0;32m/usr/local/lib/python3.6/dist-packages/sklearn/linear_model/_coordinate_descent.py\u001b[0m in \u001b[0;36m_decision_function\u001b[0;34m(self, X)\u001b[0m\n\u001b[1;32m    792\u001b[0m                                    dense_output=True) + self.intercept_\n\u001b[1;32m    793\u001b[0m         \u001b[0;32melse\u001b[0m\u001b[0;34m:\u001b[0m\u001b[0;34m\u001b[0m\u001b[0;34m\u001b[0m\u001b[0m\n\u001b[0;32m--> 794\u001b[0;31m             \u001b[0;32mreturn\u001b[0m \u001b[0msuper\u001b[0m\u001b[0;34m(\u001b[0m\u001b[0;34m)\u001b[0m\u001b[0;34m.\u001b[0m\u001b[0m_decision_function\u001b[0m\u001b[0;34m(\u001b[0m\u001b[0mX\u001b[0m\u001b[0;34m)\u001b[0m\u001b[0;34m\u001b[0m\u001b[0;34m\u001b[0m\u001b[0m\n\u001b[0m\u001b[1;32m    795\u001b[0m \u001b[0;34m\u001b[0m\u001b[0m\n\u001b[1;32m    796\u001b[0m \u001b[0;34m\u001b[0m\u001b[0m\n",
            "\u001b[0;32m/usr/local/lib/python3.6/dist-packages/sklearn/linear_model/_base.py\u001b[0m in \u001b[0;36m_decision_function\u001b[0;34m(self, X)\u001b[0m\n\u001b[1;32m    207\u001b[0m         \u001b[0mX\u001b[0m \u001b[0;34m=\u001b[0m \u001b[0mcheck_array\u001b[0m\u001b[0;34m(\u001b[0m\u001b[0mX\u001b[0m\u001b[0;34m,\u001b[0m \u001b[0maccept_sparse\u001b[0m\u001b[0;34m=\u001b[0m\u001b[0;34m[\u001b[0m\u001b[0;34m'csr'\u001b[0m\u001b[0;34m,\u001b[0m \u001b[0;34m'csc'\u001b[0m\u001b[0;34m,\u001b[0m \u001b[0;34m'coo'\u001b[0m\u001b[0;34m]\u001b[0m\u001b[0;34m)\u001b[0m\u001b[0;34m\u001b[0m\u001b[0;34m\u001b[0m\u001b[0m\n\u001b[1;32m    208\u001b[0m         return safe_sparse_dot(X, self.coef_.T,\n\u001b[0;32m--> 209\u001b[0;31m                                dense_output=True) + self.intercept_\n\u001b[0m\u001b[1;32m    210\u001b[0m \u001b[0;34m\u001b[0m\u001b[0m\n\u001b[1;32m    211\u001b[0m     \u001b[0;32mdef\u001b[0m \u001b[0mpredict\u001b[0m\u001b[0;34m(\u001b[0m\u001b[0mself\u001b[0m\u001b[0;34m,\u001b[0m \u001b[0mX\u001b[0m\u001b[0;34m)\u001b[0m\u001b[0;34m:\u001b[0m\u001b[0;34m\u001b[0m\u001b[0;34m\u001b[0m\u001b[0m\n",
            "\u001b[0;32m/usr/local/lib/python3.6/dist-packages/sklearn/utils/extmath.py\u001b[0m in \u001b[0;36msafe_sparse_dot\u001b[0;34m(a, b, dense_output)\u001b[0m\n\u001b[1;32m    149\u001b[0m             \u001b[0mret\u001b[0m \u001b[0;34m=\u001b[0m \u001b[0mnp\u001b[0m\u001b[0;34m.\u001b[0m\u001b[0mdot\u001b[0m\u001b[0;34m(\u001b[0m\u001b[0ma\u001b[0m\u001b[0;34m,\u001b[0m \u001b[0mb\u001b[0m\u001b[0;34m)\u001b[0m\u001b[0;34m\u001b[0m\u001b[0;34m\u001b[0m\u001b[0m\n\u001b[1;32m    150\u001b[0m     \u001b[0;32melse\u001b[0m\u001b[0;34m:\u001b[0m\u001b[0;34m\u001b[0m\u001b[0;34m\u001b[0m\u001b[0m\n\u001b[0;32m--> 151\u001b[0;31m         \u001b[0mret\u001b[0m \u001b[0;34m=\u001b[0m \u001b[0ma\u001b[0m \u001b[0;34m@\u001b[0m \u001b[0mb\u001b[0m\u001b[0;34m\u001b[0m\u001b[0;34m\u001b[0m\u001b[0m\n\u001b[0m\u001b[1;32m    152\u001b[0m \u001b[0;34m\u001b[0m\u001b[0m\n\u001b[1;32m    153\u001b[0m     if (sparse.issparse(a) and sparse.issparse(b)\n",
            "\u001b[0;31mValueError\u001b[0m: matmul: Input operand 1 has a mismatch in its core dimension 0, with gufunc signature (n?,k),(k,m?)->(n?,m?) (size 355 is different from 9)"
          ]
        }
      ]
    },
    {
      "cell_type": "markdown",
      "metadata": {
        "id": "oyYBWK-5z9u3"
      },
      "source": [
        "##LabelEncoder"
      ]
    },
    {
      "cell_type": "code",
      "metadata": {
        "colab": {
          "base_uri": "https://localhost:8080/",
          "height": 0
        },
        "id": "J9uW5cvu0chY",
        "outputId": "e3bae88b-e77c-4f7a-dcb0-257577a77743"
      },
      "source": [
        "df1 = df.copy()\r\n",
        "logdf1 = logdf.copy()\r\n",
        "\r\n",
        "logdf1.head(3)"
      ],
      "execution_count": 71,
      "outputs": [
        {
          "output_type": "execute_result",
          "data": {
            "text/html": [
              "<div>\n",
              "<style scoped>\n",
              "    .dataframe tbody tr th:only-of-type {\n",
              "        vertical-align: middle;\n",
              "    }\n",
              "\n",
              "    .dataframe tbody tr th {\n",
              "        vertical-align: top;\n",
              "    }\n",
              "\n",
              "    .dataframe thead th {\n",
              "        text-align: right;\n",
              "    }\n",
              "</style>\n",
              "<table border=\"1\" class=\"dataframe\">\n",
              "  <thead>\n",
              "    <tr style=\"text-align: right;\">\n",
              "      <th></th>\n",
              "      <th>society</th>\n",
              "      <th>type</th>\n",
              "      <th>location</th>\n",
              "      <th>bedrooms</th>\n",
              "      <th>built-up area</th>\n",
              "      <th>furnishing</th>\n",
              "      <th>age</th>\n",
              "      <th>floor</th>\n",
              "      <th>total floors</th>\n",
              "      <th>monthly rent</th>\n",
              "    </tr>\n",
              "  </thead>\n",
              "  <tbody>\n",
              "    <tr>\n",
              "      <th>0</th>\n",
              "      <td>other society</td>\n",
              "      <td>Residential Apartment</td>\n",
              "      <td>Bandra (West)</td>\n",
              "      <td>2</td>\n",
              "      <td>800.0</td>\n",
              "      <td>Furnished</td>\n",
              "      <td>5 to 10 years old</td>\n",
              "      <td>2</td>\n",
              "      <td>6</td>\n",
              "      <td>11.350407</td>\n",
              "    </tr>\n",
              "    <tr>\n",
              "      <th>1</th>\n",
              "      <td>other society</td>\n",
              "      <td>Residential Apartment</td>\n",
              "      <td>Khar West</td>\n",
              "      <td>2</td>\n",
              "      <td>1050.0</td>\n",
              "      <td>Furnished</td>\n",
              "      <td>1 to 5 years old</td>\n",
              "      <td>8</td>\n",
              "      <td>12</td>\n",
              "      <td>11.608236</td>\n",
              "    </tr>\n",
              "    <tr>\n",
              "      <th>2</th>\n",
              "      <td>Gajra Bhoomi Symphony</td>\n",
              "      <td>Residential Apartment</td>\n",
              "      <td>Sector-20 Koparkhairane</td>\n",
              "      <td>2</td>\n",
              "      <td>1050.0</td>\n",
              "      <td>Unfurnished</td>\n",
              "      <td>1 to 5 years old</td>\n",
              "      <td>14</td>\n",
              "      <td>17</td>\n",
              "      <td>10.373491</td>\n",
              "    </tr>\n",
              "  </tbody>\n",
              "</table>\n",
              "</div>"
            ],
            "text/plain": [
              "                 society                   type  ... total floors  monthly rent\n",
              "0          other society  Residential Apartment  ...            6     11.350407\n",
              "1          other society  Residential Apartment  ...           12     11.608236\n",
              "2  Gajra Bhoomi Symphony  Residential Apartment  ...           17     10.373491\n",
              "\n",
              "[3 rows x 10 columns]"
            ]
          },
          "metadata": {
            "tags": []
          },
          "execution_count": 71
        }
      ]
    },
    {
      "cell_type": "code",
      "metadata": {
        "id": "m2cBTyPtz_sd"
      },
      "source": [
        "from sklearn.preprocessing import LabelEncoder\r\n",
        "\r\n",
        "society_encoder = LabelEncoder().fit(df1['society'])\r\n",
        "df1['society'] = society_encoder.transform(df1['society'])\r\n",
        "\r\n",
        "type_encoder = LabelEncoder().fit(df1['type'])\r\n",
        "df1['type'] = type_encoder.transform(df1['type'])\r\n",
        "\r\n",
        "furnishing_encoder = LabelEncoder().fit(df1['furnishing'])\r\n",
        "df1['furnishing'] = furnishing_encoder.transform(df1['furnishing'])\r\n",
        "\r\n",
        "location_encoder = LabelEncoder().fit(df1['location'])\r\n",
        "df1['location'] = location_encoder.transform(df1['location'])\r\n",
        "\r\n",
        "age_encoder = LabelEncoder().fit(df1['age'])\r\n",
        "df1['age'] = age_encoder.transform(df1['age'])"
      ],
      "execution_count": 72,
      "outputs": []
    },
    {
      "cell_type": "code",
      "metadata": {
        "id": "r2CMrl2f0u8p"
      },
      "source": [
        "#type_encoder.classes_"
      ],
      "execution_count": 73,
      "outputs": []
    },
    {
      "cell_type": "code",
      "metadata": {
        "colab": {
          "base_uri": "https://localhost:8080/",
          "height": 0
        },
        "id": "BHpdbpto10HV",
        "outputId": "20f13ba0-e758-4a5e-8b96-bf01d6267f06"
      },
      "source": [
        "df1"
      ],
      "execution_count": 74,
      "outputs": [
        {
          "output_type": "execute_result",
          "data": {
            "text/html": [
              "<div>\n",
              "<style scoped>\n",
              "    .dataframe tbody tr th:only-of-type {\n",
              "        vertical-align: middle;\n",
              "    }\n",
              "\n",
              "    .dataframe tbody tr th {\n",
              "        vertical-align: top;\n",
              "    }\n",
              "\n",
              "    .dataframe thead th {\n",
              "        text-align: right;\n",
              "    }\n",
              "</style>\n",
              "<table border=\"1\" class=\"dataframe\">\n",
              "  <thead>\n",
              "    <tr style=\"text-align: right;\">\n",
              "      <th></th>\n",
              "      <th>society</th>\n",
              "      <th>type</th>\n",
              "      <th>location</th>\n",
              "      <th>bedrooms</th>\n",
              "      <th>built-up area</th>\n",
              "      <th>furnishing</th>\n",
              "      <th>age</th>\n",
              "      <th>floor</th>\n",
              "      <th>total floors</th>\n",
              "      <th>monthly rent</th>\n",
              "    </tr>\n",
              "  </thead>\n",
              "  <tbody>\n",
              "    <tr>\n",
              "      <th>0</th>\n",
              "      <td>176</td>\n",
              "      <td>1</td>\n",
              "      <td>8</td>\n",
              "      <td>2</td>\n",
              "      <td>800.0</td>\n",
              "      <td>0</td>\n",
              "      <td>3</td>\n",
              "      <td>2</td>\n",
              "      <td>6</td>\n",
              "      <td>85000</td>\n",
              "    </tr>\n",
              "    <tr>\n",
              "      <th>1</th>\n",
              "      <td>176</td>\n",
              "      <td>1</td>\n",
              "      <td>63</td>\n",
              "      <td>2</td>\n",
              "      <td>1050.0</td>\n",
              "      <td>0</td>\n",
              "      <td>1</td>\n",
              "      <td>8</td>\n",
              "      <td>12</td>\n",
              "      <td>110000</td>\n",
              "    </tr>\n",
              "    <tr>\n",
              "      <th>2</th>\n",
              "      <td>36</td>\n",
              "      <td>1</td>\n",
              "      <td>128</td>\n",
              "      <td>2</td>\n",
              "      <td>1050.0</td>\n",
              "      <td>3</td>\n",
              "      <td>1</td>\n",
              "      <td>14</td>\n",
              "      <td>17</td>\n",
              "      <td>32000</td>\n",
              "    </tr>\n",
              "    <tr>\n",
              "      <th>3</th>\n",
              "      <td>20</td>\n",
              "      <td>1</td>\n",
              "      <td>88</td>\n",
              "      <td>3</td>\n",
              "      <td>2275.0</td>\n",
              "      <td>2</td>\n",
              "      <td>1</td>\n",
              "      <td>40</td>\n",
              "      <td>41</td>\n",
              "      <td>150000</td>\n",
              "    </tr>\n",
              "    <tr>\n",
              "      <th>4</th>\n",
              "      <td>8</td>\n",
              "      <td>1</td>\n",
              "      <td>150</td>\n",
              "      <td>1</td>\n",
              "      <td>550.0</td>\n",
              "      <td>2</td>\n",
              "      <td>3</td>\n",
              "      <td>4</td>\n",
              "      <td>7</td>\n",
              "      <td>27000</td>\n",
              "    </tr>\n",
              "    <tr>\n",
              "      <th>...</th>\n",
              "      <td>...</td>\n",
              "      <td>...</td>\n",
              "      <td>...</td>\n",
              "      <td>...</td>\n",
              "      <td>...</td>\n",
              "      <td>...</td>\n",
              "      <td>...</td>\n",
              "      <td>...</td>\n",
              "      <td>...</td>\n",
              "      <td>...</td>\n",
              "    </tr>\n",
              "    <tr>\n",
              "      <th>12792</th>\n",
              "      <td>176</td>\n",
              "      <td>1</td>\n",
              "      <td>94</td>\n",
              "      <td>3</td>\n",
              "      <td>2529.0</td>\n",
              "      <td>0</td>\n",
              "      <td>1</td>\n",
              "      <td>12</td>\n",
              "      <td>32</td>\n",
              "      <td>175000</td>\n",
              "    </tr>\n",
              "    <tr>\n",
              "      <th>12793</th>\n",
              "      <td>150</td>\n",
              "      <td>1</td>\n",
              "      <td>83</td>\n",
              "      <td>3</td>\n",
              "      <td>1382.0</td>\n",
              "      <td>2</td>\n",
              "      <td>0</td>\n",
              "      <td>27</td>\n",
              "      <td>40</td>\n",
              "      <td>48000</td>\n",
              "    </tr>\n",
              "    <tr>\n",
              "      <th>12794</th>\n",
              "      <td>176</td>\n",
              "      <td>1</td>\n",
              "      <td>165</td>\n",
              "      <td>3</td>\n",
              "      <td>1750.0</td>\n",
              "      <td>3</td>\n",
              "      <td>2</td>\n",
              "      <td>9</td>\n",
              "      <td>16</td>\n",
              "      <td>200000</td>\n",
              "    </tr>\n",
              "    <tr>\n",
              "      <th>12795</th>\n",
              "      <td>176</td>\n",
              "      <td>1</td>\n",
              "      <td>109</td>\n",
              "      <td>2</td>\n",
              "      <td>950.0</td>\n",
              "      <td>2</td>\n",
              "      <td>3</td>\n",
              "      <td>8</td>\n",
              "      <td>10</td>\n",
              "      <td>25500</td>\n",
              "    </tr>\n",
              "    <tr>\n",
              "      <th>12796</th>\n",
              "      <td>176</td>\n",
              "      <td>1</td>\n",
              "      <td>8</td>\n",
              "      <td>3</td>\n",
              "      <td>2500.0</td>\n",
              "      <td>0</td>\n",
              "      <td>3</td>\n",
              "      <td>5</td>\n",
              "      <td>10</td>\n",
              "      <td>120000</td>\n",
              "    </tr>\n",
              "  </tbody>\n",
              "</table>\n",
              "<p>12797 rows × 10 columns</p>\n",
              "</div>"
            ],
            "text/plain": [
              "       society  type  location  ...  floor  total floors  monthly rent\n",
              "0          176     1         8  ...      2             6         85000\n",
              "1          176     1        63  ...      8            12        110000\n",
              "2           36     1       128  ...     14            17         32000\n",
              "3           20     1        88  ...     40            41        150000\n",
              "4            8     1       150  ...      4             7         27000\n",
              "...        ...   ...       ...  ...    ...           ...           ...\n",
              "12792      176     1        94  ...     12            32        175000\n",
              "12793      150     1        83  ...     27            40         48000\n",
              "12794      176     1       165  ...      9            16        200000\n",
              "12795      176     1       109  ...      8            10         25500\n",
              "12796      176     1         8  ...      5            10        120000\n",
              "\n",
              "[12797 rows x 10 columns]"
            ]
          },
          "metadata": {
            "tags": []
          },
          "execution_count": 74
        }
      ]
    },
    {
      "cell_type": "code",
      "metadata": {
        "id": "_bKKKSE5pXhg"
      },
      "source": [
        "from sklearn.preprocessing import LabelEncoder\r\n",
        "\r\n",
        "society_encoder = LabelEncoder().fit(logdf1['society'])\r\n",
        "logdf1['society'] = society_encoder.transform(logdf1['society'])\r\n",
        "\r\n",
        "type_encoder = LabelEncoder().fit(logdf1['type'])\r\n",
        "logdf1['type'] = type_encoder.transform(logdf1['type'])\r\n",
        "\r\n",
        "furnishing_encoder = LabelEncoder().fit(logdf1['furnishing'])\r\n",
        "logdf1['furnishing'] = furnishing_encoder.transform(logdf1['furnishing'])\r\n",
        "\r\n",
        "location_encoder = LabelEncoder().fit(logdf1['location'])\r\n",
        "logdf1['location'] = location_encoder.transform(logdf1['location'])\r\n",
        "\r\n",
        "age_encoder = LabelEncoder().fit(logdf1['age'])\r\n",
        "logdf1['age'] = age_encoder.transform(logdf1['age'])"
      ],
      "execution_count": 75,
      "outputs": []
    },
    {
      "cell_type": "code",
      "metadata": {
        "colab": {
          "base_uri": "https://localhost:8080/",
          "height": 0
        },
        "id": "yXqSMxjlpdnX",
        "outputId": "2048210d-37ec-408a-d5e2-3c47c8e4ecdf"
      },
      "source": [
        "logdf1"
      ],
      "execution_count": 76,
      "outputs": [
        {
          "output_type": "execute_result",
          "data": {
            "text/html": [
              "<div>\n",
              "<style scoped>\n",
              "    .dataframe tbody tr th:only-of-type {\n",
              "        vertical-align: middle;\n",
              "    }\n",
              "\n",
              "    .dataframe tbody tr th {\n",
              "        vertical-align: top;\n",
              "    }\n",
              "\n",
              "    .dataframe thead th {\n",
              "        text-align: right;\n",
              "    }\n",
              "</style>\n",
              "<table border=\"1\" class=\"dataframe\">\n",
              "  <thead>\n",
              "    <tr style=\"text-align: right;\">\n",
              "      <th></th>\n",
              "      <th>society</th>\n",
              "      <th>type</th>\n",
              "      <th>location</th>\n",
              "      <th>bedrooms</th>\n",
              "      <th>built-up area</th>\n",
              "      <th>furnishing</th>\n",
              "      <th>age</th>\n",
              "      <th>floor</th>\n",
              "      <th>total floors</th>\n",
              "      <th>monthly rent</th>\n",
              "    </tr>\n",
              "  </thead>\n",
              "  <tbody>\n",
              "    <tr>\n",
              "      <th>0</th>\n",
              "      <td>176</td>\n",
              "      <td>1</td>\n",
              "      <td>8</td>\n",
              "      <td>2</td>\n",
              "      <td>800.0</td>\n",
              "      <td>0</td>\n",
              "      <td>3</td>\n",
              "      <td>2</td>\n",
              "      <td>6</td>\n",
              "      <td>11.350407</td>\n",
              "    </tr>\n",
              "    <tr>\n",
              "      <th>1</th>\n",
              "      <td>176</td>\n",
              "      <td>1</td>\n",
              "      <td>63</td>\n",
              "      <td>2</td>\n",
              "      <td>1050.0</td>\n",
              "      <td>0</td>\n",
              "      <td>1</td>\n",
              "      <td>8</td>\n",
              "      <td>12</td>\n",
              "      <td>11.608236</td>\n",
              "    </tr>\n",
              "    <tr>\n",
              "      <th>2</th>\n",
              "      <td>36</td>\n",
              "      <td>1</td>\n",
              "      <td>128</td>\n",
              "      <td>2</td>\n",
              "      <td>1050.0</td>\n",
              "      <td>3</td>\n",
              "      <td>1</td>\n",
              "      <td>14</td>\n",
              "      <td>17</td>\n",
              "      <td>10.373491</td>\n",
              "    </tr>\n",
              "    <tr>\n",
              "      <th>3</th>\n",
              "      <td>20</td>\n",
              "      <td>1</td>\n",
              "      <td>88</td>\n",
              "      <td>3</td>\n",
              "      <td>2275.0</td>\n",
              "      <td>2</td>\n",
              "      <td>1</td>\n",
              "      <td>40</td>\n",
              "      <td>41</td>\n",
              "      <td>11.918391</td>\n",
              "    </tr>\n",
              "    <tr>\n",
              "      <th>4</th>\n",
              "      <td>8</td>\n",
              "      <td>1</td>\n",
              "      <td>150</td>\n",
              "      <td>1</td>\n",
              "      <td>550.0</td>\n",
              "      <td>2</td>\n",
              "      <td>3</td>\n",
              "      <td>4</td>\n",
              "      <td>7</td>\n",
              "      <td>10.203592</td>\n",
              "    </tr>\n",
              "    <tr>\n",
              "      <th>...</th>\n",
              "      <td>...</td>\n",
              "      <td>...</td>\n",
              "      <td>...</td>\n",
              "      <td>...</td>\n",
              "      <td>...</td>\n",
              "      <td>...</td>\n",
              "      <td>...</td>\n",
              "      <td>...</td>\n",
              "      <td>...</td>\n",
              "      <td>...</td>\n",
              "    </tr>\n",
              "    <tr>\n",
              "      <th>12792</th>\n",
              "      <td>176</td>\n",
              "      <td>1</td>\n",
              "      <td>94</td>\n",
              "      <td>3</td>\n",
              "      <td>2529.0</td>\n",
              "      <td>0</td>\n",
              "      <td>1</td>\n",
              "      <td>12</td>\n",
              "      <td>32</td>\n",
              "      <td>12.072541</td>\n",
              "    </tr>\n",
              "    <tr>\n",
              "      <th>12793</th>\n",
              "      <td>150</td>\n",
              "      <td>1</td>\n",
              "      <td>83</td>\n",
              "      <td>3</td>\n",
              "      <td>1382.0</td>\n",
              "      <td>2</td>\n",
              "      <td>0</td>\n",
              "      <td>27</td>\n",
              "      <td>40</td>\n",
              "      <td>10.778956</td>\n",
              "    </tr>\n",
              "    <tr>\n",
              "      <th>12794</th>\n",
              "      <td>176</td>\n",
              "      <td>1</td>\n",
              "      <td>165</td>\n",
              "      <td>3</td>\n",
              "      <td>1750.0</td>\n",
              "      <td>3</td>\n",
              "      <td>2</td>\n",
              "      <td>9</td>\n",
              "      <td>16</td>\n",
              "      <td>12.206073</td>\n",
              "    </tr>\n",
              "    <tr>\n",
              "      <th>12795</th>\n",
              "      <td>176</td>\n",
              "      <td>1</td>\n",
              "      <td>109</td>\n",
              "      <td>2</td>\n",
              "      <td>950.0</td>\n",
              "      <td>2</td>\n",
              "      <td>3</td>\n",
              "      <td>8</td>\n",
              "      <td>10</td>\n",
              "      <td>10.146434</td>\n",
              "    </tr>\n",
              "    <tr>\n",
              "      <th>12796</th>\n",
              "      <td>176</td>\n",
              "      <td>1</td>\n",
              "      <td>8</td>\n",
              "      <td>3</td>\n",
              "      <td>2500.0</td>\n",
              "      <td>0</td>\n",
              "      <td>3</td>\n",
              "      <td>5</td>\n",
              "      <td>10</td>\n",
              "      <td>11.695247</td>\n",
              "    </tr>\n",
              "  </tbody>\n",
              "</table>\n",
              "<p>12797 rows × 10 columns</p>\n",
              "</div>"
            ],
            "text/plain": [
              "       society  type  location  ...  floor  total floors  monthly rent\n",
              "0          176     1         8  ...      2             6     11.350407\n",
              "1          176     1        63  ...      8            12     11.608236\n",
              "2           36     1       128  ...     14            17     10.373491\n",
              "3           20     1        88  ...     40            41     11.918391\n",
              "4            8     1       150  ...      4             7     10.203592\n",
              "...        ...   ...       ...  ...    ...           ...           ...\n",
              "12792      176     1        94  ...     12            32     12.072541\n",
              "12793      150     1        83  ...     27            40     10.778956\n",
              "12794      176     1       165  ...      9            16     12.206073\n",
              "12795      176     1       109  ...      8            10     10.146434\n",
              "12796      176     1         8  ...      5            10     11.695247\n",
              "\n",
              "[12797 rows x 10 columns]"
            ]
          },
          "metadata": {
            "tags": []
          },
          "execution_count": 76
        }
      ]
    },
    {
      "cell_type": "markdown",
      "metadata": {
        "id": "kBHjRjQ8ev2u"
      },
      "source": [
        "##  Decision Tree Regressor model"
      ]
    },
    {
      "cell_type": "code",
      "metadata": {
        "colab": {
          "base_uri": "https://localhost:8080/"
        },
        "id": "PijnObFv2WF8",
        "outputId": "48a94250-21c7-45f3-edab-2d5e57b2a669"
      },
      "source": [
        "from sklearn.model_selection import train_test_split\r\n",
        "\r\n",
        "x_train, x_test, y_train, y_test = train_test_split(df1.drop('monthly rent', axis = 1), df1['monthly rent'], test_size=0.2, random_state=42)\r\n",
        "x_train.shape, x_test.shape, y_train.shape, y_test.shape"
      ],
      "execution_count": 77,
      "outputs": [
        {
          "output_type": "execute_result",
          "data": {
            "text/plain": [
              "((10237, 9), (2560, 9), (10237,), (2560,))"
            ]
          },
          "metadata": {
            "tags": []
          },
          "execution_count": 77
        }
      ]
    },
    {
      "cell_type": "code",
      "metadata": {
        "colab": {
          "base_uri": "https://localhost:8080/"
        },
        "id": "lP4lLuVQpnc1",
        "outputId": "6a2accf4-86fb-4a61-a872-89e49757d49f"
      },
      "source": [
        "logx = logdf1.drop('monthly rent', axis = 1)\r\n",
        "logy = logdf1['monthly rent']\r\n",
        "\r\n",
        "logx_train, logx_test, logy_train, logy_test = train_test_split(logx, logy, test_size=0.2, random_state=42)\r\n",
        "logx_train.shape, logx_test.shape, logy_train.shape, logy_test.shape"
      ],
      "execution_count": 78,
      "outputs": [
        {
          "output_type": "execute_result",
          "data": {
            "text/plain": [
              "((10237, 9), (2560, 9), (10237,), (2560,))"
            ]
          },
          "metadata": {
            "tags": []
          },
          "execution_count": 78
        }
      ]
    },
    {
      "cell_type": "code",
      "metadata": {
        "id": "CbR-06qMev2u",
        "colab": {
          "base_uri": "https://localhost:8080/"
        },
        "outputId": "62c67e84-76ca-46dc-915c-d656c7f7ad37"
      },
      "source": [
        "from sklearn.tree import DecisionTreeRegressor\n",
        "\n",
        "dt_model = DecisionTreeRegressor()\n",
        "dt_model.fit(x_train, y_train)\n",
        "\n",
        "print('r2 score:',r2_score(y_test, dt_model.predict(x_test)))\n",
        "print('rmse:',mean_squared_error(y_test, dt_model.predict(x_test))**.5)"
      ],
      "execution_count": 81,
      "outputs": [
        {
          "output_type": "stream",
          "text": [
            "r2 score: 0.6579468328444391\n",
            "rmse: 21030.336169188467\n"
          ],
          "name": "stdout"
        }
      ]
    },
    {
      "cell_type": "code",
      "metadata": {
        "id": "_TOjv0DFev2y",
        "colab": {
          "base_uri": "https://localhost:8080/"
        },
        "outputId": "ced81848-a32e-443b-81b7-ef5fe2303871"
      },
      "source": [
        "dt_model = DecisionTreeRegressor()\r\n",
        "dt_model.fit(logx_train,logy_train)\r\n",
        "print('r2 score:',r2_score(logy_test, dt_model.predict(logx_test)))\r\n",
        "print('rmse:',mean_squared_error(logy_test, dt_model.predict(logx_test))**.5)"
      ],
      "execution_count": 82,
      "outputs": [
        {
          "output_type": "stream",
          "text": [
            "r2 score: 0.7561082684828557\n",
            "rmse: 0.36428820235775905\n"
          ],
          "name": "stdout"
        }
      ]
    },
    {
      "cell_type": "code",
      "metadata": {
        "id": "Bazwz05aev2z"
      },
      "source": [
        "Final_Scores['Decision tree Regression %'] = [r2_score(logy_train, dt_model.predict(logx_train))*100, \n",
        "                                       r2_score(logy_test, dt_model.predict(logx_test))*100]"
      ],
      "execution_count": 94,
      "outputs": []
    },
    {
      "cell_type": "markdown",
      "metadata": {
        "id": "p5ZrGIk2ev20"
      },
      "source": [
        "## Random Forest Regressor model"
      ]
    },
    {
      "cell_type": "code",
      "metadata": {
        "id": "N2GdKcwgev20",
        "colab": {
          "base_uri": "https://localhost:8080/"
        },
        "outputId": "c0c88f8b-49a5-47af-b364-4dadcf5c0d34"
      },
      "source": [
        "from sklearn.ensemble import RandomForestRegressor\n",
        "\n",
        "rf_model = RandomForestRegressor()\n",
        "rf_model.fit(x_train, y_train)\n",
        "\n",
        "print('r2 score:',r2_score(y_test, rf_model.predict(x_test)))\n",
        "print('rmse:',mean_squared_error(y_test, rf_model.predict(x_test))**.5)"
      ],
      "execution_count": 85,
      "outputs": [
        {
          "output_type": "stream",
          "text": [
            "r2 score: 0.8389953294627807\n",
            "rmse: 14428.415627211989\n"
          ],
          "name": "stdout"
        }
      ]
    },
    {
      "cell_type": "code",
      "metadata": {
        "id": "MUjppAw9ev27",
        "colab": {
          "base_uri": "https://localhost:8080/"
        },
        "outputId": "ede64230-18b6-4b97-b1eb-520b7386e0c2"
      },
      "source": [
        "rf_model = RandomForestRegressor()\r\n",
        "rf_model.fit(logx_train,logy_train)\r\n",
        "print('r2 score:',r2_score(logy_test, rf_model.predict(logx_test)))\r\n",
        "print('rmse:',mean_squared_error(logy_test, rf_model.predict(logx_test))**.5)"
      ],
      "execution_count": 89,
      "outputs": [
        {
          "output_type": "stream",
          "text": [
            "r2 score: 0.8566913739905627\n",
            "rmse: 0.279243282332012\n"
          ],
          "name": "stdout"
        }
      ]
    },
    {
      "cell_type": "code",
      "metadata": {
        "id": "t7EbUjPGev28"
      },
      "source": [
        "Final_Scores['Random Forest Regression %'] = [r2_score(logy_train, rf_model.predict(logx_train))*100, \n",
        "                                       r2_score(logy_test, rf_model.predict(logx_test))*100]"
      ],
      "execution_count": 106,
      "outputs": []
    },
    {
      "cell_type": "markdown",
      "metadata": {
        "id": "lO5PXAC3sXI2"
      },
      "source": [
        "# XGBoost"
      ]
    },
    {
      "cell_type": "code",
      "metadata": {
        "colab": {
          "base_uri": "https://localhost:8080/"
        },
        "id": "xQp6YPRVsY63",
        "outputId": "0d3cd3e4-5ca8-42d8-8a28-605fef0ba47e"
      },
      "source": [
        "from xgboost import XGBRegressor\r\n",
        "\r\n",
        "xgb = XGBRegressor()\r\n",
        "xgb.fit(x_train, y_train)\r\n",
        "\r\n",
        "print('r2 score:',r2_score(y_test, xgb.predict(x_test)))\r\n",
        "print('rmse:',mean_squared_error(y_test, xgb.predict(x_test))**.5)"
      ],
      "execution_count": 101,
      "outputs": [
        {
          "output_type": "stream",
          "text": [
            "[11:42:04] WARNING: /workspace/src/objective/regression_obj.cu:152: reg:linear is now deprecated in favor of reg:squarederror.\n",
            "r2 score: 0.7731322486321677\n",
            "rmse: 17127.177166286638\n"
          ],
          "name": "stdout"
        }
      ]
    },
    {
      "cell_type": "code",
      "metadata": {
        "colab": {
          "base_uri": "https://localhost:8080/"
        },
        "id": "ctzIkvdtsmHP",
        "outputId": "06a58d13-f6ed-4a0f-d614-58375399dd64"
      },
      "source": [
        "xgb = XGBRegressor()\r\n",
        "xgb.fit(logx_train,logy_train)\r\n",
        "print('r2 score:',r2_score(logy_test, xgb.predict(logx_test)))\r\n",
        "print('rmse:',mean_squared_error(logy_test, xgb.predict(logx_test))**.5)"
      ],
      "execution_count": 102,
      "outputs": [
        {
          "output_type": "stream",
          "text": [
            "[11:42:29] WARNING: /workspace/src/objective/regression_obj.cu:152: reg:linear is now deprecated in favor of reg:squarederror.\n",
            "r2 score: 0.7945377409766139\n",
            "rmse: 0.33435867654605317\n"
          ],
          "name": "stdout"
        }
      ]
    },
    {
      "cell_type": "code",
      "metadata": {
        "id": "D8oJlL-asmEf"
      },
      "source": [
        "Final_Scores['XGBoost Regression %'] = [r2_score(logy_train, xgb.predict(logx_train))*100, \r\n",
        "                                       r2_score(logy_test, xgb.predict(logx_test))*100]"
      ],
      "execution_count": 105,
      "outputs": []
    },
    {
      "cell_type": "markdown",
      "metadata": {
        "id": "W0nrFD6sev2-"
      },
      "source": [
        "#Final_Scores "
      ]
    },
    {
      "cell_type": "code",
      "metadata": {
        "colab": {
          "base_uri": "https://localhost:8080/",
          "height": 111
        },
        "id": "LkmuocOn3wuK",
        "outputId": "9278fdac-bdb4-4128-ba6e-71f86e1ad671"
      },
      "source": [
        "Final_Scores"
      ],
      "execution_count": 107,
      "outputs": [
        {
          "output_type": "execute_result",
          "data": {
            "text/html": [
              "<div>\n",
              "<style scoped>\n",
              "    .dataframe tbody tr th:only-of-type {\n",
              "        vertical-align: middle;\n",
              "    }\n",
              "\n",
              "    .dataframe tbody tr th {\n",
              "        vertical-align: top;\n",
              "    }\n",
              "\n",
              "    .dataframe thead th {\n",
              "        text-align: right;\n",
              "    }\n",
              "</style>\n",
              "<table border=\"1\" class=\"dataframe\">\n",
              "  <thead>\n",
              "    <tr style=\"text-align: right;\">\n",
              "      <th></th>\n",
              "      <th>Linear Regression %</th>\n",
              "      <th>Ridge Regression %</th>\n",
              "      <th>Lasso Regression %</th>\n",
              "      <th>Decision tree Regression %</th>\n",
              "      <th>Random Forest Regression %</th>\n",
              "      <th>XGBoost Regression %</th>\n",
              "    </tr>\n",
              "  </thead>\n",
              "  <tbody>\n",
              "    <tr>\n",
              "      <th>With Training Data</th>\n",
              "      <td>53.625912</td>\n",
              "      <td>-189.507577</td>\n",
              "      <td>-189.510983</td>\n",
              "      <td>99.884222</td>\n",
              "      <td>97.805231</td>\n",
              "      <td>80.429553</td>\n",
              "    </tr>\n",
              "    <tr>\n",
              "      <th>With Test Data</th>\n",
              "      <td>53.026285</td>\n",
              "      <td>-188.784523</td>\n",
              "      <td>-188.787940</td>\n",
              "      <td>75.610827</td>\n",
              "      <td>85.669137</td>\n",
              "      <td>79.453774</td>\n",
              "    </tr>\n",
              "  </tbody>\n",
              "</table>\n",
              "</div>"
            ],
            "text/plain": [
              "                    Linear Regression %  ...  XGBoost Regression %\n",
              "With Training Data            53.625912  ...             80.429553\n",
              "With Test Data                53.026285  ...             79.453774\n",
              "\n",
              "[2 rows x 6 columns]"
            ]
          },
          "metadata": {
            "tags": []
          },
          "execution_count": 107
        }
      ]
    }
  ]
}