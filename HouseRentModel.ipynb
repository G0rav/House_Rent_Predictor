{
  "nbformat": 4,
  "nbformat_minor": 0,
  "metadata": {
    "colab": {
      "name": "HouseRentModel.ipynb",
      "provenance": [],
      "collapsed_sections": [
        "CXlHam57z7RM",
        "_ZSqSCc5z3wr"
      ],
      "mount_file_id": "1Fs59gPRF-IpNMnagjc4D4CgqTQ9Fjwnt",
      "authorship_tag": "ABX9TyMTX2njyPqT5cd9iOWnIfz4"
    },
    "kernelspec": {
      "display_name": "Python 3",
      "name": "python3"
    }
  },
  "cells": [
    {
      "cell_type": "markdown",
      "metadata": {
        "id": "-4VLCKGDRJI9"
      },
      "source": [
        "##Importing required libraries and data"
      ]
    },
    {
      "cell_type": "code",
      "metadata": {
        "colab": {
          "base_uri": "https://localhost:8080/"
        },
        "id": "6MT569JnjO75",
        "outputId": "25ce7c46-580c-480d-adc5-fbee18b97ddb"
      },
      "source": [
        "from google.colab import drive\r\n",
        "drive.mount('/content/drive')"
      ],
      "execution_count": null,
      "outputs": [
        {
          "output_type": "stream",
          "text": [
            "Drive already mounted at /content/drive; to attempt to forcibly remount, call drive.mount(\"/content/drive\", force_remount=True).\n"
          ],
          "name": "stdout"
        }
      ]
    },
    {
      "cell_type": "code",
      "metadata": {
        "id": "-6YGo_NEsog_"
      },
      "source": [
        "import numpy as np\n",
        "import pandas as pd\n",
        "import matplotlib.pyplot as plt\n",
        "import seaborn as sns\n",
        "%matplotlib inline\n",
        " \n",
        "from sklearn.model_selection import train_test_split\n",
        "from sklearn.preprocessing import StandardScaler, LabelEncoder\n",
        "from sklearn.model_selection import GridSearchCV, RandomizedSearchCV\n",
        "from sklearn.linear_model import LinearRegression, Ridge, Lasso\n",
        "from sklearn.tree import DecisionTreeRegressor\n",
        "from sklearn.ensemble import RandomForestRegressor, GradientBoostingRegressor\n",
        "from xgboost import XGBRegressor\n",
        "from sklearn.pipeline import Pipeline\n",
        "from sklearn.metrics import r2_score, mean_squared_error"
      ],
      "execution_count": 1,
      "outputs": []
    },
    {
      "cell_type": "code",
      "metadata": {
        "id": "ZV_idELlsORv"
      },
      "source": [
        "df = pd.read_csv('/content/drive/MyDrive/Datasets/Mumbai_house_rent_99acers/Mumbai_99acers_cleaned.csv')\r\n",
        "logdf = pd.read_csv('/content/drive/MyDrive/Datasets/Mumbai_house_rent_99acers/Mumbai_99acers_logtransformed.csv')"
      ],
      "execution_count": 2,
      "outputs": []
    },
    {
      "cell_type": "code",
      "metadata": {
        "colab": {
          "base_uri": "https://localhost:8080/"
        },
        "id": "2fsHj-hKvkry",
        "outputId": "c326002f-54b3-40a4-fb5c-744560f80a87"
      },
      "source": [
        "logdf.info()"
      ],
      "execution_count": 3,
      "outputs": [
        {
          "output_type": "stream",
          "text": [
            "<class 'pandas.core.frame.DataFrame'>\n",
            "RangeIndex: 12797 entries, 0 to 12796\n",
            "Data columns (total 10 columns):\n",
            " #   Column         Non-Null Count  Dtype  \n",
            "---  ------         --------------  -----  \n",
            " 0   society        12797 non-null  object \n",
            " 1   type           12797 non-null  object \n",
            " 2   location       12797 non-null  object \n",
            " 3   bedrooms       12797 non-null  int64  \n",
            " 4   built-up area  12797 non-null  float64\n",
            " 5   furnishing     12797 non-null  object \n",
            " 6   age            12797 non-null  object \n",
            " 7   floor          12797 non-null  int64  \n",
            " 8   total floors   12797 non-null  int64  \n",
            " 9   monthly rent   12797 non-null  float64\n",
            "dtypes: float64(2), int64(3), object(5)\n",
            "memory usage: 999.9+ KB\n"
          ],
          "name": "stdout"
        }
      ]
    },
    {
      "cell_type": "code",
      "metadata": {
        "id": "XOXM61MaFFLj"
      },
      "source": [
        "df['area-per-bedroom'] = df['built-up area']/df['bedrooms']"
      ],
      "execution_count": 4,
      "outputs": []
    },
    {
      "cell_type": "code",
      "metadata": {
        "colab": {
          "base_uri": "https://localhost:8080/",
          "height": 306
        },
        "id": "tR-mMHOFFKJZ",
        "outputId": "3f0f3e62-2380-4e85-a4c2-2b25ccb9ccf0"
      },
      "source": [
        "logdf['area-per-bedroom'] = logdf['built-up area']/logdf['bedrooms']\r\n",
        "logdf.head()"
      ],
      "execution_count": 5,
      "outputs": [
        {
          "output_type": "execute_result",
          "data": {
            "text/html": [
              "<div>\n",
              "<style scoped>\n",
              "    .dataframe tbody tr th:only-of-type {\n",
              "        vertical-align: middle;\n",
              "    }\n",
              "\n",
              "    .dataframe tbody tr th {\n",
              "        vertical-align: top;\n",
              "    }\n",
              "\n",
              "    .dataframe thead th {\n",
              "        text-align: right;\n",
              "    }\n",
              "</style>\n",
              "<table border=\"1\" class=\"dataframe\">\n",
              "  <thead>\n",
              "    <tr style=\"text-align: right;\">\n",
              "      <th></th>\n",
              "      <th>society</th>\n",
              "      <th>type</th>\n",
              "      <th>location</th>\n",
              "      <th>bedrooms</th>\n",
              "      <th>built-up area</th>\n",
              "      <th>furnishing</th>\n",
              "      <th>age</th>\n",
              "      <th>floor</th>\n",
              "      <th>total floors</th>\n",
              "      <th>monthly rent</th>\n",
              "      <th>area-per-bedroom</th>\n",
              "    </tr>\n",
              "  </thead>\n",
              "  <tbody>\n",
              "    <tr>\n",
              "      <th>0</th>\n",
              "      <td>other society</td>\n",
              "      <td>Residential Apartment</td>\n",
              "      <td>Bandra (West)</td>\n",
              "      <td>2</td>\n",
              "      <td>800.0</td>\n",
              "      <td>Furnished</td>\n",
              "      <td>5 to 10 years old</td>\n",
              "      <td>2</td>\n",
              "      <td>6</td>\n",
              "      <td>11.350407</td>\n",
              "      <td>400.000000</td>\n",
              "    </tr>\n",
              "    <tr>\n",
              "      <th>1</th>\n",
              "      <td>other society</td>\n",
              "      <td>Residential Apartment</td>\n",
              "      <td>Khar West</td>\n",
              "      <td>2</td>\n",
              "      <td>1050.0</td>\n",
              "      <td>Furnished</td>\n",
              "      <td>1 to 5 years old</td>\n",
              "      <td>8</td>\n",
              "      <td>12</td>\n",
              "      <td>11.608236</td>\n",
              "      <td>525.000000</td>\n",
              "    </tr>\n",
              "    <tr>\n",
              "      <th>2</th>\n",
              "      <td>Gajra Bhoomi Symphony</td>\n",
              "      <td>Residential Apartment</td>\n",
              "      <td>Sector-20 Koparkhairane</td>\n",
              "      <td>2</td>\n",
              "      <td>1050.0</td>\n",
              "      <td>Unfurnished</td>\n",
              "      <td>1 to 5 years old</td>\n",
              "      <td>14</td>\n",
              "      <td>17</td>\n",
              "      <td>10.373491</td>\n",
              "      <td>525.000000</td>\n",
              "    </tr>\n",
              "    <tr>\n",
              "      <th>3</th>\n",
              "      <td>Crescent Bay</td>\n",
              "      <td>Residential Apartment</td>\n",
              "      <td>Parel</td>\n",
              "      <td>3</td>\n",
              "      <td>2275.0</td>\n",
              "      <td>Semifurnished</td>\n",
              "      <td>1 to 5 years old</td>\n",
              "      <td>40</td>\n",
              "      <td>41</td>\n",
              "      <td>11.918391</td>\n",
              "      <td>758.333333</td>\n",
              "    </tr>\n",
              "    <tr>\n",
              "      <th>4</th>\n",
              "      <td>Ashwini CHS</td>\n",
              "      <td>Residential Apartment</td>\n",
              "      <td>Tilak Nagar</td>\n",
              "      <td>1</td>\n",
              "      <td>550.0</td>\n",
              "      <td>Semifurnished</td>\n",
              "      <td>5 to 10 years old</td>\n",
              "      <td>4</td>\n",
              "      <td>7</td>\n",
              "      <td>10.203592</td>\n",
              "      <td>550.000000</td>\n",
              "    </tr>\n",
              "  </tbody>\n",
              "</table>\n",
              "</div>"
            ],
            "text/plain": [
              "                 society                   type  ... monthly rent  area-per-bedroom\n",
              "0          other society  Residential Apartment  ...    11.350407        400.000000\n",
              "1          other society  Residential Apartment  ...    11.608236        525.000000\n",
              "2  Gajra Bhoomi Symphony  Residential Apartment  ...    10.373491        525.000000\n",
              "3           Crescent Bay  Residential Apartment  ...    11.918391        758.333333\n",
              "4            Ashwini CHS  Residential Apartment  ...    10.203592        550.000000\n",
              "\n",
              "[5 rows x 11 columns]"
            ]
          },
          "metadata": {
            "tags": []
          },
          "execution_count": 5
        }
      ]
    },
    {
      "cell_type": "markdown",
      "metadata": {
        "id": "dCrEBQlznCtj"
      },
      "source": [
        "## OneHotEncoding Text features"
      ]
    },
    {
      "cell_type": "code",
      "metadata": {
        "id": "tx7xliERoweE"
      },
      "source": [
        "temp = pd.get_dummies(df, drop_first=True)\r\n",
        "corr = temp.corr()['monthly rent'].sort_values()"
      ],
      "execution_count": 6,
      "outputs": []
    },
    {
      "cell_type": "code",
      "metadata": {
        "id": "7KuF5E6nqyFE"
      },
      "source": [
        "logtemp = pd.get_dummies(logdf, drop_first=True)\r\n",
        "logcorr = logtemp.corr()['monthly rent'].sort_values()"
      ],
      "execution_count": 7,
      "outputs": []
    },
    {
      "cell_type": "code",
      "metadata": {
        "colab": {
          "base_uri": "https://localhost:8080/",
          "height": 499
        },
        "id": "y77OXlx-rPWF",
        "outputId": "1767d085-53fd-404c-99fb-452d562a33b5"
      },
      "source": [
        "plt.figure(figsize=(6,8))\r\n",
        "\r\n",
        "sns.scatterplot(y= logcorr.head(10).index.append(logcorr.tail(11)[:-1].index), \r\n",
        "                x= list(logcorr.head(10).values) + list(logcorr.tail(11)[:-1].values), label='log transformed')\r\n",
        "sns.scatterplot(y= logcorr.head(10).index.append(logcorr.tail(11)[:-1].index), \r\n",
        "                x= corr[logcorr.head(10).index.append(logcorr.tail(11)[:-1].index)].values, color='red', label='without log transformed')\r\n",
        "plt.title('Top 10 Positive and Negative correlations with monthly rent')\r\n",
        "plt.legend()\r\n",
        "plt.show()"
      ],
      "execution_count": 8,
      "outputs": [
        {
          "output_type": "display_data",
          "data": {
            "image/png": "[encoded data removed]",
            "text/plain": [
              "<Figure size 432x576 with 1 Axes>"
            ]
          },
          "metadata": {
            "tags": [],
            "needs_background": "light"
          }
        }
      ]
    },
    {
      "cell_type": "markdown",
      "metadata": {
        "id": "w7Kfd1Zdev2L"
      },
      "source": [
        "## Preparing Training and Testing Datasets"
      ]
    },
    {
      "cell_type": "code",
      "metadata": {
        "colab": {
          "base_uri": "https://localhost:8080/"
        },
        "id": "53h668J7ucUE",
        "outputId": "bd285417-b477-41b7-d1a3-e851b3eb2989"
      },
      "source": [
        "x = temp.drop('monthly rent', axis = 1)\r\n",
        "y = temp['monthly rent']\r\n",
        "\r\n",
        "X_train, X_test, y_train, y_test = train_test_split(x, y, test_size=0.2, random_state=42)\r\n",
        "X_train.shape, X_test.shape, y_train.shape, y_test.shape"
      ],
      "execution_count": 9,
      "outputs": [
        {
          "output_type": "execute_result",
          "data": {
            "text/plain": [
              "((10237, 356), (2560, 356), (10237,), (2560,))"
            ]
          },
          "metadata": {
            "tags": []
          },
          "execution_count": 9
        }
      ]
    },
    {
      "cell_type": "code",
      "metadata": {
        "colab": {
          "base_uri": "https://localhost:8080/"
        },
        "id": "E82FQjDgm7sB",
        "outputId": "78750efb-a0c7-4b81-cfcf-07d958676e15"
      },
      "source": [
        "logx = logtemp.drop('monthly rent', axis = 1)\r\n",
        "logy = logtemp['monthly rent']\r\n",
        "\r\n",
        "logx_train, logx_test, logy_train, logy_test = train_test_split(logx, logy, test_size=0.2, random_state=42)\r\n",
        "logx_train.shape, logx_test.shape, logy_train.shape, logy_test.shape"
      ],
      "execution_count": 10,
      "outputs": [
        {
          "output_type": "execute_result",
          "data": {
            "text/plain": [
              "((10237, 356), (2560, 356), (10237,), (2560,))"
            ]
          },
          "metadata": {
            "tags": []
          },
          "execution_count": 10
        }
      ]
    },
    {
      "cell_type": "markdown",
      "metadata": {
        "id": "ZoEQbj8-ev2W"
      },
      "source": [
        "## Scaling Datasets to convert them into same range."
      ]
    },
    {
      "cell_type": "code",
      "metadata": {
        "id": "e5cnl78Xe11c"
      },
      "source": [
        "linear = Pipeline([('scaler', StandardScaler()),\r\n",
        "                   ('model', LinearRegression())])"
      ],
      "execution_count": 11,
      "outputs": []
    },
    {
      "cell_type": "code",
      "metadata": {
        "colab": {
          "base_uri": "https://localhost:8080/"
        },
        "id": "8ku82TKofl0P",
        "outputId": "20621097-ad0c-4579-c499-5afff0ad7548"
      },
      "source": [
        "linear.fit(X_train, y_train)\r\n",
        "print('r2 score:',r2_score(y_test, linear.predict(X_test)))\r\n",
        "print('rmse:',mean_squared_error(y_test, linear.predict(X_test))**.5)"
      ],
      "execution_count": 12,
      "outputs": [
        {
          "output_type": "stream",
          "text": [
            "r2 score: 0.8850249399852936\n",
            "rmse: 12192.737654367309\n"
          ],
          "name": "stdout"
        }
      ]
    },
    {
      "cell_type": "code",
      "metadata": {
        "colab": {
          "base_uri": "https://localhost:8080/"
        },
        "id": "QxueZ-bvgmJB",
        "outputId": "6d574d0d-d872-4d83-f703-7b0cfb169cac"
      },
      "source": [
        "linear.fit(logx_train,logy_train)\r\n",
        "print('r2 score:',r2_score(logy_test, linear.predict(logx_test)))\r\n",
        "print('rmse:',mean_squared_error(logy_test, linear.predict(logx_test))**.5)"
      ],
      "execution_count": 13,
      "outputs": [
        {
          "output_type": "stream",
          "text": [
            "r2 score: 0.9275648684792374\n",
            "rmse: 0.19852773815105582\n"
          ],
          "name": "stdout"
        }
      ]
    },
    {
      "cell_type": "markdown",
      "metadata": {
        "id": "XZ3jsbHKhJCa"
      },
      "source": [
        "**Clearly log transformed help to improve score**"
      ]
    },
    {
      "cell_type": "markdown",
      "metadata": {
        "id": "kfQoIcNCvMiF"
      },
      "source": [
        "## Linear models"
      ]
    },
    {
      "cell_type": "code",
      "metadata": {
        "colab": {
          "base_uri": "https://localhost:8080/",
          "height": 173
        },
        "id": "sDMZIt2LhISL",
        "outputId": "784d68f6-2224-453f-f174-c8566abb0128"
      },
      "source": [
        "Final_Scores = pd.DataFrame( index = ['With Training Data r2 score','With Test Data r2 score',\r\n",
        "                                       'With Training Data rmse', 'With Test Data rmse'])\r\n",
        "\r\n",
        "models = [LinearRegression(), Ridge(), Lasso()]\r\n",
        "names = ['LinearRegression', 'Ridge', 'Lasso']\r\n",
        "\r\n",
        "for name,model in zip(names,models):\r\n",
        "\r\n",
        "  pipeline = Pipeline([('scaler', StandardScaler()),\r\n",
        "                    (name, model)])\r\n",
        "  \r\n",
        "  pipeline.fit(logx_train,logy_train)\r\n",
        "\r\n",
        "  Final_Scores[name] = [round(r2_score(logy_train, pipeline.predict(logx_train)), 4), \r\n",
        "                         round(r2_score(logy_test, pipeline.predict(logx_test)), 4),\r\n",
        "                         round(mean_squared_error(logy_train, pipeline.predict(logx_train))**.5, 4),\r\n",
        "                         round(mean_squared_error(logy_test, pipeline.predict(logx_test))**.5, 4)]\r\n",
        "else:\r\n",
        "  display(Final_Scores)"
      ],
      "execution_count": 14,
      "outputs": [
        {
          "output_type": "display_data",
          "data": {
            "text/html": [
              "<div>\n",
              "<style scoped>\n",
              "    .dataframe tbody tr th:only-of-type {\n",
              "        vertical-align: middle;\n",
              "    }\n",
              "\n",
              "    .dataframe tbody tr th {\n",
              "        vertical-align: top;\n",
              "    }\n",
              "\n",
              "    .dataframe thead th {\n",
              "        text-align: right;\n",
              "    }\n",
              "</style>\n",
              "<table border=\"1\" class=\"dataframe\">\n",
              "  <thead>\n",
              "    <tr style=\"text-align: right;\">\n",
              "      <th></th>\n",
              "      <th>LinearRegression</th>\n",
              "      <th>Ridge</th>\n",
              "      <th>Lasso</th>\n",
              "    </tr>\n",
              "  </thead>\n",
              "  <tbody>\n",
              "    <tr>\n",
              "      <th>With Training Data r2 score</th>\n",
              "      <td>0.9210</td>\n",
              "      <td>0.9209</td>\n",
              "      <td>0.0000</td>\n",
              "    </tr>\n",
              "    <tr>\n",
              "      <th>With Test Data r2 score</th>\n",
              "      <td>0.9276</td>\n",
              "      <td>0.9276</td>\n",
              "      <td>-0.0001</td>\n",
              "    </tr>\n",
              "    <tr>\n",
              "      <th>With Training Data rmse</th>\n",
              "      <td>0.2071</td>\n",
              "      <td>0.2071</td>\n",
              "      <td>0.7365</td>\n",
              "    </tr>\n",
              "    <tr>\n",
              "      <th>With Test Data rmse</th>\n",
              "      <td>0.1985</td>\n",
              "      <td>0.1985</td>\n",
              "      <td>0.7377</td>\n",
              "    </tr>\n",
              "  </tbody>\n",
              "</table>\n",
              "</div>"
            ],
            "text/plain": [
              "                             LinearRegression   Ridge   Lasso\n",
              "With Training Data r2 score            0.9210  0.9209  0.0000\n",
              "With Test Data r2 score                0.9276  0.9276 -0.0001\n",
              "With Training Data rmse                0.2071  0.2071  0.7365\n",
              "With Test Data rmse                    0.1985  0.1985  0.7377"
            ]
          },
          "metadata": {
            "tags": []
          }
        }
      ]
    },
    {
      "cell_type": "code",
      "metadata": {
        "colab": {
          "base_uri": "https://localhost:8080/"
        },
        "id": "-MzT8w5dvWWf",
        "outputId": "dffcb46e-3e41-41b4-b2bc-b2d72b4cf85f"
      },
      "source": [
        "param_grid = {'alpha':[.0001,.001, .01, .1, 1, 10, 100]}\r\n",
        "\r\n",
        "model = GridSearchCV(Ridge(), param_grid, cv=5)\r\n",
        "model.fit(logx_train,logy_train)"
      ],
      "execution_count": 32,
      "outputs": [
        {
          "output_type": "execute_result",
          "data": {
            "text/plain": [
              "GridSearchCV(cv=5, error_score=nan,\n",
              "             estimator=Ridge(alpha=1.0, copy_X=True, fit_intercept=True,\n",
              "                             max_iter=None, normalize=False, random_state=None,\n",
              "                             solver='auto', tol=0.001),\n",
              "             iid='deprecated', n_jobs=None,\n",
              "             param_grid={'alpha': [0.0001, 0.001, 0.01, 0.1, 1, 10, 100]},\n",
              "             pre_dispatch='2*n_jobs', refit=True, return_train_score=False,\n",
              "             scoring=None, verbose=0)"
            ]
          },
          "metadata": {
            "tags": []
          },
          "execution_count": 32
        }
      ]
    },
    {
      "cell_type": "code",
      "metadata": {
        "colab": {
          "base_uri": "https://localhost:8080/"
        },
        "id": "-iVsaRNzw1Tb",
        "outputId": "12744975-6efe-4950-b29e-779b81fc50a6"
      },
      "source": [
        "model.best_params_, model.best_score_"
      ],
      "execution_count": 33,
      "outputs": [
        {
          "output_type": "execute_result",
          "data": {
            "text/plain": [
              "({'alpha': 0.001}, 0.9170490887456196)"
            ]
          },
          "metadata": {
            "tags": []
          },
          "execution_count": 33
        }
      ]
    },
    {
      "cell_type": "code",
      "metadata": {
        "colab": {
          "base_uri": "https://localhost:8080/"
        },
        "id": "RTdpls0kHvBA",
        "outputId": "2a2103b3-83d8-40b8-af59-fc9bd6d8323e"
      },
      "source": [
        "print('r2 score:',r2_score(logy_test, model.predict(logx_test)))\r\n",
        "print('rmse:',mean_squared_error(logy_test, model.predict(logx_test))**.5)"
      ],
      "execution_count": 34,
      "outputs": [
        {
          "output_type": "stream",
          "text": [
            "r2 score: 0.9275667338831004\n",
            "rmse: 0.19852518181695236\n"
          ],
          "name": "stdout"
        }
      ]
    },
    {
      "cell_type": "markdown",
      "metadata": {
        "id": "BjSCZpF8H8xB"
      },
      "source": [
        "# Tree based models using One Hot Encoding"
      ]
    },
    {
      "cell_type": "code",
      "metadata": {
        "colab": {
          "base_uri": "https://localhost:8080/",
          "height": 190
        },
        "id": "7cYgsdXZICjT",
        "outputId": "84fc1b23-645e-4459-c7f4-968edb8d0115"
      },
      "source": [
        "models = [DecisionTreeRegressor(), RandomForestRegressor(), XGBRegressor(), GradientBoostingRegressor()]\r\n",
        "names = ['DecisionTreeRegressorOHE', 'RandomForestRegressorOHE', 'XGBRegressorOHE', 'GradientBoostingRegressorOHE']\r\n",
        "\r\n",
        "for name,model in zip(names,models):\r\n",
        "\r\n",
        "  model.fit(logx_train,logy_train)\r\n",
        "\r\n",
        "  Final_Scores[name] = [round(r2_score(logy_train, pipeline.predict(logx_train)), 4), \r\n",
        "                         round(r2_score(logy_test, pipeline.predict(logx_test)), 4),\r\n",
        "                         round(mean_squared_error(logy_train, pipeline.predict(logx_train))**.5, 4),\r\n",
        "                         round(mean_squared_error(logy_test, pipeline.predict(logx_test))**.5, 4)]\r\n",
        "else:\r\n",
        "  display(Final_Scores)"
      ],
      "execution_count": 18,
      "outputs": [
        {
          "output_type": "stream",
          "text": [
            "[18:58:23] WARNING: /workspace/src/objective/regression_obj.cu:152: reg:linear is now deprecated in favor of reg:squarederror.\n"
          ],
          "name": "stdout"
        },
        {
          "output_type": "display_data",
          "data": {
            "text/html": [
              "<div>\n",
              "<style scoped>\n",
              "    .dataframe tbody tr th:only-of-type {\n",
              "        vertical-align: middle;\n",
              "    }\n",
              "\n",
              "    .dataframe tbody tr th {\n",
              "        vertical-align: top;\n",
              "    }\n",
              "\n",
              "    .dataframe thead th {\n",
              "        text-align: right;\n",
              "    }\n",
              "</style>\n",
              "<table border=\"1\" class=\"dataframe\">\n",
              "  <thead>\n",
              "    <tr style=\"text-align: right;\">\n",
              "      <th></th>\n",
              "      <th>LinearRegression</th>\n",
              "      <th>Ridge</th>\n",
              "      <th>Lasso</th>\n",
              "      <th>DecisionTreeRegressorOHE</th>\n",
              "      <th>RandomForestRegressorOHE</th>\n",
              "      <th>XGBRegressorOHE</th>\n",
              "      <th>GradientBoostingRegressorOHE</th>\n",
              "    </tr>\n",
              "  </thead>\n",
              "  <tbody>\n",
              "    <tr>\n",
              "      <th>With Training Data r2 score</th>\n",
              "      <td>0.9210</td>\n",
              "      <td>0.9209</td>\n",
              "      <td>0.0000</td>\n",
              "      <td>0.0000</td>\n",
              "      <td>0.0000</td>\n",
              "      <td>0.0000</td>\n",
              "      <td>0.0000</td>\n",
              "    </tr>\n",
              "    <tr>\n",
              "      <th>With Test Data r2 score</th>\n",
              "      <td>0.9276</td>\n",
              "      <td>0.9276</td>\n",
              "      <td>-0.0001</td>\n",
              "      <td>-0.0001</td>\n",
              "      <td>-0.0001</td>\n",
              "      <td>-0.0001</td>\n",
              "      <td>-0.0001</td>\n",
              "    </tr>\n",
              "    <tr>\n",
              "      <th>With Training Data rmse</th>\n",
              "      <td>0.2071</td>\n",
              "      <td>0.2071</td>\n",
              "      <td>0.7365</td>\n",
              "      <td>0.7365</td>\n",
              "      <td>0.7365</td>\n",
              "      <td>0.7365</td>\n",
              "      <td>0.7365</td>\n",
              "    </tr>\n",
              "    <tr>\n",
              "      <th>With Test Data rmse</th>\n",
              "      <td>0.1985</td>\n",
              "      <td>0.1985</td>\n",
              "      <td>0.7377</td>\n",
              "      <td>0.7377</td>\n",
              "      <td>0.7377</td>\n",
              "      <td>0.7377</td>\n",
              "      <td>0.7377</td>\n",
              "    </tr>\n",
              "  </tbody>\n",
              "</table>\n",
              "</div>"
            ],
            "text/plain": [
              "                             LinearRegression  ...  GradientBoostingRegressorOHE\n",
              "With Training Data r2 score            0.9210  ...                        0.0000\n",
              "With Test Data r2 score                0.9276  ...                       -0.0001\n",
              "With Training Data rmse                0.2071  ...                        0.7365\n",
              "With Test Data rmse                    0.1985  ...                        0.7377\n",
              "\n",
              "[4 rows x 7 columns]"
            ]
          },
          "metadata": {
            "tags": []
          }
        }
      ]
    },
    {
      "cell_type": "markdown",
      "metadata": {
        "id": "w7G0gKO1I0KK"
      },
      "source": [
        "As expected they can't work with OHE"
      ]
    },
    {
      "cell_type": "markdown",
      "metadata": {
        "id": "oyYBWK-5z9u3"
      },
      "source": [
        "## LabelEncoder"
      ]
    },
    {
      "cell_type": "code",
      "metadata": {
        "colab": {
          "base_uri": "https://localhost:8080/",
          "height": 210
        },
        "id": "J9uW5cvu0chY",
        "outputId": "ab22cb79-6157-4004-ff7b-eb16b5dde39f"
      },
      "source": [
        "df1 = logdf.copy()\r\n",
        "df1.head(3)"
      ],
      "execution_count": 19,
      "outputs": [
        {
          "output_type": "execute_result",
          "data": {
            "text/html": [
              "<div>\n",
              "<style scoped>\n",
              "    .dataframe tbody tr th:only-of-type {\n",
              "        vertical-align: middle;\n",
              "    }\n",
              "\n",
              "    .dataframe tbody tr th {\n",
              "        vertical-align: top;\n",
              "    }\n",
              "\n",
              "    .dataframe thead th {\n",
              "        text-align: right;\n",
              "    }\n",
              "</style>\n",
              "<table border=\"1\" class=\"dataframe\">\n",
              "  <thead>\n",
              "    <tr style=\"text-align: right;\">\n",
              "      <th></th>\n",
              "      <th>society</th>\n",
              "      <th>type</th>\n",
              "      <th>location</th>\n",
              "      <th>bedrooms</th>\n",
              "      <th>built-up area</th>\n",
              "      <th>furnishing</th>\n",
              "      <th>age</th>\n",
              "      <th>floor</th>\n",
              "      <th>total floors</th>\n",
              "      <th>monthly rent</th>\n",
              "      <th>area-per-bedroom</th>\n",
              "    </tr>\n",
              "  </thead>\n",
              "  <tbody>\n",
              "    <tr>\n",
              "      <th>0</th>\n",
              "      <td>other society</td>\n",
              "      <td>Residential Apartment</td>\n",
              "      <td>Bandra (West)</td>\n",
              "      <td>2</td>\n",
              "      <td>800.0</td>\n",
              "      <td>Furnished</td>\n",
              "      <td>5 to 10 years old</td>\n",
              "      <td>2</td>\n",
              "      <td>6</td>\n",
              "      <td>11.350407</td>\n",
              "      <td>400.0</td>\n",
              "    </tr>\n",
              "    <tr>\n",
              "      <th>1</th>\n",
              "      <td>other society</td>\n",
              "      <td>Residential Apartment</td>\n",
              "      <td>Khar West</td>\n",
              "      <td>2</td>\n",
              "      <td>1050.0</td>\n",
              "      <td>Furnished</td>\n",
              "      <td>1 to 5 years old</td>\n",
              "      <td>8</td>\n",
              "      <td>12</td>\n",
              "      <td>11.608236</td>\n",
              "      <td>525.0</td>\n",
              "    </tr>\n",
              "    <tr>\n",
              "      <th>2</th>\n",
              "      <td>Gajra Bhoomi Symphony</td>\n",
              "      <td>Residential Apartment</td>\n",
              "      <td>Sector-20 Koparkhairane</td>\n",
              "      <td>2</td>\n",
              "      <td>1050.0</td>\n",
              "      <td>Unfurnished</td>\n",
              "      <td>1 to 5 years old</td>\n",
              "      <td>14</td>\n",
              "      <td>17</td>\n",
              "      <td>10.373491</td>\n",
              "      <td>525.0</td>\n",
              "    </tr>\n",
              "  </tbody>\n",
              "</table>\n",
              "</div>"
            ],
            "text/plain": [
              "                 society                   type  ... monthly rent  area-per-bedroom\n",
              "0          other society  Residential Apartment  ...    11.350407             400.0\n",
              "1          other society  Residential Apartment  ...    11.608236             525.0\n",
              "2  Gajra Bhoomi Symphony  Residential Apartment  ...    10.373491             525.0\n",
              "\n",
              "[3 rows x 11 columns]"
            ]
          },
          "metadata": {
            "tags": []
          },
          "execution_count": 19
        }
      ]
    },
    {
      "cell_type": "code",
      "metadata": {
        "id": "_bKKKSE5pXhg"
      },
      "source": [
        "society_encoder = LabelEncoder().fit(df1['society'])\r\n",
        "df1['society'] = society_encoder.transform(df1['society'])\r\n",
        "\r\n",
        "type_encoder = LabelEncoder().fit(df1['type'])\r\n",
        "df1['type'] = type_encoder.transform(df1['type'])\r\n",
        "\r\n",
        "furnishing_encoder = LabelEncoder().fit(df1['furnishing'])\r\n",
        "df1['furnishing'] = furnishing_encoder.transform(df1['furnishing'])\r\n",
        "\r\n",
        "location_encoder = LabelEncoder().fit(df1['location'])\r\n",
        "df1['location'] = location_encoder.transform(df1['location'])\r\n",
        "\r\n",
        "age_encoder = LabelEncoder().fit(df1['age'])\r\n",
        "df1['age'] = age_encoder.transform(df1['age'])"
      ],
      "execution_count": 20,
      "outputs": []
    },
    {
      "cell_type": "code",
      "metadata": {
        "colab": {
          "base_uri": "https://localhost:8080/",
          "height": 419
        },
        "id": "yXqSMxjlpdnX",
        "outputId": "d98e35cc-6dc3-48ce-8ae4-28c0c531c556"
      },
      "source": [
        "df1"
      ],
      "execution_count": 21,
      "outputs": [
        {
          "output_type": "execute_result",
          "data": {
            "text/html": [
              "<div>\n",
              "<style scoped>\n",
              "    .dataframe tbody tr th:only-of-type {\n",
              "        vertical-align: middle;\n",
              "    }\n",
              "\n",
              "    .dataframe tbody tr th {\n",
              "        vertical-align: top;\n",
              "    }\n",
              "\n",
              "    .dataframe thead th {\n",
              "        text-align: right;\n",
              "    }\n",
              "</style>\n",
              "<table border=\"1\" class=\"dataframe\">\n",
              "  <thead>\n",
              "    <tr style=\"text-align: right;\">\n",
              "      <th></th>\n",
              "      <th>society</th>\n",
              "      <th>type</th>\n",
              "      <th>location</th>\n",
              "      <th>bedrooms</th>\n",
              "      <th>built-up area</th>\n",
              "      <th>furnishing</th>\n",
              "      <th>age</th>\n",
              "      <th>floor</th>\n",
              "      <th>total floors</th>\n",
              "      <th>monthly rent</th>\n",
              "      <th>area-per-bedroom</th>\n",
              "    </tr>\n",
              "  </thead>\n",
              "  <tbody>\n",
              "    <tr>\n",
              "      <th>0</th>\n",
              "      <td>176</td>\n",
              "      <td>1</td>\n",
              "      <td>8</td>\n",
              "      <td>2</td>\n",
              "      <td>800.0</td>\n",
              "      <td>0</td>\n",
              "      <td>3</td>\n",
              "      <td>2</td>\n",
              "      <td>6</td>\n",
              "      <td>11.350407</td>\n",
              "      <td>400.000000</td>\n",
              "    </tr>\n",
              "    <tr>\n",
              "      <th>1</th>\n",
              "      <td>176</td>\n",
              "      <td>1</td>\n",
              "      <td>63</td>\n",
              "      <td>2</td>\n",
              "      <td>1050.0</td>\n",
              "      <td>0</td>\n",
              "      <td>1</td>\n",
              "      <td>8</td>\n",
              "      <td>12</td>\n",
              "      <td>11.608236</td>\n",
              "      <td>525.000000</td>\n",
              "    </tr>\n",
              "    <tr>\n",
              "      <th>2</th>\n",
              "      <td>36</td>\n",
              "      <td>1</td>\n",
              "      <td>128</td>\n",
              "      <td>2</td>\n",
              "      <td>1050.0</td>\n",
              "      <td>3</td>\n",
              "      <td>1</td>\n",
              "      <td>14</td>\n",
              "      <td>17</td>\n",
              "      <td>10.373491</td>\n",
              "      <td>525.000000</td>\n",
              "    </tr>\n",
              "    <tr>\n",
              "      <th>3</th>\n",
              "      <td>20</td>\n",
              "      <td>1</td>\n",
              "      <td>88</td>\n",
              "      <td>3</td>\n",
              "      <td>2275.0</td>\n",
              "      <td>2</td>\n",
              "      <td>1</td>\n",
              "      <td>40</td>\n",
              "      <td>41</td>\n",
              "      <td>11.918391</td>\n",
              "      <td>758.333333</td>\n",
              "    </tr>\n",
              "    <tr>\n",
              "      <th>4</th>\n",
              "      <td>8</td>\n",
              "      <td>1</td>\n",
              "      <td>150</td>\n",
              "      <td>1</td>\n",
              "      <td>550.0</td>\n",
              "      <td>2</td>\n",
              "      <td>3</td>\n",
              "      <td>4</td>\n",
              "      <td>7</td>\n",
              "      <td>10.203592</td>\n",
              "      <td>550.000000</td>\n",
              "    </tr>\n",
              "    <tr>\n",
              "      <th>...</th>\n",
              "      <td>...</td>\n",
              "      <td>...</td>\n",
              "      <td>...</td>\n",
              "      <td>...</td>\n",
              "      <td>...</td>\n",
              "      <td>...</td>\n",
              "      <td>...</td>\n",
              "      <td>...</td>\n",
              "      <td>...</td>\n",
              "      <td>...</td>\n",
              "      <td>...</td>\n",
              "    </tr>\n",
              "    <tr>\n",
              "      <th>12792</th>\n",
              "      <td>176</td>\n",
              "      <td>1</td>\n",
              "      <td>94</td>\n",
              "      <td>3</td>\n",
              "      <td>2529.0</td>\n",
              "      <td>0</td>\n",
              "      <td>1</td>\n",
              "      <td>12</td>\n",
              "      <td>32</td>\n",
              "      <td>12.072541</td>\n",
              "      <td>843.000000</td>\n",
              "    </tr>\n",
              "    <tr>\n",
              "      <th>12793</th>\n",
              "      <td>150</td>\n",
              "      <td>1</td>\n",
              "      <td>83</td>\n",
              "      <td>3</td>\n",
              "      <td>1382.0</td>\n",
              "      <td>2</td>\n",
              "      <td>0</td>\n",
              "      <td>27</td>\n",
              "      <td>40</td>\n",
              "      <td>10.778956</td>\n",
              "      <td>460.666667</td>\n",
              "    </tr>\n",
              "    <tr>\n",
              "      <th>12794</th>\n",
              "      <td>176</td>\n",
              "      <td>1</td>\n",
              "      <td>165</td>\n",
              "      <td>3</td>\n",
              "      <td>1750.0</td>\n",
              "      <td>3</td>\n",
              "      <td>2</td>\n",
              "      <td>9</td>\n",
              "      <td>16</td>\n",
              "      <td>12.206073</td>\n",
              "      <td>583.333333</td>\n",
              "    </tr>\n",
              "    <tr>\n",
              "      <th>12795</th>\n",
              "      <td>176</td>\n",
              "      <td>1</td>\n",
              "      <td>109</td>\n",
              "      <td>2</td>\n",
              "      <td>950.0</td>\n",
              "      <td>2</td>\n",
              "      <td>3</td>\n",
              "      <td>8</td>\n",
              "      <td>10</td>\n",
              "      <td>10.146434</td>\n",
              "      <td>475.000000</td>\n",
              "    </tr>\n",
              "    <tr>\n",
              "      <th>12796</th>\n",
              "      <td>176</td>\n",
              "      <td>1</td>\n",
              "      <td>8</td>\n",
              "      <td>3</td>\n",
              "      <td>2500.0</td>\n",
              "      <td>0</td>\n",
              "      <td>3</td>\n",
              "      <td>5</td>\n",
              "      <td>10</td>\n",
              "      <td>11.695247</td>\n",
              "      <td>833.333333</td>\n",
              "    </tr>\n",
              "  </tbody>\n",
              "</table>\n",
              "<p>12797 rows × 11 columns</p>\n",
              "</div>"
            ],
            "text/plain": [
              "       society  type  location  ...  total floors  monthly rent  area-per-bedroom\n",
              "0          176     1         8  ...             6     11.350407        400.000000\n",
              "1          176     1        63  ...            12     11.608236        525.000000\n",
              "2           36     1       128  ...            17     10.373491        525.000000\n",
              "3           20     1        88  ...            41     11.918391        758.333333\n",
              "4            8     1       150  ...             7     10.203592        550.000000\n",
              "...        ...   ...       ...  ...           ...           ...               ...\n",
              "12792      176     1        94  ...            32     12.072541        843.000000\n",
              "12793      150     1        83  ...            40     10.778956        460.666667\n",
              "12794      176     1       165  ...            16     12.206073        583.333333\n",
              "12795      176     1       109  ...            10     10.146434        475.000000\n",
              "12796      176     1         8  ...            10     11.695247        833.333333\n",
              "\n",
              "[12797 rows x 11 columns]"
            ]
          },
          "metadata": {
            "tags": []
          },
          "execution_count": 21
        }
      ]
    },
    {
      "cell_type": "markdown",
      "metadata": {
        "id": "kBHjRjQ8ev2u"
      },
      "source": [
        "## Tree based models"
      ]
    },
    {
      "cell_type": "code",
      "metadata": {
        "colab": {
          "base_uri": "https://localhost:8080/"
        },
        "id": "PijnObFv2WF8",
        "outputId": "e43227fa-28e5-4fd8-8a41-431fcf041ee5"
      },
      "source": [
        "x_train, x_test, y_train, y_test = train_test_split(df1.drop('monthly rent', axis = 1), df1['monthly rent'], test_size=0.2, random_state=42)\r\n",
        "x_train.shape, x_test.shape, y_train.shape, y_test.shape "
      ],
      "execution_count": 22,
      "outputs": [
        {
          "output_type": "execute_result",
          "data": {
            "text/plain": [
              "((10237, 10), (2560, 10), (10237,), (2560,))"
            ]
          },
          "metadata": {
            "tags": []
          },
          "execution_count": 22
        }
      ]
    },
    {
      "cell_type": "code",
      "metadata": {
        "colab": {
          "base_uri": "https://localhost:8080/",
          "height": 414
        },
        "id": "CbR-06qMev2u",
        "outputId": "08408edb-c68a-40f8-b828-74628742ae87"
      },
      "source": [
        "models = [DecisionTreeRegressor(), RandomForestRegressor(), XGBRegressor(), GradientBoostingRegressor()]\n",
        "names = ['DecisionTreeRegressorLE', 'RandomForestRegressorLE', 'XGBRegressorLE', 'GradientBoostingRegressorLE']\n",
        "\n",
        "for name,model in zip(names,models):\n",
        "\n",
        "  model.fit(x_train,y_train)\n",
        "\n",
        "  Final_Scores[name] = [round(r2_score(y_train, model.predict(x_train)), 4), \n",
        "                         round(r2_score(y_test, model.predict(x_test)), 4),\n",
        "                         round(mean_squared_error(y_train, model.predict(x_train))**.5, 4),\n",
        "                         round(mean_squared_error(y_test, model.predict(x_test))**.5, 4)]\n",
        "else:\n",
        "  display(Final_Scores)"
      ],
      "execution_count": 23,
      "outputs": [
        {
          "output_type": "stream",
          "text": [
            "[18:58:40] WARNING: /workspace/src/objective/regression_obj.cu:152: reg:linear is now deprecated in favor of reg:squarederror.\n"
          ],
          "name": "stdout"
        },
        {
          "output_type": "display_data",
          "data": {
            "text/html": [
              "<div>\n",
              "<style scoped>\n",
              "    .dataframe tbody tr th:only-of-type {\n",
              "        vertical-align: middle;\n",
              "    }\n",
              "\n",
              "    .dataframe tbody tr th {\n",
              "        vertical-align: top;\n",
              "    }\n",
              "\n",
              "    .dataframe thead th {\n",
              "        text-align: right;\n",
              "    }\n",
              "</style>\n",
              "<table border=\"1\" class=\"dataframe\">\n",
              "  <thead>\n",
              "    <tr style=\"text-align: right;\">\n",
              "      <th></th>\n",
              "      <th>LinearRegression</th>\n",
              "      <th>Ridge</th>\n",
              "      <th>Lasso</th>\n",
              "      <th>DecisionTreeRegressorOHE</th>\n",
              "      <th>RandomForestRegressorOHE</th>\n",
              "      <th>XGBRegressorOHE</th>\n",
              "      <th>GradientBoostingRegressorOHE</th>\n",
              "      <th>DecisionTreeRegressorLE</th>\n",
              "      <th>RandomForestRegressorLE</th>\n",
              "      <th>XGBRegressorLE</th>\n",
              "      <th>GradientBoostingRegressorLE</th>\n",
              "    </tr>\n",
              "  </thead>\n",
              "  <tbody>\n",
              "    <tr>\n",
              "      <th>With Training Data r2 score</th>\n",
              "      <td>0.9210</td>\n",
              "      <td>0.9209</td>\n",
              "      <td>0.0000</td>\n",
              "      <td>0.0000</td>\n",
              "      <td>0.0000</td>\n",
              "      <td>0.0000</td>\n",
              "      <td>0.0000</td>\n",
              "      <td>0.9988</td>\n",
              "      <td>0.9779</td>\n",
              "      <td>0.8047</td>\n",
              "      <td>0.8064</td>\n",
              "    </tr>\n",
              "    <tr>\n",
              "      <th>With Test Data r2 score</th>\n",
              "      <td>0.9276</td>\n",
              "      <td>0.9276</td>\n",
              "      <td>-0.0001</td>\n",
              "      <td>-0.0001</td>\n",
              "      <td>-0.0001</td>\n",
              "      <td>-0.0001</td>\n",
              "      <td>-0.0001</td>\n",
              "      <td>0.7221</td>\n",
              "      <td>0.8536</td>\n",
              "      <td>0.7959</td>\n",
              "      <td>0.7986</td>\n",
              "    </tr>\n",
              "    <tr>\n",
              "      <th>With Training Data rmse</th>\n",
              "      <td>0.2071</td>\n",
              "      <td>0.2071</td>\n",
              "      <td>0.7365</td>\n",
              "      <td>0.7365</td>\n",
              "      <td>0.7365</td>\n",
              "      <td>0.7365</td>\n",
              "      <td>0.7365</td>\n",
              "      <td>0.0251</td>\n",
              "      <td>0.1095</td>\n",
              "      <td>0.3255</td>\n",
              "      <td>0.3241</td>\n",
              "    </tr>\n",
              "    <tr>\n",
              "      <th>With Test Data rmse</th>\n",
              "      <td>0.1985</td>\n",
              "      <td>0.1985</td>\n",
              "      <td>0.7377</td>\n",
              "      <td>0.7377</td>\n",
              "      <td>0.7377</td>\n",
              "      <td>0.7377</td>\n",
              "      <td>0.7377</td>\n",
              "      <td>0.3888</td>\n",
              "      <td>0.2822</td>\n",
              "      <td>0.3332</td>\n",
              "      <td>0.3310</td>\n",
              "    </tr>\n",
              "  </tbody>\n",
              "</table>\n",
              "</div>"
            ],
            "text/plain": [
              "                             LinearRegression  ...  GradientBoostingRegressorLE\n",
              "With Training Data r2 score            0.9210  ...                       0.8064\n",
              "With Test Data r2 score                0.9276  ...                       0.7986\n",
              "With Training Data rmse                0.2071  ...                       0.3241\n",
              "With Test Data rmse                    0.1985  ...                       0.3310\n",
              "\n",
              "[4 rows x 11 columns]"
            ]
          },
          "metadata": {
            "tags": []
          }
        }
      ]
    },
    {
      "cell_type": "markdown",
      "metadata": {
        "id": "CXlHam57z7RM"
      },
      "source": [
        "##Decisiontree gridsearch"
      ]
    },
    {
      "cell_type": "code",
      "metadata": {
        "colab": {
          "base_uri": "https://localhost:8080/"
        },
        "id": "vrW3Qi36yCsg",
        "outputId": "f084b76f-722d-4cea-89c9-b1d252ad94b7"
      },
      "source": [
        "param_grid = {'max_depth':[3,4,5,6,7,10,15,20],\r\n",
        "              'min_samples_leaf':[2,3,4,5,6]}\r\n",
        "\r\n",
        "model = GridSearchCV(DecisionTreeRegressor(), param_grid, cv=5)\r\n",
        "model.fit(x_train,y_train)"
      ],
      "execution_count": 24,
      "outputs": [
        {
          "output_type": "execute_result",
          "data": {
            "text/plain": [
              "GridSearchCV(cv=5, error_score=nan,\n",
              "             estimator=DecisionTreeRegressor(ccp_alpha=0.0, criterion='mse',\n",
              "                                             max_depth=None, max_features=None,\n",
              "                                             max_leaf_nodes=None,\n",
              "                                             min_impurity_decrease=0.0,\n",
              "                                             min_impurity_split=None,\n",
              "                                             min_samples_leaf=1,\n",
              "                                             min_samples_split=2,\n",
              "                                             min_weight_fraction_leaf=0.0,\n",
              "                                             presort='deprecated',\n",
              "                                             random_state=None,\n",
              "                                             splitter='best'),\n",
              "             iid='deprecated', n_jobs=None,\n",
              "             param_grid={'max_depth': [3, 4, 5, 6, 7, 10, 15, 20],\n",
              "                         'min_samples_leaf': [2, 3, 4, 5, 6]},\n",
              "             pre_dispatch='2*n_jobs', refit=True, return_train_score=False,\n",
              "             scoring=None, verbose=0)"
            ]
          },
          "metadata": {
            "tags": []
          },
          "execution_count": 24
        }
      ]
    },
    {
      "cell_type": "code",
      "metadata": {
        "colab": {
          "base_uri": "https://localhost:8080/"
        },
        "id": "CwtTNuM1yCpw",
        "outputId": "39637b22-7067-4d2a-d3b9-8f222b857a1b"
      },
      "source": [
        "model.best_params_, model.best_score_"
      ],
      "execution_count": 25,
      "outputs": [
        {
          "output_type": "execute_result",
          "data": {
            "text/plain": [
              "({'max_depth': 15, 'min_samples_leaf': 6}, 0.7482444408521531)"
            ]
          },
          "metadata": {
            "tags": []
          },
          "execution_count": 25
        }
      ]
    },
    {
      "cell_type": "code",
      "metadata": {
        "colab": {
          "base_uri": "https://localhost:8080/"
        },
        "id": "cGAanbqjyCm4",
        "outputId": "17d63dcb-23d3-4107-9586-ae1940a55e45"
      },
      "source": [
        "round(mean_squared_error(y_train, model.predict(x_train))**.5, 4)"
      ],
      "execution_count": 26,
      "outputs": [
        {
          "output_type": "execute_result",
          "data": {
            "text/plain": [
              "0.2478"
            ]
          },
          "metadata": {
            "tags": []
          },
          "execution_count": 26
        }
      ]
    },
    {
      "cell_type": "code",
      "metadata": {
        "colab": {
          "base_uri": "https://localhost:8080/"
        },
        "id": "CjTse2v6zMxp",
        "outputId": "fa1f07e0-f01a-4e12-d72d-4a7b82d8dafe"
      },
      "source": [
        "round(mean_squared_error(y_test, model.predict(x_test))**.5, 4)"
      ],
      "execution_count": 27,
      "outputs": [
        {
          "output_type": "execute_result",
          "data": {
            "text/plain": [
              "0.3509"
            ]
          },
          "metadata": {
            "tags": []
          },
          "execution_count": 27
        }
      ]
    },
    {
      "cell_type": "markdown",
      "metadata": {
        "id": "_ZSqSCc5z3wr"
      },
      "source": [
        "##RandomForest gridsearch"
      ]
    },
    {
      "cell_type": "code",
      "metadata": {
        "colab": {
          "base_uri": "https://localhost:8080/"
        },
        "id": "LrssRdkHz3DO",
        "outputId": "51a8eaf9-4c5d-418a-8b15-62a749efb5b3"
      },
      "source": [
        "param_grid = {'n_estimators':[50,100,150,200],\r\n",
        "              'max_depth':[3,4,5,6,7,10,15,20],\r\n",
        "              'min_samples_leaf':[2,3,4,5,6]}\r\n",
        "\r\n",
        "model = RandomizedSearchCV(RandomForestRegressor(), param_grid, cv=5)\r\n",
        "model.fit(x_train,y_train)"
      ],
      "execution_count": 28,
      "outputs": [
        {
          "output_type": "execute_result",
          "data": {
            "text/plain": [
              "RandomizedSearchCV(cv=5, error_score=nan,\n",
              "                   estimator=RandomForestRegressor(bootstrap=True,\n",
              "                                                   ccp_alpha=0.0,\n",
              "                                                   criterion='mse',\n",
              "                                                   max_depth=None,\n",
              "                                                   max_features='auto',\n",
              "                                                   max_leaf_nodes=None,\n",
              "                                                   max_samples=None,\n",
              "                                                   min_impurity_decrease=0.0,\n",
              "                                                   min_impurity_split=None,\n",
              "                                                   min_samples_leaf=1,\n",
              "                                                   min_samples_split=2,\n",
              "                                                   min_weight_fraction_leaf=0.0,\n",
              "                                                   n_estimators=100,\n",
              "                                                   n_jobs=None, oob_score=False,\n",
              "                                                   random_state=None, verbose=0,\n",
              "                                                   warm_start=False),\n",
              "                   iid='deprecated', n_iter=10, n_jobs=None,\n",
              "                   param_distributions={'max_depth': [3, 4, 5, 6, 7, 10, 15,\n",
              "                                                      20],\n",
              "                                        'min_samples_leaf': [2, 3, 4, 5, 6],\n",
              "                                        'n_estimators': [50, 100, 150, 200]},\n",
              "                   pre_dispatch='2*n_jobs', random_state=None, refit=True,\n",
              "                   return_train_score=False, scoring=None, verbose=0)"
            ]
          },
          "metadata": {
            "tags": []
          },
          "execution_count": 28
        }
      ]
    },
    {
      "cell_type": "code",
      "metadata": {
        "colab": {
          "base_uri": "https://localhost:8080/"
        },
        "id": "14lG17ja0i0I",
        "outputId": "0fd43299-0649-450f-ece2-0ec0042fe384"
      },
      "source": [
        "model.best_params_, model.best_score_"
      ],
      "execution_count": 29,
      "outputs": [
        {
          "output_type": "execute_result",
          "data": {
            "text/plain": [
              "({'max_depth': 15, 'min_samples_leaf': 6, 'n_estimators': 100},\n",
              " 0.8157228142491405)"
            ]
          },
          "metadata": {
            "tags": []
          },
          "execution_count": 29
        }
      ]
    },
    {
      "cell_type": "code",
      "metadata": {
        "colab": {
          "base_uri": "https://localhost:8080/"
        },
        "id": "RDWlSmnT0pmu",
        "outputId": "493bbcff-4889-4d1e-9686-43d355e59735"
      },
      "source": [
        "round(mean_squared_error(y_train, model.predict(x_train))**.5, 4)"
      ],
      "execution_count": 30,
      "outputs": [
        {
          "output_type": "execute_result",
          "data": {
            "text/plain": [
              "0.2368"
            ]
          },
          "metadata": {
            "tags": []
          },
          "execution_count": 30
        }
      ]
    },
    {
      "cell_type": "code",
      "metadata": {
        "colab": {
          "base_uri": "https://localhost:8080/"
        },
        "id": "70hIMyNB0pj4",
        "outputId": "47ee35fe-0abb-4e1b-f4d2-a9331e77f792"
      },
      "source": [
        "round(mean_squared_error(y_test, model.predict(x_test))**.5, 4)"
      ],
      "execution_count": 31,
      "outputs": [
        {
          "output_type": "execute_result",
          "data": {
            "text/plain": [
              "0.3084"
            ]
          },
          "metadata": {
            "tags": []
          },
          "execution_count": 31
        }
      ]
    },
    {
      "cell_type": "markdown",
      "metadata": {
        "id": "uBmWbL8TrNyj"
      },
      "source": [
        "##XGBRegressor gridsearch"
      ]
    },
    {
      "cell_type": "code",
      "metadata": {
        "colab": {
          "base_uri": "https://localhost:8080/"
        },
        "id": "1PZeOoYHrOzX",
        "outputId": "71b8ae62-a68e-40b8-9f66-19f5124c3e22"
      },
      "source": [
        "parameters = {'objective':['reg:linear'],\r\n",
        "              'learning_rate': [.03, 0.05, .07],\r\n",
        "              'max_depth': [5, 6, 7, 8],\r\n",
        "              'n_estimators': [200,300,400,500]}\r\n",
        "\r\n",
        "model = RandomizedSearchCV(XGBRegressor(), parameters, cv = 5)\r\n",
        "model.fit(x_train,y_train)"
      ],
      "execution_count": 36,
      "outputs": [
        {
          "output_type": "stream",
          "text": [
            "[19:09:38] WARNING: /workspace/src/objective/regression_obj.cu:152: reg:linear is now deprecated in favor of reg:squarederror.\n",
            "[19:09:41] WARNING: /workspace/src/objective/regression_obj.cu:152: reg:linear is now deprecated in favor of reg:squarederror.\n",
            "[19:09:45] WARNING: /workspace/src/objective/regression_obj.cu:152: reg:linear is now deprecated in favor of reg:squarederror.\n",
            "[19:09:49] WARNING: /workspace/src/objective/regression_obj.cu:152: reg:linear is now deprecated in favor of reg:squarederror.\n",
            "[19:09:53] WARNING: /workspace/src/objective/regression_obj.cu:152: reg:linear is now deprecated in favor of reg:squarederror.\n",
            "[19:09:56] WARNING: /workspace/src/objective/regression_obj.cu:152: reg:linear is now deprecated in favor of reg:squarederror.\n",
            "[19:09:58] WARNING: /workspace/src/objective/regression_obj.cu:152: reg:linear is now deprecated in favor of reg:squarederror.\n",
            "[19:09:59] WARNING: /workspace/src/objective/regression_obj.cu:152: reg:linear is now deprecated in favor of reg:squarederror.\n",
            "[19:10:01] WARNING: /workspace/src/objective/regression_obj.cu:152: reg:linear is now deprecated in favor of reg:squarederror.\n",
            "[19:10:02] WARNING: /workspace/src/objective/regression_obj.cu:152: reg:linear is now deprecated in favor of reg:squarederror.\n",
            "[19:10:04] WARNING: /workspace/src/objective/regression_obj.cu:152: reg:linear is now deprecated in favor of reg:squarederror.\n",
            "[19:10:08] WARNING: /workspace/src/objective/regression_obj.cu:152: reg:linear is now deprecated in favor of reg:squarederror.\n",
            "[19:10:11] WARNING: /workspace/src/objective/regression_obj.cu:152: reg:linear is now deprecated in favor of reg:squarederror.\n",
            "[19:10:15] WARNING: /workspace/src/objective/regression_obj.cu:152: reg:linear is now deprecated in favor of reg:squarederror.\n",
            "[19:10:19] WARNING: /workspace/src/objective/regression_obj.cu:152: reg:linear is now deprecated in favor of reg:squarederror.\n",
            "[19:10:22] WARNING: /workspace/src/objective/regression_obj.cu:152: reg:linear is now deprecated in favor of reg:squarederror.\n",
            "[19:10:26] WARNING: /workspace/src/objective/regression_obj.cu:152: reg:linear is now deprecated in favor of reg:squarederror.\n",
            "[19:10:29] WARNING: /workspace/src/objective/regression_obj.cu:152: reg:linear is now deprecated in favor of reg:squarederror.\n",
            "[19:10:33] WARNING: /workspace/src/objective/regression_obj.cu:152: reg:linear is now deprecated in favor of reg:squarederror.\n",
            "[19:10:37] WARNING: /workspace/src/objective/regression_obj.cu:152: reg:linear is now deprecated in favor of reg:squarederror.\n",
            "[19:10:40] WARNING: /workspace/src/objective/regression_obj.cu:152: reg:linear is now deprecated in favor of reg:squarederror.\n",
            "[19:10:43] WARNING: /workspace/src/objective/regression_obj.cu:152: reg:linear is now deprecated in favor of reg:squarederror.\n",
            "[19:10:45] WARNING: /workspace/src/objective/regression_obj.cu:152: reg:linear is now deprecated in favor of reg:squarederror.\n",
            "[19:10:47] WARNING: /workspace/src/objective/regression_obj.cu:152: reg:linear is now deprecated in favor of reg:squarederror.\n",
            "[19:10:50] WARNING: /workspace/src/objective/regression_obj.cu:152: reg:linear is now deprecated in favor of reg:squarederror.\n",
            "[19:10:52] WARNING: /workspace/src/objective/regression_obj.cu:152: reg:linear is now deprecated in favor of reg:squarederror.\n",
            "[19:10:55] WARNING: /workspace/src/objective/regression_obj.cu:152: reg:linear is now deprecated in favor of reg:squarederror.\n",
            "[19:10:59] WARNING: /workspace/src/objective/regression_obj.cu:152: reg:linear is now deprecated in favor of reg:squarederror.\n",
            "[19:11:02] WARNING: /workspace/src/objective/regression_obj.cu:152: reg:linear is now deprecated in favor of reg:squarederror.\n",
            "[19:11:05] WARNING: /workspace/src/objective/regression_obj.cu:152: reg:linear is now deprecated in favor of reg:squarederror.\n",
            "[19:11:08] WARNING: /workspace/src/objective/regression_obj.cu:152: reg:linear is now deprecated in favor of reg:squarederror.\n",
            "[19:11:11] WARNING: /workspace/src/objective/regression_obj.cu:152: reg:linear is now deprecated in favor of reg:squarederror.\n",
            "[19:11:14] WARNING: /workspace/src/objective/regression_obj.cu:152: reg:linear is now deprecated in favor of reg:squarederror.\n",
            "[19:11:17] WARNING: /workspace/src/objective/regression_obj.cu:152: reg:linear is now deprecated in favor of reg:squarederror.\n",
            "[19:11:20] WARNING: /workspace/src/objective/regression_obj.cu:152: reg:linear is now deprecated in favor of reg:squarederror.\n",
            "[19:11:24] WARNING: /workspace/src/objective/regression_obj.cu:152: reg:linear is now deprecated in favor of reg:squarederror.\n",
            "[19:11:25] WARNING: /workspace/src/objective/regression_obj.cu:152: reg:linear is now deprecated in favor of reg:squarederror.\n",
            "[19:11:27] WARNING: /workspace/src/objective/regression_obj.cu:152: reg:linear is now deprecated in favor of reg:squarederror.\n",
            "[19:11:29] WARNING: /workspace/src/objective/regression_obj.cu:152: reg:linear is now deprecated in favor of reg:squarederror.\n",
            "[19:11:31] WARNING: /workspace/src/objective/regression_obj.cu:152: reg:linear is now deprecated in favor of reg:squarederror.\n",
            "[19:11:32] WARNING: /workspace/src/objective/regression_obj.cu:152: reg:linear is now deprecated in favor of reg:squarederror.\n",
            "[19:11:35] WARNING: /workspace/src/objective/regression_obj.cu:152: reg:linear is now deprecated in favor of reg:squarederror.\n",
            "[19:11:39] WARNING: /workspace/src/objective/regression_obj.cu:152: reg:linear is now deprecated in favor of reg:squarederror.\n",
            "[19:11:42] WARNING: /workspace/src/objective/regression_obj.cu:152: reg:linear is now deprecated in favor of reg:squarederror.\n",
            "[19:11:45] WARNING: /workspace/src/objective/regression_obj.cu:152: reg:linear is now deprecated in favor of reg:squarederror.\n",
            "[19:11:48] WARNING: /workspace/src/objective/regression_obj.cu:152: reg:linear is now deprecated in favor of reg:squarederror.\n",
            "[19:11:50] WARNING: /workspace/src/objective/regression_obj.cu:152: reg:linear is now deprecated in favor of reg:squarederror.\n",
            "[19:11:52] WARNING: /workspace/src/objective/regression_obj.cu:152: reg:linear is now deprecated in favor of reg:squarederror.\n",
            "[19:11:54] WARNING: /workspace/src/objective/regression_obj.cu:152: reg:linear is now deprecated in favor of reg:squarederror.\n",
            "[19:11:56] WARNING: /workspace/src/objective/regression_obj.cu:152: reg:linear is now deprecated in favor of reg:squarederror.\n",
            "[19:11:58] WARNING: /workspace/src/objective/regression_obj.cu:152: reg:linear is now deprecated in favor of reg:squarederror.\n"
          ],
          "name": "stdout"
        },
        {
          "output_type": "execute_result",
          "data": {
            "text/plain": [
              "RandomizedSearchCV(cv=5, error_score=nan,\n",
              "                   estimator=XGBRegressor(base_score=0.5, booster='gbtree',\n",
              "                                          colsample_bylevel=1,\n",
              "                                          colsample_bynode=1,\n",
              "                                          colsample_bytree=1, gamma=0,\n",
              "                                          importance_type='gain',\n",
              "                                          learning_rate=0.1, max_delta_step=0,\n",
              "                                          max_depth=3, min_child_weight=1,\n",
              "                                          missing=None, n_estimators=100,\n",
              "                                          n_jobs=1, nthread=None,\n",
              "                                          objective='reg:linear',\n",
              "                                          random_state=0, reg_alpha=0,\n",
              "                                          reg_lambda=1, scale_pos_weight=1,\n",
              "                                          seed=None, silent=None, subsample=1,\n",
              "                                          verbosity=1),\n",
              "                   iid='deprecated', n_iter=10, n_jobs=None,\n",
              "                   param_distributions={'learning_rate': [0.03, 0.05, 0.07],\n",
              "                                        'max_depth': [5, 6, 7, 8],\n",
              "                                        'n_estimators': [200, 300, 400, 500],\n",
              "                                        'objective': ['reg:linear']},\n",
              "                   pre_dispatch='2*n_jobs', random_state=None, refit=True,\n",
              "                   return_train_score=False, scoring=None, verbose=0)"
            ]
          },
          "metadata": {
            "tags": []
          },
          "execution_count": 36
        }
      ]
    },
    {
      "cell_type": "code",
      "metadata": {
        "colab": {
          "base_uri": "https://localhost:8080/"
        },
        "id": "SqLgpPPbsOK1",
        "outputId": "2bd25ba7-0d33-48b1-8bf5-a0f98d7b7497"
      },
      "source": [
        "model.best_params_, model.best_score_"
      ],
      "execution_count": 37,
      "outputs": [
        {
          "output_type": "execute_result",
          "data": {
            "text/plain": [
              "({'learning_rate': 0.07,\n",
              "  'max_depth': 6,\n",
              "  'n_estimators': 500,\n",
              "  'objective': 'reg:linear'},\n",
              " 0.9150054694964519)"
            ]
          },
          "metadata": {
            "tags": []
          },
          "execution_count": 37
        }
      ]
    },
    {
      "cell_type": "code",
      "metadata": {
        "colab": {
          "base_uri": "https://localhost:8080/"
        },
        "id": "O3qZFLmHsnsj",
        "outputId": "e9baf02e-ce32-4508-d5d1-1e11a906f77f"
      },
      "source": [
        "round(mean_squared_error(y_train, model.predict(x_train))**.5, 4)"
      ],
      "execution_count": 38,
      "outputs": [
        {
          "output_type": "execute_result",
          "data": {
            "text/plain": [
              "0.1242"
            ]
          },
          "metadata": {
            "tags": []
          },
          "execution_count": 38
        }
      ]
    },
    {
      "cell_type": "code",
      "metadata": {
        "colab": {
          "base_uri": "https://localhost:8080/"
        },
        "id": "iEKL1Rqssnp3",
        "outputId": "c4858cb7-77d1-4b62-ce6e-70ddc9d993c9"
      },
      "source": [
        "round(mean_squared_error(y_test, model.predict(x_test))**.5, 4)"
      ],
      "execution_count": 39,
      "outputs": [
        {
          "output_type": "execute_result",
          "data": {
            "text/plain": [
              "0.1958"
            ]
          },
          "metadata": {
            "tags": []
          },
          "execution_count": 39
        }
      ]
    },
    {
      "cell_type": "code",
      "metadata": {
        "colab": {
          "base_uri": "https://localhost:8080/"
        },
        "id": "R2kSdWRXuYPe",
        "outputId": "ac4946a8-ec1d-402b-e1c2-ca1651487993"
      },
      "source": [
        "x_train.iloc[[0,]], y_train.iloc[0]"
      ],
      "execution_count": 55,
      "outputs": [
        {
          "output_type": "execute_result",
          "data": {
            "text/plain": [
              "(      society  type  location  ...  floor  total floors  area-per-bedroom\n",
              " 3781       93     1        29  ...     18            19             459.0\n",
              " \n",
              " [1 rows x 10 columns], 9.546812608597397)"
            ]
          },
          "metadata": {
            "tags": []
          },
          "execution_count": 55
        }
      ]
    },
    {
      "cell_type": "code",
      "metadata": {
        "colab": {
          "base_uri": "https://localhost:8080/"
        },
        "id": "UP-Iqf1IuT7a",
        "outputId": "32d99983-e537-4ef0-b4d6-7cadf84f5565"
      },
      "source": [
        "model.predict(x_train.iloc[[0,]]), y_train.iloc[0]"
      ],
      "execution_count": 57,
      "outputs": [
        {
          "output_type": "execute_result",
          "data": {
            "text/plain": [
              "(array([9.554807], dtype=float32), 9.546812608597397)"
            ]
          },
          "metadata": {
            "tags": []
          },
          "execution_count": 57
        }
      ]
    },
    {
      "cell_type": "code",
      "metadata": {
        "colab": {
          "base_uri": "https://localhost:8080/"
        },
        "id": "-vdXZN0ovNyb",
        "outputId": "cb0aab7b-699f-4c44-8d39-fd275e0df9a0"
      },
      "source": [
        "np.exp(9.554807), np.exp(9.546812608597397)"
      ],
      "execution_count": 58,
      "outputs": [
        {
          "output_type": "execute_result",
          "data": {
            "text/plain": [
              "(14112.370046235981, 14000.000000000025)"
            ]
          },
          "metadata": {
            "tags": []
          },
          "execution_count": 58
        }
      ]
    },
    {
      "cell_type": "markdown",
      "metadata": {
        "id": "qI8mc0pf2ESb"
      },
      "source": [
        "Linear Regression and XGBoost with parameter tuning perform comparable."
      ]
    },
    {
      "cell_type": "markdown",
      "metadata": {
        "id": "BW9r2KUd2IRH"
      },
      "source": [
        "# Winner is **Linear Regression and XGBoost Regressor** with rmse of .19:)"
      ]
    }
  ]
}